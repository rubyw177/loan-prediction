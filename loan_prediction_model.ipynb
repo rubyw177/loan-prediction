{
 "cells": [
  {
   "cell_type": "markdown",
   "id": "dbf24f10",
   "metadata": {
    "papermill": {
     "duration": 0.009434,
     "end_time": "2025-02-19T11:38:33.787274",
     "exception": false,
     "start_time": "2025-02-19T11:38:33.777840",
     "status": "completed"
    },
    "tags": []
   },
   "source": [
    "# Download the loan dataset"
   ]
  },
  {
   "cell_type": "code",
   "execution_count": 1,
   "id": "dc7b9233",
   "metadata": {
    "execution": {
     "iopub.execute_input": "2025-02-19T11:38:33.807511Z",
     "iopub.status.busy": "2025-02-19T11:38:33.807192Z",
     "iopub.status.idle": "2025-02-19T11:38:35.682425Z",
     "shell.execute_reply": "2025-02-19T11:38:35.681183Z"
    },
    "papermill": {
     "duration": 1.888125,
     "end_time": "2025-02-19T11:38:35.684291",
     "exception": false,
     "start_time": "2025-02-19T11:38:33.796166",
     "status": "completed"
    },
    "tags": []
   },
   "outputs": [
    {
     "name": "stdout",
     "output_type": "stream",
     "text": [
      "Path to dataset files: /kaggle/input/eligibility-prediction-for-loan\n"
     ]
    }
   ],
   "source": [
    "import kagglehub\n",
    "\n",
    "# Download latest version\n",
    "path = kagglehub.dataset_download(\"devzohaib/eligibility-prediction-for-loan\")\n",
    "\n",
    "print(\"Path to dataset files:\", path)"
   ]
  },
  {
   "cell_type": "markdown",
   "id": "d45c35ae",
   "metadata": {
    "papermill": {
     "duration": 0.008313,
     "end_time": "2025-02-19T11:38:35.701517",
     "exception": false,
     "start_time": "2025-02-19T11:38:35.693204",
     "status": "completed"
    },
    "tags": []
   },
   "source": [
    "Import LIbraries"
   ]
  },
  {
   "cell_type": "code",
   "execution_count": 2,
   "id": "bca8b989",
   "metadata": {
    "execution": {
     "iopub.execute_input": "2025-02-19T11:38:35.720367Z",
     "iopub.status.busy": "2025-02-19T11:38:35.719858Z",
     "iopub.status.idle": "2025-02-19T11:38:38.091080Z",
     "shell.execute_reply": "2025-02-19T11:38:38.090221Z"
    },
    "papermill": {
     "duration": 2.382854,
     "end_time": "2025-02-19T11:38:38.092971",
     "exception": false,
     "start_time": "2025-02-19T11:38:35.710117",
     "status": "completed"
    },
    "tags": []
   },
   "outputs": [],
   "source": [
    "import pandas as pd\n",
    "import numpy as np\n",
    "import seaborn as sns\n",
    "import matplotlib.pyplot as plt"
   ]
  },
  {
   "cell_type": "markdown",
   "id": "21f51faf",
   "metadata": {
    "papermill": {
     "duration": 0.008364,
     "end_time": "2025-02-19T11:38:38.110280",
     "exception": false,
     "start_time": "2025-02-19T11:38:38.101916",
     "status": "completed"
    },
    "tags": []
   },
   "source": [
    "# Data preprocessing\n",
    "in this section the data will be cleaned, encoded, and preprocessed"
   ]
  },
  {
   "cell_type": "code",
   "execution_count": 3,
   "id": "4c2375a1",
   "metadata": {
    "execution": {
     "iopub.execute_input": "2025-02-19T11:38:38.129259Z",
     "iopub.status.busy": "2025-02-19T11:38:38.128723Z",
     "iopub.status.idle": "2025-02-19T11:38:38.156195Z",
     "shell.execute_reply": "2025-02-19T11:38:38.155179Z"
    },
    "papermill": {
     "duration": 0.039145,
     "end_time": "2025-02-19T11:38:38.158010",
     "exception": false,
     "start_time": "2025-02-19T11:38:38.118865",
     "status": "completed"
    },
    "tags": []
   },
   "outputs": [],
   "source": [
    "df = pd.read_csv(\"/kaggle/input/eligibility-prediction-for-loan/Loan_Data.csv\")"
   ]
  },
  {
   "cell_type": "code",
   "execution_count": 4,
   "id": "cc395cca",
   "metadata": {
    "execution": {
     "iopub.execute_input": "2025-02-19T11:38:38.176635Z",
     "iopub.status.busy": "2025-02-19T11:38:38.176317Z",
     "iopub.status.idle": "2025-02-19T11:38:38.216178Z",
     "shell.execute_reply": "2025-02-19T11:38:38.214941Z"
    },
    "papermill": {
     "duration": 0.051096,
     "end_time": "2025-02-19T11:38:38.217909",
     "exception": false,
     "start_time": "2025-02-19T11:38:38.166813",
     "status": "completed"
    },
    "tags": []
   },
   "outputs": [
    {
     "name": "stderr",
     "output_type": "stream",
     "text": [
      "/usr/local/lib/python3.10/dist-packages/pandas/io/formats/format.py:1458: RuntimeWarning: invalid value encountered in greater\n",
      "  has_large_values = (abs_vals > 1e6).any()\n",
      "/usr/local/lib/python3.10/dist-packages/pandas/io/formats/format.py:1459: RuntimeWarning: invalid value encountered in less\n",
      "  has_small_values = ((abs_vals < 10 ** (-self.digits)) & (abs_vals > 0)).any()\n",
      "/usr/local/lib/python3.10/dist-packages/pandas/io/formats/format.py:1459: RuntimeWarning: invalid value encountered in greater\n",
      "  has_small_values = ((abs_vals < 10 ** (-self.digits)) & (abs_vals > 0)).any()\n"
     ]
    },
    {
     "data": {
      "text/html": [
       "<div>\n",
       "<style scoped>\n",
       "    .dataframe tbody tr th:only-of-type {\n",
       "        vertical-align: middle;\n",
       "    }\n",
       "\n",
       "    .dataframe tbody tr th {\n",
       "        vertical-align: top;\n",
       "    }\n",
       "\n",
       "    .dataframe thead th {\n",
       "        text-align: right;\n",
       "    }\n",
       "</style>\n",
       "<table border=\"1\" class=\"dataframe\">\n",
       "  <thead>\n",
       "    <tr style=\"text-align: right;\">\n",
       "      <th></th>\n",
       "      <th>Loan_ID</th>\n",
       "      <th>Gender</th>\n",
       "      <th>Married</th>\n",
       "      <th>Dependents</th>\n",
       "      <th>Education</th>\n",
       "      <th>Self_Employed</th>\n",
       "      <th>ApplicantIncome</th>\n",
       "      <th>CoapplicantIncome</th>\n",
       "      <th>LoanAmount</th>\n",
       "      <th>Loan_Amount_Term</th>\n",
       "      <th>Credit_History</th>\n",
       "      <th>Property_Area</th>\n",
       "      <th>Loan_Status</th>\n",
       "    </tr>\n",
       "  </thead>\n",
       "  <tbody>\n",
       "    <tr>\n",
       "      <th>0</th>\n",
       "      <td>LP001002</td>\n",
       "      <td>Male</td>\n",
       "      <td>No</td>\n",
       "      <td>0</td>\n",
       "      <td>Graduate</td>\n",
       "      <td>No</td>\n",
       "      <td>5849</td>\n",
       "      <td>0.0</td>\n",
       "      <td>NaN</td>\n",
       "      <td>360.0</td>\n",
       "      <td>1.0</td>\n",
       "      <td>Urban</td>\n",
       "      <td>Y</td>\n",
       "    </tr>\n",
       "    <tr>\n",
       "      <th>1</th>\n",
       "      <td>LP001003</td>\n",
       "      <td>Male</td>\n",
       "      <td>Yes</td>\n",
       "      <td>1</td>\n",
       "      <td>Graduate</td>\n",
       "      <td>No</td>\n",
       "      <td>4583</td>\n",
       "      <td>1508.0</td>\n",
       "      <td>128.0</td>\n",
       "      <td>360.0</td>\n",
       "      <td>1.0</td>\n",
       "      <td>Rural</td>\n",
       "      <td>N</td>\n",
       "    </tr>\n",
       "    <tr>\n",
       "      <th>2</th>\n",
       "      <td>LP001005</td>\n",
       "      <td>Male</td>\n",
       "      <td>Yes</td>\n",
       "      <td>0</td>\n",
       "      <td>Graduate</td>\n",
       "      <td>Yes</td>\n",
       "      <td>3000</td>\n",
       "      <td>0.0</td>\n",
       "      <td>66.0</td>\n",
       "      <td>360.0</td>\n",
       "      <td>1.0</td>\n",
       "      <td>Urban</td>\n",
       "      <td>Y</td>\n",
       "    </tr>\n",
       "    <tr>\n",
       "      <th>3</th>\n",
       "      <td>LP001006</td>\n",
       "      <td>Male</td>\n",
       "      <td>Yes</td>\n",
       "      <td>0</td>\n",
       "      <td>Not Graduate</td>\n",
       "      <td>No</td>\n",
       "      <td>2583</td>\n",
       "      <td>2358.0</td>\n",
       "      <td>120.0</td>\n",
       "      <td>360.0</td>\n",
       "      <td>1.0</td>\n",
       "      <td>Urban</td>\n",
       "      <td>Y</td>\n",
       "    </tr>\n",
       "    <tr>\n",
       "      <th>4</th>\n",
       "      <td>LP001008</td>\n",
       "      <td>Male</td>\n",
       "      <td>No</td>\n",
       "      <td>0</td>\n",
       "      <td>Graduate</td>\n",
       "      <td>No</td>\n",
       "      <td>6000</td>\n",
       "      <td>0.0</td>\n",
       "      <td>141.0</td>\n",
       "      <td>360.0</td>\n",
       "      <td>1.0</td>\n",
       "      <td>Urban</td>\n",
       "      <td>Y</td>\n",
       "    </tr>\n",
       "    <tr>\n",
       "      <th>...</th>\n",
       "      <td>...</td>\n",
       "      <td>...</td>\n",
       "      <td>...</td>\n",
       "      <td>...</td>\n",
       "      <td>...</td>\n",
       "      <td>...</td>\n",
       "      <td>...</td>\n",
       "      <td>...</td>\n",
       "      <td>...</td>\n",
       "      <td>...</td>\n",
       "      <td>...</td>\n",
       "      <td>...</td>\n",
       "      <td>...</td>\n",
       "    </tr>\n",
       "    <tr>\n",
       "      <th>609</th>\n",
       "      <td>LP002978</td>\n",
       "      <td>Female</td>\n",
       "      <td>No</td>\n",
       "      <td>0</td>\n",
       "      <td>Graduate</td>\n",
       "      <td>No</td>\n",
       "      <td>2900</td>\n",
       "      <td>0.0</td>\n",
       "      <td>71.0</td>\n",
       "      <td>360.0</td>\n",
       "      <td>1.0</td>\n",
       "      <td>Rural</td>\n",
       "      <td>Y</td>\n",
       "    </tr>\n",
       "    <tr>\n",
       "      <th>610</th>\n",
       "      <td>LP002979</td>\n",
       "      <td>Male</td>\n",
       "      <td>Yes</td>\n",
       "      <td>3+</td>\n",
       "      <td>Graduate</td>\n",
       "      <td>No</td>\n",
       "      <td>4106</td>\n",
       "      <td>0.0</td>\n",
       "      <td>40.0</td>\n",
       "      <td>180.0</td>\n",
       "      <td>1.0</td>\n",
       "      <td>Rural</td>\n",
       "      <td>Y</td>\n",
       "    </tr>\n",
       "    <tr>\n",
       "      <th>611</th>\n",
       "      <td>LP002983</td>\n",
       "      <td>Male</td>\n",
       "      <td>Yes</td>\n",
       "      <td>1</td>\n",
       "      <td>Graduate</td>\n",
       "      <td>No</td>\n",
       "      <td>8072</td>\n",
       "      <td>240.0</td>\n",
       "      <td>253.0</td>\n",
       "      <td>360.0</td>\n",
       "      <td>1.0</td>\n",
       "      <td>Urban</td>\n",
       "      <td>Y</td>\n",
       "    </tr>\n",
       "    <tr>\n",
       "      <th>612</th>\n",
       "      <td>LP002984</td>\n",
       "      <td>Male</td>\n",
       "      <td>Yes</td>\n",
       "      <td>2</td>\n",
       "      <td>Graduate</td>\n",
       "      <td>No</td>\n",
       "      <td>7583</td>\n",
       "      <td>0.0</td>\n",
       "      <td>187.0</td>\n",
       "      <td>360.0</td>\n",
       "      <td>1.0</td>\n",
       "      <td>Urban</td>\n",
       "      <td>Y</td>\n",
       "    </tr>\n",
       "    <tr>\n",
       "      <th>613</th>\n",
       "      <td>LP002990</td>\n",
       "      <td>Female</td>\n",
       "      <td>No</td>\n",
       "      <td>0</td>\n",
       "      <td>Graduate</td>\n",
       "      <td>Yes</td>\n",
       "      <td>4583</td>\n",
       "      <td>0.0</td>\n",
       "      <td>133.0</td>\n",
       "      <td>360.0</td>\n",
       "      <td>0.0</td>\n",
       "      <td>Semiurban</td>\n",
       "      <td>N</td>\n",
       "    </tr>\n",
       "  </tbody>\n",
       "</table>\n",
       "<p>614 rows × 13 columns</p>\n",
       "</div>"
      ],
      "text/plain": [
       "      Loan_ID  Gender Married Dependents     Education Self_Employed  \\\n",
       "0    LP001002    Male      No          0      Graduate            No   \n",
       "1    LP001003    Male     Yes          1      Graduate            No   \n",
       "2    LP001005    Male     Yes          0      Graduate           Yes   \n",
       "3    LP001006    Male     Yes          0  Not Graduate            No   \n",
       "4    LP001008    Male      No          0      Graduate            No   \n",
       "..        ...     ...     ...        ...           ...           ...   \n",
       "609  LP002978  Female      No          0      Graduate            No   \n",
       "610  LP002979    Male     Yes         3+      Graduate            No   \n",
       "611  LP002983    Male     Yes          1      Graduate            No   \n",
       "612  LP002984    Male     Yes          2      Graduate            No   \n",
       "613  LP002990  Female      No          0      Graduate           Yes   \n",
       "\n",
       "     ApplicantIncome  CoapplicantIncome  LoanAmount  Loan_Amount_Term  \\\n",
       "0               5849                0.0         NaN             360.0   \n",
       "1               4583             1508.0       128.0             360.0   \n",
       "2               3000                0.0        66.0             360.0   \n",
       "3               2583             2358.0       120.0             360.0   \n",
       "4               6000                0.0       141.0             360.0   \n",
       "..               ...                ...         ...               ...   \n",
       "609             2900                0.0        71.0             360.0   \n",
       "610             4106                0.0        40.0             180.0   \n",
       "611             8072              240.0       253.0             360.0   \n",
       "612             7583                0.0       187.0             360.0   \n",
       "613             4583                0.0       133.0             360.0   \n",
       "\n",
       "     Credit_History Property_Area Loan_Status  \n",
       "0               1.0         Urban           Y  \n",
       "1               1.0         Rural           N  \n",
       "2               1.0         Urban           Y  \n",
       "3               1.0         Urban           Y  \n",
       "4               1.0         Urban           Y  \n",
       "..              ...           ...         ...  \n",
       "609             1.0         Rural           Y  \n",
       "610             1.0         Rural           Y  \n",
       "611             1.0         Urban           Y  \n",
       "612             1.0         Urban           Y  \n",
       "613             0.0     Semiurban           N  \n",
       "\n",
       "[614 rows x 13 columns]"
      ]
     },
     "execution_count": 4,
     "metadata": {},
     "output_type": "execute_result"
    }
   ],
   "source": [
    "df"
   ]
  },
  {
   "cell_type": "code",
   "execution_count": 5,
   "id": "81232651",
   "metadata": {
    "execution": {
     "iopub.execute_input": "2025-02-19T11:38:38.242657Z",
     "iopub.status.busy": "2025-02-19T11:38:38.242212Z",
     "iopub.status.idle": "2025-02-19T11:38:38.274251Z",
     "shell.execute_reply": "2025-02-19T11:38:38.273235Z"
    },
    "papermill": {
     "duration": 0.047593,
     "end_time": "2025-02-19T11:38:38.276226",
     "exception": false,
     "start_time": "2025-02-19T11:38:38.228633",
     "status": "completed"
    },
    "tags": []
   },
   "outputs": [
    {
     "data": {
      "text/html": [
       "<div>\n",
       "<style scoped>\n",
       "    .dataframe tbody tr th:only-of-type {\n",
       "        vertical-align: middle;\n",
       "    }\n",
       "\n",
       "    .dataframe tbody tr th {\n",
       "        vertical-align: top;\n",
       "    }\n",
       "\n",
       "    .dataframe thead th {\n",
       "        text-align: right;\n",
       "    }\n",
       "</style>\n",
       "<table border=\"1\" class=\"dataframe\">\n",
       "  <thead>\n",
       "    <tr style=\"text-align: right;\">\n",
       "      <th></th>\n",
       "      <th>ApplicantIncome</th>\n",
       "      <th>CoapplicantIncome</th>\n",
       "      <th>LoanAmount</th>\n",
       "      <th>Loan_Amount_Term</th>\n",
       "      <th>Credit_History</th>\n",
       "    </tr>\n",
       "  </thead>\n",
       "  <tbody>\n",
       "    <tr>\n",
       "      <th>count</th>\n",
       "      <td>614.000000</td>\n",
       "      <td>614.000000</td>\n",
       "      <td>592.000000</td>\n",
       "      <td>600.00000</td>\n",
       "      <td>564.000000</td>\n",
       "    </tr>\n",
       "    <tr>\n",
       "      <th>mean</th>\n",
       "      <td>5403.459283</td>\n",
       "      <td>1621.245798</td>\n",
       "      <td>146.412162</td>\n",
       "      <td>342.00000</td>\n",
       "      <td>0.842199</td>\n",
       "    </tr>\n",
       "    <tr>\n",
       "      <th>std</th>\n",
       "      <td>6109.041673</td>\n",
       "      <td>2926.248369</td>\n",
       "      <td>85.587325</td>\n",
       "      <td>65.12041</td>\n",
       "      <td>0.364878</td>\n",
       "    </tr>\n",
       "    <tr>\n",
       "      <th>min</th>\n",
       "      <td>150.000000</td>\n",
       "      <td>0.000000</td>\n",
       "      <td>9.000000</td>\n",
       "      <td>12.00000</td>\n",
       "      <td>0.000000</td>\n",
       "    </tr>\n",
       "    <tr>\n",
       "      <th>25%</th>\n",
       "      <td>2877.500000</td>\n",
       "      <td>0.000000</td>\n",
       "      <td>100.000000</td>\n",
       "      <td>360.00000</td>\n",
       "      <td>1.000000</td>\n",
       "    </tr>\n",
       "    <tr>\n",
       "      <th>50%</th>\n",
       "      <td>3812.500000</td>\n",
       "      <td>1188.500000</td>\n",
       "      <td>128.000000</td>\n",
       "      <td>360.00000</td>\n",
       "      <td>1.000000</td>\n",
       "    </tr>\n",
       "    <tr>\n",
       "      <th>75%</th>\n",
       "      <td>5795.000000</td>\n",
       "      <td>2297.250000</td>\n",
       "      <td>168.000000</td>\n",
       "      <td>360.00000</td>\n",
       "      <td>1.000000</td>\n",
       "    </tr>\n",
       "    <tr>\n",
       "      <th>max</th>\n",
       "      <td>81000.000000</td>\n",
       "      <td>41667.000000</td>\n",
       "      <td>700.000000</td>\n",
       "      <td>480.00000</td>\n",
       "      <td>1.000000</td>\n",
       "    </tr>\n",
       "  </tbody>\n",
       "</table>\n",
       "</div>"
      ],
      "text/plain": [
       "       ApplicantIncome  CoapplicantIncome  LoanAmount  Loan_Amount_Term  \\\n",
       "count       614.000000         614.000000  592.000000         600.00000   \n",
       "mean       5403.459283        1621.245798  146.412162         342.00000   \n",
       "std        6109.041673        2926.248369   85.587325          65.12041   \n",
       "min         150.000000           0.000000    9.000000          12.00000   \n",
       "25%        2877.500000           0.000000  100.000000         360.00000   \n",
       "50%        3812.500000        1188.500000  128.000000         360.00000   \n",
       "75%        5795.000000        2297.250000  168.000000         360.00000   \n",
       "max       81000.000000       41667.000000  700.000000         480.00000   \n",
       "\n",
       "       Credit_History  \n",
       "count      564.000000  \n",
       "mean         0.842199  \n",
       "std          0.364878  \n",
       "min          0.000000  \n",
       "25%          1.000000  \n",
       "50%          1.000000  \n",
       "75%          1.000000  \n",
       "max          1.000000  "
      ]
     },
     "execution_count": 5,
     "metadata": {},
     "output_type": "execute_result"
    }
   ],
   "source": [
    "df.describe()"
   ]
  },
  {
   "cell_type": "code",
   "execution_count": 6,
   "id": "0194b297",
   "metadata": {
    "execution": {
     "iopub.execute_input": "2025-02-19T11:38:38.305095Z",
     "iopub.status.busy": "2025-02-19T11:38:38.304697Z",
     "iopub.status.idle": "2025-02-19T11:38:38.334728Z",
     "shell.execute_reply": "2025-02-19T11:38:38.333075Z"
    },
    "papermill": {
     "duration": 0.043228,
     "end_time": "2025-02-19T11:38:38.336682",
     "exception": false,
     "start_time": "2025-02-19T11:38:38.293454",
     "status": "completed"
    },
    "tags": []
   },
   "outputs": [
    {
     "name": "stdout",
     "output_type": "stream",
     "text": [
      "<class 'pandas.core.frame.DataFrame'>\n",
      "RangeIndex: 614 entries, 0 to 613\n",
      "Data columns (total 13 columns):\n",
      " #   Column             Non-Null Count  Dtype  \n",
      "---  ------             --------------  -----  \n",
      " 0   Loan_ID            614 non-null    object \n",
      " 1   Gender             601 non-null    object \n",
      " 2   Married            611 non-null    object \n",
      " 3   Dependents         599 non-null    object \n",
      " 4   Education          614 non-null    object \n",
      " 5   Self_Employed      582 non-null    object \n",
      " 6   ApplicantIncome    614 non-null    int64  \n",
      " 7   CoapplicantIncome  614 non-null    float64\n",
      " 8   LoanAmount         592 non-null    float64\n",
      " 9   Loan_Amount_Term   600 non-null    float64\n",
      " 10  Credit_History     564 non-null    float64\n",
      " 11  Property_Area      614 non-null    object \n",
      " 12  Loan_Status        614 non-null    object \n",
      "dtypes: float64(4), int64(1), object(8)\n",
      "memory usage: 62.5+ KB\n"
     ]
    }
   ],
   "source": [
    "df.info()"
   ]
  },
  {
   "cell_type": "markdown",
   "id": "219f610b",
   "metadata": {
    "papermill": {
     "duration": 0.010248,
     "end_time": "2025-02-19T11:38:38.360113",
     "exception": false,
     "start_time": "2025-02-19T11:38:38.349865",
     "status": "completed"
    },
    "tags": []
   },
   "source": [
    "it seems there are columns with missing values. Let's check how many missing values are there!"
   ]
  },
  {
   "cell_type": "code",
   "execution_count": 7,
   "id": "53efcb29",
   "metadata": {
    "execution": {
     "iopub.execute_input": "2025-02-19T11:38:38.379742Z",
     "iopub.status.busy": "2025-02-19T11:38:38.379393Z",
     "iopub.status.idle": "2025-02-19T11:38:38.387691Z",
     "shell.execute_reply": "2025-02-19T11:38:38.386445Z"
    },
    "papermill": {
     "duration": 0.020309,
     "end_time": "2025-02-19T11:38:38.389585",
     "exception": false,
     "start_time": "2025-02-19T11:38:38.369276",
     "status": "completed"
    },
    "tags": []
   },
   "outputs": [
    {
     "data": {
      "text/plain": [
       "Loan_ID               0\n",
       "Gender               13\n",
       "Married               3\n",
       "Dependents           15\n",
       "Education             0\n",
       "Self_Employed        32\n",
       "ApplicantIncome       0\n",
       "CoapplicantIncome     0\n",
       "LoanAmount           22\n",
       "Loan_Amount_Term     14\n",
       "Credit_History       50\n",
       "Property_Area         0\n",
       "Loan_Status           0\n",
       "dtype: int64"
      ]
     },
     "execution_count": 7,
     "metadata": {},
     "output_type": "execute_result"
    }
   ],
   "source": [
    "df.isnull().sum()"
   ]
  },
  {
   "cell_type": "code",
   "execution_count": 8,
   "id": "0ae8eee8",
   "metadata": {
    "execution": {
     "iopub.execute_input": "2025-02-19T11:38:38.415586Z",
     "iopub.status.busy": "2025-02-19T11:38:38.415108Z",
     "iopub.status.idle": "2025-02-19T11:38:38.425627Z",
     "shell.execute_reply": "2025-02-19T11:38:38.424462Z"
    },
    "papermill": {
     "duration": 0.023106,
     "end_time": "2025-02-19T11:38:38.427597",
     "exception": false,
     "start_time": "2025-02-19T11:38:38.404491",
     "status": "completed"
    },
    "tags": []
   },
   "outputs": [
    {
     "data": {
      "text/plain": [
       "Loan_ID              0.000000\n",
       "Gender               2.117264\n",
       "Married              0.488599\n",
       "Dependents           2.442997\n",
       "Education            0.000000\n",
       "Self_Employed        5.211726\n",
       "ApplicantIncome      0.000000\n",
       "CoapplicantIncome    0.000000\n",
       "LoanAmount           3.583062\n",
       "Loan_Amount_Term     2.280130\n",
       "Credit_History       8.143322\n",
       "Property_Area        0.000000\n",
       "Loan_Status          0.000000\n",
       "dtype: float64"
      ]
     },
     "execution_count": 8,
     "metadata": {},
     "output_type": "execute_result"
    }
   ],
   "source": [
    "missing_percentage = (df.isnull().sum() / len(df)) * 100\n",
    "missing_percentage"
   ]
  },
  {
   "cell_type": "code",
   "execution_count": 9,
   "id": "682679de",
   "metadata": {
    "execution": {
     "iopub.execute_input": "2025-02-19T11:38:38.455882Z",
     "iopub.status.busy": "2025-02-19T11:38:38.455461Z",
     "iopub.status.idle": "2025-02-19T11:38:38.487595Z",
     "shell.execute_reply": "2025-02-19T11:38:38.486377Z"
    },
    "papermill": {
     "duration": 0.044666,
     "end_time": "2025-02-19T11:38:38.489533",
     "exception": false,
     "start_time": "2025-02-19T11:38:38.444867",
     "status": "completed"
    },
    "tags": []
   },
   "outputs": [
    {
     "name": "stdout",
     "output_type": "stream",
     "text": [
      "Loan_Status         N         Y\n",
      "Gender                         \n",
      "Female       0.330357  0.669643\n",
      "Male         0.306748  0.693252\n"
     ]
    }
   ],
   "source": [
    "gender_impact = df.groupby(\"Gender\")[\"Loan_Status\"].value_counts(normalize=True).unstack()\n",
    "print(gender_impact)"
   ]
  },
  {
   "cell_type": "code",
   "execution_count": 10,
   "id": "ff182fc8",
   "metadata": {
    "execution": {
     "iopub.execute_input": "2025-02-19T11:38:38.510386Z",
     "iopub.status.busy": "2025-02-19T11:38:38.509996Z",
     "iopub.status.idle": "2025-02-19T11:38:38.522537Z",
     "shell.execute_reply": "2025-02-19T11:38:38.521326Z"
    },
    "papermill": {
     "duration": 0.024931,
     "end_time": "2025-02-19T11:38:38.524411",
     "exception": false,
     "start_time": "2025-02-19T11:38:38.499480",
     "status": "completed"
    },
    "tags": []
   },
   "outputs": [
    {
     "name": "stdout",
     "output_type": "stream",
     "text": [
      "Loan_Status         N         Y\n",
      "Married                        \n",
      "No           0.370892  0.629108\n",
      "Yes          0.283920  0.716080\n"
     ]
    }
   ],
   "source": [
    "married_impact = df.groupby(\"Married\")[\"Loan_Status\"].value_counts(normalize=True).unstack()\n",
    "print(married_impact)"
   ]
  },
  {
   "cell_type": "code",
   "execution_count": 11,
   "id": "896ddd8f",
   "metadata": {
    "execution": {
     "iopub.execute_input": "2025-02-19T11:38:38.545332Z",
     "iopub.status.busy": "2025-02-19T11:38:38.544960Z",
     "iopub.status.idle": "2025-02-19T11:38:38.556898Z",
     "shell.execute_reply": "2025-02-19T11:38:38.555808Z"
    },
    "papermill": {
     "duration": 0.02418,
     "end_time": "2025-02-19T11:38:38.558585",
     "exception": false,
     "start_time": "2025-02-19T11:38:38.534405",
     "status": "completed"
    },
    "tags": []
   },
   "outputs": [
    {
     "name": "stdout",
     "output_type": "stream",
     "text": [
      "Loan_Status          N         Y\n",
      "Education                       \n",
      "Graduate      0.291667  0.708333\n",
      "Not Graduate  0.388060  0.611940\n"
     ]
    }
   ],
   "source": [
    "edu_impact = df.groupby(\"Education\")[\"Loan_Status\"].value_counts(normalize=True).unstack()\n",
    "print(edu_impact)"
   ]
  },
  {
   "cell_type": "markdown",
   "id": "619df7ac",
   "metadata": {
    "papermill": {
     "duration": 0.009558,
     "end_time": "2025-02-19T11:38:38.578300",
     "exception": false,
     "start_time": "2025-02-19T11:38:38.568742",
     "status": "completed"
    },
    "tags": []
   },
   "source": [
    "Since the approval rates for both genders are nearly the same, we won't need the Gender column"
   ]
  },
  {
   "cell_type": "markdown",
   "id": "6ac420db",
   "metadata": {
    "papermill": {
     "duration": 0.009285,
     "end_time": "2025-02-19T11:38:38.597421",
     "exception": false,
     "start_time": "2025-02-19T11:38:38.588136",
     "status": "completed"
    },
    "tags": []
   },
   "source": [
    "We also won't need loan_id column for the prediction, so it can be removed."
   ]
  },
  {
   "cell_type": "code",
   "execution_count": 12,
   "id": "43e84a4a",
   "metadata": {
    "execution": {
     "iopub.execute_input": "2025-02-19T11:38:38.618187Z",
     "iopub.status.busy": "2025-02-19T11:38:38.617810Z",
     "iopub.status.idle": "2025-02-19T11:38:38.638378Z",
     "shell.execute_reply": "2025-02-19T11:38:38.637275Z"
    },
    "papermill": {
     "duration": 0.032766,
     "end_time": "2025-02-19T11:38:38.639971",
     "exception": false,
     "start_time": "2025-02-19T11:38:38.607205",
     "status": "completed"
    },
    "tags": []
   },
   "outputs": [
    {
     "name": "stderr",
     "output_type": "stream",
     "text": [
      "/usr/local/lib/python3.10/dist-packages/pandas/io/formats/format.py:1458: RuntimeWarning: invalid value encountered in greater\n",
      "  has_large_values = (abs_vals > 1e6).any()\n",
      "/usr/local/lib/python3.10/dist-packages/pandas/io/formats/format.py:1459: RuntimeWarning: invalid value encountered in less\n",
      "  has_small_values = ((abs_vals < 10 ** (-self.digits)) & (abs_vals > 0)).any()\n",
      "/usr/local/lib/python3.10/dist-packages/pandas/io/formats/format.py:1459: RuntimeWarning: invalid value encountered in greater\n",
      "  has_small_values = ((abs_vals < 10 ** (-self.digits)) & (abs_vals > 0)).any()\n"
     ]
    },
    {
     "data": {
      "text/html": [
       "<div>\n",
       "<style scoped>\n",
       "    .dataframe tbody tr th:only-of-type {\n",
       "        vertical-align: middle;\n",
       "    }\n",
       "\n",
       "    .dataframe tbody tr th {\n",
       "        vertical-align: top;\n",
       "    }\n",
       "\n",
       "    .dataframe thead th {\n",
       "        text-align: right;\n",
       "    }\n",
       "</style>\n",
       "<table border=\"1\" class=\"dataframe\">\n",
       "  <thead>\n",
       "    <tr style=\"text-align: right;\">\n",
       "      <th></th>\n",
       "      <th>Married</th>\n",
       "      <th>Dependents</th>\n",
       "      <th>Education</th>\n",
       "      <th>Self_Employed</th>\n",
       "      <th>ApplicantIncome</th>\n",
       "      <th>CoapplicantIncome</th>\n",
       "      <th>LoanAmount</th>\n",
       "      <th>Loan_Amount_Term</th>\n",
       "      <th>Credit_History</th>\n",
       "      <th>Property_Area</th>\n",
       "      <th>Loan_Status</th>\n",
       "    </tr>\n",
       "  </thead>\n",
       "  <tbody>\n",
       "    <tr>\n",
       "      <th>0</th>\n",
       "      <td>No</td>\n",
       "      <td>0</td>\n",
       "      <td>Graduate</td>\n",
       "      <td>No</td>\n",
       "      <td>5849</td>\n",
       "      <td>0.0</td>\n",
       "      <td>NaN</td>\n",
       "      <td>360.0</td>\n",
       "      <td>1.0</td>\n",
       "      <td>Urban</td>\n",
       "      <td>Y</td>\n",
       "    </tr>\n",
       "    <tr>\n",
       "      <th>1</th>\n",
       "      <td>Yes</td>\n",
       "      <td>1</td>\n",
       "      <td>Graduate</td>\n",
       "      <td>No</td>\n",
       "      <td>4583</td>\n",
       "      <td>1508.0</td>\n",
       "      <td>128.0</td>\n",
       "      <td>360.0</td>\n",
       "      <td>1.0</td>\n",
       "      <td>Rural</td>\n",
       "      <td>N</td>\n",
       "    </tr>\n",
       "    <tr>\n",
       "      <th>2</th>\n",
       "      <td>Yes</td>\n",
       "      <td>0</td>\n",
       "      <td>Graduate</td>\n",
       "      <td>Yes</td>\n",
       "      <td>3000</td>\n",
       "      <td>0.0</td>\n",
       "      <td>66.0</td>\n",
       "      <td>360.0</td>\n",
       "      <td>1.0</td>\n",
       "      <td>Urban</td>\n",
       "      <td>Y</td>\n",
       "    </tr>\n",
       "    <tr>\n",
       "      <th>3</th>\n",
       "      <td>Yes</td>\n",
       "      <td>0</td>\n",
       "      <td>Not Graduate</td>\n",
       "      <td>No</td>\n",
       "      <td>2583</td>\n",
       "      <td>2358.0</td>\n",
       "      <td>120.0</td>\n",
       "      <td>360.0</td>\n",
       "      <td>1.0</td>\n",
       "      <td>Urban</td>\n",
       "      <td>Y</td>\n",
       "    </tr>\n",
       "    <tr>\n",
       "      <th>4</th>\n",
       "      <td>No</td>\n",
       "      <td>0</td>\n",
       "      <td>Graduate</td>\n",
       "      <td>No</td>\n",
       "      <td>6000</td>\n",
       "      <td>0.0</td>\n",
       "      <td>141.0</td>\n",
       "      <td>360.0</td>\n",
       "      <td>1.0</td>\n",
       "      <td>Urban</td>\n",
       "      <td>Y</td>\n",
       "    </tr>\n",
       "    <tr>\n",
       "      <th>...</th>\n",
       "      <td>...</td>\n",
       "      <td>...</td>\n",
       "      <td>...</td>\n",
       "      <td>...</td>\n",
       "      <td>...</td>\n",
       "      <td>...</td>\n",
       "      <td>...</td>\n",
       "      <td>...</td>\n",
       "      <td>...</td>\n",
       "      <td>...</td>\n",
       "      <td>...</td>\n",
       "    </tr>\n",
       "    <tr>\n",
       "      <th>609</th>\n",
       "      <td>No</td>\n",
       "      <td>0</td>\n",
       "      <td>Graduate</td>\n",
       "      <td>No</td>\n",
       "      <td>2900</td>\n",
       "      <td>0.0</td>\n",
       "      <td>71.0</td>\n",
       "      <td>360.0</td>\n",
       "      <td>1.0</td>\n",
       "      <td>Rural</td>\n",
       "      <td>Y</td>\n",
       "    </tr>\n",
       "    <tr>\n",
       "      <th>610</th>\n",
       "      <td>Yes</td>\n",
       "      <td>3+</td>\n",
       "      <td>Graduate</td>\n",
       "      <td>No</td>\n",
       "      <td>4106</td>\n",
       "      <td>0.0</td>\n",
       "      <td>40.0</td>\n",
       "      <td>180.0</td>\n",
       "      <td>1.0</td>\n",
       "      <td>Rural</td>\n",
       "      <td>Y</td>\n",
       "    </tr>\n",
       "    <tr>\n",
       "      <th>611</th>\n",
       "      <td>Yes</td>\n",
       "      <td>1</td>\n",
       "      <td>Graduate</td>\n",
       "      <td>No</td>\n",
       "      <td>8072</td>\n",
       "      <td>240.0</td>\n",
       "      <td>253.0</td>\n",
       "      <td>360.0</td>\n",
       "      <td>1.0</td>\n",
       "      <td>Urban</td>\n",
       "      <td>Y</td>\n",
       "    </tr>\n",
       "    <tr>\n",
       "      <th>612</th>\n",
       "      <td>Yes</td>\n",
       "      <td>2</td>\n",
       "      <td>Graduate</td>\n",
       "      <td>No</td>\n",
       "      <td>7583</td>\n",
       "      <td>0.0</td>\n",
       "      <td>187.0</td>\n",
       "      <td>360.0</td>\n",
       "      <td>1.0</td>\n",
       "      <td>Urban</td>\n",
       "      <td>Y</td>\n",
       "    </tr>\n",
       "    <tr>\n",
       "      <th>613</th>\n",
       "      <td>No</td>\n",
       "      <td>0</td>\n",
       "      <td>Graduate</td>\n",
       "      <td>Yes</td>\n",
       "      <td>4583</td>\n",
       "      <td>0.0</td>\n",
       "      <td>133.0</td>\n",
       "      <td>360.0</td>\n",
       "      <td>0.0</td>\n",
       "      <td>Semiurban</td>\n",
       "      <td>N</td>\n",
       "    </tr>\n",
       "  </tbody>\n",
       "</table>\n",
       "<p>614 rows × 11 columns</p>\n",
       "</div>"
      ],
      "text/plain": [
       "    Married Dependents     Education Self_Employed  ApplicantIncome  \\\n",
       "0        No          0      Graduate            No             5849   \n",
       "1       Yes          1      Graduate            No             4583   \n",
       "2       Yes          0      Graduate           Yes             3000   \n",
       "3       Yes          0  Not Graduate            No             2583   \n",
       "4        No          0      Graduate            No             6000   \n",
       "..      ...        ...           ...           ...              ...   \n",
       "609      No          0      Graduate            No             2900   \n",
       "610     Yes         3+      Graduate            No             4106   \n",
       "611     Yes          1      Graduate            No             8072   \n",
       "612     Yes          2      Graduate            No             7583   \n",
       "613      No          0      Graduate           Yes             4583   \n",
       "\n",
       "     CoapplicantIncome  LoanAmount  Loan_Amount_Term  Credit_History  \\\n",
       "0                  0.0         NaN             360.0             1.0   \n",
       "1               1508.0       128.0             360.0             1.0   \n",
       "2                  0.0        66.0             360.0             1.0   \n",
       "3               2358.0       120.0             360.0             1.0   \n",
       "4                  0.0       141.0             360.0             1.0   \n",
       "..                 ...         ...               ...             ...   \n",
       "609                0.0        71.0             360.0             1.0   \n",
       "610                0.0        40.0             180.0             1.0   \n",
       "611              240.0       253.0             360.0             1.0   \n",
       "612                0.0       187.0             360.0             1.0   \n",
       "613                0.0       133.0             360.0             0.0   \n",
       "\n",
       "    Property_Area Loan_Status  \n",
       "0           Urban           Y  \n",
       "1           Rural           N  \n",
       "2           Urban           Y  \n",
       "3           Urban           Y  \n",
       "4           Urban           Y  \n",
       "..            ...         ...  \n",
       "609         Rural           Y  \n",
       "610         Rural           Y  \n",
       "611         Urban           Y  \n",
       "612         Urban           Y  \n",
       "613     Semiurban           N  \n",
       "\n",
       "[614 rows x 11 columns]"
      ]
     },
     "execution_count": 12,
     "metadata": {},
     "output_type": "execute_result"
    }
   ],
   "source": [
    "df.drop(columns=[\"Loan_ID\", \"Gender\"], inplace=True)\n",
    "df"
   ]
  },
  {
   "cell_type": "markdown",
   "id": "11079387",
   "metadata": {
    "papermill": {
     "duration": 0.013623,
     "end_time": "2025-02-19T11:38:38.664519",
     "exception": false,
     "start_time": "2025-02-19T11:38:38.650896",
     "status": "completed"
    },
    "tags": []
   },
   "source": [
    "Now we need to encode columns with categorical data"
   ]
  },
  {
   "cell_type": "code",
   "execution_count": 13,
   "id": "094fd448",
   "metadata": {
    "execution": {
     "iopub.execute_input": "2025-02-19T11:38:38.690441Z",
     "iopub.status.busy": "2025-02-19T11:38:38.690112Z",
     "iopub.status.idle": "2025-02-19T11:38:38.702229Z",
     "shell.execute_reply": "2025-02-19T11:38:38.701273Z"
    },
    "papermill": {
     "duration": 0.024817,
     "end_time": "2025-02-19T11:38:38.703895",
     "exception": false,
     "start_time": "2025-02-19T11:38:38.679078",
     "status": "completed"
    },
    "tags": []
   },
   "outputs": [],
   "source": [
    "binary_mappings = {\n",
    "    \"Married\": {\"Yes\": 1, \"No\": 0},\n",
    "    \"Education\": {\"Graduate\": 1, \"Not Graduate\": 0},\n",
    "    \"Self_Employed\": {\"Yes\": 1, \"No\": 0},\n",
    "    \"Loan_Status\": {\"Y\": 1, \"N\": 0}\n",
    "}\n",
    "\n",
    "for col, mapping in binary_mappings.items():\n",
    "    df[col] = df[col].map(mapping)\n",
    "    \n",
    "df = pd.get_dummies(df, columns=[\"Property_Area\"], drop_first=True)"
   ]
  },
  {
   "cell_type": "code",
   "execution_count": 14,
   "id": "1ee0d30e",
   "metadata": {
    "execution": {
     "iopub.execute_input": "2025-02-19T11:38:38.725596Z",
     "iopub.status.busy": "2025-02-19T11:38:38.725276Z",
     "iopub.status.idle": "2025-02-19T11:38:38.736052Z",
     "shell.execute_reply": "2025-02-19T11:38:38.734913Z"
    },
    "papermill": {
     "duration": 0.023207,
     "end_time": "2025-02-19T11:38:38.737575",
     "exception": false,
     "start_time": "2025-02-19T11:38:38.714368",
     "status": "completed"
    },
    "tags": []
   },
   "outputs": [
    {
     "name": "stdout",
     "output_type": "stream",
     "text": [
      "<class 'pandas.core.frame.DataFrame'>\n",
      "RangeIndex: 614 entries, 0 to 613\n",
      "Data columns (total 12 columns):\n",
      " #   Column                   Non-Null Count  Dtype  \n",
      "---  ------                   --------------  -----  \n",
      " 0   Married                  611 non-null    float64\n",
      " 1   Dependents               599 non-null    object \n",
      " 2   Education                614 non-null    int64  \n",
      " 3   Self_Employed            582 non-null    float64\n",
      " 4   ApplicantIncome          614 non-null    int64  \n",
      " 5   CoapplicantIncome        614 non-null    float64\n",
      " 6   LoanAmount               592 non-null    float64\n",
      " 7   Loan_Amount_Term         600 non-null    float64\n",
      " 8   Credit_History           564 non-null    float64\n",
      " 9   Loan_Status              614 non-null    int64  \n",
      " 10  Property_Area_Semiurban  614 non-null    bool   \n",
      " 11  Property_Area_Urban      614 non-null    bool   \n",
      "dtypes: bool(2), float64(6), int64(3), object(1)\n",
      "memory usage: 49.3+ KB\n"
     ]
    }
   ],
   "source": [
    "df.info()"
   ]
  },
  {
   "cell_type": "markdown",
   "id": "8024c353",
   "metadata": {
    "papermill": {
     "duration": 0.01362,
     "end_time": "2025-02-19T11:38:38.764409",
     "exception": false,
     "start_time": "2025-02-19T11:38:38.750789",
     "status": "completed"
    },
    "tags": []
   },
   "source": [
    "For crucial columns, such as loan amount and credit history, the row with missing values must be taken with care. We can use median to fill the missing loan amount and use \"most_frequent\" to fill the missing values in categorical columns and \"Dependents\" column"
   ]
  },
  {
   "cell_type": "code",
   "execution_count": 15,
   "id": "808ce310",
   "metadata": {
    "execution": {
     "iopub.execute_input": "2025-02-19T11:38:38.797753Z",
     "iopub.status.busy": "2025-02-19T11:38:38.797371Z",
     "iopub.status.idle": "2025-02-19T11:38:39.348180Z",
     "shell.execute_reply": "2025-02-19T11:38:39.346785Z"
    },
    "papermill": {
     "duration": 0.572779,
     "end_time": "2025-02-19T11:38:39.349891",
     "exception": false,
     "start_time": "2025-02-19T11:38:38.777112",
     "status": "completed"
    },
    "tags": []
   },
   "outputs": [
    {
     "name": "stdout",
     "output_type": "stream",
     "text": [
      "<class 'pandas.core.frame.DataFrame'>\n",
      "RangeIndex: 614 entries, 0 to 613\n",
      "Data columns (total 12 columns):\n",
      " #   Column                   Non-Null Count  Dtype  \n",
      "---  ------                   --------------  -----  \n",
      " 0   Married                  614 non-null    object \n",
      " 1   Dependents               614 non-null    int64  \n",
      " 2   Education                614 non-null    int64  \n",
      " 3   Self_Employed            614 non-null    object \n",
      " 4   ApplicantIncome          614 non-null    int64  \n",
      " 5   CoapplicantIncome        614 non-null    float64\n",
      " 6   LoanAmount               614 non-null    float64\n",
      " 7   Loan_Amount_Term         614 non-null    float64\n",
      " 8   Credit_History           614 non-null    object \n",
      " 9   Loan_Status              614 non-null    int64  \n",
      " 10  Property_Area_Semiurban  614 non-null    int64  \n",
      " 11  Property_Area_Urban      614 non-null    bool   \n",
      "dtypes: bool(1), float64(3), int64(5), object(3)\n",
      "memory usage: 53.5+ KB\n"
     ]
    }
   ],
   "source": [
    "from sklearn.impute import SimpleImputer\n",
    "\n",
    "# Fill numerical missing values\n",
    "imputer = SimpleImputer(missing_values=np.nan, strategy='median')\n",
    "num_cols = [\"LoanAmount\", \"Loan_Amount_Term\"]\n",
    "df[num_cols] = imputer.fit_transform(df[num_cols])\n",
    "\n",
    "imputer = SimpleImputer(missing_values=np.nan, strategy='most_frequent')\n",
    "cat_cols = [\"Dependents\", \"Self_Employed\", \"Married\", \"Credit_History\"]\n",
    "df[cat_cols] = imputer.fit_transform(df[cat_cols])\n",
    "\n",
    "# change types to int\n",
    "df[\"Dependents\"] = df[\"Dependents\"].replace({\"3+\": 3}).astype(int)\n",
    "df[\"Property_Area_Semiurban\"] = df[\"Property_Area_Semiurban\"].astype(int)\n",
    "\n",
    "df.info()"
   ]
  },
  {
   "cell_type": "code",
   "execution_count": 16,
   "id": "ec62fbb6",
   "metadata": {
    "execution": {
     "iopub.execute_input": "2025-02-19T11:38:39.372481Z",
     "iopub.status.busy": "2025-02-19T11:38:39.372000Z",
     "iopub.status.idle": "2025-02-19T11:38:39.390625Z",
     "shell.execute_reply": "2025-02-19T11:38:39.389532Z"
    },
    "papermill": {
     "duration": 0.032071,
     "end_time": "2025-02-19T11:38:39.392561",
     "exception": false,
     "start_time": "2025-02-19T11:38:39.360490",
     "status": "completed"
    },
    "tags": []
   },
   "outputs": [
    {
     "data": {
      "text/html": [
       "<div>\n",
       "<style scoped>\n",
       "    .dataframe tbody tr th:only-of-type {\n",
       "        vertical-align: middle;\n",
       "    }\n",
       "\n",
       "    .dataframe tbody tr th {\n",
       "        vertical-align: top;\n",
       "    }\n",
       "\n",
       "    .dataframe thead th {\n",
       "        text-align: right;\n",
       "    }\n",
       "</style>\n",
       "<table border=\"1\" class=\"dataframe\">\n",
       "  <thead>\n",
       "    <tr style=\"text-align: right;\">\n",
       "      <th></th>\n",
       "      <th>Married</th>\n",
       "      <th>Dependents</th>\n",
       "      <th>Education</th>\n",
       "      <th>Self_Employed</th>\n",
       "      <th>ApplicantIncome</th>\n",
       "      <th>CoapplicantIncome</th>\n",
       "      <th>LoanAmount</th>\n",
       "      <th>Loan_Amount_Term</th>\n",
       "      <th>Credit_History</th>\n",
       "      <th>Loan_Status</th>\n",
       "      <th>Property_Area_Semiurban</th>\n",
       "      <th>Property_Area_Urban</th>\n",
       "    </tr>\n",
       "  </thead>\n",
       "  <tbody>\n",
       "    <tr>\n",
       "      <th>0</th>\n",
       "      <td>0.0</td>\n",
       "      <td>0</td>\n",
       "      <td>1</td>\n",
       "      <td>0.0</td>\n",
       "      <td>5849</td>\n",
       "      <td>0.0</td>\n",
       "      <td>128.0</td>\n",
       "      <td>360.0</td>\n",
       "      <td>1.0</td>\n",
       "      <td>1</td>\n",
       "      <td>0</td>\n",
       "      <td>True</td>\n",
       "    </tr>\n",
       "    <tr>\n",
       "      <th>1</th>\n",
       "      <td>1.0</td>\n",
       "      <td>1</td>\n",
       "      <td>1</td>\n",
       "      <td>0.0</td>\n",
       "      <td>4583</td>\n",
       "      <td>1508.0</td>\n",
       "      <td>128.0</td>\n",
       "      <td>360.0</td>\n",
       "      <td>1.0</td>\n",
       "      <td>0</td>\n",
       "      <td>0</td>\n",
       "      <td>False</td>\n",
       "    </tr>\n",
       "    <tr>\n",
       "      <th>2</th>\n",
       "      <td>1.0</td>\n",
       "      <td>0</td>\n",
       "      <td>1</td>\n",
       "      <td>1.0</td>\n",
       "      <td>3000</td>\n",
       "      <td>0.0</td>\n",
       "      <td>66.0</td>\n",
       "      <td>360.0</td>\n",
       "      <td>1.0</td>\n",
       "      <td>1</td>\n",
       "      <td>0</td>\n",
       "      <td>True</td>\n",
       "    </tr>\n",
       "    <tr>\n",
       "      <th>3</th>\n",
       "      <td>1.0</td>\n",
       "      <td>0</td>\n",
       "      <td>0</td>\n",
       "      <td>0.0</td>\n",
       "      <td>2583</td>\n",
       "      <td>2358.0</td>\n",
       "      <td>120.0</td>\n",
       "      <td>360.0</td>\n",
       "      <td>1.0</td>\n",
       "      <td>1</td>\n",
       "      <td>0</td>\n",
       "      <td>True</td>\n",
       "    </tr>\n",
       "    <tr>\n",
       "      <th>4</th>\n",
       "      <td>0.0</td>\n",
       "      <td>0</td>\n",
       "      <td>1</td>\n",
       "      <td>0.0</td>\n",
       "      <td>6000</td>\n",
       "      <td>0.0</td>\n",
       "      <td>141.0</td>\n",
       "      <td>360.0</td>\n",
       "      <td>1.0</td>\n",
       "      <td>1</td>\n",
       "      <td>0</td>\n",
       "      <td>True</td>\n",
       "    </tr>\n",
       "  </tbody>\n",
       "</table>\n",
       "</div>"
      ],
      "text/plain": [
       "  Married  Dependents  Education Self_Employed  ApplicantIncome  \\\n",
       "0     0.0           0          1           0.0             5849   \n",
       "1     1.0           1          1           0.0             4583   \n",
       "2     1.0           0          1           1.0             3000   \n",
       "3     1.0           0          0           0.0             2583   \n",
       "4     0.0           0          1           0.0             6000   \n",
       "\n",
       "   CoapplicantIncome  LoanAmount  Loan_Amount_Term Credit_History  \\\n",
       "0                0.0       128.0             360.0            1.0   \n",
       "1             1508.0       128.0             360.0            1.0   \n",
       "2                0.0        66.0             360.0            1.0   \n",
       "3             2358.0       120.0             360.0            1.0   \n",
       "4                0.0       141.0             360.0            1.0   \n",
       "\n",
       "   Loan_Status  Property_Area_Semiurban  Property_Area_Urban  \n",
       "0            1                        0                 True  \n",
       "1            0                        0                False  \n",
       "2            1                        0                 True  \n",
       "3            1                        0                 True  \n",
       "4            1                        0                 True  "
      ]
     },
     "execution_count": 16,
     "metadata": {},
     "output_type": "execute_result"
    }
   ],
   "source": [
    "df.head()"
   ]
  },
  {
   "cell_type": "code",
   "execution_count": 17,
   "id": "6e578103",
   "metadata": {
    "execution": {
     "iopub.execute_input": "2025-02-19T11:38:39.426706Z",
     "iopub.status.busy": "2025-02-19T11:38:39.426237Z",
     "iopub.status.idle": "2025-02-19T11:38:39.436115Z",
     "shell.execute_reply": "2025-02-19T11:38:39.435125Z"
    },
    "papermill": {
     "duration": 0.024901,
     "end_time": "2025-02-19T11:38:39.437766",
     "exception": false,
     "start_time": "2025-02-19T11:38:39.412865",
     "status": "completed"
    },
    "tags": []
   },
   "outputs": [
    {
     "data": {
      "text/plain": [
       "Married                    0.091\n",
       "Dependents                 0.010\n",
       "Education                  0.086\n",
       "Self_Employed             -0.004\n",
       "ApplicantIncome           -0.005\n",
       "CoapplicantIncome         -0.059\n",
       "LoanAmount                -0.033\n",
       "Loan_Amount_Term          -0.023\n",
       "Credit_History             0.541\n",
       "Loan_Status                1.000\n",
       "Property_Area_Semiurban    0.137\n",
       "Property_Area_Urban       -0.044\n",
       "Name: Loan_Status, dtype: float64"
      ]
     },
     "execution_count": 17,
     "metadata": {},
     "output_type": "execute_result"
    }
   ],
   "source": [
    "corr = df.corr().round(3)\n",
    "corr[\"Loan_Status\"]"
   ]
  },
  {
   "cell_type": "markdown",
   "id": "e9049380",
   "metadata": {
    "papermill": {
     "duration": 0.010284,
     "end_time": "2025-02-19T11:38:39.458648",
     "exception": false,
     "start_time": "2025-02-19T11:38:39.448364",
     "status": "completed"
    },
    "tags": []
   },
   "source": [
    "We can see some of the columns have zero, even negative correlation to the loan status. We can remove these columns"
   ]
  },
  {
   "cell_type": "code",
   "execution_count": 18,
   "id": "160adb00",
   "metadata": {
    "execution": {
     "iopub.execute_input": "2025-02-19T11:38:39.480936Z",
     "iopub.status.busy": "2025-02-19T11:38:39.480584Z",
     "iopub.status.idle": "2025-02-19T11:38:39.486144Z",
     "shell.execute_reply": "2025-02-19T11:38:39.485117Z"
    },
    "papermill": {
     "duration": 0.018558,
     "end_time": "2025-02-19T11:38:39.487765",
     "exception": false,
     "start_time": "2025-02-19T11:38:39.469207",
     "status": "completed"
    },
    "tags": []
   },
   "outputs": [],
   "source": [
    "cols_to_drop = [\"ApplicantIncome\", \"CoapplicantIncome\", \n",
    "                \"LoanAmount\", \"Loan_Amount_Term\", \"Property_Area_Urban\", \"Self_Employed\"]\n",
    "\n",
    "df.drop(columns=cols_to_drop, inplace=True)"
   ]
  },
  {
   "cell_type": "code",
   "execution_count": 19,
   "id": "e8e54ab7",
   "metadata": {
    "execution": {
     "iopub.execute_input": "2025-02-19T11:38:39.510203Z",
     "iopub.status.busy": "2025-02-19T11:38:39.509828Z",
     "iopub.status.idle": "2025-02-19T11:38:39.520384Z",
     "shell.execute_reply": "2025-02-19T11:38:39.519256Z"
    },
    "papermill": {
     "duration": 0.023848,
     "end_time": "2025-02-19T11:38:39.522239",
     "exception": false,
     "start_time": "2025-02-19T11:38:39.498391",
     "status": "completed"
    },
    "tags": []
   },
   "outputs": [
    {
     "name": "stdout",
     "output_type": "stream",
     "text": [
      "<class 'pandas.core.frame.DataFrame'>\n",
      "RangeIndex: 614 entries, 0 to 613\n",
      "Data columns (total 6 columns):\n",
      " #   Column                   Non-Null Count  Dtype \n",
      "---  ------                   --------------  ----- \n",
      " 0   Married                  614 non-null    object\n",
      " 1   Dependents               614 non-null    int64 \n",
      " 2   Education                614 non-null    int64 \n",
      " 3   Credit_History           614 non-null    object\n",
      " 4   Loan_Status              614 non-null    int64 \n",
      " 5   Property_Area_Semiurban  614 non-null    int64 \n",
      "dtypes: int64(4), object(2)\n",
      "memory usage: 28.9+ KB\n"
     ]
    }
   ],
   "source": [
    "df.info()"
   ]
  },
  {
   "cell_type": "markdown",
   "id": "f9c7a437",
   "metadata": {
    "papermill": {
     "duration": 0.010515,
     "end_time": "2025-02-19T11:38:39.547912",
     "exception": false,
     "start_time": "2025-02-19T11:38:39.537397",
     "status": "completed"
    },
    "tags": []
   },
   "source": [
    "Let's check the distribution of the labels"
   ]
  },
  {
   "cell_type": "code",
   "execution_count": 20,
   "id": "bbb0d4fa",
   "metadata": {
    "execution": {
     "iopub.execute_input": "2025-02-19T11:38:39.570898Z",
     "iopub.status.busy": "2025-02-19T11:38:39.570437Z",
     "iopub.status.idle": "2025-02-19T11:38:39.580378Z",
     "shell.execute_reply": "2025-02-19T11:38:39.579374Z"
    },
    "papermill": {
     "duration": 0.023267,
     "end_time": "2025-02-19T11:38:39.581921",
     "exception": false,
     "start_time": "2025-02-19T11:38:39.558654",
     "status": "completed"
    },
    "tags": []
   },
   "outputs": [
    {
     "data": {
      "text/plain": [
       "Loan_Status\n",
       "1    422\n",
       "0    192\n",
       "Name: count, dtype: int64"
      ]
     },
     "execution_count": 20,
     "metadata": {},
     "output_type": "execute_result"
    }
   ],
   "source": [
    "df[\"Loan_Status\"].value_counts()"
   ]
  },
  {
   "cell_type": "markdown",
   "id": "9468b9d1",
   "metadata": {
    "papermill": {
     "duration": 0.010556,
     "end_time": "2025-02-19T11:38:39.603538",
     "exception": false,
     "start_time": "2025-02-19T11:38:39.592982",
     "status": "completed"
    },
    "tags": []
   },
   "source": [
    "it seems like we need to do oversampling for the minority class to fix class imbalance. We will use random oversampling instead of SMOTE to prevent introducing synthetic bias to the model (especially for loan problems). Before oversampling the minority class, we need to split extract independent variables and dependent variable from the dataframe"
   ]
  },
  {
   "cell_type": "code",
   "execution_count": 21,
   "id": "8b99f970",
   "metadata": {
    "execution": {
     "iopub.execute_input": "2025-02-19T11:38:39.626536Z",
     "iopub.status.busy": "2025-02-19T11:38:39.626076Z",
     "iopub.status.idle": "2025-02-19T11:38:39.632292Z",
     "shell.execute_reply": "2025-02-19T11:38:39.631289Z"
    },
    "papermill": {
     "duration": 0.019542,
     "end_time": "2025-02-19T11:38:39.633933",
     "exception": false,
     "start_time": "2025-02-19T11:38:39.614391",
     "status": "completed"
    },
    "tags": []
   },
   "outputs": [],
   "source": [
    "X = df[[\"Married\", \"Dependents\", \"Education\", \"Credit_History\", \"Property_Area_Semiurban\"]]\n",
    "y = df[\"Loan_Status\"]"
   ]
  },
  {
   "cell_type": "code",
   "execution_count": 22,
   "id": "45c1e717",
   "metadata": {
    "execution": {
     "iopub.execute_input": "2025-02-19T11:38:39.657538Z",
     "iopub.status.busy": "2025-02-19T11:38:39.657109Z",
     "iopub.status.idle": "2025-02-19T11:38:40.080149Z",
     "shell.execute_reply": "2025-02-19T11:38:40.079128Z"
    },
    "papermill": {
     "duration": 0.436697,
     "end_time": "2025-02-19T11:38:40.081877",
     "exception": false,
     "start_time": "2025-02-19T11:38:39.645180",
     "status": "completed"
    },
    "tags": []
   },
   "outputs": [
    {
     "data": {
      "text/plain": [
       "Loan_Status\n",
       "1    422\n",
       "0    422\n",
       "Name: count, dtype: int64"
      ]
     },
     "execution_count": 22,
     "metadata": {},
     "output_type": "execute_result"
    }
   ],
   "source": [
    "from imblearn.over_sampling import RandomOverSampler\n",
    "\n",
    "oversample = RandomOverSampler(sampling_strategy=\"auto\")\n",
    "X_resampled, y_resampled = oversample.fit_resample(X, y)\n",
    "\n",
    "y_resampled.value_counts()"
   ]
  },
  {
   "cell_type": "markdown",
   "id": "bda0047d",
   "metadata": {
    "papermill": {
     "duration": 0.010444,
     "end_time": "2025-02-19T11:38:40.103344",
     "exception": false,
     "start_time": "2025-02-19T11:38:40.092900",
     "status": "completed"
    },
    "tags": []
   },
   "source": [
    "Let's apply standard scaler for the features"
   ]
  },
  {
   "cell_type": "code",
   "execution_count": 23,
   "id": "dc582b3c",
   "metadata": {
    "execution": {
     "iopub.execute_input": "2025-02-19T11:38:40.126331Z",
     "iopub.status.busy": "2025-02-19T11:38:40.125752Z",
     "iopub.status.idle": "2025-02-19T11:38:40.134251Z",
     "shell.execute_reply": "2025-02-19T11:38:40.133383Z"
    },
    "papermill": {
     "duration": 0.021656,
     "end_time": "2025-02-19T11:38:40.135855",
     "exception": false,
     "start_time": "2025-02-19T11:38:40.114199",
     "status": "completed"
    },
    "tags": []
   },
   "outputs": [],
   "source": [
    "from sklearn.preprocessing import StandardScaler\n",
    "scaler = StandardScaler()\n",
    "X_scaled = scaler.fit_transform(X_resampled)"
   ]
  },
  {
   "cell_type": "code",
   "execution_count": 24,
   "id": "cdcdf4f1",
   "metadata": {
    "execution": {
     "iopub.execute_input": "2025-02-19T11:38:40.158974Z",
     "iopub.status.busy": "2025-02-19T11:38:40.158586Z",
     "iopub.status.idle": "2025-02-19T11:38:40.164503Z",
     "shell.execute_reply": "2025-02-19T11:38:40.163541Z"
    },
    "papermill": {
     "duration": 0.019374,
     "end_time": "2025-02-19T11:38:40.166121",
     "exception": false,
     "start_time": "2025-02-19T11:38:40.146747",
     "status": "completed"
    },
    "tags": []
   },
   "outputs": [
    {
     "data": {
      "text/plain": [
       "array([[-1.32596   , -0.74688369,  0.55179908,  0.53167168, -0.71781636],\n",
       "       [ 0.75417056,  0.2473905 ,  0.55179908,  0.53167168, -0.71781636],\n",
       "       [ 0.75417056, -0.74688369,  0.55179908,  0.53167168, -0.71781636],\n",
       "       ...,\n",
       "       [ 0.75417056,  0.2473905 ,  0.55179908, -1.88086002,  1.39311398],\n",
       "       [ 0.75417056,  0.2473905 ,  0.55179908,  0.53167168, -0.71781636],\n",
       "       [ 0.75417056,  0.2473905 ,  0.55179908,  0.53167168, -0.71781636]])"
      ]
     },
     "execution_count": 24,
     "metadata": {},
     "output_type": "execute_result"
    }
   ],
   "source": [
    "X_scaled"
   ]
  },
  {
   "cell_type": "markdown",
   "id": "9e8a5128",
   "metadata": {
    "papermill": {
     "duration": 0.010614,
     "end_time": "2025-02-19T11:38:40.242408",
     "exception": false,
     "start_time": "2025-02-19T11:38:40.231794",
     "status": "completed"
    },
    "tags": []
   },
   "source": [
    "After we resampled and scaled the data, we need to split the data for training and test, using the good ol' 80/20 split"
   ]
  },
  {
   "cell_type": "code",
   "execution_count": 25,
   "id": "96ae5140",
   "metadata": {
    "execution": {
     "iopub.execute_input": "2025-02-19T11:38:40.265397Z",
     "iopub.status.busy": "2025-02-19T11:38:40.264990Z",
     "iopub.status.idle": "2025-02-19T11:38:40.271360Z",
     "shell.execute_reply": "2025-02-19T11:38:40.270242Z"
    },
    "papermill": {
     "duration": 0.019711,
     "end_time": "2025-02-19T11:38:40.272961",
     "exception": false,
     "start_time": "2025-02-19T11:38:40.253250",
     "status": "completed"
    },
    "tags": []
   },
   "outputs": [],
   "source": [
    "from sklearn.model_selection import train_test_split\n",
    "\n",
    "X_train, X_test, y_train, y_test = train_test_split(X_scaled, y_resampled, test_size=0.2, random_state=0)"
   ]
  },
  {
   "cell_type": "code",
   "execution_count": 26,
   "id": "2c53aa3c",
   "metadata": {
    "execution": {
     "iopub.execute_input": "2025-02-19T11:38:40.297147Z",
     "iopub.status.busy": "2025-02-19T11:38:40.296728Z",
     "iopub.status.idle": "2025-02-19T11:38:40.303156Z",
     "shell.execute_reply": "2025-02-19T11:38:40.301916Z"
    },
    "papermill": {
     "duration": 0.020203,
     "end_time": "2025-02-19T11:38:40.304704",
     "exception": false,
     "start_time": "2025-02-19T11:38:40.284501",
     "status": "completed"
    },
    "tags": []
   },
   "outputs": [
    {
     "data": {
      "text/plain": [
       "array([[ 0.75417056, -0.74688369,  0.55179908,  0.53167168, -0.71781636],\n",
       "       [-1.32596   , -0.74688369,  0.55179908,  0.53167168,  1.39311398],\n",
       "       [ 0.75417056, -0.74688369,  0.55179908,  0.53167168, -0.71781636],\n",
       "       ...,\n",
       "       [-1.32596   ,  0.2473905 , -1.81225383,  0.53167168,  1.39311398],\n",
       "       [ 0.75417056, -0.74688369,  0.55179908,  0.53167168,  1.39311398],\n",
       "       [-1.32596   , -0.74688369,  0.55179908,  0.53167168, -0.71781636]])"
      ]
     },
     "execution_count": 26,
     "metadata": {},
     "output_type": "execute_result"
    }
   ],
   "source": [
    "X_train"
   ]
  },
  {
   "cell_type": "code",
   "execution_count": 27,
   "id": "15c9b26a",
   "metadata": {
    "execution": {
     "iopub.execute_input": "2025-02-19T11:38:40.328939Z",
     "iopub.status.busy": "2025-02-19T11:38:40.328602Z",
     "iopub.status.idle": "2025-02-19T11:38:40.335181Z",
     "shell.execute_reply": "2025-02-19T11:38:40.334232Z"
    },
    "papermill": {
     "duration": 0.020333,
     "end_time": "2025-02-19T11:38:40.336628",
     "exception": false,
     "start_time": "2025-02-19T11:38:40.316295",
     "status": "completed"
    },
    "tags": []
   },
   "outputs": [
    {
     "data": {
      "text/plain": [
       "780    0\n",
       "193    1\n",
       "2      1\n",
       "839    0\n",
       "798    0\n",
       "      ..\n",
       "835    0\n",
       "192    0\n",
       "629    0\n",
       "559    1\n",
       "684    0\n",
       "Name: Loan_Status, Length: 675, dtype: int64"
      ]
     },
     "execution_count": 27,
     "metadata": {},
     "output_type": "execute_result"
    }
   ],
   "source": [
    "y_train"
   ]
  },
  {
   "cell_type": "markdown",
   "id": "767d2a5b",
   "metadata": {
    "papermill": {
     "duration": 0.010785,
     "end_time": "2025-02-19T11:38:40.358559",
     "exception": false,
     "start_time": "2025-02-19T11:38:40.347774",
     "status": "completed"
    },
    "tags": []
   },
   "source": [
    "# Predictive Modeling\n",
    "Now for the model, we will use logistic regression first then we will use more advanced model like xgboost and random forest."
   ]
  },
  {
   "cell_type": "markdown",
   "id": "8a90dbfe",
   "metadata": {
    "papermill": {
     "duration": 0.011245,
     "end_time": "2025-02-19T11:38:40.380829",
     "exception": false,
     "start_time": "2025-02-19T11:38:40.369584",
     "status": "completed"
    },
    "tags": []
   },
   "source": [
    "## Logistic Regression Approach"
   ]
  },
  {
   "cell_type": "code",
   "execution_count": 28,
   "id": "86663d2f",
   "metadata": {
    "execution": {
     "iopub.execute_input": "2025-02-19T11:38:40.404010Z",
     "iopub.status.busy": "2025-02-19T11:38:40.403649Z",
     "iopub.status.idle": "2025-02-19T11:38:40.435899Z",
     "shell.execute_reply": "2025-02-19T11:38:40.434913Z"
    },
    "papermill": {
     "duration": 0.045752,
     "end_time": "2025-02-19T11:38:40.437558",
     "exception": false,
     "start_time": "2025-02-19T11:38:40.391806",
     "status": "completed"
    },
    "tags": []
   },
   "outputs": [
    {
     "data": {
      "text/html": [
       "<style>#sk-container-id-1 {color: black;background-color: white;}#sk-container-id-1 pre{padding: 0;}#sk-container-id-1 div.sk-toggleable {background-color: white;}#sk-container-id-1 label.sk-toggleable__label {cursor: pointer;display: block;width: 100%;margin-bottom: 0;padding: 0.3em;box-sizing: border-box;text-align: center;}#sk-container-id-1 label.sk-toggleable__label-arrow:before {content: \"▸\";float: left;margin-right: 0.25em;color: #696969;}#sk-container-id-1 label.sk-toggleable__label-arrow:hover:before {color: black;}#sk-container-id-1 div.sk-estimator:hover label.sk-toggleable__label-arrow:before {color: black;}#sk-container-id-1 div.sk-toggleable__content {max-height: 0;max-width: 0;overflow: hidden;text-align: left;background-color: #f0f8ff;}#sk-container-id-1 div.sk-toggleable__content pre {margin: 0.2em;color: black;border-radius: 0.25em;background-color: #f0f8ff;}#sk-container-id-1 input.sk-toggleable__control:checked~div.sk-toggleable__content {max-height: 200px;max-width: 100%;overflow: auto;}#sk-container-id-1 input.sk-toggleable__control:checked~label.sk-toggleable__label-arrow:before {content: \"▾\";}#sk-container-id-1 div.sk-estimator input.sk-toggleable__control:checked~label.sk-toggleable__label {background-color: #d4ebff;}#sk-container-id-1 div.sk-label input.sk-toggleable__control:checked~label.sk-toggleable__label {background-color: #d4ebff;}#sk-container-id-1 input.sk-hidden--visually {border: 0;clip: rect(1px 1px 1px 1px);clip: rect(1px, 1px, 1px, 1px);height: 1px;margin: -1px;overflow: hidden;padding: 0;position: absolute;width: 1px;}#sk-container-id-1 div.sk-estimator {font-family: monospace;background-color: #f0f8ff;border: 1px dotted black;border-radius: 0.25em;box-sizing: border-box;margin-bottom: 0.5em;}#sk-container-id-1 div.sk-estimator:hover {background-color: #d4ebff;}#sk-container-id-1 div.sk-parallel-item::after {content: \"\";width: 100%;border-bottom: 1px solid gray;flex-grow: 1;}#sk-container-id-1 div.sk-label:hover label.sk-toggleable__label {background-color: #d4ebff;}#sk-container-id-1 div.sk-serial::before {content: \"\";position: absolute;border-left: 1px solid gray;box-sizing: border-box;top: 0;bottom: 0;left: 50%;z-index: 0;}#sk-container-id-1 div.sk-serial {display: flex;flex-direction: column;align-items: center;background-color: white;padding-right: 0.2em;padding-left: 0.2em;position: relative;}#sk-container-id-1 div.sk-item {position: relative;z-index: 1;}#sk-container-id-1 div.sk-parallel {display: flex;align-items: stretch;justify-content: center;background-color: white;position: relative;}#sk-container-id-1 div.sk-item::before, #sk-container-id-1 div.sk-parallel-item::before {content: \"\";position: absolute;border-left: 1px solid gray;box-sizing: border-box;top: 0;bottom: 0;left: 50%;z-index: -1;}#sk-container-id-1 div.sk-parallel-item {display: flex;flex-direction: column;z-index: 1;position: relative;background-color: white;}#sk-container-id-1 div.sk-parallel-item:first-child::after {align-self: flex-end;width: 50%;}#sk-container-id-1 div.sk-parallel-item:last-child::after {align-self: flex-start;width: 50%;}#sk-container-id-1 div.sk-parallel-item:only-child::after {width: 0;}#sk-container-id-1 div.sk-dashed-wrapped {border: 1px dashed gray;margin: 0 0.4em 0.5em 0.4em;box-sizing: border-box;padding-bottom: 0.4em;background-color: white;}#sk-container-id-1 div.sk-label label {font-family: monospace;font-weight: bold;display: inline-block;line-height: 1.2em;}#sk-container-id-1 div.sk-label-container {text-align: center;}#sk-container-id-1 div.sk-container {/* jupyter's `normalize.less` sets `[hidden] { display: none; }` but bootstrap.min.css set `[hidden] { display: none !important; }` so we also need the `!important` here to be able to override the default hidden behavior on the sphinx rendered scikit-learn.org. See: https://github.com/scikit-learn/scikit-learn/issues/21755 */display: inline-block !important;position: relative;}#sk-container-id-1 div.sk-text-repr-fallback {display: none;}</style><div id=\"sk-container-id-1\" class=\"sk-top-container\"><div class=\"sk-text-repr-fallback\"><pre>LogisticRegression(random_state=0)</pre><b>In a Jupyter environment, please rerun this cell to show the HTML representation or trust the notebook. <br />On GitHub, the HTML representation is unable to render, please try loading this page with nbviewer.org.</b></div><div class=\"sk-container\" hidden><div class=\"sk-item\"><div class=\"sk-estimator sk-toggleable\"><input class=\"sk-toggleable__control sk-hidden--visually\" id=\"sk-estimator-id-1\" type=\"checkbox\" checked><label for=\"sk-estimator-id-1\" class=\"sk-toggleable__label sk-toggleable__label-arrow\">LogisticRegression</label><div class=\"sk-toggleable__content\"><pre>LogisticRegression(random_state=0)</pre></div></div></div></div></div>"
      ],
      "text/plain": [
       "LogisticRegression(random_state=0)"
      ]
     },
     "execution_count": 28,
     "metadata": {},
     "output_type": "execute_result"
    }
   ],
   "source": [
    "from sklearn.linear_model import LogisticRegression\n",
    "classifier = LogisticRegression(random_state=0)\n",
    "classifier.fit(X_train, y_train)"
   ]
  },
  {
   "cell_type": "markdown",
   "id": "299c46d6",
   "metadata": {
    "papermill": {
     "duration": 0.011012,
     "end_time": "2025-02-19T11:38:40.461843",
     "exception": false,
     "start_time": "2025-02-19T11:38:40.450831",
     "status": "completed"
    },
    "tags": []
   },
   "source": [
    "Now let's try predicting the X_test and save it to a variable named y_pred"
   ]
  },
  {
   "cell_type": "code",
   "execution_count": 29,
   "id": "7c1c05d4",
   "metadata": {
    "execution": {
     "iopub.execute_input": "2025-02-19T11:38:40.485755Z",
     "iopub.status.busy": "2025-02-19T11:38:40.485396Z",
     "iopub.status.idle": "2025-02-19T11:38:40.491856Z",
     "shell.execute_reply": "2025-02-19T11:38:40.490876Z"
    },
    "papermill": {
     "duration": 0.020335,
     "end_time": "2025-02-19T11:38:40.493493",
     "exception": false,
     "start_time": "2025-02-19T11:38:40.473158",
     "status": "completed"
    },
    "tags": []
   },
   "outputs": [
    {
     "data": {
      "text/plain": [
       "array([0, 1, 0, 1, 0, 1, 1, 1, 1, 1, 1, 1, 0, 1, 1, 1, 1, 1, 1, 1, 1, 1,\n",
       "       0, 1, 1, 1, 1, 1, 0, 1, 0, 1, 1, 1, 1, 1, 1, 0, 1, 1, 1, 1, 0, 1,\n",
       "       0, 1, 0, 1, 1, 1, 1, 0, 1, 1, 1, 1, 1, 1, 1, 1, 1, 0, 1, 1, 1, 1,\n",
       "       0, 1, 0, 1, 1, 0, 1, 1, 1, 0, 0, 1, 1, 0, 1, 1, 1, 1, 1, 1, 1, 1,\n",
       "       1, 1, 1, 1, 1, 1, 0, 1, 1, 1, 1, 0, 1, 1, 1, 1, 0, 1, 1, 1, 1, 1,\n",
       "       1, 1, 1, 1, 0, 0, 0, 1, 1, 1, 0, 1, 1, 1, 1, 0, 0, 1, 1, 1, 1, 1,\n",
       "       1, 0, 1, 0, 1, 1, 1, 1, 1, 1, 1, 0, 0, 1, 1, 0, 1, 1, 1, 1, 0, 0,\n",
       "       1, 0, 1, 1, 0, 0, 1, 1, 0, 1, 1, 1, 1, 1, 1])"
      ]
     },
     "execution_count": 29,
     "metadata": {},
     "output_type": "execute_result"
    }
   ],
   "source": [
    "y_pred = classifier.predict(X_test)\n",
    "y_pred"
   ]
  },
  {
   "cell_type": "markdown",
   "id": "e7660168",
   "metadata": {
    "papermill": {
     "duration": 0.011314,
     "end_time": "2025-02-19T11:38:40.516671",
     "exception": false,
     "start_time": "2025-02-19T11:38:40.505357",
     "status": "completed"
    },
    "tags": []
   },
   "source": [
    "Now we assess the performance of this model by using confusion matrix and accuracy score"
   ]
  },
  {
   "cell_type": "code",
   "execution_count": 30,
   "id": "64518b7b",
   "metadata": {
    "execution": {
     "iopub.execute_input": "2025-02-19T11:38:40.540974Z",
     "iopub.status.busy": "2025-02-19T11:38:40.540617Z",
     "iopub.status.idle": "2025-02-19T11:38:40.548531Z",
     "shell.execute_reply": "2025-02-19T11:38:40.547624Z"
    },
    "papermill": {
     "duration": 0.02178,
     "end_time": "2025-02-19T11:38:40.550087",
     "exception": false,
     "start_time": "2025-02-19T11:38:40.528307",
     "status": "completed"
    },
    "tags": []
   },
   "outputs": [
    {
     "data": {
      "text/plain": [
       "array([[36, 50],\n",
       "       [ 3, 80]])"
      ]
     },
     "execution_count": 30,
     "metadata": {},
     "output_type": "execute_result"
    }
   ],
   "source": [
    "from sklearn.metrics import confusion_matrix, accuracy_score\n",
    "cm = confusion_matrix(y_test, y_pred)\n",
    "cm"
   ]
  },
  {
   "cell_type": "code",
   "execution_count": 31,
   "id": "b16e1f04",
   "metadata": {
    "execution": {
     "iopub.execute_input": "2025-02-19T11:38:40.575271Z",
     "iopub.status.busy": "2025-02-19T11:38:40.574881Z",
     "iopub.status.idle": "2025-02-19T11:38:40.581655Z",
     "shell.execute_reply": "2025-02-19T11:38:40.580693Z"
    },
    "papermill": {
     "duration": 0.021167,
     "end_time": "2025-02-19T11:38:40.583369",
     "exception": false,
     "start_time": "2025-02-19T11:38:40.562202",
     "status": "completed"
    },
    "tags": []
   },
   "outputs": [
    {
     "data": {
      "text/plain": [
       "0.6863905325443787"
      ]
     },
     "execution_count": 31,
     "metadata": {},
     "output_type": "execute_result"
    }
   ],
   "source": [
    "accuracy_score(y_test, y_pred)"
   ]
  },
  {
   "cell_type": "markdown",
   "id": "2b6b0f9e",
   "metadata": {
    "papermill": {
     "duration": 0.011872,
     "end_time": "2025-02-19T11:38:40.607519",
     "exception": false,
     "start_time": "2025-02-19T11:38:40.595647",
     "status": "completed"
    },
    "tags": []
   },
   "source": [
    "Let's visualize the confusion matrix"
   ]
  },
  {
   "cell_type": "code",
   "execution_count": 32,
   "id": "cbf9de39",
   "metadata": {
    "execution": {
     "iopub.execute_input": "2025-02-19T11:38:40.633231Z",
     "iopub.status.busy": "2025-02-19T11:38:40.632829Z",
     "iopub.status.idle": "2025-02-19T11:38:40.817351Z",
     "shell.execute_reply": "2025-02-19T11:38:40.816335Z"
    },
    "papermill": {
     "duration": 0.199504,
     "end_time": "2025-02-19T11:38:40.819290",
     "exception": false,
     "start_time": "2025-02-19T11:38:40.619786",
     "status": "completed"
    },
    "tags": []
   },
   "outputs": [
    {
     "data": {
      "image/png": "[encoded data removed]",
      "text/plain": [
       "<Figure size 800x600 with 1 Axes>"
      ]
     },
     "metadata": {},
     "output_type": "display_data"
    }
   ],
   "source": [
    "plt.figure(figsize=(8, 6))\n",
    "sns.heatmap(cm, annot=True, fmt='d', cmap='Reds', cbar=False)\n",
    "plt.xlabel('Predicted')\n",
    "plt.ylabel('Actual')\n",
    "plt.title('Confusion Matrix')\n",
    "plt.show()"
   ]
  },
  {
   "cell_type": "markdown",
   "id": "e45142c8",
   "metadata": {
    "papermill": {
     "duration": 0.011821,
     "end_time": "2025-02-19T11:38:40.845547",
     "exception": false,
     "start_time": "2025-02-19T11:38:40.833726",
     "status": "completed"
    },
    "tags": []
   },
   "source": [
    "The accuracy is quite bad for our data to use logistic regression, let's try with another model, more advanced one"
   ]
  },
  {
   "cell_type": "markdown",
   "id": "f09edcf0",
   "metadata": {
    "papermill": {
     "duration": 0.011443,
     "end_time": "2025-02-19T11:38:40.868895",
     "exception": false,
     "start_time": "2025-02-19T11:38:40.857452",
     "status": "completed"
    },
    "tags": []
   },
   "source": [
    "## Random Forest Approach"
   ]
  },
  {
   "cell_type": "code",
   "execution_count": null,
   "id": "aa3b1c93",
   "metadata": {
    "papermill": {
     "duration": 0.011626,
     "end_time": "2025-02-19T11:38:40.892327",
     "exception": false,
     "start_time": "2025-02-19T11:38:40.880701",
     "status": "completed"
    },
    "tags": []
   },
   "outputs": [],
   "source": []
  },
  {
   "cell_type": "markdown",
   "id": "fa82a47b",
   "metadata": {
    "papermill": {
     "duration": 0.011552,
     "end_time": "2025-02-19T11:38:40.916073",
     "exception": false,
     "start_time": "2025-02-19T11:38:40.904521",
     "status": "completed"
    },
    "tags": []
   },
   "source": [
    "## XGBoost Approach"
   ]
  },
  {
   "cell_type": "code",
   "execution_count": null,
   "id": "49bb2046",
   "metadata": {
    "papermill": {
     "duration": 0.011598,
     "end_time": "2025-02-19T11:38:40.939336",
     "exception": false,
     "start_time": "2025-02-19T11:38:40.927738",
     "status": "completed"
    },
    "tags": []
   },
   "outputs": [],
   "source": []
  }
 ],
 "metadata": {
  "kaggle": {
   "accelerator": "none",
   "dataSources": [
    {
     "datasetId": 2637478,
     "sourceId": 4512631,
     "sourceType": "datasetVersion"
    }
   ],
   "dockerImageVersionId": 30886,
   "isGpuEnabled": false,
   "isInternetEnabled": true,
   "language": "python",
   "sourceType": "notebook"
  },
  "kernelspec": {
   "display_name": "Python 3",
   "language": "python",
   "name": "python3"
  },
  "language_info": {
   "codemirror_mode": {
    "name": "ipython",
    "version": 3
   },
   "file_extension": ".py",
   "mimetype": "text/x-python",
   "name": "python",
   "nbconvert_exporter": "python",
   "pygments_lexer": "ipython3",
   "version": "3.10.12"
  },
  "papermill": {
   "default_parameters": {},
   "duration": 10.799647,
   "end_time": "2025-02-19T11:38:41.872090",
   "environment_variables": {},
   "exception": null,
   "input_path": "__notebook__.ipynb",
   "output_path": "__notebook__.ipynb",
   "parameters": {},
   "start_time": "2025-02-19T11:38:31.072443",
   "version": "2.6.0"
  }
 },
 "nbformat": 4,
 "nbformat_minor": 5
}
