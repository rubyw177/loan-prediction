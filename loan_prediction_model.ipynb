{
 "cells": [
  {
   "cell_type": "markdown",
   "id": "56491957",
   "metadata": {
    "papermill": {
     "duration": 0.00187,
     "end_time": "2025-02-18T05:30:14.679419",
     "exception": false,
     "start_time": "2025-02-18T05:30:14.677549",
     "status": "completed"
    },
    "tags": []
   },
   "source": [
    "# Download the loan dataset"
   ]
  },
  {
   "cell_type": "code",
   "execution_count": 1,
   "id": "2deae028",
   "metadata": {
    "execution": {
     "iopub.execute_input": "2025-02-18T05:30:14.684684Z",
     "iopub.status.busy": "2025-02-18T05:30:14.684269Z",
     "iopub.status.idle": "2025-02-18T05:30:16.598668Z",
     "shell.execute_reply": "2025-02-18T05:30:16.597388Z"
    },
    "papermill": {
     "duration": 1.918764,
     "end_time": "2025-02-18T05:30:16.600265",
     "exception": false,
     "start_time": "2025-02-18T05:30:14.681501",
     "status": "completed"
    },
    "tags": []
   },
   "outputs": [
    {
     "name": "stdout",
     "output_type": "stream",
     "text": [
      "Path to dataset files: /kaggle/input/eligibility-prediction-for-loan\n"
     ]
    }
   ],
   "source": [
    "import kagglehub\n",
    "\n",
    "# Download latest version\n",
    "path = kagglehub.dataset_download(\"devzohaib/eligibility-prediction-for-loan\")\n",
    "\n",
    "print(\"Path to dataset files:\", path)"
   ]
  },
  {
   "cell_type": "code",
   "execution_count": null,
   "id": "1850fddf",
   "metadata": {
    "papermill": {
     "duration": 0.001159,
     "end_time": "2025-02-18T05:30:16.603161",
     "exception": false,
     "start_time": "2025-02-18T05:30:16.602002",
     "status": "completed"
    },
    "tags": []
   },
   "outputs": [],
   "source": []
  }
 ],
 "metadata": {
  "kaggle": {
   "accelerator": "none",
   "dataSources": [
    {
     "datasetId": 2637478,
     "sourceId": 4512631,
     "sourceType": "datasetVersion"
    }
   ],
   "dockerImageVersionId": 30886,
   "isGpuEnabled": false,
   "isInternetEnabled": true,
   "language": "python",
   "sourceType": "notebook"
  },
  "kernelspec": {
   "display_name": "Python 3",
   "language": "python",
   "name": "python3"
  },
  "language_info": {
   "codemirror_mode": {
    "name": "ipython",
    "version": 3
   },
   "file_extension": ".py",
   "mimetype": "text/x-python",
   "name": "python",
   "nbconvert_exporter": "python",
   "pygments_lexer": "ipython3",
   "version": "3.10.12"
  },
  "papermill": {
   "default_parameters": {},
   "duration": 5.128554,
   "end_time": "2025-02-18T05:30:17.326712",
   "environment_variables": {},
   "exception": null,
   "input_path": "__notebook__.ipynb",
   "output_path": "__notebook__.ipynb",
   "parameters": {},
   "start_time": "2025-02-18T05:30:12.198158",
   "version": "2.6.0"
  }
 },
 "nbformat": 4,
 "nbformat_minor": 5
}
