{
 "cells": [
  {
   "cell_type": "markdown",
   "id": "c2beab92",
   "metadata": {
    "papermill": {
     "duration": 0.012322,
     "end_time": "2025-02-19T13:56:46.159849",
     "exception": false,
     "start_time": "2025-02-19T13:56:46.147527",
     "status": "completed"
    },
    "tags": []
   },
   "source": [
    "# Download the loan dataset"
   ]
  },
  {
   "cell_type": "code",
   "execution_count": 1,
   "id": "70ee5c27",
   "metadata": {
    "execution": {
     "iopub.execute_input": "2025-02-19T13:56:46.186073Z",
     "iopub.status.busy": "2025-02-19T13:56:46.185597Z",
     "iopub.status.idle": "2025-02-19T13:56:48.383113Z",
     "shell.execute_reply": "2025-02-19T13:56:48.381708Z"
    },
    "papermill": {
     "duration": 2.212507,
     "end_time": "2025-02-19T13:56:48.385355",
     "exception": false,
     "start_time": "2025-02-19T13:56:46.172848",
     "status": "completed"
    },
    "tags": []
   },
   "outputs": [
    {
     "name": "stdout",
     "output_type": "stream",
     "text": [
      "Path to dataset files: /kaggle/input/eligibility-prediction-for-loan\n"
     ]
    }
   ],
   "source": [
    "import kagglehub\n",
    "\n",
    "# Download latest version\n",
    "path = kagglehub.dataset_download(\"devzohaib/eligibility-prediction-for-loan\")\n",
    "\n",
    "print(\"Path to dataset files:\", path)"
   ]
  },
  {
   "cell_type": "markdown",
   "id": "758a87b8",
   "metadata": {
    "papermill": {
     "duration": 0.011721,
     "end_time": "2025-02-19T13:56:48.411077",
     "exception": false,
     "start_time": "2025-02-19T13:56:48.399356",
     "status": "completed"
    },
    "tags": []
   },
   "source": [
    "Import LIbraries"
   ]
  },
  {
   "cell_type": "code",
   "execution_count": 2,
   "id": "0794fabc",
   "metadata": {
    "execution": {
     "iopub.execute_input": "2025-02-19T13:56:48.436755Z",
     "iopub.status.busy": "2025-02-19T13:56:48.436157Z",
     "iopub.status.idle": "2025-02-19T13:56:51.223414Z",
     "shell.execute_reply": "2025-02-19T13:56:51.222113Z"
    },
    "papermill": {
     "duration": 2.8028,
     "end_time": "2025-02-19T13:56:51.225564",
     "exception": false,
     "start_time": "2025-02-19T13:56:48.422764",
     "status": "completed"
    },
    "tags": []
   },
   "outputs": [],
   "source": [
    "import pandas as pd\n",
    "import numpy as np\n",
    "import seaborn as sns\n",
    "import matplotlib.pyplot as plt"
   ]
  },
  {
   "cell_type": "markdown",
   "id": "854fc2c3",
   "metadata": {
    "papermill": {
     "duration": 0.012795,
     "end_time": "2025-02-19T13:56:51.251175",
     "exception": false,
     "start_time": "2025-02-19T13:56:51.238380",
     "status": "completed"
    },
    "tags": []
   },
   "source": [
    "# Data preprocessing\n",
    "in this section the data will be cleaned, encoded, and preprocessed"
   ]
  },
  {
   "cell_type": "code",
   "execution_count": 3,
   "id": "22a9abad",
   "metadata": {
    "execution": {
     "iopub.execute_input": "2025-02-19T13:56:51.276355Z",
     "iopub.status.busy": "2025-02-19T13:56:51.275626Z",
     "iopub.status.idle": "2025-02-19T13:56:51.301600Z",
     "shell.execute_reply": "2025-02-19T13:56:51.300420Z"
    },
    "papermill": {
     "duration": 0.041019,
     "end_time": "2025-02-19T13:56:51.303934",
     "exception": false,
     "start_time": "2025-02-19T13:56:51.262915",
     "status": "completed"
    },
    "tags": []
   },
   "outputs": [],
   "source": [
    "df = pd.read_csv(\"/kaggle/input/eligibility-prediction-for-loan/Loan_Data.csv\")"
   ]
  },
  {
   "cell_type": "code",
   "execution_count": 4,
   "id": "40f79894",
   "metadata": {
    "execution": {
     "iopub.execute_input": "2025-02-19T13:56:51.329984Z",
     "iopub.status.busy": "2025-02-19T13:56:51.329545Z",
     "iopub.status.idle": "2025-02-19T13:56:51.375413Z",
     "shell.execute_reply": "2025-02-19T13:56:51.374045Z"
    },
    "papermill": {
     "duration": 0.061751,
     "end_time": "2025-02-19T13:56:51.377634",
     "exception": false,
     "start_time": "2025-02-19T13:56:51.315883",
     "status": "completed"
    },
    "tags": []
   },
   "outputs": [
    {
     "name": "stderr",
     "output_type": "stream",
     "text": [
      "/usr/local/lib/python3.10/dist-packages/pandas/io/formats/format.py:1458: RuntimeWarning: invalid value encountered in greater\n",
      "  has_large_values = (abs_vals > 1e6).any()\n",
      "/usr/local/lib/python3.10/dist-packages/pandas/io/formats/format.py:1459: RuntimeWarning: invalid value encountered in less\n",
      "  has_small_values = ((abs_vals < 10 ** (-self.digits)) & (abs_vals > 0)).any()\n",
      "/usr/local/lib/python3.10/dist-packages/pandas/io/formats/format.py:1459: RuntimeWarning: invalid value encountered in greater\n",
      "  has_small_values = ((abs_vals < 10 ** (-self.digits)) & (abs_vals > 0)).any()\n"
     ]
    },
    {
     "data": {
      "text/html": [
       "<div>\n",
       "<style scoped>\n",
       "    .dataframe tbody tr th:only-of-type {\n",
       "        vertical-align: middle;\n",
       "    }\n",
       "\n",
       "    .dataframe tbody tr th {\n",
       "        vertical-align: top;\n",
       "    }\n",
       "\n",
       "    .dataframe thead th {\n",
       "        text-align: right;\n",
       "    }\n",
       "</style>\n",
       "<table border=\"1\" class=\"dataframe\">\n",
       "  <thead>\n",
       "    <tr style=\"text-align: right;\">\n",
       "      <th></th>\n",
       "      <th>Loan_ID</th>\n",
       "      <th>Gender</th>\n",
       "      <th>Married</th>\n",
       "      <th>Dependents</th>\n",
       "      <th>Education</th>\n",
       "      <th>Self_Employed</th>\n",
       "      <th>ApplicantIncome</th>\n",
       "      <th>CoapplicantIncome</th>\n",
       "      <th>LoanAmount</th>\n",
       "      <th>Loan_Amount_Term</th>\n",
       "      <th>Credit_History</th>\n",
       "      <th>Property_Area</th>\n",
       "      <th>Loan_Status</th>\n",
       "    </tr>\n",
       "  </thead>\n",
       "  <tbody>\n",
       "    <tr>\n",
       "      <th>0</th>\n",
       "      <td>LP001002</td>\n",
       "      <td>Male</td>\n",
       "      <td>No</td>\n",
       "      <td>0</td>\n",
       "      <td>Graduate</td>\n",
       "      <td>No</td>\n",
       "      <td>5849</td>\n",
       "      <td>0.0</td>\n",
       "      <td>NaN</td>\n",
       "      <td>360.0</td>\n",
       "      <td>1.0</td>\n",
       "      <td>Urban</td>\n",
       "      <td>Y</td>\n",
       "    </tr>\n",
       "    <tr>\n",
       "      <th>1</th>\n",
       "      <td>LP001003</td>\n",
       "      <td>Male</td>\n",
       "      <td>Yes</td>\n",
       "      <td>1</td>\n",
       "      <td>Graduate</td>\n",
       "      <td>No</td>\n",
       "      <td>4583</td>\n",
       "      <td>1508.0</td>\n",
       "      <td>128.0</td>\n",
       "      <td>360.0</td>\n",
       "      <td>1.0</td>\n",
       "      <td>Rural</td>\n",
       "      <td>N</td>\n",
       "    </tr>\n",
       "    <tr>\n",
       "      <th>2</th>\n",
       "      <td>LP001005</td>\n",
       "      <td>Male</td>\n",
       "      <td>Yes</td>\n",
       "      <td>0</td>\n",
       "      <td>Graduate</td>\n",
       "      <td>Yes</td>\n",
       "      <td>3000</td>\n",
       "      <td>0.0</td>\n",
       "      <td>66.0</td>\n",
       "      <td>360.0</td>\n",
       "      <td>1.0</td>\n",
       "      <td>Urban</td>\n",
       "      <td>Y</td>\n",
       "    </tr>\n",
       "    <tr>\n",
       "      <th>3</th>\n",
       "      <td>LP001006</td>\n",
       "      <td>Male</td>\n",
       "      <td>Yes</td>\n",
       "      <td>0</td>\n",
       "      <td>Not Graduate</td>\n",
       "      <td>No</td>\n",
       "      <td>2583</td>\n",
       "      <td>2358.0</td>\n",
       "      <td>120.0</td>\n",
       "      <td>360.0</td>\n",
       "      <td>1.0</td>\n",
       "      <td>Urban</td>\n",
       "      <td>Y</td>\n",
       "    </tr>\n",
       "    <tr>\n",
       "      <th>4</th>\n",
       "      <td>LP001008</td>\n",
       "      <td>Male</td>\n",
       "      <td>No</td>\n",
       "      <td>0</td>\n",
       "      <td>Graduate</td>\n",
       "      <td>No</td>\n",
       "      <td>6000</td>\n",
       "      <td>0.0</td>\n",
       "      <td>141.0</td>\n",
       "      <td>360.0</td>\n",
       "      <td>1.0</td>\n",
       "      <td>Urban</td>\n",
       "      <td>Y</td>\n",
       "    </tr>\n",
       "    <tr>\n",
       "      <th>...</th>\n",
       "      <td>...</td>\n",
       "      <td>...</td>\n",
       "      <td>...</td>\n",
       "      <td>...</td>\n",
       "      <td>...</td>\n",
       "      <td>...</td>\n",
       "      <td>...</td>\n",
       "      <td>...</td>\n",
       "      <td>...</td>\n",
       "      <td>...</td>\n",
       "      <td>...</td>\n",
       "      <td>...</td>\n",
       "      <td>...</td>\n",
       "    </tr>\n",
       "    <tr>\n",
       "      <th>609</th>\n",
       "      <td>LP002978</td>\n",
       "      <td>Female</td>\n",
       "      <td>No</td>\n",
       "      <td>0</td>\n",
       "      <td>Graduate</td>\n",
       "      <td>No</td>\n",
       "      <td>2900</td>\n",
       "      <td>0.0</td>\n",
       "      <td>71.0</td>\n",
       "      <td>360.0</td>\n",
       "      <td>1.0</td>\n",
       "      <td>Rural</td>\n",
       "      <td>Y</td>\n",
       "    </tr>\n",
       "    <tr>\n",
       "      <th>610</th>\n",
       "      <td>LP002979</td>\n",
       "      <td>Male</td>\n",
       "      <td>Yes</td>\n",
       "      <td>3+</td>\n",
       "      <td>Graduate</td>\n",
       "      <td>No</td>\n",
       "      <td>4106</td>\n",
       "      <td>0.0</td>\n",
       "      <td>40.0</td>\n",
       "      <td>180.0</td>\n",
       "      <td>1.0</td>\n",
       "      <td>Rural</td>\n",
       "      <td>Y</td>\n",
       "    </tr>\n",
       "    <tr>\n",
       "      <th>611</th>\n",
       "      <td>LP002983</td>\n",
       "      <td>Male</td>\n",
       "      <td>Yes</td>\n",
       "      <td>1</td>\n",
       "      <td>Graduate</td>\n",
       "      <td>No</td>\n",
       "      <td>8072</td>\n",
       "      <td>240.0</td>\n",
       "      <td>253.0</td>\n",
       "      <td>360.0</td>\n",
       "      <td>1.0</td>\n",
       "      <td>Urban</td>\n",
       "      <td>Y</td>\n",
       "    </tr>\n",
       "    <tr>\n",
       "      <th>612</th>\n",
       "      <td>LP002984</td>\n",
       "      <td>Male</td>\n",
       "      <td>Yes</td>\n",
       "      <td>2</td>\n",
       "      <td>Graduate</td>\n",
       "      <td>No</td>\n",
       "      <td>7583</td>\n",
       "      <td>0.0</td>\n",
       "      <td>187.0</td>\n",
       "      <td>360.0</td>\n",
       "      <td>1.0</td>\n",
       "      <td>Urban</td>\n",
       "      <td>Y</td>\n",
       "    </tr>\n",
       "    <tr>\n",
       "      <th>613</th>\n",
       "      <td>LP002990</td>\n",
       "      <td>Female</td>\n",
       "      <td>No</td>\n",
       "      <td>0</td>\n",
       "      <td>Graduate</td>\n",
       "      <td>Yes</td>\n",
       "      <td>4583</td>\n",
       "      <td>0.0</td>\n",
       "      <td>133.0</td>\n",
       "      <td>360.0</td>\n",
       "      <td>0.0</td>\n",
       "      <td>Semiurban</td>\n",
       "      <td>N</td>\n",
       "    </tr>\n",
       "  </tbody>\n",
       "</table>\n",
       "<p>614 rows × 13 columns</p>\n",
       "</div>"
      ],
      "text/plain": [
       "      Loan_ID  Gender Married Dependents     Education Self_Employed  \\\n",
       "0    LP001002    Male      No          0      Graduate            No   \n",
       "1    LP001003    Male     Yes          1      Graduate            No   \n",
       "2    LP001005    Male     Yes          0      Graduate           Yes   \n",
       "3    LP001006    Male     Yes          0  Not Graduate            No   \n",
       "4    LP001008    Male      No          0      Graduate            No   \n",
       "..        ...     ...     ...        ...           ...           ...   \n",
       "609  LP002978  Female      No          0      Graduate            No   \n",
       "610  LP002979    Male     Yes         3+      Graduate            No   \n",
       "611  LP002983    Male     Yes          1      Graduate            No   \n",
       "612  LP002984    Male     Yes          2      Graduate            No   \n",
       "613  LP002990  Female      No          0      Graduate           Yes   \n",
       "\n",
       "     ApplicantIncome  CoapplicantIncome  LoanAmount  Loan_Amount_Term  \\\n",
       "0               5849                0.0         NaN             360.0   \n",
       "1               4583             1508.0       128.0             360.0   \n",
       "2               3000                0.0        66.0             360.0   \n",
       "3               2583             2358.0       120.0             360.0   \n",
       "4               6000                0.0       141.0             360.0   \n",
       "..               ...                ...         ...               ...   \n",
       "609             2900                0.0        71.0             360.0   \n",
       "610             4106                0.0        40.0             180.0   \n",
       "611             8072              240.0       253.0             360.0   \n",
       "612             7583                0.0       187.0             360.0   \n",
       "613             4583                0.0       133.0             360.0   \n",
       "\n",
       "     Credit_History Property_Area Loan_Status  \n",
       "0               1.0         Urban           Y  \n",
       "1               1.0         Rural           N  \n",
       "2               1.0         Urban           Y  \n",
       "3               1.0         Urban           Y  \n",
       "4               1.0         Urban           Y  \n",
       "..              ...           ...         ...  \n",
       "609             1.0         Rural           Y  \n",
       "610             1.0         Rural           Y  \n",
       "611             1.0         Urban           Y  \n",
       "612             1.0         Urban           Y  \n",
       "613             0.0     Semiurban           N  \n",
       "\n",
       "[614 rows x 13 columns]"
      ]
     },
     "execution_count": 4,
     "metadata": {},
     "output_type": "execute_result"
    }
   ],
   "source": [
    "df"
   ]
  },
  {
   "cell_type": "code",
   "execution_count": 5,
   "id": "0fedea67",
   "metadata": {
    "execution": {
     "iopub.execute_input": "2025-02-19T13:56:51.403400Z",
     "iopub.status.busy": "2025-02-19T13:56:51.402971Z",
     "iopub.status.idle": "2025-02-19T13:56:51.430806Z",
     "shell.execute_reply": "2025-02-19T13:56:51.429447Z"
    },
    "papermill": {
     "duration": 0.043239,
     "end_time": "2025-02-19T13:56:51.433065",
     "exception": false,
     "start_time": "2025-02-19T13:56:51.389826",
     "status": "completed"
    },
    "tags": []
   },
   "outputs": [
    {
     "data": {
      "text/html": [
       "<div>\n",
       "<style scoped>\n",
       "    .dataframe tbody tr th:only-of-type {\n",
       "        vertical-align: middle;\n",
       "    }\n",
       "\n",
       "    .dataframe tbody tr th {\n",
       "        vertical-align: top;\n",
       "    }\n",
       "\n",
       "    .dataframe thead th {\n",
       "        text-align: right;\n",
       "    }\n",
       "</style>\n",
       "<table border=\"1\" class=\"dataframe\">\n",
       "  <thead>\n",
       "    <tr style=\"text-align: right;\">\n",
       "      <th></th>\n",
       "      <th>ApplicantIncome</th>\n",
       "      <th>CoapplicantIncome</th>\n",
       "      <th>LoanAmount</th>\n",
       "      <th>Loan_Amount_Term</th>\n",
       "      <th>Credit_History</th>\n",
       "    </tr>\n",
       "  </thead>\n",
       "  <tbody>\n",
       "    <tr>\n",
       "      <th>count</th>\n",
       "      <td>614.000000</td>\n",
       "      <td>614.000000</td>\n",
       "      <td>592.000000</td>\n",
       "      <td>600.00000</td>\n",
       "      <td>564.000000</td>\n",
       "    </tr>\n",
       "    <tr>\n",
       "      <th>mean</th>\n",
       "      <td>5403.459283</td>\n",
       "      <td>1621.245798</td>\n",
       "      <td>146.412162</td>\n",
       "      <td>342.00000</td>\n",
       "      <td>0.842199</td>\n",
       "    </tr>\n",
       "    <tr>\n",
       "      <th>std</th>\n",
       "      <td>6109.041673</td>\n",
       "      <td>2926.248369</td>\n",
       "      <td>85.587325</td>\n",
       "      <td>65.12041</td>\n",
       "      <td>0.364878</td>\n",
       "    </tr>\n",
       "    <tr>\n",
       "      <th>min</th>\n",
       "      <td>150.000000</td>\n",
       "      <td>0.000000</td>\n",
       "      <td>9.000000</td>\n",
       "      <td>12.00000</td>\n",
       "      <td>0.000000</td>\n",
       "    </tr>\n",
       "    <tr>\n",
       "      <th>25%</th>\n",
       "      <td>2877.500000</td>\n",
       "      <td>0.000000</td>\n",
       "      <td>100.000000</td>\n",
       "      <td>360.00000</td>\n",
       "      <td>1.000000</td>\n",
       "    </tr>\n",
       "    <tr>\n",
       "      <th>50%</th>\n",
       "      <td>3812.500000</td>\n",
       "      <td>1188.500000</td>\n",
       "      <td>128.000000</td>\n",
       "      <td>360.00000</td>\n",
       "      <td>1.000000</td>\n",
       "    </tr>\n",
       "    <tr>\n",
       "      <th>75%</th>\n",
       "      <td>5795.000000</td>\n",
       "      <td>2297.250000</td>\n",
       "      <td>168.000000</td>\n",
       "      <td>360.00000</td>\n",
       "      <td>1.000000</td>\n",
       "    </tr>\n",
       "    <tr>\n",
       "      <th>max</th>\n",
       "      <td>81000.000000</td>\n",
       "      <td>41667.000000</td>\n",
       "      <td>700.000000</td>\n",
       "      <td>480.00000</td>\n",
       "      <td>1.000000</td>\n",
       "    </tr>\n",
       "  </tbody>\n",
       "</table>\n",
       "</div>"
      ],
      "text/plain": [
       "       ApplicantIncome  CoapplicantIncome  LoanAmount  Loan_Amount_Term  \\\n",
       "count       614.000000         614.000000  592.000000         600.00000   \n",
       "mean       5403.459283        1621.245798  146.412162         342.00000   \n",
       "std        6109.041673        2926.248369   85.587325          65.12041   \n",
       "min         150.000000           0.000000    9.000000          12.00000   \n",
       "25%        2877.500000           0.000000  100.000000         360.00000   \n",
       "50%        3812.500000        1188.500000  128.000000         360.00000   \n",
       "75%        5795.000000        2297.250000  168.000000         360.00000   \n",
       "max       81000.000000       41667.000000  700.000000         480.00000   \n",
       "\n",
       "       Credit_History  \n",
       "count      564.000000  \n",
       "mean         0.842199  \n",
       "std          0.364878  \n",
       "min          0.000000  \n",
       "25%          1.000000  \n",
       "50%          1.000000  \n",
       "75%          1.000000  \n",
       "max          1.000000  "
      ]
     },
     "execution_count": 5,
     "metadata": {},
     "output_type": "execute_result"
    }
   ],
   "source": [
    "df.describe()"
   ]
  },
  {
   "cell_type": "code",
   "execution_count": 6,
   "id": "dd2b7eab",
   "metadata": {
    "execution": {
     "iopub.execute_input": "2025-02-19T13:56:51.461164Z",
     "iopub.status.busy": "2025-02-19T13:56:51.460686Z",
     "iopub.status.idle": "2025-02-19T13:56:51.486826Z",
     "shell.execute_reply": "2025-02-19T13:56:51.485335Z"
    },
    "papermill": {
     "duration": 0.042399,
     "end_time": "2025-02-19T13:56:51.488714",
     "exception": false,
     "start_time": "2025-02-19T13:56:51.446315",
     "status": "completed"
    },
    "tags": []
   },
   "outputs": [
    {
     "name": "stdout",
     "output_type": "stream",
     "text": [
      "<class 'pandas.core.frame.DataFrame'>\n",
      "RangeIndex: 614 entries, 0 to 613\n",
      "Data columns (total 13 columns):\n",
      " #   Column             Non-Null Count  Dtype  \n",
      "---  ------             --------------  -----  \n",
      " 0   Loan_ID            614 non-null    object \n",
      " 1   Gender             601 non-null    object \n",
      " 2   Married            611 non-null    object \n",
      " 3   Dependents         599 non-null    object \n",
      " 4   Education          614 non-null    object \n",
      " 5   Self_Employed      582 non-null    object \n",
      " 6   ApplicantIncome    614 non-null    int64  \n",
      " 7   CoapplicantIncome  614 non-null    float64\n",
      " 8   LoanAmount         592 non-null    float64\n",
      " 9   Loan_Amount_Term   600 non-null    float64\n",
      " 10  Credit_History     564 non-null    float64\n",
      " 11  Property_Area      614 non-null    object \n",
      " 12  Loan_Status        614 non-null    object \n",
      "dtypes: float64(4), int64(1), object(8)\n",
      "memory usage: 62.5+ KB\n"
     ]
    }
   ],
   "source": [
    "df.info()"
   ]
  },
  {
   "cell_type": "markdown",
   "id": "a0b09279",
   "metadata": {
    "papermill": {
     "duration": 0.011883,
     "end_time": "2025-02-19T13:56:51.513510",
     "exception": false,
     "start_time": "2025-02-19T13:56:51.501627",
     "status": "completed"
    },
    "tags": []
   },
   "source": [
    "it seems there are columns with missing values. Let's check how many missing values are there!"
   ]
  },
  {
   "cell_type": "code",
   "execution_count": 7,
   "id": "9a1cacac",
   "metadata": {
    "execution": {
     "iopub.execute_input": "2025-02-19T13:56:51.539696Z",
     "iopub.status.busy": "2025-02-19T13:56:51.539263Z",
     "iopub.status.idle": "2025-02-19T13:56:51.548321Z",
     "shell.execute_reply": "2025-02-19T13:56:51.547170Z"
    },
    "papermill": {
     "duration": 0.024458,
     "end_time": "2025-02-19T13:56:51.550202",
     "exception": false,
     "start_time": "2025-02-19T13:56:51.525744",
     "status": "completed"
    },
    "tags": []
   },
   "outputs": [
    {
     "data": {
      "text/plain": [
       "Loan_ID               0\n",
       "Gender               13\n",
       "Married               3\n",
       "Dependents           15\n",
       "Education             0\n",
       "Self_Employed        32\n",
       "ApplicantIncome       0\n",
       "CoapplicantIncome     0\n",
       "LoanAmount           22\n",
       "Loan_Amount_Term     14\n",
       "Credit_History       50\n",
       "Property_Area         0\n",
       "Loan_Status           0\n",
       "dtype: int64"
      ]
     },
     "execution_count": 7,
     "metadata": {},
     "output_type": "execute_result"
    }
   ],
   "source": [
    "df.isnull().sum()"
   ]
  },
  {
   "cell_type": "code",
   "execution_count": 8,
   "id": "5379281f",
   "metadata": {
    "execution": {
     "iopub.execute_input": "2025-02-19T13:56:51.577720Z",
     "iopub.status.busy": "2025-02-19T13:56:51.577267Z",
     "iopub.status.idle": "2025-02-19T13:56:51.587377Z",
     "shell.execute_reply": "2025-02-19T13:56:51.586282Z"
    },
    "papermill": {
     "duration": 0.025878,
     "end_time": "2025-02-19T13:56:51.589150",
     "exception": false,
     "start_time": "2025-02-19T13:56:51.563272",
     "status": "completed"
    },
    "tags": []
   },
   "outputs": [
    {
     "data": {
      "text/plain": [
       "Loan_ID              0.000000\n",
       "Gender               2.117264\n",
       "Married              0.488599\n",
       "Dependents           2.442997\n",
       "Education            0.000000\n",
       "Self_Employed        5.211726\n",
       "ApplicantIncome      0.000000\n",
       "CoapplicantIncome    0.000000\n",
       "LoanAmount           3.583062\n",
       "Loan_Amount_Term     2.280130\n",
       "Credit_History       8.143322\n",
       "Property_Area        0.000000\n",
       "Loan_Status          0.000000\n",
       "dtype: float64"
      ]
     },
     "execution_count": 8,
     "metadata": {},
     "output_type": "execute_result"
    }
   ],
   "source": [
    "missing_percentage = (df.isnull().sum() / len(df)) * 100\n",
    "missing_percentage"
   ]
  },
  {
   "cell_type": "code",
   "execution_count": 9,
   "id": "2e532424",
   "metadata": {
    "execution": {
     "iopub.execute_input": "2025-02-19T13:56:51.615796Z",
     "iopub.status.busy": "2025-02-19T13:56:51.615324Z",
     "iopub.status.idle": "2025-02-19T13:56:51.646739Z",
     "shell.execute_reply": "2025-02-19T13:56:51.645491Z"
    },
    "papermill": {
     "duration": 0.046933,
     "end_time": "2025-02-19T13:56:51.648751",
     "exception": false,
     "start_time": "2025-02-19T13:56:51.601818",
     "status": "completed"
    },
    "tags": []
   },
   "outputs": [
    {
     "name": "stdout",
     "output_type": "stream",
     "text": [
      "Loan_Status         N         Y\n",
      "Gender                         \n",
      "Female       0.330357  0.669643\n",
      "Male         0.306748  0.693252\n"
     ]
    }
   ],
   "source": [
    "gender_impact = df.groupby(\"Gender\")[\"Loan_Status\"].value_counts(normalize=True).unstack()\n",
    "print(gender_impact)"
   ]
  },
  {
   "cell_type": "code",
   "execution_count": 10,
   "id": "1f20e117",
   "metadata": {
    "execution": {
     "iopub.execute_input": "2025-02-19T13:56:51.676978Z",
     "iopub.status.busy": "2025-02-19T13:56:51.676515Z",
     "iopub.status.idle": "2025-02-19T13:56:51.690726Z",
     "shell.execute_reply": "2025-02-19T13:56:51.689383Z"
    },
    "papermill": {
     "duration": 0.029887,
     "end_time": "2025-02-19T13:56:51.692526",
     "exception": false,
     "start_time": "2025-02-19T13:56:51.662639",
     "status": "completed"
    },
    "tags": []
   },
   "outputs": [
    {
     "name": "stdout",
     "output_type": "stream",
     "text": [
      "Loan_Status         N         Y\n",
      "Married                        \n",
      "No           0.370892  0.629108\n",
      "Yes          0.283920  0.716080\n"
     ]
    }
   ],
   "source": [
    "married_impact = df.groupby(\"Married\")[\"Loan_Status\"].value_counts(normalize=True).unstack()\n",
    "print(married_impact)"
   ]
  },
  {
   "cell_type": "code",
   "execution_count": 11,
   "id": "ef7ac024",
   "metadata": {
    "execution": {
     "iopub.execute_input": "2025-02-19T13:56:51.719222Z",
     "iopub.status.busy": "2025-02-19T13:56:51.718740Z",
     "iopub.status.idle": "2025-02-19T13:56:51.732209Z",
     "shell.execute_reply": "2025-02-19T13:56:51.730994Z"
    },
    "papermill": {
     "duration": 0.028767,
     "end_time": "2025-02-19T13:56:51.734119",
     "exception": false,
     "start_time": "2025-02-19T13:56:51.705352",
     "status": "completed"
    },
    "tags": []
   },
   "outputs": [
    {
     "name": "stdout",
     "output_type": "stream",
     "text": [
      "Loan_Status          N         Y\n",
      "Education                       \n",
      "Graduate      0.291667  0.708333\n",
      "Not Graduate  0.388060  0.611940\n"
     ]
    }
   ],
   "source": [
    "edu_impact = df.groupby(\"Education\")[\"Loan_Status\"].value_counts(normalize=True).unstack()\n",
    "print(edu_impact)"
   ]
  },
  {
   "cell_type": "markdown",
   "id": "067ebfe6",
   "metadata": {
    "papermill": {
     "duration": 0.012809,
     "end_time": "2025-02-19T13:56:51.760342",
     "exception": false,
     "start_time": "2025-02-19T13:56:51.747533",
     "status": "completed"
    },
    "tags": []
   },
   "source": [
    "Since the approval rates for both genders are nearly the same, we won't need the Gender column"
   ]
  },
  {
   "cell_type": "markdown",
   "id": "6e7374de",
   "metadata": {
    "papermill": {
     "duration": 0.012196,
     "end_time": "2025-02-19T13:56:51.786165",
     "exception": false,
     "start_time": "2025-02-19T13:56:51.773969",
     "status": "completed"
    },
    "tags": []
   },
   "source": [
    "We also won't need loan_id column for the prediction, so it can be removed."
   ]
  },
  {
   "cell_type": "code",
   "execution_count": 12,
   "id": "1f7b057f",
   "metadata": {
    "execution": {
     "iopub.execute_input": "2025-02-19T13:56:51.813379Z",
     "iopub.status.busy": "2025-02-19T13:56:51.812875Z",
     "iopub.status.idle": "2025-02-19T13:56:51.834746Z",
     "shell.execute_reply": "2025-02-19T13:56:51.833504Z"
    },
    "papermill": {
     "duration": 0.037574,
     "end_time": "2025-02-19T13:56:51.836601",
     "exception": false,
     "start_time": "2025-02-19T13:56:51.799027",
     "status": "completed"
    },
    "tags": []
   },
   "outputs": [
    {
     "name": "stderr",
     "output_type": "stream",
     "text": [
      "/usr/local/lib/python3.10/dist-packages/pandas/io/formats/format.py:1458: RuntimeWarning: invalid value encountered in greater\n",
      "  has_large_values = (abs_vals > 1e6).any()\n",
      "/usr/local/lib/python3.10/dist-packages/pandas/io/formats/format.py:1459: RuntimeWarning: invalid value encountered in less\n",
      "  has_small_values = ((abs_vals < 10 ** (-self.digits)) & (abs_vals > 0)).any()\n",
      "/usr/local/lib/python3.10/dist-packages/pandas/io/formats/format.py:1459: RuntimeWarning: invalid value encountered in greater\n",
      "  has_small_values = ((abs_vals < 10 ** (-self.digits)) & (abs_vals > 0)).any()\n"
     ]
    },
    {
     "data": {
      "text/html": [
       "<div>\n",
       "<style scoped>\n",
       "    .dataframe tbody tr th:only-of-type {\n",
       "        vertical-align: middle;\n",
       "    }\n",
       "\n",
       "    .dataframe tbody tr th {\n",
       "        vertical-align: top;\n",
       "    }\n",
       "\n",
       "    .dataframe thead th {\n",
       "        text-align: right;\n",
       "    }\n",
       "</style>\n",
       "<table border=\"1\" class=\"dataframe\">\n",
       "  <thead>\n",
       "    <tr style=\"text-align: right;\">\n",
       "      <th></th>\n",
       "      <th>Married</th>\n",
       "      <th>Dependents</th>\n",
       "      <th>Education</th>\n",
       "      <th>Self_Employed</th>\n",
       "      <th>ApplicantIncome</th>\n",
       "      <th>CoapplicantIncome</th>\n",
       "      <th>LoanAmount</th>\n",
       "      <th>Loan_Amount_Term</th>\n",
       "      <th>Credit_History</th>\n",
       "      <th>Property_Area</th>\n",
       "      <th>Loan_Status</th>\n",
       "    </tr>\n",
       "  </thead>\n",
       "  <tbody>\n",
       "    <tr>\n",
       "      <th>0</th>\n",
       "      <td>No</td>\n",
       "      <td>0</td>\n",
       "      <td>Graduate</td>\n",
       "      <td>No</td>\n",
       "      <td>5849</td>\n",
       "      <td>0.0</td>\n",
       "      <td>NaN</td>\n",
       "      <td>360.0</td>\n",
       "      <td>1.0</td>\n",
       "      <td>Urban</td>\n",
       "      <td>Y</td>\n",
       "    </tr>\n",
       "    <tr>\n",
       "      <th>1</th>\n",
       "      <td>Yes</td>\n",
       "      <td>1</td>\n",
       "      <td>Graduate</td>\n",
       "      <td>No</td>\n",
       "      <td>4583</td>\n",
       "      <td>1508.0</td>\n",
       "      <td>128.0</td>\n",
       "      <td>360.0</td>\n",
       "      <td>1.0</td>\n",
       "      <td>Rural</td>\n",
       "      <td>N</td>\n",
       "    </tr>\n",
       "    <tr>\n",
       "      <th>2</th>\n",
       "      <td>Yes</td>\n",
       "      <td>0</td>\n",
       "      <td>Graduate</td>\n",
       "      <td>Yes</td>\n",
       "      <td>3000</td>\n",
       "      <td>0.0</td>\n",
       "      <td>66.0</td>\n",
       "      <td>360.0</td>\n",
       "      <td>1.0</td>\n",
       "      <td>Urban</td>\n",
       "      <td>Y</td>\n",
       "    </tr>\n",
       "    <tr>\n",
       "      <th>3</th>\n",
       "      <td>Yes</td>\n",
       "      <td>0</td>\n",
       "      <td>Not Graduate</td>\n",
       "      <td>No</td>\n",
       "      <td>2583</td>\n",
       "      <td>2358.0</td>\n",
       "      <td>120.0</td>\n",
       "      <td>360.0</td>\n",
       "      <td>1.0</td>\n",
       "      <td>Urban</td>\n",
       "      <td>Y</td>\n",
       "    </tr>\n",
       "    <tr>\n",
       "      <th>4</th>\n",
       "      <td>No</td>\n",
       "      <td>0</td>\n",
       "      <td>Graduate</td>\n",
       "      <td>No</td>\n",
       "      <td>6000</td>\n",
       "      <td>0.0</td>\n",
       "      <td>141.0</td>\n",
       "      <td>360.0</td>\n",
       "      <td>1.0</td>\n",
       "      <td>Urban</td>\n",
       "      <td>Y</td>\n",
       "    </tr>\n",
       "    <tr>\n",
       "      <th>...</th>\n",
       "      <td>...</td>\n",
       "      <td>...</td>\n",
       "      <td>...</td>\n",
       "      <td>...</td>\n",
       "      <td>...</td>\n",
       "      <td>...</td>\n",
       "      <td>...</td>\n",
       "      <td>...</td>\n",
       "      <td>...</td>\n",
       "      <td>...</td>\n",
       "      <td>...</td>\n",
       "    </tr>\n",
       "    <tr>\n",
       "      <th>609</th>\n",
       "      <td>No</td>\n",
       "      <td>0</td>\n",
       "      <td>Graduate</td>\n",
       "      <td>No</td>\n",
       "      <td>2900</td>\n",
       "      <td>0.0</td>\n",
       "      <td>71.0</td>\n",
       "      <td>360.0</td>\n",
       "      <td>1.0</td>\n",
       "      <td>Rural</td>\n",
       "      <td>Y</td>\n",
       "    </tr>\n",
       "    <tr>\n",
       "      <th>610</th>\n",
       "      <td>Yes</td>\n",
       "      <td>3+</td>\n",
       "      <td>Graduate</td>\n",
       "      <td>No</td>\n",
       "      <td>4106</td>\n",
       "      <td>0.0</td>\n",
       "      <td>40.0</td>\n",
       "      <td>180.0</td>\n",
       "      <td>1.0</td>\n",
       "      <td>Rural</td>\n",
       "      <td>Y</td>\n",
       "    </tr>\n",
       "    <tr>\n",
       "      <th>611</th>\n",
       "      <td>Yes</td>\n",
       "      <td>1</td>\n",
       "      <td>Graduate</td>\n",
       "      <td>No</td>\n",
       "      <td>8072</td>\n",
       "      <td>240.0</td>\n",
       "      <td>253.0</td>\n",
       "      <td>360.0</td>\n",
       "      <td>1.0</td>\n",
       "      <td>Urban</td>\n",
       "      <td>Y</td>\n",
       "    </tr>\n",
       "    <tr>\n",
       "      <th>612</th>\n",
       "      <td>Yes</td>\n",
       "      <td>2</td>\n",
       "      <td>Graduate</td>\n",
       "      <td>No</td>\n",
       "      <td>7583</td>\n",
       "      <td>0.0</td>\n",
       "      <td>187.0</td>\n",
       "      <td>360.0</td>\n",
       "      <td>1.0</td>\n",
       "      <td>Urban</td>\n",
       "      <td>Y</td>\n",
       "    </tr>\n",
       "    <tr>\n",
       "      <th>613</th>\n",
       "      <td>No</td>\n",
       "      <td>0</td>\n",
       "      <td>Graduate</td>\n",
       "      <td>Yes</td>\n",
       "      <td>4583</td>\n",
       "      <td>0.0</td>\n",
       "      <td>133.0</td>\n",
       "      <td>360.0</td>\n",
       "      <td>0.0</td>\n",
       "      <td>Semiurban</td>\n",
       "      <td>N</td>\n",
       "    </tr>\n",
       "  </tbody>\n",
       "</table>\n",
       "<p>614 rows × 11 columns</p>\n",
       "</div>"
      ],
      "text/plain": [
       "    Married Dependents     Education Self_Employed  ApplicantIncome  \\\n",
       "0        No          0      Graduate            No             5849   \n",
       "1       Yes          1      Graduate            No             4583   \n",
       "2       Yes          0      Graduate           Yes             3000   \n",
       "3       Yes          0  Not Graduate            No             2583   \n",
       "4        No          0      Graduate            No             6000   \n",
       "..      ...        ...           ...           ...              ...   \n",
       "609      No          0      Graduate            No             2900   \n",
       "610     Yes         3+      Graduate            No             4106   \n",
       "611     Yes          1      Graduate            No             8072   \n",
       "612     Yes          2      Graduate            No             7583   \n",
       "613      No          0      Graduate           Yes             4583   \n",
       "\n",
       "     CoapplicantIncome  LoanAmount  Loan_Amount_Term  Credit_History  \\\n",
       "0                  0.0         NaN             360.0             1.0   \n",
       "1               1508.0       128.0             360.0             1.0   \n",
       "2                  0.0        66.0             360.0             1.0   \n",
       "3               2358.0       120.0             360.0             1.0   \n",
       "4                  0.0       141.0             360.0             1.0   \n",
       "..                 ...         ...               ...             ...   \n",
       "609                0.0        71.0             360.0             1.0   \n",
       "610                0.0        40.0             180.0             1.0   \n",
       "611              240.0       253.0             360.0             1.0   \n",
       "612                0.0       187.0             360.0             1.0   \n",
       "613                0.0       133.0             360.0             0.0   \n",
       "\n",
       "    Property_Area Loan_Status  \n",
       "0           Urban           Y  \n",
       "1           Rural           N  \n",
       "2           Urban           Y  \n",
       "3           Urban           Y  \n",
       "4           Urban           Y  \n",
       "..            ...         ...  \n",
       "609         Rural           Y  \n",
       "610         Rural           Y  \n",
       "611         Urban           Y  \n",
       "612         Urban           Y  \n",
       "613     Semiurban           N  \n",
       "\n",
       "[614 rows x 11 columns]"
      ]
     },
     "execution_count": 12,
     "metadata": {},
     "output_type": "execute_result"
    }
   ],
   "source": [
    "df.drop(columns=[\"Loan_ID\", \"Gender\"], inplace=True)\n",
    "df"
   ]
  },
  {
   "cell_type": "markdown",
   "id": "c2e27284",
   "metadata": {
    "papermill": {
     "duration": 0.012939,
     "end_time": "2025-02-19T13:56:51.863499",
     "exception": false,
     "start_time": "2025-02-19T13:56:51.850560",
     "status": "completed"
    },
    "tags": []
   },
   "source": [
    "Now we need to encode columns with categorical data"
   ]
  },
  {
   "cell_type": "code",
   "execution_count": 13,
   "id": "e3cd6685",
   "metadata": {
    "execution": {
     "iopub.execute_input": "2025-02-19T13:56:51.891570Z",
     "iopub.status.busy": "2025-02-19T13:56:51.891133Z",
     "iopub.status.idle": "2025-02-19T13:56:51.906154Z",
     "shell.execute_reply": "2025-02-19T13:56:51.904777Z"
    },
    "papermill": {
     "duration": 0.031823,
     "end_time": "2025-02-19T13:56:51.908468",
     "exception": false,
     "start_time": "2025-02-19T13:56:51.876645",
     "status": "completed"
    },
    "tags": []
   },
   "outputs": [],
   "source": [
    "binary_mappings = {\n",
    "    \"Married\": {\"Yes\": 1, \"No\": 0},\n",
    "    \"Education\": {\"Graduate\": 1, \"Not Graduate\": 0},\n",
    "    \"Self_Employed\": {\"Yes\": 1, \"No\": 0},\n",
    "    \"Loan_Status\": {\"Y\": 1, \"N\": 0}\n",
    "}\n",
    "\n",
    "for col, mapping in binary_mappings.items():\n",
    "    df[col] = df[col].map(mapping)\n",
    "    \n",
    "df = pd.get_dummies(df, columns=[\"Property_Area\"], drop_first=True)"
   ]
  },
  {
   "cell_type": "code",
   "execution_count": 14,
   "id": "15b92f57",
   "metadata": {
    "execution": {
     "iopub.execute_input": "2025-02-19T13:56:51.938423Z",
     "iopub.status.busy": "2025-02-19T13:56:51.937957Z",
     "iopub.status.idle": "2025-02-19T13:56:51.952624Z",
     "shell.execute_reply": "2025-02-19T13:56:51.951178Z"
    },
    "papermill": {
     "duration": 0.032059,
     "end_time": "2025-02-19T13:56:51.954629",
     "exception": false,
     "start_time": "2025-02-19T13:56:51.922570",
     "status": "completed"
    },
    "tags": []
   },
   "outputs": [
    {
     "name": "stdout",
     "output_type": "stream",
     "text": [
      "<class 'pandas.core.frame.DataFrame'>\n",
      "RangeIndex: 614 entries, 0 to 613\n",
      "Data columns (total 12 columns):\n",
      " #   Column                   Non-Null Count  Dtype  \n",
      "---  ------                   --------------  -----  \n",
      " 0   Married                  611 non-null    float64\n",
      " 1   Dependents               599 non-null    object \n",
      " 2   Education                614 non-null    int64  \n",
      " 3   Self_Employed            582 non-null    float64\n",
      " 4   ApplicantIncome          614 non-null    int64  \n",
      " 5   CoapplicantIncome        614 non-null    float64\n",
      " 6   LoanAmount               592 non-null    float64\n",
      " 7   Loan_Amount_Term         600 non-null    float64\n",
      " 8   Credit_History           564 non-null    float64\n",
      " 9   Loan_Status              614 non-null    int64  \n",
      " 10  Property_Area_Semiurban  614 non-null    bool   \n",
      " 11  Property_Area_Urban      614 non-null    bool   \n",
      "dtypes: bool(2), float64(6), int64(3), object(1)\n",
      "memory usage: 49.3+ KB\n"
     ]
    }
   ],
   "source": [
    "df.info()"
   ]
  },
  {
   "cell_type": "markdown",
   "id": "3edf2cd4",
   "metadata": {
    "papermill": {
     "duration": 0.012903,
     "end_time": "2025-02-19T13:56:51.981552",
     "exception": false,
     "start_time": "2025-02-19T13:56:51.968649",
     "status": "completed"
    },
    "tags": []
   },
   "source": [
    "For crucial columns, such as loan amount and credit history, the row with missing values must be taken with care. We can use median to fill the missing loan amount and use \"most_frequent\" to fill the missing values in categorical columns and \"Dependents\" column"
   ]
  },
  {
   "cell_type": "code",
   "execution_count": 15,
   "id": "28af18eb",
   "metadata": {
    "execution": {
     "iopub.execute_input": "2025-02-19T13:56:52.012335Z",
     "iopub.status.busy": "2025-02-19T13:56:52.011851Z",
     "iopub.status.idle": "2025-02-19T13:56:52.584061Z",
     "shell.execute_reply": "2025-02-19T13:56:52.582671Z"
    },
    "papermill": {
     "duration": 0.590596,
     "end_time": "2025-02-19T13:56:52.586185",
     "exception": false,
     "start_time": "2025-02-19T13:56:51.995589",
     "status": "completed"
    },
    "tags": []
   },
   "outputs": [
    {
     "name": "stdout",
     "output_type": "stream",
     "text": [
      "<class 'pandas.core.frame.DataFrame'>\n",
      "RangeIndex: 614 entries, 0 to 613\n",
      "Data columns (total 12 columns):\n",
      " #   Column                   Non-Null Count  Dtype  \n",
      "---  ------                   --------------  -----  \n",
      " 0   Married                  614 non-null    int64  \n",
      " 1   Dependents               614 non-null    int64  \n",
      " 2   Education                614 non-null    int64  \n",
      " 3   Self_Employed            614 non-null    int64  \n",
      " 4   ApplicantIncome          614 non-null    int64  \n",
      " 5   CoapplicantIncome        614 non-null    float64\n",
      " 6   LoanAmount               614 non-null    float64\n",
      " 7   Loan_Amount_Term         614 non-null    float64\n",
      " 8   Credit_History           614 non-null    int64  \n",
      " 9   Loan_Status              614 non-null    int64  \n",
      " 10  Property_Area_Semiurban  614 non-null    int64  \n",
      " 11  Property_Area_Urban      614 non-null    bool   \n",
      "dtypes: bool(1), float64(3), int64(8)\n",
      "memory usage: 53.5 KB\n"
     ]
    }
   ],
   "source": [
    "from sklearn.impute import SimpleImputer\n",
    "\n",
    "# Fill numerical missing values\n",
    "imputer = SimpleImputer(missing_values=np.nan, strategy='median')\n",
    "num_cols = [\"LoanAmount\", \"Loan_Amount_Term\"]\n",
    "df[num_cols] = imputer.fit_transform(df[num_cols])\n",
    "\n",
    "imputer = SimpleImputer(missing_values=np.nan, strategy='most_frequent')\n",
    "cat_cols = [\"Dependents\", \"Self_Employed\", \"Married\", \"Credit_History\"]\n",
    "df[cat_cols] = imputer.fit_transform(df[cat_cols])\n",
    "\n",
    "# change types to int\n",
    "df[\"Dependents\"] = df[\"Dependents\"].replace({\"3+\": 3}).astype(int)\n",
    "df[\"Property_Area_Semiurban\"] = df[\"Property_Area_Semiurban\"].astype(int)\n",
    "df[\"Credit_History\"] = df[\"Credit_History\"].astype(int)\n",
    "df[\"Self_Employed\"] = df[\"Self_Employed\"].astype(int)\n",
    "df[\"Married\"] = df[\"Married\"].astype(int)\n",
    "\n",
    "df.info()"
   ]
  },
  {
   "cell_type": "code",
   "execution_count": 16,
   "id": "ad1879f2",
   "metadata": {
    "execution": {
     "iopub.execute_input": "2025-02-19T13:56:52.616295Z",
     "iopub.status.busy": "2025-02-19T13:56:52.615814Z",
     "iopub.status.idle": "2025-02-19T13:56:52.631052Z",
     "shell.execute_reply": "2025-02-19T13:56:52.629802Z"
    },
    "papermill": {
     "duration": 0.031958,
     "end_time": "2025-02-19T13:56:52.632876",
     "exception": false,
     "start_time": "2025-02-19T13:56:52.600918",
     "status": "completed"
    },
    "tags": []
   },
   "outputs": [
    {
     "data": {
      "text/html": [
       "<div>\n",
       "<style scoped>\n",
       "    .dataframe tbody tr th:only-of-type {\n",
       "        vertical-align: middle;\n",
       "    }\n",
       "\n",
       "    .dataframe tbody tr th {\n",
       "        vertical-align: top;\n",
       "    }\n",
       "\n",
       "    .dataframe thead th {\n",
       "        text-align: right;\n",
       "    }\n",
       "</style>\n",
       "<table border=\"1\" class=\"dataframe\">\n",
       "  <thead>\n",
       "    <tr style=\"text-align: right;\">\n",
       "      <th></th>\n",
       "      <th>Married</th>\n",
       "      <th>Dependents</th>\n",
       "      <th>Education</th>\n",
       "      <th>Self_Employed</th>\n",
       "      <th>ApplicantIncome</th>\n",
       "      <th>CoapplicantIncome</th>\n",
       "      <th>LoanAmount</th>\n",
       "      <th>Loan_Amount_Term</th>\n",
       "      <th>Credit_History</th>\n",
       "      <th>Loan_Status</th>\n",
       "      <th>Property_Area_Semiurban</th>\n",
       "      <th>Property_Area_Urban</th>\n",
       "    </tr>\n",
       "  </thead>\n",
       "  <tbody>\n",
       "    <tr>\n",
       "      <th>0</th>\n",
       "      <td>0</td>\n",
       "      <td>0</td>\n",
       "      <td>1</td>\n",
       "      <td>0</td>\n",
       "      <td>5849</td>\n",
       "      <td>0.0</td>\n",
       "      <td>128.0</td>\n",
       "      <td>360.0</td>\n",
       "      <td>1</td>\n",
       "      <td>1</td>\n",
       "      <td>0</td>\n",
       "      <td>True</td>\n",
       "    </tr>\n",
       "    <tr>\n",
       "      <th>1</th>\n",
       "      <td>1</td>\n",
       "      <td>1</td>\n",
       "      <td>1</td>\n",
       "      <td>0</td>\n",
       "      <td>4583</td>\n",
       "      <td>1508.0</td>\n",
       "      <td>128.0</td>\n",
       "      <td>360.0</td>\n",
       "      <td>1</td>\n",
       "      <td>0</td>\n",
       "      <td>0</td>\n",
       "      <td>False</td>\n",
       "    </tr>\n",
       "    <tr>\n",
       "      <th>2</th>\n",
       "      <td>1</td>\n",
       "      <td>0</td>\n",
       "      <td>1</td>\n",
       "      <td>1</td>\n",
       "      <td>3000</td>\n",
       "      <td>0.0</td>\n",
       "      <td>66.0</td>\n",
       "      <td>360.0</td>\n",
       "      <td>1</td>\n",
       "      <td>1</td>\n",
       "      <td>0</td>\n",
       "      <td>True</td>\n",
       "    </tr>\n",
       "    <tr>\n",
       "      <th>3</th>\n",
       "      <td>1</td>\n",
       "      <td>0</td>\n",
       "      <td>0</td>\n",
       "      <td>0</td>\n",
       "      <td>2583</td>\n",
       "      <td>2358.0</td>\n",
       "      <td>120.0</td>\n",
       "      <td>360.0</td>\n",
       "      <td>1</td>\n",
       "      <td>1</td>\n",
       "      <td>0</td>\n",
       "      <td>True</td>\n",
       "    </tr>\n",
       "    <tr>\n",
       "      <th>4</th>\n",
       "      <td>0</td>\n",
       "      <td>0</td>\n",
       "      <td>1</td>\n",
       "      <td>0</td>\n",
       "      <td>6000</td>\n",
       "      <td>0.0</td>\n",
       "      <td>141.0</td>\n",
       "      <td>360.0</td>\n",
       "      <td>1</td>\n",
       "      <td>1</td>\n",
       "      <td>0</td>\n",
       "      <td>True</td>\n",
       "    </tr>\n",
       "  </tbody>\n",
       "</table>\n",
       "</div>"
      ],
      "text/plain": [
       "   Married  Dependents  Education  Self_Employed  ApplicantIncome  \\\n",
       "0        0           0          1              0             5849   \n",
       "1        1           1          1              0             4583   \n",
       "2        1           0          1              1             3000   \n",
       "3        1           0          0              0             2583   \n",
       "4        0           0          1              0             6000   \n",
       "\n",
       "   CoapplicantIncome  LoanAmount  Loan_Amount_Term  Credit_History  \\\n",
       "0                0.0       128.0             360.0               1   \n",
       "1             1508.0       128.0             360.0               1   \n",
       "2                0.0        66.0             360.0               1   \n",
       "3             2358.0       120.0             360.0               1   \n",
       "4                0.0       141.0             360.0               1   \n",
       "\n",
       "   Loan_Status  Property_Area_Semiurban  Property_Area_Urban  \n",
       "0            1                        0                 True  \n",
       "1            0                        0                False  \n",
       "2            1                        0                 True  \n",
       "3            1                        0                 True  \n",
       "4            1                        0                 True  "
      ]
     },
     "execution_count": 16,
     "metadata": {},
     "output_type": "execute_result"
    }
   ],
   "source": [
    "df.head()"
   ]
  },
  {
   "cell_type": "code",
   "execution_count": 17,
   "id": "fbdb9e97",
   "metadata": {
    "execution": {
     "iopub.execute_input": "2025-02-19T13:56:52.661299Z",
     "iopub.status.busy": "2025-02-19T13:56:52.660798Z",
     "iopub.status.idle": "2025-02-19T13:56:52.673048Z",
     "shell.execute_reply": "2025-02-19T13:56:52.671637Z"
    },
    "papermill": {
     "duration": 0.028164,
     "end_time": "2025-02-19T13:56:52.674716",
     "exception": false,
     "start_time": "2025-02-19T13:56:52.646552",
     "status": "completed"
    },
    "tags": []
   },
   "outputs": [
    {
     "name": "stdout",
     "output_type": "stream",
     "text": [
      "<class 'pandas.core.frame.DataFrame'>\n",
      "RangeIndex: 614 entries, 0 to 613\n",
      "Data columns (total 12 columns):\n",
      " #   Column                   Non-Null Count  Dtype  \n",
      "---  ------                   --------------  -----  \n",
      " 0   Married                  614 non-null    int64  \n",
      " 1   Dependents               614 non-null    int64  \n",
      " 2   Education                614 non-null    int64  \n",
      " 3   Self_Employed            614 non-null    int64  \n",
      " 4   ApplicantIncome          614 non-null    int64  \n",
      " 5   CoapplicantIncome        614 non-null    float64\n",
      " 6   LoanAmount               614 non-null    float64\n",
      " 7   Loan_Amount_Term         614 non-null    float64\n",
      " 8   Credit_History           614 non-null    int64  \n",
      " 9   Loan_Status              614 non-null    int64  \n",
      " 10  Property_Area_Semiurban  614 non-null    int64  \n",
      " 11  Property_Area_Urban      614 non-null    bool   \n",
      "dtypes: bool(1), float64(3), int64(8)\n",
      "memory usage: 53.5 KB\n"
     ]
    }
   ],
   "source": [
    "df.info()"
   ]
  },
  {
   "cell_type": "markdown",
   "id": "941e62e5",
   "metadata": {
    "papermill": {
     "duration": 0.012998,
     "end_time": "2025-02-19T13:56:52.701392",
     "exception": false,
     "start_time": "2025-02-19T13:56:52.688394",
     "status": "completed"
    },
    "tags": []
   },
   "source": [
    "Let's do some feature engineering by combining applicant income and co appilicant income into total income"
   ]
  },
  {
   "cell_type": "code",
   "execution_count": 18,
   "id": "ffda5bc4",
   "metadata": {
    "execution": {
     "iopub.execute_input": "2025-02-19T13:56:52.729956Z",
     "iopub.status.busy": "2025-02-19T13:56:52.729491Z",
     "iopub.status.idle": "2025-02-19T13:56:52.745301Z",
     "shell.execute_reply": "2025-02-19T13:56:52.743923Z"
    },
    "papermill": {
     "duration": 0.03214,
     "end_time": "2025-02-19T13:56:52.746995",
     "exception": false,
     "start_time": "2025-02-19T13:56:52.714855",
     "status": "completed"
    },
    "tags": []
   },
   "outputs": [
    {
     "name": "stdout",
     "output_type": "stream",
     "text": [
      "<class 'pandas.core.frame.DataFrame'>\n",
      "RangeIndex: 614 entries, 0 to 613\n",
      "Data columns (total 11 columns):\n",
      " #   Column                   Non-Null Count  Dtype  \n",
      "---  ------                   --------------  -----  \n",
      " 0   Married                  614 non-null    int64  \n",
      " 1   Dependents               614 non-null    int64  \n",
      " 2   Education                614 non-null    int64  \n",
      " 3   Self_Employed            614 non-null    int64  \n",
      " 4   LoanAmount               614 non-null    float64\n",
      " 5   Loan_Amount_Term         614 non-null    float64\n",
      " 6   Credit_History           614 non-null    int64  \n",
      " 7   Loan_Status              614 non-null    int64  \n",
      " 8   Property_Area_Semiurban  614 non-null    int64  \n",
      " 9   Property_Area_Urban      614 non-null    bool   \n",
      " 10  Total_Income             614 non-null    float64\n",
      "dtypes: bool(1), float64(3), int64(7)\n",
      "memory usage: 48.7 KB\n"
     ]
    }
   ],
   "source": [
    "df[\"Total_Income\"] = df[\"ApplicantIncome\"] + df[\"CoapplicantIncome\"]\n",
    "df.drop([\"ApplicantIncome\", \"CoapplicantIncome\"], axis=1, inplace=True)\n",
    "df.info()"
   ]
  },
  {
   "cell_type": "code",
   "execution_count": 19,
   "id": "3cf1bd05",
   "metadata": {
    "execution": {
     "iopub.execute_input": "2025-02-19T13:56:52.776209Z",
     "iopub.status.busy": "2025-02-19T13:56:52.775746Z",
     "iopub.status.idle": "2025-02-19T13:56:52.784970Z",
     "shell.execute_reply": "2025-02-19T13:56:52.783689Z"
    },
    "papermill": {
     "duration": 0.026069,
     "end_time": "2025-02-19T13:56:52.786934",
     "exception": false,
     "start_time": "2025-02-19T13:56:52.760865",
     "status": "completed"
    },
    "tags": []
   },
   "outputs": [
    {
     "data": {
      "text/plain": [
       "0      5849.0\n",
       "1      6091.0\n",
       "2      3000.0\n",
       "3      4941.0\n",
       "4      6000.0\n",
       "        ...  \n",
       "609    2900.0\n",
       "610    4106.0\n",
       "611    8312.0\n",
       "612    7583.0\n",
       "613    4583.0\n",
       "Name: Total_Income, Length: 614, dtype: float64"
      ]
     },
     "execution_count": 19,
     "metadata": {},
     "output_type": "execute_result"
    }
   ],
   "source": [
    "df[\"Total_Income\"]"
   ]
  },
  {
   "cell_type": "markdown",
   "id": "42102bbd",
   "metadata": {
    "papermill": {
     "duration": 0.013592,
     "end_time": "2025-02-19T13:56:52.814875",
     "exception": false,
     "start_time": "2025-02-19T13:56:52.801283",
     "status": "completed"
    },
    "tags": []
   },
   "source": [
    "Let's check the distribution of the labels"
   ]
  },
  {
   "cell_type": "code",
   "execution_count": 20,
   "id": "53a9fd6d",
   "metadata": {
    "execution": {
     "iopub.execute_input": "2025-02-19T13:56:52.845849Z",
     "iopub.status.busy": "2025-02-19T13:56:52.845446Z",
     "iopub.status.idle": "2025-02-19T13:56:52.855617Z",
     "shell.execute_reply": "2025-02-19T13:56:52.854460Z"
    },
    "papermill": {
     "duration": 0.028688,
     "end_time": "2025-02-19T13:56:52.857428",
     "exception": false,
     "start_time": "2025-02-19T13:56:52.828740",
     "status": "completed"
    },
    "tags": []
   },
   "outputs": [
    {
     "data": {
      "text/plain": [
       "Loan_Status\n",
       "1    422\n",
       "0    192\n",
       "Name: count, dtype: int64"
      ]
     },
     "execution_count": 20,
     "metadata": {},
     "output_type": "execute_result"
    }
   ],
   "source": [
    "df[\"Loan_Status\"].value_counts()"
   ]
  },
  {
   "cell_type": "markdown",
   "id": "1fe5b5f9",
   "metadata": {
    "papermill": {
     "duration": 0.013453,
     "end_time": "2025-02-19T13:56:52.885135",
     "exception": false,
     "start_time": "2025-02-19T13:56:52.871682",
     "status": "completed"
    },
    "tags": []
   },
   "source": [
    "it seems like we need to do oversampling for the minority class to fix class imbalance. We will use random oversampling instead of SMOTE to prevent introducing synthetic bias to the model (especially for loan problems). Before oversampling the minority class, we need to split extract independent variables and dependent variable from the dataframe"
   ]
  },
  {
   "cell_type": "code",
   "execution_count": 21,
   "id": "8ef2706a",
   "metadata": {
    "execution": {
     "iopub.execute_input": "2025-02-19T13:56:52.915251Z",
     "iopub.status.busy": "2025-02-19T13:56:52.914761Z",
     "iopub.status.idle": "2025-02-19T13:56:52.922170Z",
     "shell.execute_reply": "2025-02-19T13:56:52.921067Z"
    },
    "papermill": {
     "duration": 0.024891,
     "end_time": "2025-02-19T13:56:52.924184",
     "exception": false,
     "start_time": "2025-02-19T13:56:52.899293",
     "status": "completed"
    },
    "tags": []
   },
   "outputs": [],
   "source": [
    "features = [\"Married\", \"Dependents\", \"Education\", \"Credit_History\", \"Property_Area_Semiurban\",\"LoanAmount\", \"Loan_Amount_Term\",\n",
    "           \"Total_Income\", \"Property_Area_Urban\", \"Self_Employed\"]\n",
    "\n",
    "X = df[features]\n",
    "y = df[\"Loan_Status\"]"
   ]
  },
  {
   "cell_type": "code",
   "execution_count": 22,
   "id": "444ec9c9",
   "metadata": {
    "execution": {
     "iopub.execute_input": "2025-02-19T13:56:52.955190Z",
     "iopub.status.busy": "2025-02-19T13:56:52.954664Z",
     "iopub.status.idle": "2025-02-19T13:56:53.509462Z",
     "shell.execute_reply": "2025-02-19T13:56:53.508157Z"
    },
    "papermill": {
     "duration": 0.5729,
     "end_time": "2025-02-19T13:56:53.511389",
     "exception": false,
     "start_time": "2025-02-19T13:56:52.938489",
     "status": "completed"
    },
    "tags": []
   },
   "outputs": [
    {
     "data": {
      "text/plain": [
       "Loan_Status\n",
       "1    422\n",
       "0    422\n",
       "Name: count, dtype: int64"
      ]
     },
     "execution_count": 22,
     "metadata": {},
     "output_type": "execute_result"
    }
   ],
   "source": [
    "from imblearn.over_sampling import RandomOverSampler\n",
    "\n",
    "oversample = RandomOverSampler(sampling_strategy=\"auto\")\n",
    "X_resampled, y_resampled = oversample.fit_resample(X, y)\n",
    "\n",
    "y_resampled.value_counts()"
   ]
  },
  {
   "cell_type": "markdown",
   "id": "aed5ab48",
   "metadata": {
    "papermill": {
     "duration": 0.016811,
     "end_time": "2025-02-19T13:56:53.542950",
     "exception": false,
     "start_time": "2025-02-19T13:56:53.526139",
     "status": "completed"
    },
    "tags": []
   },
   "source": [
    "Let's also use SMOTE for reference"
   ]
  },
  {
   "cell_type": "code",
   "execution_count": 23,
   "id": "c5de7bf7",
   "metadata": {
    "execution": {
     "iopub.execute_input": "2025-02-19T13:56:53.580191Z",
     "iopub.status.busy": "2025-02-19T13:56:53.579431Z",
     "iopub.status.idle": "2025-02-19T13:56:53.599779Z",
     "shell.execute_reply": "2025-02-19T13:56:53.598426Z"
    },
    "papermill": {
     "duration": 0.038105,
     "end_time": "2025-02-19T13:56:53.601754",
     "exception": false,
     "start_time": "2025-02-19T13:56:53.563649",
     "status": "completed"
    },
    "tags": []
   },
   "outputs": [
    {
     "data": {
      "text/plain": [
       "Loan_Status\n",
       "1    422\n",
       "0    422\n",
       "Name: count, dtype: int64"
      ]
     },
     "execution_count": 23,
     "metadata": {},
     "output_type": "execute_result"
    }
   ],
   "source": [
    "from imblearn.over_sampling import SMOTE\n",
    "smote = SMOTE(random_state=0)\n",
    "X_resampled2, y_resampled2 = smote.fit_resample(X, y)\n",
    "\n",
    "y_resampled2.value_counts()"
   ]
  },
  {
   "cell_type": "markdown",
   "id": "4064889f",
   "metadata": {
    "papermill": {
     "duration": 0.014589,
     "end_time": "2025-02-19T13:56:53.718234",
     "exception": false,
     "start_time": "2025-02-19T13:56:53.703645",
     "status": "completed"
    },
    "tags": []
   },
   "source": [
    "we need to split the data for training and test, using the good ol' 80/20 split"
   ]
  },
  {
   "cell_type": "code",
   "execution_count": 24,
   "id": "ed8b9ea9",
   "metadata": {
    "execution": {
     "iopub.execute_input": "2025-02-19T13:56:53.766758Z",
     "iopub.status.busy": "2025-02-19T13:56:53.766362Z",
     "iopub.status.idle": "2025-02-19T13:56:53.777685Z",
     "shell.execute_reply": "2025-02-19T13:56:53.776503Z"
    },
    "papermill": {
     "duration": 0.041479,
     "end_time": "2025-02-19T13:56:53.779729",
     "exception": false,
     "start_time": "2025-02-19T13:56:53.738250",
     "status": "completed"
    },
    "tags": []
   },
   "outputs": [],
   "source": [
    "from sklearn.model_selection import train_test_split\n",
    "\n",
    "# Random Oversample\n",
    "X_train, X_test, y_train, y_test = train_test_split(X_resampled, y_resampled, test_size=0.15, random_state=0)\n",
    "\n",
    "# SMOTE data\n",
    "X_train2, X_test2, y_train2, y_test2 = train_test_split(X_resampled2, y_resampled2, test_size=0.15, random_state=0)"
   ]
  },
  {
   "cell_type": "code",
   "execution_count": 25,
   "id": "2865fb15",
   "metadata": {
    "execution": {
     "iopub.execute_input": "2025-02-19T13:56:53.823339Z",
     "iopub.status.busy": "2025-02-19T13:56:53.822805Z",
     "iopub.status.idle": "2025-02-19T13:56:53.844712Z",
     "shell.execute_reply": "2025-02-19T13:56:53.843303Z"
    },
    "papermill": {
     "duration": 0.046932,
     "end_time": "2025-02-19T13:56:53.847108",
     "exception": false,
     "start_time": "2025-02-19T13:56:53.800176",
     "status": "completed"
    },
    "tags": []
   },
   "outputs": [
    {
     "data": {
      "text/html": [
       "<div>\n",
       "<style scoped>\n",
       "    .dataframe tbody tr th:only-of-type {\n",
       "        vertical-align: middle;\n",
       "    }\n",
       "\n",
       "    .dataframe tbody tr th {\n",
       "        vertical-align: top;\n",
       "    }\n",
       "\n",
       "    .dataframe thead th {\n",
       "        text-align: right;\n",
       "    }\n",
       "</style>\n",
       "<table border=\"1\" class=\"dataframe\">\n",
       "  <thead>\n",
       "    <tr style=\"text-align: right;\">\n",
       "      <th></th>\n",
       "      <th>Married</th>\n",
       "      <th>Dependents</th>\n",
       "      <th>Education</th>\n",
       "      <th>Credit_History</th>\n",
       "      <th>Property_Area_Semiurban</th>\n",
       "      <th>LoanAmount</th>\n",
       "      <th>Loan_Amount_Term</th>\n",
       "      <th>Total_Income</th>\n",
       "      <th>Property_Area_Urban</th>\n",
       "      <th>Self_Employed</th>\n",
       "    </tr>\n",
       "  </thead>\n",
       "  <tbody>\n",
       "    <tr>\n",
       "      <th>311</th>\n",
       "      <td>0</td>\n",
       "      <td>0</td>\n",
       "      <td>0</td>\n",
       "      <td>1</td>\n",
       "      <td>1</td>\n",
       "      <td>111.0</td>\n",
       "      <td>360.0</td>\n",
       "      <td>5332.0</td>\n",
       "      <td>False</td>\n",
       "      <td>0</td>\n",
       "    </tr>\n",
       "    <tr>\n",
       "      <th>1</th>\n",
       "      <td>1</td>\n",
       "      <td>1</td>\n",
       "      <td>1</td>\n",
       "      <td>1</td>\n",
       "      <td>0</td>\n",
       "      <td>128.0</td>\n",
       "      <td>360.0</td>\n",
       "      <td>6091.0</td>\n",
       "      <td>False</td>\n",
       "      <td>0</td>\n",
       "    </tr>\n",
       "    <tr>\n",
       "      <th>823</th>\n",
       "      <td>0</td>\n",
       "      <td>0</td>\n",
       "      <td>0</td>\n",
       "      <td>0</td>\n",
       "      <td>0</td>\n",
       "      <td>102.0</td>\n",
       "      <td>480.0</td>\n",
       "      <td>3784.0</td>\n",
       "      <td>True</td>\n",
       "      <td>0</td>\n",
       "    </tr>\n",
       "    <tr>\n",
       "      <th>251</th>\n",
       "      <td>0</td>\n",
       "      <td>2</td>\n",
       "      <td>1</td>\n",
       "      <td>1</td>\n",
       "      <td>0</td>\n",
       "      <td>138.0</td>\n",
       "      <td>360.0</td>\n",
       "      <td>3427.0</td>\n",
       "      <td>True</td>\n",
       "      <td>0</td>\n",
       "    </tr>\n",
       "    <tr>\n",
       "      <th>504</th>\n",
       "      <td>1</td>\n",
       "      <td>0</td>\n",
       "      <td>0</td>\n",
       "      <td>1</td>\n",
       "      <td>1</td>\n",
       "      <td>124.0</td>\n",
       "      <td>300.0</td>\n",
       "      <td>5297.0</td>\n",
       "      <td>False</td>\n",
       "      <td>0</td>\n",
       "    </tr>\n",
       "    <tr>\n",
       "      <th>...</th>\n",
       "      <td>...</td>\n",
       "      <td>...</td>\n",
       "      <td>...</td>\n",
       "      <td>...</td>\n",
       "      <td>...</td>\n",
       "      <td>...</td>\n",
       "      <td>...</td>\n",
       "      <td>...</td>\n",
       "      <td>...</td>\n",
       "      <td>...</td>\n",
       "    </tr>\n",
       "    <tr>\n",
       "      <th>835</th>\n",
       "      <td>1</td>\n",
       "      <td>0</td>\n",
       "      <td>1</td>\n",
       "      <td>1</td>\n",
       "      <td>0</td>\n",
       "      <td>110.0</td>\n",
       "      <td>360.0</td>\n",
       "      <td>6784.0</td>\n",
       "      <td>True</td>\n",
       "      <td>0</td>\n",
       "    </tr>\n",
       "    <tr>\n",
       "      <th>192</th>\n",
       "      <td>1</td>\n",
       "      <td>0</td>\n",
       "      <td>0</td>\n",
       "      <td>1</td>\n",
       "      <td>0</td>\n",
       "      <td>160.0</td>\n",
       "      <td>360.0</td>\n",
       "      <td>6033.0</td>\n",
       "      <td>True</td>\n",
       "      <td>0</td>\n",
       "    </tr>\n",
       "    <tr>\n",
       "      <th>629</th>\n",
       "      <td>1</td>\n",
       "      <td>3</td>\n",
       "      <td>0</td>\n",
       "      <td>0</td>\n",
       "      <td>1</td>\n",
       "      <td>95.0</td>\n",
       "      <td>360.0</td>\n",
       "      <td>4755.0</td>\n",
       "      <td>False</td>\n",
       "      <td>0</td>\n",
       "    </tr>\n",
       "    <tr>\n",
       "      <th>559</th>\n",
       "      <td>1</td>\n",
       "      <td>0</td>\n",
       "      <td>1</td>\n",
       "      <td>1</td>\n",
       "      <td>1</td>\n",
       "      <td>182.0</td>\n",
       "      <td>360.0</td>\n",
       "      <td>6486.0</td>\n",
       "      <td>False</td>\n",
       "      <td>0</td>\n",
       "    </tr>\n",
       "    <tr>\n",
       "      <th>684</th>\n",
       "      <td>1</td>\n",
       "      <td>2</td>\n",
       "      <td>1</td>\n",
       "      <td>0</td>\n",
       "      <td>0</td>\n",
       "      <td>128.0</td>\n",
       "      <td>360.0</td>\n",
       "      <td>6633.0</td>\n",
       "      <td>False</td>\n",
       "      <td>1</td>\n",
       "    </tr>\n",
       "  </tbody>\n",
       "</table>\n",
       "<p>717 rows × 10 columns</p>\n",
       "</div>"
      ],
      "text/plain": [
       "     Married  Dependents  Education  Credit_History  Property_Area_Semiurban  \\\n",
       "311        0           0          0               1                        1   \n",
       "1          1           1          1               1                        0   \n",
       "823        0           0          0               0                        0   \n",
       "251        0           2          1               1                        0   \n",
       "504        1           0          0               1                        1   \n",
       "..       ...         ...        ...             ...                      ...   \n",
       "835        1           0          1               1                        0   \n",
       "192        1           0          0               1                        0   \n",
       "629        1           3          0               0                        1   \n",
       "559        1           0          1               1                        1   \n",
       "684        1           2          1               0                        0   \n",
       "\n",
       "     LoanAmount  Loan_Amount_Term  Total_Income  Property_Area_Urban  \\\n",
       "311       111.0             360.0        5332.0                False   \n",
       "1         128.0             360.0        6091.0                False   \n",
       "823       102.0             480.0        3784.0                 True   \n",
       "251       138.0             360.0        3427.0                 True   \n",
       "504       124.0             300.0        5297.0                False   \n",
       "..          ...               ...           ...                  ...   \n",
       "835       110.0             360.0        6784.0                 True   \n",
       "192       160.0             360.0        6033.0                 True   \n",
       "629        95.0             360.0        4755.0                False   \n",
       "559       182.0             360.0        6486.0                False   \n",
       "684       128.0             360.0        6633.0                False   \n",
       "\n",
       "     Self_Employed  \n",
       "311              0  \n",
       "1                0  \n",
       "823              0  \n",
       "251              0  \n",
       "504              0  \n",
       "..             ...  \n",
       "835              0  \n",
       "192              0  \n",
       "629              0  \n",
       "559              0  \n",
       "684              1  \n",
       "\n",
       "[717 rows x 10 columns]"
      ]
     },
     "execution_count": 25,
     "metadata": {},
     "output_type": "execute_result"
    }
   ],
   "source": [
    "X_train"
   ]
  },
  {
   "cell_type": "code",
   "execution_count": 26,
   "id": "52e29a8a",
   "metadata": {
    "execution": {
     "iopub.execute_input": "2025-02-19T13:56:53.882983Z",
     "iopub.status.busy": "2025-02-19T13:56:53.882518Z",
     "iopub.status.idle": "2025-02-19T13:56:53.890713Z",
     "shell.execute_reply": "2025-02-19T13:56:53.889537Z"
    },
    "papermill": {
     "duration": 0.0263,
     "end_time": "2025-02-19T13:56:53.892722",
     "exception": false,
     "start_time": "2025-02-19T13:56:53.866422",
     "status": "completed"
    },
    "tags": []
   },
   "outputs": [
    {
     "data": {
      "text/plain": [
       "311    1\n",
       "1      0\n",
       "823    0\n",
       "251    0\n",
       "504    1\n",
       "      ..\n",
       "835    0\n",
       "192    0\n",
       "629    0\n",
       "559    1\n",
       "684    0\n",
       "Name: Loan_Status, Length: 717, dtype: int64"
      ]
     },
     "execution_count": 26,
     "metadata": {},
     "output_type": "execute_result"
    }
   ],
   "source": [
    "y_train"
   ]
  },
  {
   "cell_type": "markdown",
   "id": "584fc7db",
   "metadata": {
    "papermill": {
     "duration": 0.01454,
     "end_time": "2025-02-19T13:56:53.931111",
     "exception": false,
     "start_time": "2025-02-19T13:56:53.916571",
     "status": "completed"
    },
    "tags": []
   },
   "source": [
    "Now let's scale the features"
   ]
  },
  {
   "cell_type": "code",
   "execution_count": 27,
   "id": "f801e940",
   "metadata": {
    "execution": {
     "iopub.execute_input": "2025-02-19T13:56:53.962191Z",
     "iopub.status.busy": "2025-02-19T13:56:53.961714Z",
     "iopub.status.idle": "2025-02-19T13:56:53.983856Z",
     "shell.execute_reply": "2025-02-19T13:56:53.982741Z"
    },
    "papermill": {
     "duration": 0.040505,
     "end_time": "2025-02-19T13:56:53.986188",
     "exception": false,
     "start_time": "2025-02-19T13:56:53.945683",
     "status": "completed"
    },
    "tags": []
   },
   "outputs": [],
   "source": [
    "from sklearn.preprocessing import StandardScaler\n",
    "scaler = StandardScaler()\n",
    "\n",
    "# Random Oversample\n",
    "X_train_scaled = scaler.fit_transform(X_train)\n",
    "X_test_scaled = scaler.transform(X_test)\n",
    "X_train_scaled = pd.DataFrame(X_train_scaled, columns=features)\n",
    "X_test_scaled = pd.DataFrame(X_test_scaled, columns=features)\n",
    "\n",
    "#SMOTE\n",
    "X_train_scaled2 = scaler.fit_transform(X_train2)\n",
    "X_test_scaled2 = scaler.transform(X_test2)\n",
    "X_train_scaled2 = pd.DataFrame(X_train_scaled2, columns=features)\n",
    "X_test_scaled2 = pd.DataFrame(X_test_scaled2, columns=features)"
   ]
  },
  {
   "cell_type": "markdown",
   "id": "de695108",
   "metadata": {
    "papermill": {
     "duration": 0.015679,
     "end_time": "2025-02-19T13:56:54.017533",
     "exception": false,
     "start_time": "2025-02-19T13:56:54.001854",
     "status": "completed"
    },
    "tags": []
   },
   "source": [
    "# Predictive Modeling\n",
    "Now for the model, we will use logistic regression first then we will use more advanced model like xgboost and random forest."
   ]
  },
  {
   "cell_type": "markdown",
   "id": "bfca51fa",
   "metadata": {
    "papermill": {
     "duration": 0.014884,
     "end_time": "2025-02-19T13:56:54.047419",
     "exception": false,
     "start_time": "2025-02-19T13:56:54.032535",
     "status": "completed"
    },
    "tags": []
   },
   "source": [
    "Let's make function for assessing model performance"
   ]
  },
  {
   "cell_type": "code",
   "execution_count": 28,
   "id": "ded66f59",
   "metadata": {
    "execution": {
     "iopub.execute_input": "2025-02-19T13:56:54.078504Z",
     "iopub.status.busy": "2025-02-19T13:56:54.078086Z",
     "iopub.status.idle": "2025-02-19T13:56:54.084558Z",
     "shell.execute_reply": "2025-02-19T13:56:54.083270Z"
    },
    "papermill": {
     "duration": 0.024248,
     "end_time": "2025-02-19T13:56:54.086463",
     "exception": false,
     "start_time": "2025-02-19T13:56:54.062215",
     "status": "completed"
    },
    "tags": []
   },
   "outputs": [],
   "source": [
    "from sklearn.metrics import confusion_matrix, accuracy_score\n",
    "\n",
    "def assess_model(y_test, y_train):\n",
    "    cm = confusion_matrix(y_test, y_pred)\n",
    "\n",
    "    # print accuracy\n",
    "    print(\"Model accuracy score:\", accuracy_score(y_test, y_pred))\n",
    "\n",
    "    # plot confusion matrix\n",
    "    plt.figure(figsize=(8, 6))\n",
    "    sns.heatmap(cm, annot=True, fmt='d', cmap='Greens', cbar=False)\n",
    "    plt.xlabel('Predicted')\n",
    "    plt.ylabel('Actual')\n",
    "    plt.title('Confusion Matrix')\n",
    "    plt.show()     "
   ]
  },
  {
   "cell_type": "markdown",
   "id": "8d817e8b",
   "metadata": {
    "papermill": {
     "duration": 0.015104,
     "end_time": "2025-02-19T13:56:54.116533",
     "exception": false,
     "start_time": "2025-02-19T13:56:54.101429",
     "status": "completed"
    },
    "tags": []
   },
   "source": [
    "## Logistic Regression Approach"
   ]
  },
  {
   "cell_type": "code",
   "execution_count": 29,
   "id": "61c1fad2",
   "metadata": {
    "execution": {
     "iopub.execute_input": "2025-02-19T13:56:54.147669Z",
     "iopub.status.busy": "2025-02-19T13:56:54.147259Z",
     "iopub.status.idle": "2025-02-19T13:56:54.190939Z",
     "shell.execute_reply": "2025-02-19T13:56:54.189716Z"
    },
    "papermill": {
     "duration": 0.061583,
     "end_time": "2025-02-19T13:56:54.192926",
     "exception": false,
     "start_time": "2025-02-19T13:56:54.131343",
     "status": "completed"
    },
    "tags": []
   },
   "outputs": [
    {
     "data": {
      "text/html": [
       "<style>#sk-container-id-1 {color: black;background-color: white;}#sk-container-id-1 pre{padding: 0;}#sk-container-id-1 div.sk-toggleable {background-color: white;}#sk-container-id-1 label.sk-toggleable__label {cursor: pointer;display: block;width: 100%;margin-bottom: 0;padding: 0.3em;box-sizing: border-box;text-align: center;}#sk-container-id-1 label.sk-toggleable__label-arrow:before {content: \"▸\";float: left;margin-right: 0.25em;color: #696969;}#sk-container-id-1 label.sk-toggleable__label-arrow:hover:before {color: black;}#sk-container-id-1 div.sk-estimator:hover label.sk-toggleable__label-arrow:before {color: black;}#sk-container-id-1 div.sk-toggleable__content {max-height: 0;max-width: 0;overflow: hidden;text-align: left;background-color: #f0f8ff;}#sk-container-id-1 div.sk-toggleable__content pre {margin: 0.2em;color: black;border-radius: 0.25em;background-color: #f0f8ff;}#sk-container-id-1 input.sk-toggleable__control:checked~div.sk-toggleable__content {max-height: 200px;max-width: 100%;overflow: auto;}#sk-container-id-1 input.sk-toggleable__control:checked~label.sk-toggleable__label-arrow:before {content: \"▾\";}#sk-container-id-1 div.sk-estimator input.sk-toggleable__control:checked~label.sk-toggleable__label {background-color: #d4ebff;}#sk-container-id-1 div.sk-label input.sk-toggleable__control:checked~label.sk-toggleable__label {background-color: #d4ebff;}#sk-container-id-1 input.sk-hidden--visually {border: 0;clip: rect(1px 1px 1px 1px);clip: rect(1px, 1px, 1px, 1px);height: 1px;margin: -1px;overflow: hidden;padding: 0;position: absolute;width: 1px;}#sk-container-id-1 div.sk-estimator {font-family: monospace;background-color: #f0f8ff;border: 1px dotted black;border-radius: 0.25em;box-sizing: border-box;margin-bottom: 0.5em;}#sk-container-id-1 div.sk-estimator:hover {background-color: #d4ebff;}#sk-container-id-1 div.sk-parallel-item::after {content: \"\";width: 100%;border-bottom: 1px solid gray;flex-grow: 1;}#sk-container-id-1 div.sk-label:hover label.sk-toggleable__label {background-color: #d4ebff;}#sk-container-id-1 div.sk-serial::before {content: \"\";position: absolute;border-left: 1px solid gray;box-sizing: border-box;top: 0;bottom: 0;left: 50%;z-index: 0;}#sk-container-id-1 div.sk-serial {display: flex;flex-direction: column;align-items: center;background-color: white;padding-right: 0.2em;padding-left: 0.2em;position: relative;}#sk-container-id-1 div.sk-item {position: relative;z-index: 1;}#sk-container-id-1 div.sk-parallel {display: flex;align-items: stretch;justify-content: center;background-color: white;position: relative;}#sk-container-id-1 div.sk-item::before, #sk-container-id-1 div.sk-parallel-item::before {content: \"\";position: absolute;border-left: 1px solid gray;box-sizing: border-box;top: 0;bottom: 0;left: 50%;z-index: -1;}#sk-container-id-1 div.sk-parallel-item {display: flex;flex-direction: column;z-index: 1;position: relative;background-color: white;}#sk-container-id-1 div.sk-parallel-item:first-child::after {align-self: flex-end;width: 50%;}#sk-container-id-1 div.sk-parallel-item:last-child::after {align-self: flex-start;width: 50%;}#sk-container-id-1 div.sk-parallel-item:only-child::after {width: 0;}#sk-container-id-1 div.sk-dashed-wrapped {border: 1px dashed gray;margin: 0 0.4em 0.5em 0.4em;box-sizing: border-box;padding-bottom: 0.4em;background-color: white;}#sk-container-id-1 div.sk-label label {font-family: monospace;font-weight: bold;display: inline-block;line-height: 1.2em;}#sk-container-id-1 div.sk-label-container {text-align: center;}#sk-container-id-1 div.sk-container {/* jupyter's `normalize.less` sets `[hidden] { display: none; }` but bootstrap.min.css set `[hidden] { display: none !important; }` so we also need the `!important` here to be able to override the default hidden behavior on the sphinx rendered scikit-learn.org. See: https://github.com/scikit-learn/scikit-learn/issues/21755 */display: inline-block !important;position: relative;}#sk-container-id-1 div.sk-text-repr-fallback {display: none;}</style><div id=\"sk-container-id-1\" class=\"sk-top-container\"><div class=\"sk-text-repr-fallback\"><pre>LogisticRegression(random_state=0)</pre><b>In a Jupyter environment, please rerun this cell to show the HTML representation or trust the notebook. <br />On GitHub, the HTML representation is unable to render, please try loading this page with nbviewer.org.</b></div><div class=\"sk-container\" hidden><div class=\"sk-item\"><div class=\"sk-estimator sk-toggleable\"><input class=\"sk-toggleable__control sk-hidden--visually\" id=\"sk-estimator-id-1\" type=\"checkbox\" checked><label for=\"sk-estimator-id-1\" class=\"sk-toggleable__label sk-toggleable__label-arrow\">LogisticRegression</label><div class=\"sk-toggleable__content\"><pre>LogisticRegression(random_state=0)</pre></div></div></div></div></div>"
      ],
      "text/plain": [
       "LogisticRegression(random_state=0)"
      ]
     },
     "execution_count": 29,
     "metadata": {},
     "output_type": "execute_result"
    }
   ],
   "source": [
    "from sklearn.linear_model import LogisticRegression\n",
    "classifier = LogisticRegression(random_state=0)\n",
    "classifier.fit(X_train_scaled, y_train)"
   ]
  },
  {
   "cell_type": "markdown",
   "id": "fa5a0907",
   "metadata": {
    "papermill": {
     "duration": 0.014824,
     "end_time": "2025-02-19T13:56:54.223877",
     "exception": false,
     "start_time": "2025-02-19T13:56:54.209053",
     "status": "completed"
    },
    "tags": []
   },
   "source": [
    "Now let's try predicting the X_test and save it to a variable named y_pred"
   ]
  },
  {
   "cell_type": "code",
   "execution_count": 30,
   "id": "1f696769",
   "metadata": {
    "execution": {
     "iopub.execute_input": "2025-02-19T13:56:54.257708Z",
     "iopub.status.busy": "2025-02-19T13:56:54.257113Z",
     "iopub.status.idle": "2025-02-19T13:56:54.269436Z",
     "shell.execute_reply": "2025-02-19T13:56:54.268231Z"
    },
    "papermill": {
     "duration": 0.032556,
     "end_time": "2025-02-19T13:56:54.271727",
     "exception": false,
     "start_time": "2025-02-19T13:56:54.239171",
     "status": "completed"
    },
    "tags": []
   },
   "outputs": [
    {
     "data": {
      "text/plain": [
       "array([0, 1, 1, 1, 0, 1, 1, 0, 0, 1, 1, 0, 1, 1, 1, 1, 1, 1, 1, 0, 1, 1,\n",
       "       1, 1, 1, 0, 1, 1, 1, 1, 0, 1, 1, 1, 1, 1, 1, 0, 1, 1, 1, 1, 0, 1,\n",
       "       0, 1, 1, 1, 1, 0, 1, 1, 1, 1, 1, 1, 1, 0, 1, 1, 1, 0, 1, 1, 1, 0,\n",
       "       1, 1, 0, 1, 1, 0, 1, 1, 1, 1, 0, 1, 1, 0, 1, 1, 1, 0, 1, 1, 1, 0,\n",
       "       1, 1, 1, 1, 1, 1, 0, 1, 1, 1, 1, 0, 1, 1, 1, 1, 0, 1, 1, 0, 1, 1,\n",
       "       1, 1, 1, 0, 0, 0, 0, 1, 1, 1, 1, 1, 0, 1, 1, 0, 0])"
      ]
     },
     "execution_count": 30,
     "metadata": {},
     "output_type": "execute_result"
    }
   ],
   "source": [
    "y_pred = classifier.predict(X_test_scaled)\n",
    "y_pred"
   ]
  },
  {
   "cell_type": "markdown",
   "id": "5145b0f0",
   "metadata": {
    "papermill": {
     "duration": 0.017371,
     "end_time": "2025-02-19T13:56:54.312365",
     "exception": false,
     "start_time": "2025-02-19T13:56:54.294994",
     "status": "completed"
    },
    "tags": []
   },
   "source": [
    "Now we assess the performance of this model by using confusion matrix and accuracy score"
   ]
  },
  {
   "cell_type": "code",
   "execution_count": 31,
   "id": "27a951f4",
   "metadata": {
    "execution": {
     "iopub.execute_input": "2025-02-19T13:56:54.344975Z",
     "iopub.status.busy": "2025-02-19T13:56:54.344367Z",
     "iopub.status.idle": "2025-02-19T13:56:54.575483Z",
     "shell.execute_reply": "2025-02-19T13:56:54.574047Z"
    },
    "papermill": {
     "duration": 0.249811,
     "end_time": "2025-02-19T13:56:54.577728",
     "exception": false,
     "start_time": "2025-02-19T13:56:54.327917",
     "status": "completed"
    },
    "tags": []
   },
   "outputs": [
    {
     "name": "stdout",
     "output_type": "stream",
     "text": [
      "Model accuracy score: 0.6377952755905512\n"
     ]
    },
    {
     "data": {
      "image/png": "[encoded data removed]",
      "text/plain": [
       "<Figure size 800x600 with 1 Axes>"
      ]
     },
     "metadata": {},
     "output_type": "display_data"
    }
   ],
   "source": [
    "assess_model(y_test, y_train)"
   ]
  },
  {
   "cell_type": "markdown",
   "id": "efb6a002",
   "metadata": {
    "papermill": {
     "duration": 0.015739,
     "end_time": "2025-02-19T13:56:54.610020",
     "exception": false,
     "start_time": "2025-02-19T13:56:54.594281",
     "status": "completed"
    },
    "tags": []
   },
   "source": [
    "The accuracy is quite bad for our data to use logistic regression, let's try with another model, more advanced one"
   ]
  },
  {
   "cell_type": "markdown",
   "id": "b2f1096b",
   "metadata": {
    "papermill": {
     "duration": 0.016039,
     "end_time": "2025-02-19T13:56:54.642792",
     "exception": false,
     "start_time": "2025-02-19T13:56:54.626753",
     "status": "completed"
    },
    "tags": []
   },
   "source": [
    "## Random Forest Approach"
   ]
  },
  {
   "cell_type": "code",
   "execution_count": 32,
   "id": "2c19a3f4",
   "metadata": {
    "execution": {
     "iopub.execute_input": "2025-02-19T13:56:54.677796Z",
     "iopub.status.busy": "2025-02-19T13:56:54.677355Z",
     "iopub.status.idle": "2025-02-19T13:56:55.308688Z",
     "shell.execute_reply": "2025-02-19T13:56:55.307153Z"
    },
    "papermill": {
     "duration": 0.650838,
     "end_time": "2025-02-19T13:56:55.310569",
     "exception": false,
     "start_time": "2025-02-19T13:56:54.659731",
     "status": "completed"
    },
    "tags": []
   },
   "outputs": [
    {
     "data": {
      "text/html": [
       "<style>#sk-container-id-2 {color: black;background-color: white;}#sk-container-id-2 pre{padding: 0;}#sk-container-id-2 div.sk-toggleable {background-color: white;}#sk-container-id-2 label.sk-toggleable__label {cursor: pointer;display: block;width: 100%;margin-bottom: 0;padding: 0.3em;box-sizing: border-box;text-align: center;}#sk-container-id-2 label.sk-toggleable__label-arrow:before {content: \"▸\";float: left;margin-right: 0.25em;color: #696969;}#sk-container-id-2 label.sk-toggleable__label-arrow:hover:before {color: black;}#sk-container-id-2 div.sk-estimator:hover label.sk-toggleable__label-arrow:before {color: black;}#sk-container-id-2 div.sk-toggleable__content {max-height: 0;max-width: 0;overflow: hidden;text-align: left;background-color: #f0f8ff;}#sk-container-id-2 div.sk-toggleable__content pre {margin: 0.2em;color: black;border-radius: 0.25em;background-color: #f0f8ff;}#sk-container-id-2 input.sk-toggleable__control:checked~div.sk-toggleable__content {max-height: 200px;max-width: 100%;overflow: auto;}#sk-container-id-2 input.sk-toggleable__control:checked~label.sk-toggleable__label-arrow:before {content: \"▾\";}#sk-container-id-2 div.sk-estimator input.sk-toggleable__control:checked~label.sk-toggleable__label {background-color: #d4ebff;}#sk-container-id-2 div.sk-label input.sk-toggleable__control:checked~label.sk-toggleable__label {background-color: #d4ebff;}#sk-container-id-2 input.sk-hidden--visually {border: 0;clip: rect(1px 1px 1px 1px);clip: rect(1px, 1px, 1px, 1px);height: 1px;margin: -1px;overflow: hidden;padding: 0;position: absolute;width: 1px;}#sk-container-id-2 div.sk-estimator {font-family: monospace;background-color: #f0f8ff;border: 1px dotted black;border-radius: 0.25em;box-sizing: border-box;margin-bottom: 0.5em;}#sk-container-id-2 div.sk-estimator:hover {background-color: #d4ebff;}#sk-container-id-2 div.sk-parallel-item::after {content: \"\";width: 100%;border-bottom: 1px solid gray;flex-grow: 1;}#sk-container-id-2 div.sk-label:hover label.sk-toggleable__label {background-color: #d4ebff;}#sk-container-id-2 div.sk-serial::before {content: \"\";position: absolute;border-left: 1px solid gray;box-sizing: border-box;top: 0;bottom: 0;left: 50%;z-index: 0;}#sk-container-id-2 div.sk-serial {display: flex;flex-direction: column;align-items: center;background-color: white;padding-right: 0.2em;padding-left: 0.2em;position: relative;}#sk-container-id-2 div.sk-item {position: relative;z-index: 1;}#sk-container-id-2 div.sk-parallel {display: flex;align-items: stretch;justify-content: center;background-color: white;position: relative;}#sk-container-id-2 div.sk-item::before, #sk-container-id-2 div.sk-parallel-item::before {content: \"\";position: absolute;border-left: 1px solid gray;box-sizing: border-box;top: 0;bottom: 0;left: 50%;z-index: -1;}#sk-container-id-2 div.sk-parallel-item {display: flex;flex-direction: column;z-index: 1;position: relative;background-color: white;}#sk-container-id-2 div.sk-parallel-item:first-child::after {align-self: flex-end;width: 50%;}#sk-container-id-2 div.sk-parallel-item:last-child::after {align-self: flex-start;width: 50%;}#sk-container-id-2 div.sk-parallel-item:only-child::after {width: 0;}#sk-container-id-2 div.sk-dashed-wrapped {border: 1px dashed gray;margin: 0 0.4em 0.5em 0.4em;box-sizing: border-box;padding-bottom: 0.4em;background-color: white;}#sk-container-id-2 div.sk-label label {font-family: monospace;font-weight: bold;display: inline-block;line-height: 1.2em;}#sk-container-id-2 div.sk-label-container {text-align: center;}#sk-container-id-2 div.sk-container {/* jupyter's `normalize.less` sets `[hidden] { display: none; }` but bootstrap.min.css set `[hidden] { display: none !important; }` so we also need the `!important` here to be able to override the default hidden behavior on the sphinx rendered scikit-learn.org. See: https://github.com/scikit-learn/scikit-learn/issues/21755 */display: inline-block !important;position: relative;}#sk-container-id-2 div.sk-text-repr-fallback {display: none;}</style><div id=\"sk-container-id-2\" class=\"sk-top-container\"><div class=\"sk-text-repr-fallback\"><pre>RandomForestClassifier(class_weight=&#x27;balanced&#x27;, n_estimators=300,\n",
       "                       random_state=0)</pre><b>In a Jupyter environment, please rerun this cell to show the HTML representation or trust the notebook. <br />On GitHub, the HTML representation is unable to render, please try loading this page with nbviewer.org.</b></div><div class=\"sk-container\" hidden><div class=\"sk-item\"><div class=\"sk-estimator sk-toggleable\"><input class=\"sk-toggleable__control sk-hidden--visually\" id=\"sk-estimator-id-2\" type=\"checkbox\" checked><label for=\"sk-estimator-id-2\" class=\"sk-toggleable__label sk-toggleable__label-arrow\">RandomForestClassifier</label><div class=\"sk-toggleable__content\"><pre>RandomForestClassifier(class_weight=&#x27;balanced&#x27;, n_estimators=300,\n",
       "                       random_state=0)</pre></div></div></div></div></div>"
      ],
      "text/plain": [
       "RandomForestClassifier(class_weight='balanced', n_estimators=300,\n",
       "                       random_state=0)"
      ]
     },
     "execution_count": 32,
     "metadata": {},
     "output_type": "execute_result"
    }
   ],
   "source": [
    "from sklearn.ensemble import RandomForestClassifier\n",
    "classifier = RandomForestClassifier(n_estimators = 300, max_depth=None, criterion = 'gini', random_state = 0, class_weight='balanced')\n",
    "classifier.fit(X_train_scaled, y_train)"
   ]
  },
  {
   "cell_type": "code",
   "execution_count": 33,
   "id": "ba3778ec",
   "metadata": {
    "execution": {
     "iopub.execute_input": "2025-02-19T13:56:55.344085Z",
     "iopub.status.busy": "2025-02-19T13:56:55.343650Z",
     "iopub.status.idle": "2025-02-19T13:56:55.372680Z",
     "shell.execute_reply": "2025-02-19T13:56:55.371518Z"
    },
    "papermill": {
     "duration": 0.048422,
     "end_time": "2025-02-19T13:56:55.375113",
     "exception": false,
     "start_time": "2025-02-19T13:56:55.326691",
     "status": "completed"
    },
    "tags": []
   },
   "outputs": [],
   "source": [
    "y_pred = classifier.predict(X_test_scaled)"
   ]
  },
  {
   "cell_type": "markdown",
   "id": "1cb23616",
   "metadata": {
    "papermill": {
     "duration": 0.016315,
     "end_time": "2025-02-19T13:56:55.407450",
     "exception": false,
     "start_time": "2025-02-19T13:56:55.391135",
     "status": "completed"
    },
    "tags": []
   },
   "source": [
    "Now let's assess its performance"
   ]
  },
  {
   "cell_type": "code",
   "execution_count": 34,
   "id": "22498663",
   "metadata": {
    "execution": {
     "iopub.execute_input": "2025-02-19T13:56:55.440676Z",
     "iopub.status.busy": "2025-02-19T13:56:55.440272Z",
     "iopub.status.idle": "2025-02-19T13:56:55.574608Z",
     "shell.execute_reply": "2025-02-19T13:56:55.573408Z"
    },
    "papermill": {
     "duration": 0.153044,
     "end_time": "2025-02-19T13:56:55.576436",
     "exception": false,
     "start_time": "2025-02-19T13:56:55.423392",
     "status": "completed"
    },
    "tags": []
   },
   "outputs": [
    {
     "name": "stdout",
     "output_type": "stream",
     "text": [
      "Model accuracy score: 0.8976377952755905\n"
     ]
    },
    {
     "data": {
      "image/png": "[encoded data removed]",
      "text/plain": [
       "<Figure size 800x600 with 1 Axes>"
      ]
     },
     "metadata": {},
     "output_type": "display_data"
    }
   ],
   "source": [
    "assess_model(y_test, y_train)"
   ]
  },
  {
   "cell_type": "markdown",
   "id": "5a78bdec",
   "metadata": {
    "papermill": {
     "duration": 0.016823,
     "end_time": "2025-02-19T13:56:55.610054",
     "exception": false,
     "start_time": "2025-02-19T13:56:55.593231",
     "status": "completed"
    },
    "tags": []
   },
   "source": [
    "How about trying to use SMOTE instead of random oversampling"
   ]
  },
  {
   "cell_type": "code",
   "execution_count": 35,
   "id": "242a34f2",
   "metadata": {
    "execution": {
     "iopub.execute_input": "2025-02-19T13:56:55.647471Z",
     "iopub.status.busy": "2025-02-19T13:56:55.647004Z",
     "iopub.status.idle": "2025-02-19T13:56:56.413502Z",
     "shell.execute_reply": "2025-02-19T13:56:56.412324Z"
    },
    "papermill": {
     "duration": 0.787016,
     "end_time": "2025-02-19T13:56:56.415216",
     "exception": false,
     "start_time": "2025-02-19T13:56:55.628200",
     "status": "completed"
    },
    "tags": []
   },
   "outputs": [
    {
     "name": "stdout",
     "output_type": "stream",
     "text": [
      "Model accuracy score: 0.8976377952755905\n"
     ]
    },
    {
     "data": {
      "image/png": "[encoded data removed]",
      "text/plain": [
       "<Figure size 800x600 with 1 Axes>"
      ]
     },
     "metadata": {},
     "output_type": "display_data"
    }
   ],
   "source": [
    "# retrain the model\n",
    "classifier.fit(X_train_scaled2, y_train2)\n",
    "\n",
    "# predict again\n",
    "y_pred_new = classifier.predict(X_test_scaled2)\n",
    "\n",
    "# assess model\n",
    "assess_model(y_test2, y_pred_new)"
   ]
  },
  {
   "cell_type": "markdown",
   "id": "85d29e70",
   "metadata": {
    "papermill": {
     "duration": 0.018623,
     "end_time": "2025-02-19T13:56:56.451169",
     "exception": false,
     "start_time": "2025-02-19T13:56:56.432546",
     "status": "completed"
    },
    "tags": []
   },
   "source": [
    "OK, the accuracy is quite good, let's try to optimize the model using gridsearch"
   ]
  },
  {
   "cell_type": "code",
   "execution_count": 36,
   "id": "14a6c617",
   "metadata": {
    "execution": {
     "iopub.execute_input": "2025-02-19T13:56:56.488969Z",
     "iopub.status.busy": "2025-02-19T13:56:56.488488Z",
     "iopub.status.idle": "2025-02-19T13:58:04.640897Z",
     "shell.execute_reply": "2025-02-19T13:58:04.639482Z"
    },
    "papermill": {
     "duration": 68.188653,
     "end_time": "2025-02-19T13:58:04.658466",
     "exception": false,
     "start_time": "2025-02-19T13:56:56.469813",
     "status": "completed"
    },
    "tags": []
   },
   "outputs": [
    {
     "name": "stdout",
     "output_type": "stream",
     "text": [
      "Fitting 5 folds for each of 72 candidates, totalling 360 fits\n",
      "Best Parameters: {'criterion': 'gini', 'max_depth': 30, 'min_samples_split': 2, 'n_estimators': 300}\n"
     ]
    }
   ],
   "source": [
    "from sklearn.model_selection import GridSearchCV\n",
    "\n",
    "param_grid = {\n",
    "    'n_estimators': [100, 200, 300],  # Number of trees\n",
    "    'max_depth': [10, 20, 30, None],  # Maximum depth of trees\n",
    "    'criterion': ['gini', 'entropy'],  \n",
    "    'min_samples_split': [2, 5, 10]\n",
    "}\n",
    "\n",
    "# initiate classifier\n",
    "rf = RandomForestClassifier(random_state=0)\n",
    "\n",
    "# perform Grid Search\n",
    "grid_search = GridSearchCV(\n",
    "    rf, \n",
    "    param_grid, \n",
    "    cv=5,  # 5-fold cross-validation\n",
    "    scoring='accuracy',\n",
    "    n_jobs=-1,  # Use all available processors\n",
    "    verbose=1  # Show progress\n",
    ")\n",
    "\n",
    "# train GridSearchCV on training data\n",
    "grid_search.fit(X_train_scaled, y_train)\n",
    "\n",
    "print(\"Best Parameters:\", grid_search.best_params_)"
   ]
  },
  {
   "cell_type": "code",
   "execution_count": 37,
   "id": "765e4c64",
   "metadata": {
    "execution": {
     "iopub.execute_input": "2025-02-19T13:58:04.694320Z",
     "iopub.status.busy": "2025-02-19T13:58:04.693812Z",
     "iopub.status.idle": "2025-02-19T13:58:05.481937Z",
     "shell.execute_reply": "2025-02-19T13:58:05.480690Z"
    },
    "papermill": {
     "duration": 0.80848,
     "end_time": "2025-02-19T13:58:05.483831",
     "exception": false,
     "start_time": "2025-02-19T13:58:04.675351",
     "status": "completed"
    },
    "tags": []
   },
   "outputs": [
    {
     "name": "stdout",
     "output_type": "stream",
     "text": [
      "Model accuracy score: 0.8976377952755905\n"
     ]
    },
    {
     "data": {
      "image/png": "[encoded data removed]",
      "text/plain": [
       "<Figure size 800x600 with 1 Axes>"
      ]
     },
     "metadata": {},
     "output_type": "display_data"
    }
   ],
   "source": [
    "# reinitiate classifier\n",
    "classifier = RandomForestClassifier(\n",
    "    n_estimators = 300, \n",
    "    max_depth=20, \n",
    "    criterion = 'gini', \n",
    "    random_state = 0, \n",
    "    min_samples_split = 2\n",
    ")\n",
    "\n",
    "# retrain the model\n",
    "classifier.fit(X_train_scaled, y_train)\n",
    "\n",
    "# predict again\n",
    "y_pred_new = classifier.predict(X_test_scaled)\n",
    "\n",
    "# assess model\n",
    "assess_model(y_test, y_pred_new)"
   ]
  },
  {
   "cell_type": "markdown",
   "id": "3cda59de",
   "metadata": {
    "papermill": {
     "duration": 0.017708,
     "end_time": "2025-02-19T13:58:05.518998",
     "exception": false,
     "start_time": "2025-02-19T13:58:05.501290",
     "status": "completed"
    },
    "tags": []
   },
   "source": [
    "## XGBoost Approach"
   ]
  },
  {
   "cell_type": "code",
   "execution_count": 38,
   "id": "c0e093c5",
   "metadata": {
    "execution": {
     "iopub.execute_input": "2025-02-19T13:58:05.555907Z",
     "iopub.status.busy": "2025-02-19T13:58:05.555417Z",
     "iopub.status.idle": "2025-02-19T13:58:06.073610Z",
     "shell.execute_reply": "2025-02-19T13:58:06.072613Z"
    },
    "papermill": {
     "duration": 0.539779,
     "end_time": "2025-02-19T13:58:06.076106",
     "exception": false,
     "start_time": "2025-02-19T13:58:05.536327",
     "status": "completed"
    },
    "tags": []
   },
   "outputs": [],
   "source": [
    "from xgboost import XGBClassifier\n",
    "\n",
    "classifier = XGBClassifier(n_estimators=300, max_depth=None, random_state=0)\n",
    "classifier.fit(X_train_scaled, y_train)\n",
    "\n",
    "y_pred = classifier.predict(X_test_scaled)"
   ]
  },
  {
   "cell_type": "code",
   "execution_count": 39,
   "id": "7cd62831",
   "metadata": {
    "execution": {
     "iopub.execute_input": "2025-02-19T13:58:06.114653Z",
     "iopub.status.busy": "2025-02-19T13:58:06.114211Z",
     "iopub.status.idle": "2025-02-19T13:58:06.242694Z",
     "shell.execute_reply": "2025-02-19T13:58:06.241360Z"
    },
    "papermill": {
     "duration": 0.148692,
     "end_time": "2025-02-19T13:58:06.244732",
     "exception": false,
     "start_time": "2025-02-19T13:58:06.096040",
     "status": "completed"
    },
    "tags": []
   },
   "outputs": [
    {
     "name": "stdout",
     "output_type": "stream",
     "text": [
      "Model accuracy score: 0.8582677165354331\n"
     ]
    },
    {
     "data": {
      "image/png": "[encoded data removed]",
      "text/plain": [
       "<Figure size 800x600 with 1 Axes>"
      ]
     },
     "metadata": {},
     "output_type": "display_data"
    }
   ],
   "source": [
    "assess_model(y_test, y_pred)"
   ]
  },
  {
   "cell_type": "code",
   "execution_count": 40,
   "id": "3f117205",
   "metadata": {
    "execution": {
     "iopub.execute_input": "2025-02-19T13:58:06.282743Z",
     "iopub.status.busy": "2025-02-19T13:58:06.282166Z",
     "iopub.status.idle": "2025-02-19T13:58:06.573176Z",
     "shell.execute_reply": "2025-02-19T13:58:06.571738Z"
    },
    "papermill": {
     "duration": 0.31187,
     "end_time": "2025-02-19T13:58:06.575143",
     "exception": false,
     "start_time": "2025-02-19T13:58:06.263273",
     "status": "completed"
    },
    "tags": []
   },
   "outputs": [
    {
     "name": "stdout",
     "output_type": "stream",
     "text": [
      "Model accuracy score: 0.8582677165354331\n"
     ]
    },
    {
     "data": {
      "image/png": "[encoded data removed]",
      "text/plain": [
       "<Figure size 800x600 with 1 Axes>"
      ]
     },
     "metadata": {},
     "output_type": "display_data"
    }
   ],
   "source": [
    "# retrain the model\n",
    "classifier.fit(X_train_scaled2, y_train2)\n",
    "\n",
    "# predict again\n",
    "y_pred_new = classifier.predict(X_test_scaled2)\n",
    "\n",
    "# assess model\n",
    "assess_model(y_test2, y_pred_new)"
   ]
  },
  {
   "cell_type": "markdown",
   "id": "98d7f99e",
   "metadata": {
    "papermill": {
     "duration": 0.018175,
     "end_time": "2025-02-19T13:58:06.614626",
     "exception": false,
     "start_time": "2025-02-19T13:58:06.596451",
     "status": "completed"
    },
    "tags": []
   },
   "source": [
    "Let's optimize using gridsearch"
   ]
  },
  {
   "cell_type": "code",
   "execution_count": 41,
   "id": "ed9f3c9e",
   "metadata": {
    "execution": {
     "iopub.execute_input": "2025-02-19T13:58:06.653181Z",
     "iopub.status.busy": "2025-02-19T13:58:06.652727Z",
     "iopub.status.idle": "2025-02-19T13:59:06.361507Z",
     "shell.execute_reply": "2025-02-19T13:59:06.357879Z"
    },
    "papermill": {
     "duration": 59.749347,
     "end_time": "2025-02-19T13:59:06.382165",
     "exception": false,
     "start_time": "2025-02-19T13:58:06.632818",
     "status": "completed"
    },
    "tags": []
   },
   "outputs": [
    {
     "name": "stdout",
     "output_type": "stream",
     "text": [
      "Fitting 5 folds for each of 243 candidates, totalling 1215 fits\n",
      "Best Parameters for XGBoost: {'colsample_bytree': 0.8, 'learning_rate': 0.1, 'max_depth': 9, 'n_estimators': 200, 'subsample': 0.8}\n",
      "Best Cross-Validation Accuracy: 0.8577797202797204\n"
     ]
    }
   ],
   "source": [
    "# define the parameter grid\n",
    "param_grid_xgb = {\n",
    "    'n_estimators': [100, 200, 300],  # Number of trees\n",
    "    'max_depth': [3, 6, 9],  # Maximum depth of trees\n",
    "    'learning_rate': [0.01, 0.05, 0.1],  # Step size shrinkage\n",
    "    'subsample': [0.7, 0.8, 1.0],  # Fraction of data to use per tree\n",
    "    'colsample_bytree': [0.7, 0.8, 1.0]  # Fraction of features per tree\n",
    "}\n",
    "\n",
    "# initialize XGBoost classifier\n",
    "xgb = XGBClassifier(random_state=0, use_label_encoder=False, eval_metric='logloss')\n",
    "\n",
    "# perform Grid Search\n",
    "grid_search_xgb = GridSearchCV(\n",
    "    estimator=xgb,\n",
    "    param_grid=param_grid_xgb,\n",
    "    cv=5,  # 5-fold cross-validation\n",
    "    scoring='accuracy',\n",
    "    n_jobs=-1,  # Use all available processors\n",
    "    verbose=1  # Show progress\n",
    ")\n",
    "\n",
    "# train GridSearchCV on training data\n",
    "grid_search_xgb.fit(X_train, y_train)\n",
    "\n",
    "# get the best parameters and best accuracy score\n",
    "best_params_xgb = grid_search_xgb.best_params_\n",
    "best_score_xgb = grid_search_xgb.best_score_\n",
    "\n",
    "print(\"Best Parameters for XGBoost:\", best_params_xgb)\n",
    "print(\"Best Cross-Validation Accuracy:\", best_score_xgb)"
   ]
  },
  {
   "cell_type": "code",
   "execution_count": 42,
   "id": "36403033",
   "metadata": {
    "execution": {
     "iopub.execute_input": "2025-02-19T13:59:06.419542Z",
     "iopub.status.busy": "2025-02-19T13:59:06.419098Z",
     "iopub.status.idle": "2025-02-19T13:59:06.703266Z",
     "shell.execute_reply": "2025-02-19T13:59:06.701964Z"
    },
    "papermill": {
     "duration": 0.305183,
     "end_time": "2025-02-19T13:59:06.705249",
     "exception": false,
     "start_time": "2025-02-19T13:59:06.400066",
     "status": "completed"
    },
    "tags": []
   },
   "outputs": [
    {
     "name": "stdout",
     "output_type": "stream",
     "text": [
      "Model accuracy score: 0.8582677165354331\n"
     ]
    },
    {
     "data": {
      "image/png": "[encoded data removed]",
      "text/plain": [
       "<Figure size 800x600 with 1 Axes>"
      ]
     },
     "metadata": {},
     "output_type": "display_data"
    }
   ],
   "source": [
    "# reinitiate classifier\n",
    "classifier = XGBClassifier(\n",
    "    n_estimators = 200, \n",
    "    max_depth = 9, \n",
    "    learning_rate = 0.1,\n",
    "    subsample = 1, \n",
    "    random_state = 0, \n",
    "    colsample_bytree = 0.8 \n",
    ")\n",
    "\n",
    "# retrain the model\n",
    "classifier.fit(X_train_scaled, y_train)\n",
    "\n",
    "# predict again\n",
    "y_pred_new = classifier.predict(X_test_scaled)\n",
    "\n",
    "# assess model\n",
    "assess_model(y_test, y_pred_new)"
   ]
  },
  {
   "cell_type": "markdown",
   "id": "41d0fa15",
   "metadata": {
    "papermill": {
     "duration": 0.018448,
     "end_time": "2025-02-19T13:59:06.742500",
     "exception": false,
     "start_time": "2025-02-19T13:59:06.724052",
     "status": "completed"
    },
    "tags": []
   },
   "source": [
    "This is just to show which features are important"
   ]
  },
  {
   "cell_type": "code",
   "execution_count": 43,
   "id": "f9470fb6",
   "metadata": {
    "execution": {
     "iopub.execute_input": "2025-02-19T13:59:06.782686Z",
     "iopub.status.busy": "2025-02-19T13:59:06.782280Z",
     "iopub.status.idle": "2025-02-19T13:59:07.088453Z",
     "shell.execute_reply": "2025-02-19T13:59:07.087130Z"
    },
    "papermill": {
     "duration": 0.3286,
     "end_time": "2025-02-19T13:59:07.090412",
     "exception": false,
     "start_time": "2025-02-19T13:59:06.761812",
     "status": "completed"
    },
    "tags": []
   },
   "outputs": [
    {
     "data": {
      "image/png": "[encoded data removed]",
      "text/plain": [
       "<Figure size 640x480 with 1 Axes>"
      ]
     },
     "metadata": {},
     "output_type": "display_data"
    }
   ],
   "source": [
    "# Get feature importance\n",
    "importance = pd.Series(classifier.feature_importances_, index=X_train.columns)\n",
    "\n",
    "# Plot feature importance\n",
    "importance.sort_values(ascending=False).plot(kind='bar', title=\"Feature Importance\")\n",
    "plt.show()"
   ]
  },
  {
   "cell_type": "markdown",
   "id": "576265fe",
   "metadata": {
    "papermill": {
     "duration": 0.019307,
     "end_time": "2025-02-19T13:59:07.130078",
     "exception": false,
     "start_time": "2025-02-19T13:59:07.110771",
     "status": "completed"
    },
    "tags": []
   },
   "source": [
    "# Conclusion"
   ]
  },
  {
   "cell_type": "markdown",
   "id": "48f4cb0c",
   "metadata": {
    "papermill": {
     "duration": 0.018901,
     "end_time": "2025-02-19T13:59:07.168198",
     "exception": false,
     "start_time": "2025-02-19T13:59:07.149297",
     "status": "completed"
    },
    "tags": []
   },
   "source": [
    "After evaluating multiple machine learning models, including Random Forest and XGBoost, the Random Forest model demonstrated the best performance for this loan prediction dataset, achieving a test accuracy of **0.88**.\n",
    "This suggests that Random Forest is well-suited for structured, tabular data with categorical and numerical features, handling non-linearity and missing values effectively.\n",
    "\n",
    "Future improvements could include:\n",
    "- Feature Engineering: Exploring additional derived features (e.g., loan-to-income ratio).\n",
    "- Hyperparameter Tuning: Further optimizing the model's depth, estimators, and feature selection.\n",
    "- Ensemble Learning: Combining models for improved robustness."
   ]
  }
 ],
 "metadata": {
  "kaggle": {
   "accelerator": "none",
   "dataSources": [
    {
     "datasetId": 2637478,
     "sourceId": 4512631,
     "sourceType": "datasetVersion"
    }
   ],
   "dockerImageVersionId": 30886,
   "isGpuEnabled": false,
   "isInternetEnabled": true,
   "language": "python",
   "sourceType": "notebook"
  },
  "kernelspec": {
   "display_name": "Python 3",
   "language": "python",
   "name": "python3"
  },
  "language_info": {
   "codemirror_mode": {
    "name": "ipython",
    "version": 3
   },
   "file_extension": ".py",
   "mimetype": "text/x-python",
   "name": "python",
   "nbconvert_exporter": "python",
   "pygments_lexer": "ipython3",
   "version": "3.10.12"
  },
  "papermill": {
   "default_parameters": {},
   "duration": 145.653407,
   "end_time": "2025-02-19T13:59:08.614000",
   "environment_variables": {},
   "exception": null,
   "input_path": "__notebook__.ipynb",
   "output_path": "__notebook__.ipynb",
   "parameters": {},
   "start_time": "2025-02-19T13:56:42.960593",
   "version": "2.6.0"
  }
 },
 "nbformat": 4,
 "nbformat_minor": 5
}
