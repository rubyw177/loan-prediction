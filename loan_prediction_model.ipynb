{
 "cells": [
  {
   "cell_type": "markdown",
   "id": "160d363b",
   "metadata": {
    "papermill": {
     "duration": 0.007095,
     "end_time": "2025-02-18T09:51:11.668923",
     "exception": false,
     "start_time": "2025-02-18T09:51:11.661828",
     "status": "completed"
    },
    "tags": []
   },
   "source": [
    "# Download the loan dataset"
   ]
  },
  {
   "cell_type": "code",
   "execution_count": 1,
   "id": "be2a6c9d",
   "metadata": {
    "execution": {
     "iopub.execute_input": "2025-02-18T09:51:11.682548Z",
     "iopub.status.busy": "2025-02-18T09:51:11.682155Z",
     "iopub.status.idle": "2025-02-18T09:51:13.654831Z",
     "shell.execute_reply": "2025-02-18T09:51:13.653315Z"
    },
    "papermill": {
     "duration": 1.981695,
     "end_time": "2025-02-18T09:51:13.656681",
     "exception": false,
     "start_time": "2025-02-18T09:51:11.674986",
     "status": "completed"
    },
    "tags": []
   },
   "outputs": [
    {
     "name": "stdout",
     "output_type": "stream",
     "text": [
      "Path to dataset files: /kaggle/input/eligibility-prediction-for-loan\n"
     ]
    }
   ],
   "source": [
    "import kagglehub\n",
    "\n",
    "# Download latest version\n",
    "path = kagglehub.dataset_download(\"devzohaib/eligibility-prediction-for-loan\")\n",
    "\n",
    "print(\"Path to dataset files:\", path)"
   ]
  },
  {
   "cell_type": "markdown",
   "id": "447cd4b8",
   "metadata": {
    "papermill": {
     "duration": 0.00541,
     "end_time": "2025-02-18T09:51:13.667807",
     "exception": false,
     "start_time": "2025-02-18T09:51:13.662397",
     "status": "completed"
    },
    "tags": []
   },
   "source": [
    "Import LIbraries"
   ]
  },
  {
   "cell_type": "code",
   "execution_count": 2,
   "id": "a9b9282f",
   "metadata": {
    "execution": {
     "iopub.execute_input": "2025-02-18T09:51:13.680985Z",
     "iopub.status.busy": "2025-02-18T09:51:13.680474Z",
     "iopub.status.idle": "2025-02-18T09:51:14.630604Z",
     "shell.execute_reply": "2025-02-18T09:51:14.629311Z"
    },
    "papermill": {
     "duration": 0.958899,
     "end_time": "2025-02-18T09:51:14.632669",
     "exception": false,
     "start_time": "2025-02-18T09:51:13.673770",
     "status": "completed"
    },
    "tags": []
   },
   "outputs": [],
   "source": [
    "import pandas as pd\n",
    "import numpy as np"
   ]
  },
  {
   "cell_type": "markdown",
   "id": "125b4d7f",
   "metadata": {
    "papermill": {
     "duration": 0.005301,
     "end_time": "2025-02-18T09:51:14.643789",
     "exception": false,
     "start_time": "2025-02-18T09:51:14.638488",
     "status": "completed"
    },
    "tags": []
   },
   "source": [
    "# Data preprocessing\n",
    "in this section the data will be cleaned, encoded, and preprocessed"
   ]
  },
  {
   "cell_type": "code",
   "execution_count": 3,
   "id": "d114f1c4",
   "metadata": {
    "execution": {
     "iopub.execute_input": "2025-02-18T09:51:14.656968Z",
     "iopub.status.busy": "2025-02-18T09:51:14.656379Z",
     "iopub.status.idle": "2025-02-18T09:51:14.682347Z",
     "shell.execute_reply": "2025-02-18T09:51:14.681157Z"
    },
    "papermill": {
     "duration": 0.03497,
     "end_time": "2025-02-18T09:51:14.684312",
     "exception": false,
     "start_time": "2025-02-18T09:51:14.649342",
     "status": "completed"
    },
    "tags": []
   },
   "outputs": [],
   "source": [
    "df = pd.read_csv(\"/kaggle/input/eligibility-prediction-for-loan/Loan_Data.csv\")"
   ]
  },
  {
   "cell_type": "code",
   "execution_count": 4,
   "id": "c8282e5c",
   "metadata": {
    "execution": {
     "iopub.execute_input": "2025-02-18T09:51:14.697179Z",
     "iopub.status.busy": "2025-02-18T09:51:14.696797Z",
     "iopub.status.idle": "2025-02-18T09:51:14.742738Z",
     "shell.execute_reply": "2025-02-18T09:51:14.741629Z"
    },
    "papermill": {
     "duration": 0.05423,
     "end_time": "2025-02-18T09:51:14.744363",
     "exception": false,
     "start_time": "2025-02-18T09:51:14.690133",
     "status": "completed"
    },
    "tags": []
   },
   "outputs": [
    {
     "name": "stderr",
     "output_type": "stream",
     "text": [
      "/usr/local/lib/python3.10/dist-packages/pandas/io/formats/format.py:1458: RuntimeWarning: invalid value encountered in greater\n",
      "  has_large_values = (abs_vals > 1e6).any()\n",
      "/usr/local/lib/python3.10/dist-packages/pandas/io/formats/format.py:1459: RuntimeWarning: invalid value encountered in less\n",
      "  has_small_values = ((abs_vals < 10 ** (-self.digits)) & (abs_vals > 0)).any()\n",
      "/usr/local/lib/python3.10/dist-packages/pandas/io/formats/format.py:1459: RuntimeWarning: invalid value encountered in greater\n",
      "  has_small_values = ((abs_vals < 10 ** (-self.digits)) & (abs_vals > 0)).any()\n"
     ]
    },
    {
     "data": {
      "text/html": [
       "<div>\n",
       "<style scoped>\n",
       "    .dataframe tbody tr th:only-of-type {\n",
       "        vertical-align: middle;\n",
       "    }\n",
       "\n",
       "    .dataframe tbody tr th {\n",
       "        vertical-align: top;\n",
       "    }\n",
       "\n",
       "    .dataframe thead th {\n",
       "        text-align: right;\n",
       "    }\n",
       "</style>\n",
       "<table border=\"1\" class=\"dataframe\">\n",
       "  <thead>\n",
       "    <tr style=\"text-align: right;\">\n",
       "      <th></th>\n",
       "      <th>Loan_ID</th>\n",
       "      <th>Gender</th>\n",
       "      <th>Married</th>\n",
       "      <th>Dependents</th>\n",
       "      <th>Education</th>\n",
       "      <th>Self_Employed</th>\n",
       "      <th>ApplicantIncome</th>\n",
       "      <th>CoapplicantIncome</th>\n",
       "      <th>LoanAmount</th>\n",
       "      <th>Loan_Amount_Term</th>\n",
       "      <th>Credit_History</th>\n",
       "      <th>Property_Area</th>\n",
       "      <th>Loan_Status</th>\n",
       "    </tr>\n",
       "  </thead>\n",
       "  <tbody>\n",
       "    <tr>\n",
       "      <th>0</th>\n",
       "      <td>LP001002</td>\n",
       "      <td>Male</td>\n",
       "      <td>No</td>\n",
       "      <td>0</td>\n",
       "      <td>Graduate</td>\n",
       "      <td>No</td>\n",
       "      <td>5849</td>\n",
       "      <td>0.0</td>\n",
       "      <td>NaN</td>\n",
       "      <td>360.0</td>\n",
       "      <td>1.0</td>\n",
       "      <td>Urban</td>\n",
       "      <td>Y</td>\n",
       "    </tr>\n",
       "    <tr>\n",
       "      <th>1</th>\n",
       "      <td>LP001003</td>\n",
       "      <td>Male</td>\n",
       "      <td>Yes</td>\n",
       "      <td>1</td>\n",
       "      <td>Graduate</td>\n",
       "      <td>No</td>\n",
       "      <td>4583</td>\n",
       "      <td>1508.0</td>\n",
       "      <td>128.0</td>\n",
       "      <td>360.0</td>\n",
       "      <td>1.0</td>\n",
       "      <td>Rural</td>\n",
       "      <td>N</td>\n",
       "    </tr>\n",
       "    <tr>\n",
       "      <th>2</th>\n",
       "      <td>LP001005</td>\n",
       "      <td>Male</td>\n",
       "      <td>Yes</td>\n",
       "      <td>0</td>\n",
       "      <td>Graduate</td>\n",
       "      <td>Yes</td>\n",
       "      <td>3000</td>\n",
       "      <td>0.0</td>\n",
       "      <td>66.0</td>\n",
       "      <td>360.0</td>\n",
       "      <td>1.0</td>\n",
       "      <td>Urban</td>\n",
       "      <td>Y</td>\n",
       "    </tr>\n",
       "    <tr>\n",
       "      <th>3</th>\n",
       "      <td>LP001006</td>\n",
       "      <td>Male</td>\n",
       "      <td>Yes</td>\n",
       "      <td>0</td>\n",
       "      <td>Not Graduate</td>\n",
       "      <td>No</td>\n",
       "      <td>2583</td>\n",
       "      <td>2358.0</td>\n",
       "      <td>120.0</td>\n",
       "      <td>360.0</td>\n",
       "      <td>1.0</td>\n",
       "      <td>Urban</td>\n",
       "      <td>Y</td>\n",
       "    </tr>\n",
       "    <tr>\n",
       "      <th>4</th>\n",
       "      <td>LP001008</td>\n",
       "      <td>Male</td>\n",
       "      <td>No</td>\n",
       "      <td>0</td>\n",
       "      <td>Graduate</td>\n",
       "      <td>No</td>\n",
       "      <td>6000</td>\n",
       "      <td>0.0</td>\n",
       "      <td>141.0</td>\n",
       "      <td>360.0</td>\n",
       "      <td>1.0</td>\n",
       "      <td>Urban</td>\n",
       "      <td>Y</td>\n",
       "    </tr>\n",
       "    <tr>\n",
       "      <th>...</th>\n",
       "      <td>...</td>\n",
       "      <td>...</td>\n",
       "      <td>...</td>\n",
       "      <td>...</td>\n",
       "      <td>...</td>\n",
       "      <td>...</td>\n",
       "      <td>...</td>\n",
       "      <td>...</td>\n",
       "      <td>...</td>\n",
       "      <td>...</td>\n",
       "      <td>...</td>\n",
       "      <td>...</td>\n",
       "      <td>...</td>\n",
       "    </tr>\n",
       "    <tr>\n",
       "      <th>609</th>\n",
       "      <td>LP002978</td>\n",
       "      <td>Female</td>\n",
       "      <td>No</td>\n",
       "      <td>0</td>\n",
       "      <td>Graduate</td>\n",
       "      <td>No</td>\n",
       "      <td>2900</td>\n",
       "      <td>0.0</td>\n",
       "      <td>71.0</td>\n",
       "      <td>360.0</td>\n",
       "      <td>1.0</td>\n",
       "      <td>Rural</td>\n",
       "      <td>Y</td>\n",
       "    </tr>\n",
       "    <tr>\n",
       "      <th>610</th>\n",
       "      <td>LP002979</td>\n",
       "      <td>Male</td>\n",
       "      <td>Yes</td>\n",
       "      <td>3+</td>\n",
       "      <td>Graduate</td>\n",
       "      <td>No</td>\n",
       "      <td>4106</td>\n",
       "      <td>0.0</td>\n",
       "      <td>40.0</td>\n",
       "      <td>180.0</td>\n",
       "      <td>1.0</td>\n",
       "      <td>Rural</td>\n",
       "      <td>Y</td>\n",
       "    </tr>\n",
       "    <tr>\n",
       "      <th>611</th>\n",
       "      <td>LP002983</td>\n",
       "      <td>Male</td>\n",
       "      <td>Yes</td>\n",
       "      <td>1</td>\n",
       "      <td>Graduate</td>\n",
       "      <td>No</td>\n",
       "      <td>8072</td>\n",
       "      <td>240.0</td>\n",
       "      <td>253.0</td>\n",
       "      <td>360.0</td>\n",
       "      <td>1.0</td>\n",
       "      <td>Urban</td>\n",
       "      <td>Y</td>\n",
       "    </tr>\n",
       "    <tr>\n",
       "      <th>612</th>\n",
       "      <td>LP002984</td>\n",
       "      <td>Male</td>\n",
       "      <td>Yes</td>\n",
       "      <td>2</td>\n",
       "      <td>Graduate</td>\n",
       "      <td>No</td>\n",
       "      <td>7583</td>\n",
       "      <td>0.0</td>\n",
       "      <td>187.0</td>\n",
       "      <td>360.0</td>\n",
       "      <td>1.0</td>\n",
       "      <td>Urban</td>\n",
       "      <td>Y</td>\n",
       "    </tr>\n",
       "    <tr>\n",
       "      <th>613</th>\n",
       "      <td>LP002990</td>\n",
       "      <td>Female</td>\n",
       "      <td>No</td>\n",
       "      <td>0</td>\n",
       "      <td>Graduate</td>\n",
       "      <td>Yes</td>\n",
       "      <td>4583</td>\n",
       "      <td>0.0</td>\n",
       "      <td>133.0</td>\n",
       "      <td>360.0</td>\n",
       "      <td>0.0</td>\n",
       "      <td>Semiurban</td>\n",
       "      <td>N</td>\n",
       "    </tr>\n",
       "  </tbody>\n",
       "</table>\n",
       "<p>614 rows × 13 columns</p>\n",
       "</div>"
      ],
      "text/plain": [
       "      Loan_ID  Gender Married Dependents     Education Self_Employed  \\\n",
       "0    LP001002    Male      No          0      Graduate            No   \n",
       "1    LP001003    Male     Yes          1      Graduate            No   \n",
       "2    LP001005    Male     Yes          0      Graduate           Yes   \n",
       "3    LP001006    Male     Yes          0  Not Graduate            No   \n",
       "4    LP001008    Male      No          0      Graduate            No   \n",
       "..        ...     ...     ...        ...           ...           ...   \n",
       "609  LP002978  Female      No          0      Graduate            No   \n",
       "610  LP002979    Male     Yes         3+      Graduate            No   \n",
       "611  LP002983    Male     Yes          1      Graduate            No   \n",
       "612  LP002984    Male     Yes          2      Graduate            No   \n",
       "613  LP002990  Female      No          0      Graduate           Yes   \n",
       "\n",
       "     ApplicantIncome  CoapplicantIncome  LoanAmount  Loan_Amount_Term  \\\n",
       "0               5849                0.0         NaN             360.0   \n",
       "1               4583             1508.0       128.0             360.0   \n",
       "2               3000                0.0        66.0             360.0   \n",
       "3               2583             2358.0       120.0             360.0   \n",
       "4               6000                0.0       141.0             360.0   \n",
       "..               ...                ...         ...               ...   \n",
       "609             2900                0.0        71.0             360.0   \n",
       "610             4106                0.0        40.0             180.0   \n",
       "611             8072              240.0       253.0             360.0   \n",
       "612             7583                0.0       187.0             360.0   \n",
       "613             4583                0.0       133.0             360.0   \n",
       "\n",
       "     Credit_History Property_Area Loan_Status  \n",
       "0               1.0         Urban           Y  \n",
       "1               1.0         Rural           N  \n",
       "2               1.0         Urban           Y  \n",
       "3               1.0         Urban           Y  \n",
       "4               1.0         Urban           Y  \n",
       "..              ...           ...         ...  \n",
       "609             1.0         Rural           Y  \n",
       "610             1.0         Rural           Y  \n",
       "611             1.0         Urban           Y  \n",
       "612             1.0         Urban           Y  \n",
       "613             0.0     Semiurban           N  \n",
       "\n",
       "[614 rows x 13 columns]"
      ]
     },
     "execution_count": 4,
     "metadata": {},
     "output_type": "execute_result"
    }
   ],
   "source": [
    "df"
   ]
  },
  {
   "cell_type": "code",
   "execution_count": 5,
   "id": "fa2f7c72",
   "metadata": {
    "execution": {
     "iopub.execute_input": "2025-02-18T09:51:14.757871Z",
     "iopub.status.busy": "2025-02-18T09:51:14.757530Z",
     "iopub.status.idle": "2025-02-18T09:51:14.783017Z",
     "shell.execute_reply": "2025-02-18T09:51:14.781970Z"
    },
    "papermill": {
     "duration": 0.034299,
     "end_time": "2025-02-18T09:51:14.784968",
     "exception": false,
     "start_time": "2025-02-18T09:51:14.750669",
     "status": "completed"
    },
    "tags": []
   },
   "outputs": [
    {
     "data": {
      "text/html": [
       "<div>\n",
       "<style scoped>\n",
       "    .dataframe tbody tr th:only-of-type {\n",
       "        vertical-align: middle;\n",
       "    }\n",
       "\n",
       "    .dataframe tbody tr th {\n",
       "        vertical-align: top;\n",
       "    }\n",
       "\n",
       "    .dataframe thead th {\n",
       "        text-align: right;\n",
       "    }\n",
       "</style>\n",
       "<table border=\"1\" class=\"dataframe\">\n",
       "  <thead>\n",
       "    <tr style=\"text-align: right;\">\n",
       "      <th></th>\n",
       "      <th>ApplicantIncome</th>\n",
       "      <th>CoapplicantIncome</th>\n",
       "      <th>LoanAmount</th>\n",
       "      <th>Loan_Amount_Term</th>\n",
       "      <th>Credit_History</th>\n",
       "    </tr>\n",
       "  </thead>\n",
       "  <tbody>\n",
       "    <tr>\n",
       "      <th>count</th>\n",
       "      <td>614.000000</td>\n",
       "      <td>614.000000</td>\n",
       "      <td>592.000000</td>\n",
       "      <td>600.00000</td>\n",
       "      <td>564.000000</td>\n",
       "    </tr>\n",
       "    <tr>\n",
       "      <th>mean</th>\n",
       "      <td>5403.459283</td>\n",
       "      <td>1621.245798</td>\n",
       "      <td>146.412162</td>\n",
       "      <td>342.00000</td>\n",
       "      <td>0.842199</td>\n",
       "    </tr>\n",
       "    <tr>\n",
       "      <th>std</th>\n",
       "      <td>6109.041673</td>\n",
       "      <td>2926.248369</td>\n",
       "      <td>85.587325</td>\n",
       "      <td>65.12041</td>\n",
       "      <td>0.364878</td>\n",
       "    </tr>\n",
       "    <tr>\n",
       "      <th>min</th>\n",
       "      <td>150.000000</td>\n",
       "      <td>0.000000</td>\n",
       "      <td>9.000000</td>\n",
       "      <td>12.00000</td>\n",
       "      <td>0.000000</td>\n",
       "    </tr>\n",
       "    <tr>\n",
       "      <th>25%</th>\n",
       "      <td>2877.500000</td>\n",
       "      <td>0.000000</td>\n",
       "      <td>100.000000</td>\n",
       "      <td>360.00000</td>\n",
       "      <td>1.000000</td>\n",
       "    </tr>\n",
       "    <tr>\n",
       "      <th>50%</th>\n",
       "      <td>3812.500000</td>\n",
       "      <td>1188.500000</td>\n",
       "      <td>128.000000</td>\n",
       "      <td>360.00000</td>\n",
       "      <td>1.000000</td>\n",
       "    </tr>\n",
       "    <tr>\n",
       "      <th>75%</th>\n",
       "      <td>5795.000000</td>\n",
       "      <td>2297.250000</td>\n",
       "      <td>168.000000</td>\n",
       "      <td>360.00000</td>\n",
       "      <td>1.000000</td>\n",
       "    </tr>\n",
       "    <tr>\n",
       "      <th>max</th>\n",
       "      <td>81000.000000</td>\n",
       "      <td>41667.000000</td>\n",
       "      <td>700.000000</td>\n",
       "      <td>480.00000</td>\n",
       "      <td>1.000000</td>\n",
       "    </tr>\n",
       "  </tbody>\n",
       "</table>\n",
       "</div>"
      ],
      "text/plain": [
       "       ApplicantIncome  CoapplicantIncome  LoanAmount  Loan_Amount_Term  \\\n",
       "count       614.000000         614.000000  592.000000         600.00000   \n",
       "mean       5403.459283        1621.245798  146.412162         342.00000   \n",
       "std        6109.041673        2926.248369   85.587325          65.12041   \n",
       "min         150.000000           0.000000    9.000000          12.00000   \n",
       "25%        2877.500000           0.000000  100.000000         360.00000   \n",
       "50%        3812.500000        1188.500000  128.000000         360.00000   \n",
       "75%        5795.000000        2297.250000  168.000000         360.00000   \n",
       "max       81000.000000       41667.000000  700.000000         480.00000   \n",
       "\n",
       "       Credit_History  \n",
       "count      564.000000  \n",
       "mean         0.842199  \n",
       "std          0.364878  \n",
       "min          0.000000  \n",
       "25%          1.000000  \n",
       "50%          1.000000  \n",
       "75%          1.000000  \n",
       "max          1.000000  "
      ]
     },
     "execution_count": 5,
     "metadata": {},
     "output_type": "execute_result"
    }
   ],
   "source": [
    "df.describe()"
   ]
  },
  {
   "cell_type": "code",
   "execution_count": 6,
   "id": "22992472",
   "metadata": {
    "execution": {
     "iopub.execute_input": "2025-02-18T09:51:14.799059Z",
     "iopub.status.busy": "2025-02-18T09:51:14.798699Z",
     "iopub.status.idle": "2025-02-18T09:51:14.821793Z",
     "shell.execute_reply": "2025-02-18T09:51:14.820543Z"
    },
    "papermill": {
     "duration": 0.031789,
     "end_time": "2025-02-18T09:51:14.823307",
     "exception": false,
     "start_time": "2025-02-18T09:51:14.791518",
     "status": "completed"
    },
    "tags": []
   },
   "outputs": [
    {
     "name": "stdout",
     "output_type": "stream",
     "text": [
      "<class 'pandas.core.frame.DataFrame'>\n",
      "RangeIndex: 614 entries, 0 to 613\n",
      "Data columns (total 13 columns):\n",
      " #   Column             Non-Null Count  Dtype  \n",
      "---  ------             --------------  -----  \n",
      " 0   Loan_ID            614 non-null    object \n",
      " 1   Gender             601 non-null    object \n",
      " 2   Married            611 non-null    object \n",
      " 3   Dependents         599 non-null    object \n",
      " 4   Education          614 non-null    object \n",
      " 5   Self_Employed      582 non-null    object \n",
      " 6   ApplicantIncome    614 non-null    int64  \n",
      " 7   CoapplicantIncome  614 non-null    float64\n",
      " 8   LoanAmount         592 non-null    float64\n",
      " 9   Loan_Amount_Term   600 non-null    float64\n",
      " 10  Credit_History     564 non-null    float64\n",
      " 11  Property_Area      614 non-null    object \n",
      " 12  Loan_Status        614 non-null    object \n",
      "dtypes: float64(4), int64(1), object(8)\n",
      "memory usage: 62.5+ KB\n"
     ]
    }
   ],
   "source": [
    "df.info()"
   ]
  },
  {
   "cell_type": "markdown",
   "id": "dfc1ef8a",
   "metadata": {
    "papermill": {
     "duration": 0.00598,
     "end_time": "2025-02-18T09:51:14.835842",
     "exception": false,
     "start_time": "2025-02-18T09:51:14.829862",
     "status": "completed"
    },
    "tags": []
   },
   "source": [
    "it seems there are columns with missing values. Let's check how many missing values are there!"
   ]
  },
  {
   "cell_type": "code",
   "execution_count": 7,
   "id": "4968e9b3",
   "metadata": {
    "execution": {
     "iopub.execute_input": "2025-02-18T09:51:14.849643Z",
     "iopub.status.busy": "2025-02-18T09:51:14.849256Z",
     "iopub.status.idle": "2025-02-18T09:51:14.857607Z",
     "shell.execute_reply": "2025-02-18T09:51:14.856520Z"
    },
    "papermill": {
     "duration": 0.016908,
     "end_time": "2025-02-18T09:51:14.859147",
     "exception": false,
     "start_time": "2025-02-18T09:51:14.842239",
     "status": "completed"
    },
    "tags": []
   },
   "outputs": [
    {
     "data": {
      "text/plain": [
       "Loan_ID               0\n",
       "Gender               13\n",
       "Married               3\n",
       "Dependents           15\n",
       "Education             0\n",
       "Self_Employed        32\n",
       "ApplicantIncome       0\n",
       "CoapplicantIncome     0\n",
       "LoanAmount           22\n",
       "Loan_Amount_Term     14\n",
       "Credit_History       50\n",
       "Property_Area         0\n",
       "Loan_Status           0\n",
       "dtype: int64"
      ]
     },
     "execution_count": 7,
     "metadata": {},
     "output_type": "execute_result"
    }
   ],
   "source": [
    "df.isnull().sum()"
   ]
  },
  {
   "cell_type": "code",
   "execution_count": 8,
   "id": "29a21ca3",
   "metadata": {
    "execution": {
     "iopub.execute_input": "2025-02-18T09:51:14.873614Z",
     "iopub.status.busy": "2025-02-18T09:51:14.873193Z",
     "iopub.status.idle": "2025-02-18T09:51:14.882396Z",
     "shell.execute_reply": "2025-02-18T09:51:14.881093Z"
    },
    "papermill": {
     "duration": 0.018302,
     "end_time": "2025-02-18T09:51:14.884147",
     "exception": false,
     "start_time": "2025-02-18T09:51:14.865845",
     "status": "completed"
    },
    "tags": []
   },
   "outputs": [
    {
     "data": {
      "text/plain": [
       "Loan_ID              0.000000\n",
       "Gender               2.117264\n",
       "Married              0.488599\n",
       "Dependents           2.442997\n",
       "Education            0.000000\n",
       "Self_Employed        5.211726\n",
       "ApplicantIncome      0.000000\n",
       "CoapplicantIncome    0.000000\n",
       "LoanAmount           3.583062\n",
       "Loan_Amount_Term     2.280130\n",
       "Credit_History       8.143322\n",
       "Property_Area        0.000000\n",
       "Loan_Status          0.000000\n",
       "dtype: float64"
      ]
     },
     "execution_count": 8,
     "metadata": {},
     "output_type": "execute_result"
    }
   ],
   "source": [
    "missing_percentage = (df.isnull().sum() / len(df)) * 100\n",
    "missing_percentage"
   ]
  },
  {
   "cell_type": "code",
   "execution_count": 9,
   "id": "1cf19cdf",
   "metadata": {
    "execution": {
     "iopub.execute_input": "2025-02-18T09:51:14.899272Z",
     "iopub.status.busy": "2025-02-18T09:51:14.898953Z",
     "iopub.status.idle": "2025-02-18T09:51:14.928279Z",
     "shell.execute_reply": "2025-02-18T09:51:14.926877Z"
    },
    "papermill": {
     "duration": 0.039009,
     "end_time": "2025-02-18T09:51:14.930177",
     "exception": false,
     "start_time": "2025-02-18T09:51:14.891168",
     "status": "completed"
    },
    "tags": []
   },
   "outputs": [
    {
     "name": "stdout",
     "output_type": "stream",
     "text": [
      "Loan_Status         N         Y\n",
      "Gender                         \n",
      "Female       0.330357  0.669643\n",
      "Male         0.306748  0.693252\n"
     ]
    }
   ],
   "source": [
    "gender_impact = df.groupby(\"Gender\")[\"Loan_Status\"].value_counts(normalize=True).unstack()\n",
    "print(gender_impact)"
   ]
  },
  {
   "cell_type": "code",
   "execution_count": 10,
   "id": "63d3fa9f",
   "metadata": {
    "execution": {
     "iopub.execute_input": "2025-02-18T09:51:14.944539Z",
     "iopub.status.busy": "2025-02-18T09:51:14.944170Z",
     "iopub.status.idle": "2025-02-18T09:51:14.956316Z",
     "shell.execute_reply": "2025-02-18T09:51:14.955121Z"
    },
    "papermill": {
     "duration": 0.021168,
     "end_time": "2025-02-18T09:51:14.958088",
     "exception": false,
     "start_time": "2025-02-18T09:51:14.936920",
     "status": "completed"
    },
    "tags": []
   },
   "outputs": [
    {
     "name": "stdout",
     "output_type": "stream",
     "text": [
      "Loan_Status         N         Y\n",
      "Married                        \n",
      "No           0.370892  0.629108\n",
      "Yes          0.283920  0.716080\n"
     ]
    }
   ],
   "source": [
    "married_impact = df.groupby(\"Married\")[\"Loan_Status\"].value_counts(normalize=True).unstack()\n",
    "print(married_impact)"
   ]
  },
  {
   "cell_type": "code",
   "execution_count": 11,
   "id": "91c024a6",
   "metadata": {
    "execution": {
     "iopub.execute_input": "2025-02-18T09:51:14.972894Z",
     "iopub.status.busy": "2025-02-18T09:51:14.972527Z",
     "iopub.status.idle": "2025-02-18T09:51:14.985142Z",
     "shell.execute_reply": "2025-02-18T09:51:14.983986Z"
    },
    "papermill": {
     "duration": 0.021878,
     "end_time": "2025-02-18T09:51:14.986920",
     "exception": false,
     "start_time": "2025-02-18T09:51:14.965042",
     "status": "completed"
    },
    "tags": []
   },
   "outputs": [
    {
     "name": "stdout",
     "output_type": "stream",
     "text": [
      "Loan_Status          N         Y\n",
      "Education                       \n",
      "Graduate      0.291667  0.708333\n",
      "Not Graduate  0.388060  0.611940\n"
     ]
    }
   ],
   "source": [
    "edu_impact = df.groupby(\"Education\")[\"Loan_Status\"].value_counts(normalize=True).unstack()\n",
    "print(edu_impact)"
   ]
  },
  {
   "cell_type": "markdown",
   "id": "9e26d063",
   "metadata": {
    "papermill": {
     "duration": 0.006362,
     "end_time": "2025-02-18T09:51:15.000029",
     "exception": false,
     "start_time": "2025-02-18T09:51:14.993667",
     "status": "completed"
    },
    "tags": []
   },
   "source": [
    "Since the approval rates for both genders are nearly the same, we won't need the Gender column"
   ]
  },
  {
   "cell_type": "markdown",
   "id": "4fe9b882",
   "metadata": {
    "papermill": {
     "duration": 0.006278,
     "end_time": "2025-02-18T09:51:15.013026",
     "exception": false,
     "start_time": "2025-02-18T09:51:15.006748",
     "status": "completed"
    },
    "tags": []
   },
   "source": [
    "We also won't need loan_id column for the prediction, so it can be removed."
   ]
  },
  {
   "cell_type": "code",
   "execution_count": 12,
   "id": "9078ba23",
   "metadata": {
    "execution": {
     "iopub.execute_input": "2025-02-18T09:51:15.027732Z",
     "iopub.status.busy": "2025-02-18T09:51:15.027331Z",
     "iopub.status.idle": "2025-02-18T09:51:15.046786Z",
     "shell.execute_reply": "2025-02-18T09:51:15.045822Z"
    },
    "papermill": {
     "duration": 0.028658,
     "end_time": "2025-02-18T09:51:15.048448",
     "exception": false,
     "start_time": "2025-02-18T09:51:15.019790",
     "status": "completed"
    },
    "tags": []
   },
   "outputs": [
    {
     "name": "stderr",
     "output_type": "stream",
     "text": [
      "/usr/local/lib/python3.10/dist-packages/pandas/io/formats/format.py:1458: RuntimeWarning: invalid value encountered in greater\n",
      "  has_large_values = (abs_vals > 1e6).any()\n",
      "/usr/local/lib/python3.10/dist-packages/pandas/io/formats/format.py:1459: RuntimeWarning: invalid value encountered in less\n",
      "  has_small_values = ((abs_vals < 10 ** (-self.digits)) & (abs_vals > 0)).any()\n",
      "/usr/local/lib/python3.10/dist-packages/pandas/io/formats/format.py:1459: RuntimeWarning: invalid value encountered in greater\n",
      "  has_small_values = ((abs_vals < 10 ** (-self.digits)) & (abs_vals > 0)).any()\n"
     ]
    },
    {
     "data": {
      "text/html": [
       "<div>\n",
       "<style scoped>\n",
       "    .dataframe tbody tr th:only-of-type {\n",
       "        vertical-align: middle;\n",
       "    }\n",
       "\n",
       "    .dataframe tbody tr th {\n",
       "        vertical-align: top;\n",
       "    }\n",
       "\n",
       "    .dataframe thead th {\n",
       "        text-align: right;\n",
       "    }\n",
       "</style>\n",
       "<table border=\"1\" class=\"dataframe\">\n",
       "  <thead>\n",
       "    <tr style=\"text-align: right;\">\n",
       "      <th></th>\n",
       "      <th>Married</th>\n",
       "      <th>Dependents</th>\n",
       "      <th>Education</th>\n",
       "      <th>Self_Employed</th>\n",
       "      <th>ApplicantIncome</th>\n",
       "      <th>CoapplicantIncome</th>\n",
       "      <th>LoanAmount</th>\n",
       "      <th>Loan_Amount_Term</th>\n",
       "      <th>Credit_History</th>\n",
       "      <th>Property_Area</th>\n",
       "      <th>Loan_Status</th>\n",
       "    </tr>\n",
       "  </thead>\n",
       "  <tbody>\n",
       "    <tr>\n",
       "      <th>0</th>\n",
       "      <td>No</td>\n",
       "      <td>0</td>\n",
       "      <td>Graduate</td>\n",
       "      <td>No</td>\n",
       "      <td>5849</td>\n",
       "      <td>0.0</td>\n",
       "      <td>NaN</td>\n",
       "      <td>360.0</td>\n",
       "      <td>1.0</td>\n",
       "      <td>Urban</td>\n",
       "      <td>Y</td>\n",
       "    </tr>\n",
       "    <tr>\n",
       "      <th>1</th>\n",
       "      <td>Yes</td>\n",
       "      <td>1</td>\n",
       "      <td>Graduate</td>\n",
       "      <td>No</td>\n",
       "      <td>4583</td>\n",
       "      <td>1508.0</td>\n",
       "      <td>128.0</td>\n",
       "      <td>360.0</td>\n",
       "      <td>1.0</td>\n",
       "      <td>Rural</td>\n",
       "      <td>N</td>\n",
       "    </tr>\n",
       "    <tr>\n",
       "      <th>2</th>\n",
       "      <td>Yes</td>\n",
       "      <td>0</td>\n",
       "      <td>Graduate</td>\n",
       "      <td>Yes</td>\n",
       "      <td>3000</td>\n",
       "      <td>0.0</td>\n",
       "      <td>66.0</td>\n",
       "      <td>360.0</td>\n",
       "      <td>1.0</td>\n",
       "      <td>Urban</td>\n",
       "      <td>Y</td>\n",
       "    </tr>\n",
       "    <tr>\n",
       "      <th>3</th>\n",
       "      <td>Yes</td>\n",
       "      <td>0</td>\n",
       "      <td>Not Graduate</td>\n",
       "      <td>No</td>\n",
       "      <td>2583</td>\n",
       "      <td>2358.0</td>\n",
       "      <td>120.0</td>\n",
       "      <td>360.0</td>\n",
       "      <td>1.0</td>\n",
       "      <td>Urban</td>\n",
       "      <td>Y</td>\n",
       "    </tr>\n",
       "    <tr>\n",
       "      <th>4</th>\n",
       "      <td>No</td>\n",
       "      <td>0</td>\n",
       "      <td>Graduate</td>\n",
       "      <td>No</td>\n",
       "      <td>6000</td>\n",
       "      <td>0.0</td>\n",
       "      <td>141.0</td>\n",
       "      <td>360.0</td>\n",
       "      <td>1.0</td>\n",
       "      <td>Urban</td>\n",
       "      <td>Y</td>\n",
       "    </tr>\n",
       "    <tr>\n",
       "      <th>...</th>\n",
       "      <td>...</td>\n",
       "      <td>...</td>\n",
       "      <td>...</td>\n",
       "      <td>...</td>\n",
       "      <td>...</td>\n",
       "      <td>...</td>\n",
       "      <td>...</td>\n",
       "      <td>...</td>\n",
       "      <td>...</td>\n",
       "      <td>...</td>\n",
       "      <td>...</td>\n",
       "    </tr>\n",
       "    <tr>\n",
       "      <th>609</th>\n",
       "      <td>No</td>\n",
       "      <td>0</td>\n",
       "      <td>Graduate</td>\n",
       "      <td>No</td>\n",
       "      <td>2900</td>\n",
       "      <td>0.0</td>\n",
       "      <td>71.0</td>\n",
       "      <td>360.0</td>\n",
       "      <td>1.0</td>\n",
       "      <td>Rural</td>\n",
       "      <td>Y</td>\n",
       "    </tr>\n",
       "    <tr>\n",
       "      <th>610</th>\n",
       "      <td>Yes</td>\n",
       "      <td>3+</td>\n",
       "      <td>Graduate</td>\n",
       "      <td>No</td>\n",
       "      <td>4106</td>\n",
       "      <td>0.0</td>\n",
       "      <td>40.0</td>\n",
       "      <td>180.0</td>\n",
       "      <td>1.0</td>\n",
       "      <td>Rural</td>\n",
       "      <td>Y</td>\n",
       "    </tr>\n",
       "    <tr>\n",
       "      <th>611</th>\n",
       "      <td>Yes</td>\n",
       "      <td>1</td>\n",
       "      <td>Graduate</td>\n",
       "      <td>No</td>\n",
       "      <td>8072</td>\n",
       "      <td>240.0</td>\n",
       "      <td>253.0</td>\n",
       "      <td>360.0</td>\n",
       "      <td>1.0</td>\n",
       "      <td>Urban</td>\n",
       "      <td>Y</td>\n",
       "    </tr>\n",
       "    <tr>\n",
       "      <th>612</th>\n",
       "      <td>Yes</td>\n",
       "      <td>2</td>\n",
       "      <td>Graduate</td>\n",
       "      <td>No</td>\n",
       "      <td>7583</td>\n",
       "      <td>0.0</td>\n",
       "      <td>187.0</td>\n",
       "      <td>360.0</td>\n",
       "      <td>1.0</td>\n",
       "      <td>Urban</td>\n",
       "      <td>Y</td>\n",
       "    </tr>\n",
       "    <tr>\n",
       "      <th>613</th>\n",
       "      <td>No</td>\n",
       "      <td>0</td>\n",
       "      <td>Graduate</td>\n",
       "      <td>Yes</td>\n",
       "      <td>4583</td>\n",
       "      <td>0.0</td>\n",
       "      <td>133.0</td>\n",
       "      <td>360.0</td>\n",
       "      <td>0.0</td>\n",
       "      <td>Semiurban</td>\n",
       "      <td>N</td>\n",
       "    </tr>\n",
       "  </tbody>\n",
       "</table>\n",
       "<p>614 rows × 11 columns</p>\n",
       "</div>"
      ],
      "text/plain": [
       "    Married Dependents     Education Self_Employed  ApplicantIncome  \\\n",
       "0        No          0      Graduate            No             5849   \n",
       "1       Yes          1      Graduate            No             4583   \n",
       "2       Yes          0      Graduate           Yes             3000   \n",
       "3       Yes          0  Not Graduate            No             2583   \n",
       "4        No          0      Graduate            No             6000   \n",
       "..      ...        ...           ...           ...              ...   \n",
       "609      No          0      Graduate            No             2900   \n",
       "610     Yes         3+      Graduate            No             4106   \n",
       "611     Yes          1      Graduate            No             8072   \n",
       "612     Yes          2      Graduate            No             7583   \n",
       "613      No          0      Graduate           Yes             4583   \n",
       "\n",
       "     CoapplicantIncome  LoanAmount  Loan_Amount_Term  Credit_History  \\\n",
       "0                  0.0         NaN             360.0             1.0   \n",
       "1               1508.0       128.0             360.0             1.0   \n",
       "2                  0.0        66.0             360.0             1.0   \n",
       "3               2358.0       120.0             360.0             1.0   \n",
       "4                  0.0       141.0             360.0             1.0   \n",
       "..                 ...         ...               ...             ...   \n",
       "609                0.0        71.0             360.0             1.0   \n",
       "610                0.0        40.0             180.0             1.0   \n",
       "611              240.0       253.0             360.0             1.0   \n",
       "612                0.0       187.0             360.0             1.0   \n",
       "613                0.0       133.0             360.0             0.0   \n",
       "\n",
       "    Property_Area Loan_Status  \n",
       "0           Urban           Y  \n",
       "1           Rural           N  \n",
       "2           Urban           Y  \n",
       "3           Urban           Y  \n",
       "4           Urban           Y  \n",
       "..            ...         ...  \n",
       "609         Rural           Y  \n",
       "610         Rural           Y  \n",
       "611         Urban           Y  \n",
       "612         Urban           Y  \n",
       "613     Semiurban           N  \n",
       "\n",
       "[614 rows x 11 columns]"
      ]
     },
     "execution_count": 12,
     "metadata": {},
     "output_type": "execute_result"
    }
   ],
   "source": [
    "df.drop(columns=[\"Loan_ID\", \"Gender\"], inplace=True)\n",
    "df"
   ]
  },
  {
   "cell_type": "markdown",
   "id": "0c99aded",
   "metadata": {
    "papermill": {
     "duration": 0.006947,
     "end_time": "2025-02-18T09:51:15.062579",
     "exception": false,
     "start_time": "2025-02-18T09:51:15.055632",
     "status": "completed"
    },
    "tags": []
   },
   "source": [
    "Now we need to encode columns with categorical data"
   ]
  },
  {
   "cell_type": "code",
   "execution_count": 13,
   "id": "a4cfbd72",
   "metadata": {
    "execution": {
     "iopub.execute_input": "2025-02-18T09:51:15.078025Z",
     "iopub.status.busy": "2025-02-18T09:51:15.077632Z",
     "iopub.status.idle": "2025-02-18T09:51:15.093056Z",
     "shell.execute_reply": "2025-02-18T09:51:15.091921Z"
    },
    "papermill": {
     "duration": 0.025401,
     "end_time": "2025-02-18T09:51:15.095052",
     "exception": false,
     "start_time": "2025-02-18T09:51:15.069651",
     "status": "completed"
    },
    "tags": []
   },
   "outputs": [],
   "source": [
    "binary_mappings = {\n",
    "    \"Married\": {\"Yes\": 1, \"No\": 0},\n",
    "    \"Education\": {\"Graduate\": 1, \"Not Graduate\": 0},\n",
    "    \"Self_Employed\": {\"Yes\": 1, \"No\": 0},\n",
    "    \"Loan_Status\": {\"Y\": 1, \"N\": 0}\n",
    "}\n",
    "\n",
    "for col, mapping in binary_mappings.items():\n",
    "    df[col] = df[col].map(mapping)\n",
    "    \n",
    "df = pd.get_dummies(df, columns=[\"Property_Area\"], drop_first=True)"
   ]
  },
  {
   "cell_type": "code",
   "execution_count": 14,
   "id": "dc5538b9",
   "metadata": {
    "execution": {
     "iopub.execute_input": "2025-02-18T09:51:15.110749Z",
     "iopub.status.busy": "2025-02-18T09:51:15.110343Z",
     "iopub.status.idle": "2025-02-18T09:51:15.122033Z",
     "shell.execute_reply": "2025-02-18T09:51:15.120543Z"
    },
    "papermill": {
     "duration": 0.021628,
     "end_time": "2025-02-18T09:51:15.124009",
     "exception": false,
     "start_time": "2025-02-18T09:51:15.102381",
     "status": "completed"
    },
    "tags": []
   },
   "outputs": [
    {
     "name": "stdout",
     "output_type": "stream",
     "text": [
      "<class 'pandas.core.frame.DataFrame'>\n",
      "RangeIndex: 614 entries, 0 to 613\n",
      "Data columns (total 12 columns):\n",
      " #   Column                   Non-Null Count  Dtype  \n",
      "---  ------                   --------------  -----  \n",
      " 0   Married                  611 non-null    float64\n",
      " 1   Dependents               599 non-null    object \n",
      " 2   Education                614 non-null    int64  \n",
      " 3   Self_Employed            582 non-null    float64\n",
      " 4   ApplicantIncome          614 non-null    int64  \n",
      " 5   CoapplicantIncome        614 non-null    float64\n",
      " 6   LoanAmount               592 non-null    float64\n",
      " 7   Loan_Amount_Term         600 non-null    float64\n",
      " 8   Credit_History           564 non-null    float64\n",
      " 9   Loan_Status              614 non-null    int64  \n",
      " 10  Property_Area_Semiurban  614 non-null    bool   \n",
      " 11  Property_Area_Urban      614 non-null    bool   \n",
      "dtypes: bool(2), float64(6), int64(3), object(1)\n",
      "memory usage: 49.3+ KB\n"
     ]
    }
   ],
   "source": [
    "df.info()"
   ]
  },
  {
   "cell_type": "markdown",
   "id": "1645a4b0",
   "metadata": {
    "papermill": {
     "duration": 0.006981,
     "end_time": "2025-02-18T09:51:15.138466",
     "exception": false,
     "start_time": "2025-02-18T09:51:15.131485",
     "status": "completed"
    },
    "tags": []
   },
   "source": [
    "For crucial columns, such as loan amount and credit history, the row with missing values must be taken with care. We can use median to fill the missing loan amount and use \"most_frequent\" to fill the missing values in categorical columns and \"Dependents\" column"
   ]
  },
  {
   "cell_type": "code",
   "execution_count": 15,
   "id": "6346f9e9",
   "metadata": {
    "execution": {
     "iopub.execute_input": "2025-02-18T09:51:15.154254Z",
     "iopub.status.busy": "2025-02-18T09:51:15.153916Z",
     "iopub.status.idle": "2025-02-18T09:51:16.940279Z",
     "shell.execute_reply": "2025-02-18T09:51:16.938517Z"
    },
    "papermill": {
     "duration": 1.796659,
     "end_time": "2025-02-18T09:51:16.942366",
     "exception": false,
     "start_time": "2025-02-18T09:51:15.145707",
     "status": "completed"
    },
    "tags": []
   },
   "outputs": [
    {
     "name": "stdout",
     "output_type": "stream",
     "text": [
      "<class 'pandas.core.frame.DataFrame'>\n",
      "RangeIndex: 614 entries, 0 to 613\n",
      "Data columns (total 12 columns):\n",
      " #   Column                   Non-Null Count  Dtype  \n",
      "---  ------                   --------------  -----  \n",
      " 0   Married                  614 non-null    object \n",
      " 1   Dependents               614 non-null    int64  \n",
      " 2   Education                614 non-null    int64  \n",
      " 3   Self_Employed            614 non-null    object \n",
      " 4   ApplicantIncome          614 non-null    int64  \n",
      " 5   CoapplicantIncome        614 non-null    float64\n",
      " 6   LoanAmount               614 non-null    float64\n",
      " 7   Loan_Amount_Term         614 non-null    float64\n",
      " 8   Credit_History           614 non-null    object \n",
      " 9   Loan_Status              614 non-null    int64  \n",
      " 10  Property_Area_Semiurban  614 non-null    bool   \n",
      " 11  Property_Area_Urban      614 non-null    bool   \n",
      "dtypes: bool(2), float64(3), int64(4), object(3)\n",
      "memory usage: 49.3+ KB\n"
     ]
    }
   ],
   "source": [
    "from sklearn.impute import SimpleImputer\n",
    "\n",
    "# Fill numerical missing values\n",
    "imputer = SimpleImputer(missing_values=np.nan, strategy='median')\n",
    "num_cols = [\"LoanAmount\", \"Loan_Amount_Term\"]\n",
    "df[num_cols] = imputer.fit_transform(df[num_cols])\n",
    "\n",
    "imputer = SimpleImputer(missing_values=np.nan, strategy='most_frequent')\n",
    "cat_cols = [\"Dependents\", \"Self_Employed\", \"Married\", \"Credit_History\"]\n",
    "df[cat_cols] = imputer.fit_transform(df[cat_cols])\n",
    "\n",
    "df[\"Dependents\"] = df[\"Dependents\"].replace({\"3+\": 3}).astype(int)\n",
    "\n",
    "df.info()"
   ]
  },
  {
   "cell_type": "code",
   "execution_count": 16,
   "id": "bec0844a",
   "metadata": {
    "execution": {
     "iopub.execute_input": "2025-02-18T09:51:16.960104Z",
     "iopub.status.busy": "2025-02-18T09:51:16.959511Z",
     "iopub.status.idle": "2025-02-18T09:51:16.974335Z",
     "shell.execute_reply": "2025-02-18T09:51:16.973390Z"
    },
    "papermill": {
     "duration": 0.025444,
     "end_time": "2025-02-18T09:51:16.976045",
     "exception": false,
     "start_time": "2025-02-18T09:51:16.950601",
     "status": "completed"
    },
    "tags": []
   },
   "outputs": [
    {
     "data": {
      "text/html": [
       "<div>\n",
       "<style scoped>\n",
       "    .dataframe tbody tr th:only-of-type {\n",
       "        vertical-align: middle;\n",
       "    }\n",
       "\n",
       "    .dataframe tbody tr th {\n",
       "        vertical-align: top;\n",
       "    }\n",
       "\n",
       "    .dataframe thead th {\n",
       "        text-align: right;\n",
       "    }\n",
       "</style>\n",
       "<table border=\"1\" class=\"dataframe\">\n",
       "  <thead>\n",
       "    <tr style=\"text-align: right;\">\n",
       "      <th></th>\n",
       "      <th>Married</th>\n",
       "      <th>Dependents</th>\n",
       "      <th>Education</th>\n",
       "      <th>Self_Employed</th>\n",
       "      <th>ApplicantIncome</th>\n",
       "      <th>CoapplicantIncome</th>\n",
       "      <th>LoanAmount</th>\n",
       "      <th>Loan_Amount_Term</th>\n",
       "      <th>Credit_History</th>\n",
       "      <th>Loan_Status</th>\n",
       "      <th>Property_Area_Semiurban</th>\n",
       "      <th>Property_Area_Urban</th>\n",
       "    </tr>\n",
       "  </thead>\n",
       "  <tbody>\n",
       "    <tr>\n",
       "      <th>0</th>\n",
       "      <td>0.0</td>\n",
       "      <td>0</td>\n",
       "      <td>1</td>\n",
       "      <td>0.0</td>\n",
       "      <td>5849</td>\n",
       "      <td>0.0</td>\n",
       "      <td>128.0</td>\n",
       "      <td>360.0</td>\n",
       "      <td>1.0</td>\n",
       "      <td>1</td>\n",
       "      <td>False</td>\n",
       "      <td>True</td>\n",
       "    </tr>\n",
       "    <tr>\n",
       "      <th>1</th>\n",
       "      <td>1.0</td>\n",
       "      <td>1</td>\n",
       "      <td>1</td>\n",
       "      <td>0.0</td>\n",
       "      <td>4583</td>\n",
       "      <td>1508.0</td>\n",
       "      <td>128.0</td>\n",
       "      <td>360.0</td>\n",
       "      <td>1.0</td>\n",
       "      <td>0</td>\n",
       "      <td>False</td>\n",
       "      <td>False</td>\n",
       "    </tr>\n",
       "    <tr>\n",
       "      <th>2</th>\n",
       "      <td>1.0</td>\n",
       "      <td>0</td>\n",
       "      <td>1</td>\n",
       "      <td>1.0</td>\n",
       "      <td>3000</td>\n",
       "      <td>0.0</td>\n",
       "      <td>66.0</td>\n",
       "      <td>360.0</td>\n",
       "      <td>1.0</td>\n",
       "      <td>1</td>\n",
       "      <td>False</td>\n",
       "      <td>True</td>\n",
       "    </tr>\n",
       "    <tr>\n",
       "      <th>3</th>\n",
       "      <td>1.0</td>\n",
       "      <td>0</td>\n",
       "      <td>0</td>\n",
       "      <td>0.0</td>\n",
       "      <td>2583</td>\n",
       "      <td>2358.0</td>\n",
       "      <td>120.0</td>\n",
       "      <td>360.0</td>\n",
       "      <td>1.0</td>\n",
       "      <td>1</td>\n",
       "      <td>False</td>\n",
       "      <td>True</td>\n",
       "    </tr>\n",
       "    <tr>\n",
       "      <th>4</th>\n",
       "      <td>0.0</td>\n",
       "      <td>0</td>\n",
       "      <td>1</td>\n",
       "      <td>0.0</td>\n",
       "      <td>6000</td>\n",
       "      <td>0.0</td>\n",
       "      <td>141.0</td>\n",
       "      <td>360.0</td>\n",
       "      <td>1.0</td>\n",
       "      <td>1</td>\n",
       "      <td>False</td>\n",
       "      <td>True</td>\n",
       "    </tr>\n",
       "  </tbody>\n",
       "</table>\n",
       "</div>"
      ],
      "text/plain": [
       "  Married  Dependents  Education Self_Employed  ApplicantIncome  \\\n",
       "0     0.0           0          1           0.0             5849   \n",
       "1     1.0           1          1           0.0             4583   \n",
       "2     1.0           0          1           1.0             3000   \n",
       "3     1.0           0          0           0.0             2583   \n",
       "4     0.0           0          1           0.0             6000   \n",
       "\n",
       "   CoapplicantIncome  LoanAmount  Loan_Amount_Term Credit_History  \\\n",
       "0                0.0       128.0             360.0            1.0   \n",
       "1             1508.0       128.0             360.0            1.0   \n",
       "2                0.0        66.0             360.0            1.0   \n",
       "3             2358.0       120.0             360.0            1.0   \n",
       "4                0.0       141.0             360.0            1.0   \n",
       "\n",
       "   Loan_Status  Property_Area_Semiurban  Property_Area_Urban  \n",
       "0            1                    False                 True  \n",
       "1            0                    False                False  \n",
       "2            1                    False                 True  \n",
       "3            1                    False                 True  \n",
       "4            1                    False                 True  "
      ]
     },
     "execution_count": 16,
     "metadata": {},
     "output_type": "execute_result"
    }
   ],
   "source": [
    "df.head()"
   ]
  },
  {
   "cell_type": "code",
   "execution_count": 17,
   "id": "3757d7dd",
   "metadata": {
    "execution": {
     "iopub.execute_input": "2025-02-18T09:51:16.992222Z",
     "iopub.status.busy": "2025-02-18T09:51:16.991893Z",
     "iopub.status.idle": "2025-02-18T09:51:17.000158Z",
     "shell.execute_reply": "2025-02-18T09:51:16.999411Z"
    },
    "papermill": {
     "duration": 0.018154,
     "end_time": "2025-02-18T09:51:17.001726",
     "exception": false,
     "start_time": "2025-02-18T09:51:16.983572",
     "status": "completed"
    },
    "tags": []
   },
   "outputs": [
    {
     "data": {
      "text/plain": [
       "Married                    0.091\n",
       "Dependents                 0.010\n",
       "Education                  0.086\n",
       "Self_Employed             -0.004\n",
       "ApplicantIncome           -0.005\n",
       "CoapplicantIncome         -0.059\n",
       "LoanAmount                -0.033\n",
       "Loan_Amount_Term          -0.023\n",
       "Credit_History             0.541\n",
       "Loan_Status                1.000\n",
       "Property_Area_Semiurban    0.137\n",
       "Property_Area_Urban       -0.044\n",
       "Name: Loan_Status, dtype: float64"
      ]
     },
     "execution_count": 17,
     "metadata": {},
     "output_type": "execute_result"
    }
   ],
   "source": [
    "corr = df.corr().round(3)\n",
    "corr[\"Loan_Status\"]"
   ]
  },
  {
   "cell_type": "markdown",
   "id": "0f0f5ceb",
   "metadata": {
    "papermill": {
     "duration": 0.007134,
     "end_time": "2025-02-18T09:51:17.016498",
     "exception": false,
     "start_time": "2025-02-18T09:51:17.009364",
     "status": "completed"
    },
    "tags": []
   },
   "source": [
    "We can see some of the columns have zero, even negative correlation to the loan status. We can remove these columns"
   ]
  },
  {
   "cell_type": "code",
   "execution_count": 18,
   "id": "71251802",
   "metadata": {
    "execution": {
     "iopub.execute_input": "2025-02-18T09:51:17.032775Z",
     "iopub.status.busy": "2025-02-18T09:51:17.032378Z",
     "iopub.status.idle": "2025-02-18T09:51:17.038131Z",
     "shell.execute_reply": "2025-02-18T09:51:17.037176Z"
    },
    "papermill": {
     "duration": 0.015826,
     "end_time": "2025-02-18T09:51:17.039841",
     "exception": false,
     "start_time": "2025-02-18T09:51:17.024015",
     "status": "completed"
    },
    "tags": []
   },
   "outputs": [],
   "source": [
    "cols_to_drop = [\"ApplicantIncome\", \"CoapplicantIncome\", \n",
    "                \"LoanAmount\", \"Loan_Amount_Term\", \"Property_Area_Urban\", \"Self_Employed\"]\n",
    "\n",
    "df.drop(columns=cols_to_drop, inplace=True)"
   ]
  },
  {
   "cell_type": "code",
   "execution_count": 19,
   "id": "60d77760",
   "metadata": {
    "execution": {
     "iopub.execute_input": "2025-02-18T09:51:17.056437Z",
     "iopub.status.busy": "2025-02-18T09:51:17.056022Z",
     "iopub.status.idle": "2025-02-18T09:51:17.067395Z",
     "shell.execute_reply": "2025-02-18T09:51:17.066412Z"
    },
    "papermill": {
     "duration": 0.021429,
     "end_time": "2025-02-18T09:51:17.068995",
     "exception": false,
     "start_time": "2025-02-18T09:51:17.047566",
     "status": "completed"
    },
    "tags": []
   },
   "outputs": [
    {
     "name": "stdout",
     "output_type": "stream",
     "text": [
      "<class 'pandas.core.frame.DataFrame'>\n",
      "RangeIndex: 614 entries, 0 to 613\n",
      "Data columns (total 6 columns):\n",
      " #   Column                   Non-Null Count  Dtype \n",
      "---  ------                   --------------  ----- \n",
      " 0   Married                  614 non-null    object\n",
      " 1   Dependents               614 non-null    int64 \n",
      " 2   Education                614 non-null    int64 \n",
      " 3   Credit_History           614 non-null    object\n",
      " 4   Loan_Status              614 non-null    int64 \n",
      " 5   Property_Area_Semiurban  614 non-null    bool  \n",
      "dtypes: bool(1), int64(3), object(2)\n",
      "memory usage: 24.7+ KB\n"
     ]
    }
   ],
   "source": [
    "df.info()"
   ]
  },
  {
   "cell_type": "markdown",
   "id": "365e8eed",
   "metadata": {
    "papermill": {
     "duration": 0.007754,
     "end_time": "2025-02-18T09:51:17.084469",
     "exception": false,
     "start_time": "2025-02-18T09:51:17.076715",
     "status": "completed"
    },
    "tags": []
   },
   "source": [
    "# Predictive Modeling\n",
    "Now for the model, we will use logistic regression first then we will use more advanced model like xgboost and random forest."
   ]
  },
  {
   "cell_type": "code",
   "execution_count": null,
   "id": "4dd8f0ec",
   "metadata": {
    "papermill": {
     "duration": 0.007156,
     "end_time": "2025-02-18T09:51:17.099363",
     "exception": false,
     "start_time": "2025-02-18T09:51:17.092207",
     "status": "completed"
    },
    "tags": []
   },
   "outputs": [],
   "source": []
  }
 ],
 "metadata": {
  "kaggle": {
   "accelerator": "none",
   "dataSources": [
    {
     "datasetId": 2637478,
     "sourceId": 4512631,
     "sourceType": "datasetVersion"
    }
   ],
   "dockerImageVersionId": 30886,
   "isGpuEnabled": false,
   "isInternetEnabled": true,
   "language": "python",
   "sourceType": "notebook"
  },
  "kernelspec": {
   "display_name": "Python 3",
   "language": "python",
   "name": "python3"
  },
  "language_info": {
   "codemirror_mode": {
    "name": "ipython",
    "version": 3
   },
   "file_extension": ".py",
   "mimetype": "text/x-python",
   "name": "python",
   "nbconvert_exporter": "python",
   "pygments_lexer": "ipython3",
   "version": "3.10.12"
  },
  "papermill": {
   "default_parameters": {},
   "duration": 9.242911,
   "end_time": "2025-02-18T09:51:18.028028",
   "environment_variables": {},
   "exception": null,
   "input_path": "__notebook__.ipynb",
   "output_path": "__notebook__.ipynb",
   "parameters": {},
   "start_time": "2025-02-18T09:51:08.785117",
   "version": "2.6.0"
  }
 },
 "nbformat": 4,
 "nbformat_minor": 5
}
