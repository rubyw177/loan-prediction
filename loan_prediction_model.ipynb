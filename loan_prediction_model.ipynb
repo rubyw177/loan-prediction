{
 "cells": [
  {
   "cell_type": "markdown",
   "id": "fb447513",
   "metadata": {
    "papermill": {
     "duration": 0.011928,
     "end_time": "2025-02-19T13:50:45.362924",
     "exception": false,
     "start_time": "2025-02-19T13:50:45.350996",
     "status": "completed"
    },
    "tags": []
   },
   "source": [
    "# Download the loan dataset"
   ]
  },
  {
   "cell_type": "code",
   "execution_count": 1,
   "id": "4e1d668e",
   "metadata": {
    "execution": {
     "iopub.execute_input": "2025-02-19T13:50:45.387410Z",
     "iopub.status.busy": "2025-02-19T13:50:45.386871Z",
     "iopub.status.idle": "2025-02-19T13:50:47.240835Z",
     "shell.execute_reply": "2025-02-19T13:50:47.239143Z"
    },
    "papermill": {
     "duration": 1.868353,
     "end_time": "2025-02-19T13:50:47.242977",
     "exception": false,
     "start_time": "2025-02-19T13:50:45.374624",
     "status": "completed"
    },
    "tags": []
   },
   "outputs": [
    {
     "name": "stdout",
     "output_type": "stream",
     "text": [
      "Path to dataset files: /kaggle/input/eligibility-prediction-for-loan\n"
     ]
    }
   ],
   "source": [
    "import kagglehub\n",
    "\n",
    "# Download latest version\n",
    "path = kagglehub.dataset_download(\"devzohaib/eligibility-prediction-for-loan\")\n",
    "\n",
    "print(\"Path to dataset files:\", path)"
   ]
  },
  {
   "cell_type": "markdown",
   "id": "20fa134c",
   "metadata": {
    "papermill": {
     "duration": 0.01107,
     "end_time": "2025-02-19T13:50:47.266058",
     "exception": false,
     "start_time": "2025-02-19T13:50:47.254988",
     "status": "completed"
    },
    "tags": []
   },
   "source": [
    "Import LIbraries"
   ]
  },
  {
   "cell_type": "code",
   "execution_count": 2,
   "id": "3222b24c",
   "metadata": {
    "execution": {
     "iopub.execute_input": "2025-02-19T13:50:47.290527Z",
     "iopub.status.busy": "2025-02-19T13:50:47.290017Z",
     "iopub.status.idle": "2025-02-19T13:50:50.150446Z",
     "shell.execute_reply": "2025-02-19T13:50:50.148372Z"
    },
    "papermill": {
     "duration": 2.875024,
     "end_time": "2025-02-19T13:50:50.152635",
     "exception": false,
     "start_time": "2025-02-19T13:50:47.277611",
     "status": "completed"
    },
    "tags": []
   },
   "outputs": [],
   "source": [
    "import pandas as pd\n",
    "import numpy as np\n",
    "import seaborn as sns\n",
    "import matplotlib.pyplot as plt"
   ]
  },
  {
   "cell_type": "markdown",
   "id": "7c8b99a8",
   "metadata": {
    "papermill": {
     "duration": 0.011061,
     "end_time": "2025-02-19T13:50:50.175148",
     "exception": false,
     "start_time": "2025-02-19T13:50:50.164087",
     "status": "completed"
    },
    "tags": []
   },
   "source": [
    "# Data preprocessing\n",
    "in this section the data will be cleaned, encoded, and preprocessed"
   ]
  },
  {
   "cell_type": "code",
   "execution_count": 3,
   "id": "7d82fc0a",
   "metadata": {
    "execution": {
     "iopub.execute_input": "2025-02-19T13:50:50.198376Z",
     "iopub.status.busy": "2025-02-19T13:50:50.197824Z",
     "iopub.status.idle": "2025-02-19T13:50:50.225273Z",
     "shell.execute_reply": "2025-02-19T13:50:50.223592Z"
    },
    "papermill": {
     "duration": 0.041556,
     "end_time": "2025-02-19T13:50:50.227431",
     "exception": false,
     "start_time": "2025-02-19T13:50:50.185875",
     "status": "completed"
    },
    "tags": []
   },
   "outputs": [],
   "source": [
    "df = pd.read_csv(\"/kaggle/input/eligibility-prediction-for-loan/Loan_Data.csv\")"
   ]
  },
  {
   "cell_type": "code",
   "execution_count": 4,
   "id": "b32dd7f2",
   "metadata": {
    "execution": {
     "iopub.execute_input": "2025-02-19T13:50:50.251290Z",
     "iopub.status.busy": "2025-02-19T13:50:50.250909Z",
     "iopub.status.idle": "2025-02-19T13:50:50.295391Z",
     "shell.execute_reply": "2025-02-19T13:50:50.294092Z"
    },
    "papermill": {
     "duration": 0.058616,
     "end_time": "2025-02-19T13:50:50.297414",
     "exception": false,
     "start_time": "2025-02-19T13:50:50.238798",
     "status": "completed"
    },
    "tags": []
   },
   "outputs": [
    {
     "name": "stderr",
     "output_type": "stream",
     "text": [
      "/usr/local/lib/python3.10/dist-packages/pandas/io/formats/format.py:1458: RuntimeWarning: invalid value encountered in greater\n",
      "  has_large_values = (abs_vals > 1e6).any()\n",
      "/usr/local/lib/python3.10/dist-packages/pandas/io/formats/format.py:1459: RuntimeWarning: invalid value encountered in less\n",
      "  has_small_values = ((abs_vals < 10 ** (-self.digits)) & (abs_vals > 0)).any()\n",
      "/usr/local/lib/python3.10/dist-packages/pandas/io/formats/format.py:1459: RuntimeWarning: invalid value encountered in greater\n",
      "  has_small_values = ((abs_vals < 10 ** (-self.digits)) & (abs_vals > 0)).any()\n"
     ]
    },
    {
     "data": {
      "text/html": [
       "<div>\n",
       "<style scoped>\n",
       "    .dataframe tbody tr th:only-of-type {\n",
       "        vertical-align: middle;\n",
       "    }\n",
       "\n",
       "    .dataframe tbody tr th {\n",
       "        vertical-align: top;\n",
       "    }\n",
       "\n",
       "    .dataframe thead th {\n",
       "        text-align: right;\n",
       "    }\n",
       "</style>\n",
       "<table border=\"1\" class=\"dataframe\">\n",
       "  <thead>\n",
       "    <tr style=\"text-align: right;\">\n",
       "      <th></th>\n",
       "      <th>Loan_ID</th>\n",
       "      <th>Gender</th>\n",
       "      <th>Married</th>\n",
       "      <th>Dependents</th>\n",
       "      <th>Education</th>\n",
       "      <th>Self_Employed</th>\n",
       "      <th>ApplicantIncome</th>\n",
       "      <th>CoapplicantIncome</th>\n",
       "      <th>LoanAmount</th>\n",
       "      <th>Loan_Amount_Term</th>\n",
       "      <th>Credit_History</th>\n",
       "      <th>Property_Area</th>\n",
       "      <th>Loan_Status</th>\n",
       "    </tr>\n",
       "  </thead>\n",
       "  <tbody>\n",
       "    <tr>\n",
       "      <th>0</th>\n",
       "      <td>LP001002</td>\n",
       "      <td>Male</td>\n",
       "      <td>No</td>\n",
       "      <td>0</td>\n",
       "      <td>Graduate</td>\n",
       "      <td>No</td>\n",
       "      <td>5849</td>\n",
       "      <td>0.0</td>\n",
       "      <td>NaN</td>\n",
       "      <td>360.0</td>\n",
       "      <td>1.0</td>\n",
       "      <td>Urban</td>\n",
       "      <td>Y</td>\n",
       "    </tr>\n",
       "    <tr>\n",
       "      <th>1</th>\n",
       "      <td>LP001003</td>\n",
       "      <td>Male</td>\n",
       "      <td>Yes</td>\n",
       "      <td>1</td>\n",
       "      <td>Graduate</td>\n",
       "      <td>No</td>\n",
       "      <td>4583</td>\n",
       "      <td>1508.0</td>\n",
       "      <td>128.0</td>\n",
       "      <td>360.0</td>\n",
       "      <td>1.0</td>\n",
       "      <td>Rural</td>\n",
       "      <td>N</td>\n",
       "    </tr>\n",
       "    <tr>\n",
       "      <th>2</th>\n",
       "      <td>LP001005</td>\n",
       "      <td>Male</td>\n",
       "      <td>Yes</td>\n",
       "      <td>0</td>\n",
       "      <td>Graduate</td>\n",
       "      <td>Yes</td>\n",
       "      <td>3000</td>\n",
       "      <td>0.0</td>\n",
       "      <td>66.0</td>\n",
       "      <td>360.0</td>\n",
       "      <td>1.0</td>\n",
       "      <td>Urban</td>\n",
       "      <td>Y</td>\n",
       "    </tr>\n",
       "    <tr>\n",
       "      <th>3</th>\n",
       "      <td>LP001006</td>\n",
       "      <td>Male</td>\n",
       "      <td>Yes</td>\n",
       "      <td>0</td>\n",
       "      <td>Not Graduate</td>\n",
       "      <td>No</td>\n",
       "      <td>2583</td>\n",
       "      <td>2358.0</td>\n",
       "      <td>120.0</td>\n",
       "      <td>360.0</td>\n",
       "      <td>1.0</td>\n",
       "      <td>Urban</td>\n",
       "      <td>Y</td>\n",
       "    </tr>\n",
       "    <tr>\n",
       "      <th>4</th>\n",
       "      <td>LP001008</td>\n",
       "      <td>Male</td>\n",
       "      <td>No</td>\n",
       "      <td>0</td>\n",
       "      <td>Graduate</td>\n",
       "      <td>No</td>\n",
       "      <td>6000</td>\n",
       "      <td>0.0</td>\n",
       "      <td>141.0</td>\n",
       "      <td>360.0</td>\n",
       "      <td>1.0</td>\n",
       "      <td>Urban</td>\n",
       "      <td>Y</td>\n",
       "    </tr>\n",
       "    <tr>\n",
       "      <th>...</th>\n",
       "      <td>...</td>\n",
       "      <td>...</td>\n",
       "      <td>...</td>\n",
       "      <td>...</td>\n",
       "      <td>...</td>\n",
       "      <td>...</td>\n",
       "      <td>...</td>\n",
       "      <td>...</td>\n",
       "      <td>...</td>\n",
       "      <td>...</td>\n",
       "      <td>...</td>\n",
       "      <td>...</td>\n",
       "      <td>...</td>\n",
       "    </tr>\n",
       "    <tr>\n",
       "      <th>609</th>\n",
       "      <td>LP002978</td>\n",
       "      <td>Female</td>\n",
       "      <td>No</td>\n",
       "      <td>0</td>\n",
       "      <td>Graduate</td>\n",
       "      <td>No</td>\n",
       "      <td>2900</td>\n",
       "      <td>0.0</td>\n",
       "      <td>71.0</td>\n",
       "      <td>360.0</td>\n",
       "      <td>1.0</td>\n",
       "      <td>Rural</td>\n",
       "      <td>Y</td>\n",
       "    </tr>\n",
       "    <tr>\n",
       "      <th>610</th>\n",
       "      <td>LP002979</td>\n",
       "      <td>Male</td>\n",
       "      <td>Yes</td>\n",
       "      <td>3+</td>\n",
       "      <td>Graduate</td>\n",
       "      <td>No</td>\n",
       "      <td>4106</td>\n",
       "      <td>0.0</td>\n",
       "      <td>40.0</td>\n",
       "      <td>180.0</td>\n",
       "      <td>1.0</td>\n",
       "      <td>Rural</td>\n",
       "      <td>Y</td>\n",
       "    </tr>\n",
       "    <tr>\n",
       "      <th>611</th>\n",
       "      <td>LP002983</td>\n",
       "      <td>Male</td>\n",
       "      <td>Yes</td>\n",
       "      <td>1</td>\n",
       "      <td>Graduate</td>\n",
       "      <td>No</td>\n",
       "      <td>8072</td>\n",
       "      <td>240.0</td>\n",
       "      <td>253.0</td>\n",
       "      <td>360.0</td>\n",
       "      <td>1.0</td>\n",
       "      <td>Urban</td>\n",
       "      <td>Y</td>\n",
       "    </tr>\n",
       "    <tr>\n",
       "      <th>612</th>\n",
       "      <td>LP002984</td>\n",
       "      <td>Male</td>\n",
       "      <td>Yes</td>\n",
       "      <td>2</td>\n",
       "      <td>Graduate</td>\n",
       "      <td>No</td>\n",
       "      <td>7583</td>\n",
       "      <td>0.0</td>\n",
       "      <td>187.0</td>\n",
       "      <td>360.0</td>\n",
       "      <td>1.0</td>\n",
       "      <td>Urban</td>\n",
       "      <td>Y</td>\n",
       "    </tr>\n",
       "    <tr>\n",
       "      <th>613</th>\n",
       "      <td>LP002990</td>\n",
       "      <td>Female</td>\n",
       "      <td>No</td>\n",
       "      <td>0</td>\n",
       "      <td>Graduate</td>\n",
       "      <td>Yes</td>\n",
       "      <td>4583</td>\n",
       "      <td>0.0</td>\n",
       "      <td>133.0</td>\n",
       "      <td>360.0</td>\n",
       "      <td>0.0</td>\n",
       "      <td>Semiurban</td>\n",
       "      <td>N</td>\n",
       "    </tr>\n",
       "  </tbody>\n",
       "</table>\n",
       "<p>614 rows × 13 columns</p>\n",
       "</div>"
      ],
      "text/plain": [
       "      Loan_ID  Gender Married Dependents     Education Self_Employed  \\\n",
       "0    LP001002    Male      No          0      Graduate            No   \n",
       "1    LP001003    Male     Yes          1      Graduate            No   \n",
       "2    LP001005    Male     Yes          0      Graduate           Yes   \n",
       "3    LP001006    Male     Yes          0  Not Graduate            No   \n",
       "4    LP001008    Male      No          0      Graduate            No   \n",
       "..        ...     ...     ...        ...           ...           ...   \n",
       "609  LP002978  Female      No          0      Graduate            No   \n",
       "610  LP002979    Male     Yes         3+      Graduate            No   \n",
       "611  LP002983    Male     Yes          1      Graduate            No   \n",
       "612  LP002984    Male     Yes          2      Graduate            No   \n",
       "613  LP002990  Female      No          0      Graduate           Yes   \n",
       "\n",
       "     ApplicantIncome  CoapplicantIncome  LoanAmount  Loan_Amount_Term  \\\n",
       "0               5849                0.0         NaN             360.0   \n",
       "1               4583             1508.0       128.0             360.0   \n",
       "2               3000                0.0        66.0             360.0   \n",
       "3               2583             2358.0       120.0             360.0   \n",
       "4               6000                0.0       141.0             360.0   \n",
       "..               ...                ...         ...               ...   \n",
       "609             2900                0.0        71.0             360.0   \n",
       "610             4106                0.0        40.0             180.0   \n",
       "611             8072              240.0       253.0             360.0   \n",
       "612             7583                0.0       187.0             360.0   \n",
       "613             4583                0.0       133.0             360.0   \n",
       "\n",
       "     Credit_History Property_Area Loan_Status  \n",
       "0               1.0         Urban           Y  \n",
       "1               1.0         Rural           N  \n",
       "2               1.0         Urban           Y  \n",
       "3               1.0         Urban           Y  \n",
       "4               1.0         Urban           Y  \n",
       "..              ...           ...         ...  \n",
       "609             1.0         Rural           Y  \n",
       "610             1.0         Rural           Y  \n",
       "611             1.0         Urban           Y  \n",
       "612             1.0         Urban           Y  \n",
       "613             0.0     Semiurban           N  \n",
       "\n",
       "[614 rows x 13 columns]"
      ]
     },
     "execution_count": 4,
     "metadata": {},
     "output_type": "execute_result"
    }
   ],
   "source": [
    "df"
   ]
  },
  {
   "cell_type": "code",
   "execution_count": 5,
   "id": "4417fb9a",
   "metadata": {
    "execution": {
     "iopub.execute_input": "2025-02-19T13:50:50.321589Z",
     "iopub.status.busy": "2025-02-19T13:50:50.321242Z",
     "iopub.status.idle": "2025-02-19T13:50:50.350442Z",
     "shell.execute_reply": "2025-02-19T13:50:50.349092Z"
    },
    "papermill": {
     "duration": 0.04378,
     "end_time": "2025-02-19T13:50:50.352630",
     "exception": false,
     "start_time": "2025-02-19T13:50:50.308850",
     "status": "completed"
    },
    "tags": []
   },
   "outputs": [
    {
     "data": {
      "text/html": [
       "<div>\n",
       "<style scoped>\n",
       "    .dataframe tbody tr th:only-of-type {\n",
       "        vertical-align: middle;\n",
       "    }\n",
       "\n",
       "    .dataframe tbody tr th {\n",
       "        vertical-align: top;\n",
       "    }\n",
       "\n",
       "    .dataframe thead th {\n",
       "        text-align: right;\n",
       "    }\n",
       "</style>\n",
       "<table border=\"1\" class=\"dataframe\">\n",
       "  <thead>\n",
       "    <tr style=\"text-align: right;\">\n",
       "      <th></th>\n",
       "      <th>ApplicantIncome</th>\n",
       "      <th>CoapplicantIncome</th>\n",
       "      <th>LoanAmount</th>\n",
       "      <th>Loan_Amount_Term</th>\n",
       "      <th>Credit_History</th>\n",
       "    </tr>\n",
       "  </thead>\n",
       "  <tbody>\n",
       "    <tr>\n",
       "      <th>count</th>\n",
       "      <td>614.000000</td>\n",
       "      <td>614.000000</td>\n",
       "      <td>592.000000</td>\n",
       "      <td>600.00000</td>\n",
       "      <td>564.000000</td>\n",
       "    </tr>\n",
       "    <tr>\n",
       "      <th>mean</th>\n",
       "      <td>5403.459283</td>\n",
       "      <td>1621.245798</td>\n",
       "      <td>146.412162</td>\n",
       "      <td>342.00000</td>\n",
       "      <td>0.842199</td>\n",
       "    </tr>\n",
       "    <tr>\n",
       "      <th>std</th>\n",
       "      <td>6109.041673</td>\n",
       "      <td>2926.248369</td>\n",
       "      <td>85.587325</td>\n",
       "      <td>65.12041</td>\n",
       "      <td>0.364878</td>\n",
       "    </tr>\n",
       "    <tr>\n",
       "      <th>min</th>\n",
       "      <td>150.000000</td>\n",
       "      <td>0.000000</td>\n",
       "      <td>9.000000</td>\n",
       "      <td>12.00000</td>\n",
       "      <td>0.000000</td>\n",
       "    </tr>\n",
       "    <tr>\n",
       "      <th>25%</th>\n",
       "      <td>2877.500000</td>\n",
       "      <td>0.000000</td>\n",
       "      <td>100.000000</td>\n",
       "      <td>360.00000</td>\n",
       "      <td>1.000000</td>\n",
       "    </tr>\n",
       "    <tr>\n",
       "      <th>50%</th>\n",
       "      <td>3812.500000</td>\n",
       "      <td>1188.500000</td>\n",
       "      <td>128.000000</td>\n",
       "      <td>360.00000</td>\n",
       "      <td>1.000000</td>\n",
       "    </tr>\n",
       "    <tr>\n",
       "      <th>75%</th>\n",
       "      <td>5795.000000</td>\n",
       "      <td>2297.250000</td>\n",
       "      <td>168.000000</td>\n",
       "      <td>360.00000</td>\n",
       "      <td>1.000000</td>\n",
       "    </tr>\n",
       "    <tr>\n",
       "      <th>max</th>\n",
       "      <td>81000.000000</td>\n",
       "      <td>41667.000000</td>\n",
       "      <td>700.000000</td>\n",
       "      <td>480.00000</td>\n",
       "      <td>1.000000</td>\n",
       "    </tr>\n",
       "  </tbody>\n",
       "</table>\n",
       "</div>"
      ],
      "text/plain": [
       "       ApplicantIncome  CoapplicantIncome  LoanAmount  Loan_Amount_Term  \\\n",
       "count       614.000000         614.000000  592.000000         600.00000   \n",
       "mean       5403.459283        1621.245798  146.412162         342.00000   \n",
       "std        6109.041673        2926.248369   85.587325          65.12041   \n",
       "min         150.000000           0.000000    9.000000          12.00000   \n",
       "25%        2877.500000           0.000000  100.000000         360.00000   \n",
       "50%        3812.500000        1188.500000  128.000000         360.00000   \n",
       "75%        5795.000000        2297.250000  168.000000         360.00000   \n",
       "max       81000.000000       41667.000000  700.000000         480.00000   \n",
       "\n",
       "       Credit_History  \n",
       "count      564.000000  \n",
       "mean         0.842199  \n",
       "std          0.364878  \n",
       "min          0.000000  \n",
       "25%          1.000000  \n",
       "50%          1.000000  \n",
       "75%          1.000000  \n",
       "max          1.000000  "
      ]
     },
     "execution_count": 5,
     "metadata": {},
     "output_type": "execute_result"
    }
   ],
   "source": [
    "df.describe()"
   ]
  },
  {
   "cell_type": "code",
   "execution_count": 6,
   "id": "a1901017",
   "metadata": {
    "execution": {
     "iopub.execute_input": "2025-02-19T13:50:50.380151Z",
     "iopub.status.busy": "2025-02-19T13:50:50.379641Z",
     "iopub.status.idle": "2025-02-19T13:50:50.404949Z",
     "shell.execute_reply": "2025-02-19T13:50:50.403365Z"
    },
    "papermill": {
     "duration": 0.041797,
     "end_time": "2025-02-19T13:50:50.406930",
     "exception": false,
     "start_time": "2025-02-19T13:50:50.365133",
     "status": "completed"
    },
    "tags": []
   },
   "outputs": [
    {
     "name": "stdout",
     "output_type": "stream",
     "text": [
      "<class 'pandas.core.frame.DataFrame'>\n",
      "RangeIndex: 614 entries, 0 to 613\n",
      "Data columns (total 13 columns):\n",
      " #   Column             Non-Null Count  Dtype  \n",
      "---  ------             --------------  -----  \n",
      " 0   Loan_ID            614 non-null    object \n",
      " 1   Gender             601 non-null    object \n",
      " 2   Married            611 non-null    object \n",
      " 3   Dependents         599 non-null    object \n",
      " 4   Education          614 non-null    object \n",
      " 5   Self_Employed      582 non-null    object \n",
      " 6   ApplicantIncome    614 non-null    int64  \n",
      " 7   CoapplicantIncome  614 non-null    float64\n",
      " 8   LoanAmount         592 non-null    float64\n",
      " 9   Loan_Amount_Term   600 non-null    float64\n",
      " 10  Credit_History     564 non-null    float64\n",
      " 11  Property_Area      614 non-null    object \n",
      " 12  Loan_Status        614 non-null    object \n",
      "dtypes: float64(4), int64(1), object(8)\n",
      "memory usage: 62.5+ KB\n"
     ]
    }
   ],
   "source": [
    "df.info()"
   ]
  },
  {
   "cell_type": "markdown",
   "id": "a3ecfc5e",
   "metadata": {
    "papermill": {
     "duration": 0.01179,
     "end_time": "2025-02-19T13:50:50.431132",
     "exception": false,
     "start_time": "2025-02-19T13:50:50.419342",
     "status": "completed"
    },
    "tags": []
   },
   "source": [
    "it seems there are columns with missing values. Let's check how many missing values are there!"
   ]
  },
  {
   "cell_type": "code",
   "execution_count": 7,
   "id": "7ba99cab",
   "metadata": {
    "execution": {
     "iopub.execute_input": "2025-02-19T13:50:50.456685Z",
     "iopub.status.busy": "2025-02-19T13:50:50.456298Z",
     "iopub.status.idle": "2025-02-19T13:50:50.464958Z",
     "shell.execute_reply": "2025-02-19T13:50:50.463864Z"
    },
    "papermill": {
     "duration": 0.023469,
     "end_time": "2025-02-19T13:50:50.466662",
     "exception": false,
     "start_time": "2025-02-19T13:50:50.443193",
     "status": "completed"
    },
    "tags": []
   },
   "outputs": [
    {
     "data": {
      "text/plain": [
       "Loan_ID               0\n",
       "Gender               13\n",
       "Married               3\n",
       "Dependents           15\n",
       "Education             0\n",
       "Self_Employed        32\n",
       "ApplicantIncome       0\n",
       "CoapplicantIncome     0\n",
       "LoanAmount           22\n",
       "Loan_Amount_Term     14\n",
       "Credit_History       50\n",
       "Property_Area         0\n",
       "Loan_Status           0\n",
       "dtype: int64"
      ]
     },
     "execution_count": 7,
     "metadata": {},
     "output_type": "execute_result"
    }
   ],
   "source": [
    "df.isnull().sum()"
   ]
  },
  {
   "cell_type": "code",
   "execution_count": 8,
   "id": "99eb659e",
   "metadata": {
    "execution": {
     "iopub.execute_input": "2025-02-19T13:50:50.492537Z",
     "iopub.status.busy": "2025-02-19T13:50:50.492109Z",
     "iopub.status.idle": "2025-02-19T13:50:50.502175Z",
     "shell.execute_reply": "2025-02-19T13:50:50.500977Z"
    },
    "papermill": {
     "duration": 0.025058,
     "end_time": "2025-02-19T13:50:50.504128",
     "exception": false,
     "start_time": "2025-02-19T13:50:50.479070",
     "status": "completed"
    },
    "tags": []
   },
   "outputs": [
    {
     "data": {
      "text/plain": [
       "Loan_ID              0.000000\n",
       "Gender               2.117264\n",
       "Married              0.488599\n",
       "Dependents           2.442997\n",
       "Education            0.000000\n",
       "Self_Employed        5.211726\n",
       "ApplicantIncome      0.000000\n",
       "CoapplicantIncome    0.000000\n",
       "LoanAmount           3.583062\n",
       "Loan_Amount_Term     2.280130\n",
       "Credit_History       8.143322\n",
       "Property_Area        0.000000\n",
       "Loan_Status          0.000000\n",
       "dtype: float64"
      ]
     },
     "execution_count": 8,
     "metadata": {},
     "output_type": "execute_result"
    }
   ],
   "source": [
    "missing_percentage = (df.isnull().sum() / len(df)) * 100\n",
    "missing_percentage"
   ]
  },
  {
   "cell_type": "code",
   "execution_count": 9,
   "id": "0864a0f3",
   "metadata": {
    "execution": {
     "iopub.execute_input": "2025-02-19T13:50:50.530015Z",
     "iopub.status.busy": "2025-02-19T13:50:50.529536Z",
     "iopub.status.idle": "2025-02-19T13:50:50.561098Z",
     "shell.execute_reply": "2025-02-19T13:50:50.559607Z"
    },
    "papermill": {
     "duration": 0.046672,
     "end_time": "2025-02-19T13:50:50.562870",
     "exception": false,
     "start_time": "2025-02-19T13:50:50.516198",
     "status": "completed"
    },
    "tags": []
   },
   "outputs": [
    {
     "name": "stdout",
     "output_type": "stream",
     "text": [
      "Loan_Status         N         Y\n",
      "Gender                         \n",
      "Female       0.330357  0.669643\n",
      "Male         0.306748  0.693252\n"
     ]
    }
   ],
   "source": [
    "gender_impact = df.groupby(\"Gender\")[\"Loan_Status\"].value_counts(normalize=True).unstack()\n",
    "print(gender_impact)"
   ]
  },
  {
   "cell_type": "code",
   "execution_count": 10,
   "id": "054c0cba",
   "metadata": {
    "execution": {
     "iopub.execute_input": "2025-02-19T13:50:50.588701Z",
     "iopub.status.busy": "2025-02-19T13:50:50.588258Z",
     "iopub.status.idle": "2025-02-19T13:50:50.602577Z",
     "shell.execute_reply": "2025-02-19T13:50:50.601133Z"
    },
    "papermill": {
     "duration": 0.029525,
     "end_time": "2025-02-19T13:50:50.604541",
     "exception": false,
     "start_time": "2025-02-19T13:50:50.575016",
     "status": "completed"
    },
    "tags": []
   },
   "outputs": [
    {
     "name": "stdout",
     "output_type": "stream",
     "text": [
      "Loan_Status         N         Y\n",
      "Married                        \n",
      "No           0.370892  0.629108\n",
      "Yes          0.283920  0.716080\n"
     ]
    }
   ],
   "source": [
    "married_impact = df.groupby(\"Married\")[\"Loan_Status\"].value_counts(normalize=True).unstack()\n",
    "print(married_impact)"
   ]
  },
  {
   "cell_type": "code",
   "execution_count": 11,
   "id": "d1cd73c7",
   "metadata": {
    "execution": {
     "iopub.execute_input": "2025-02-19T13:50:50.630411Z",
     "iopub.status.busy": "2025-02-19T13:50:50.629976Z",
     "iopub.status.idle": "2025-02-19T13:50:50.643704Z",
     "shell.execute_reply": "2025-02-19T13:50:50.642494Z"
    },
    "papermill": {
     "duration": 0.028917,
     "end_time": "2025-02-19T13:50:50.645712",
     "exception": false,
     "start_time": "2025-02-19T13:50:50.616795",
     "status": "completed"
    },
    "tags": []
   },
   "outputs": [
    {
     "name": "stdout",
     "output_type": "stream",
     "text": [
      "Loan_Status          N         Y\n",
      "Education                       \n",
      "Graduate      0.291667  0.708333\n",
      "Not Graduate  0.388060  0.611940\n"
     ]
    }
   ],
   "source": [
    "edu_impact = df.groupby(\"Education\")[\"Loan_Status\"].value_counts(normalize=True).unstack()\n",
    "print(edu_impact)"
   ]
  },
  {
   "cell_type": "markdown",
   "id": "9424abf5",
   "metadata": {
    "papermill": {
     "duration": 0.011858,
     "end_time": "2025-02-19T13:50:50.669710",
     "exception": false,
     "start_time": "2025-02-19T13:50:50.657852",
     "status": "completed"
    },
    "tags": []
   },
   "source": [
    "Since the approval rates for both genders are nearly the same, we won't need the Gender column"
   ]
  },
  {
   "cell_type": "markdown",
   "id": "5acdab85",
   "metadata": {
    "papermill": {
     "duration": 0.011781,
     "end_time": "2025-02-19T13:50:50.693632",
     "exception": false,
     "start_time": "2025-02-19T13:50:50.681851",
     "status": "completed"
    },
    "tags": []
   },
   "source": [
    "We also won't need loan_id column for the prediction, so it can be removed."
   ]
  },
  {
   "cell_type": "code",
   "execution_count": 12,
   "id": "24ee8756",
   "metadata": {
    "execution": {
     "iopub.execute_input": "2025-02-19T13:50:50.719772Z",
     "iopub.status.busy": "2025-02-19T13:50:50.719369Z",
     "iopub.status.idle": "2025-02-19T13:50:50.741062Z",
     "shell.execute_reply": "2025-02-19T13:50:50.739570Z"
    },
    "papermill": {
     "duration": 0.037345,
     "end_time": "2025-02-19T13:50:50.743133",
     "exception": false,
     "start_time": "2025-02-19T13:50:50.705788",
     "status": "completed"
    },
    "tags": []
   },
   "outputs": [
    {
     "name": "stderr",
     "output_type": "stream",
     "text": [
      "/usr/local/lib/python3.10/dist-packages/pandas/io/formats/format.py:1458: RuntimeWarning: invalid value encountered in greater\n",
      "  has_large_values = (abs_vals > 1e6).any()\n",
      "/usr/local/lib/python3.10/dist-packages/pandas/io/formats/format.py:1459: RuntimeWarning: invalid value encountered in less\n",
      "  has_small_values = ((abs_vals < 10 ** (-self.digits)) & (abs_vals > 0)).any()\n",
      "/usr/local/lib/python3.10/dist-packages/pandas/io/formats/format.py:1459: RuntimeWarning: invalid value encountered in greater\n",
      "  has_small_values = ((abs_vals < 10 ** (-self.digits)) & (abs_vals > 0)).any()\n"
     ]
    },
    {
     "data": {
      "text/html": [
       "<div>\n",
       "<style scoped>\n",
       "    .dataframe tbody tr th:only-of-type {\n",
       "        vertical-align: middle;\n",
       "    }\n",
       "\n",
       "    .dataframe tbody tr th {\n",
       "        vertical-align: top;\n",
       "    }\n",
       "\n",
       "    .dataframe thead th {\n",
       "        text-align: right;\n",
       "    }\n",
       "</style>\n",
       "<table border=\"1\" class=\"dataframe\">\n",
       "  <thead>\n",
       "    <tr style=\"text-align: right;\">\n",
       "      <th></th>\n",
       "      <th>Married</th>\n",
       "      <th>Dependents</th>\n",
       "      <th>Education</th>\n",
       "      <th>Self_Employed</th>\n",
       "      <th>ApplicantIncome</th>\n",
       "      <th>CoapplicantIncome</th>\n",
       "      <th>LoanAmount</th>\n",
       "      <th>Loan_Amount_Term</th>\n",
       "      <th>Credit_History</th>\n",
       "      <th>Property_Area</th>\n",
       "      <th>Loan_Status</th>\n",
       "    </tr>\n",
       "  </thead>\n",
       "  <tbody>\n",
       "    <tr>\n",
       "      <th>0</th>\n",
       "      <td>No</td>\n",
       "      <td>0</td>\n",
       "      <td>Graduate</td>\n",
       "      <td>No</td>\n",
       "      <td>5849</td>\n",
       "      <td>0.0</td>\n",
       "      <td>NaN</td>\n",
       "      <td>360.0</td>\n",
       "      <td>1.0</td>\n",
       "      <td>Urban</td>\n",
       "      <td>Y</td>\n",
       "    </tr>\n",
       "    <tr>\n",
       "      <th>1</th>\n",
       "      <td>Yes</td>\n",
       "      <td>1</td>\n",
       "      <td>Graduate</td>\n",
       "      <td>No</td>\n",
       "      <td>4583</td>\n",
       "      <td>1508.0</td>\n",
       "      <td>128.0</td>\n",
       "      <td>360.0</td>\n",
       "      <td>1.0</td>\n",
       "      <td>Rural</td>\n",
       "      <td>N</td>\n",
       "    </tr>\n",
       "    <tr>\n",
       "      <th>2</th>\n",
       "      <td>Yes</td>\n",
       "      <td>0</td>\n",
       "      <td>Graduate</td>\n",
       "      <td>Yes</td>\n",
       "      <td>3000</td>\n",
       "      <td>0.0</td>\n",
       "      <td>66.0</td>\n",
       "      <td>360.0</td>\n",
       "      <td>1.0</td>\n",
       "      <td>Urban</td>\n",
       "      <td>Y</td>\n",
       "    </tr>\n",
       "    <tr>\n",
       "      <th>3</th>\n",
       "      <td>Yes</td>\n",
       "      <td>0</td>\n",
       "      <td>Not Graduate</td>\n",
       "      <td>No</td>\n",
       "      <td>2583</td>\n",
       "      <td>2358.0</td>\n",
       "      <td>120.0</td>\n",
       "      <td>360.0</td>\n",
       "      <td>1.0</td>\n",
       "      <td>Urban</td>\n",
       "      <td>Y</td>\n",
       "    </tr>\n",
       "    <tr>\n",
       "      <th>4</th>\n",
       "      <td>No</td>\n",
       "      <td>0</td>\n",
       "      <td>Graduate</td>\n",
       "      <td>No</td>\n",
       "      <td>6000</td>\n",
       "      <td>0.0</td>\n",
       "      <td>141.0</td>\n",
       "      <td>360.0</td>\n",
       "      <td>1.0</td>\n",
       "      <td>Urban</td>\n",
       "      <td>Y</td>\n",
       "    </tr>\n",
       "    <tr>\n",
       "      <th>...</th>\n",
       "      <td>...</td>\n",
       "      <td>...</td>\n",
       "      <td>...</td>\n",
       "      <td>...</td>\n",
       "      <td>...</td>\n",
       "      <td>...</td>\n",
       "      <td>...</td>\n",
       "      <td>...</td>\n",
       "      <td>...</td>\n",
       "      <td>...</td>\n",
       "      <td>...</td>\n",
       "    </tr>\n",
       "    <tr>\n",
       "      <th>609</th>\n",
       "      <td>No</td>\n",
       "      <td>0</td>\n",
       "      <td>Graduate</td>\n",
       "      <td>No</td>\n",
       "      <td>2900</td>\n",
       "      <td>0.0</td>\n",
       "      <td>71.0</td>\n",
       "      <td>360.0</td>\n",
       "      <td>1.0</td>\n",
       "      <td>Rural</td>\n",
       "      <td>Y</td>\n",
       "    </tr>\n",
       "    <tr>\n",
       "      <th>610</th>\n",
       "      <td>Yes</td>\n",
       "      <td>3+</td>\n",
       "      <td>Graduate</td>\n",
       "      <td>No</td>\n",
       "      <td>4106</td>\n",
       "      <td>0.0</td>\n",
       "      <td>40.0</td>\n",
       "      <td>180.0</td>\n",
       "      <td>1.0</td>\n",
       "      <td>Rural</td>\n",
       "      <td>Y</td>\n",
       "    </tr>\n",
       "    <tr>\n",
       "      <th>611</th>\n",
       "      <td>Yes</td>\n",
       "      <td>1</td>\n",
       "      <td>Graduate</td>\n",
       "      <td>No</td>\n",
       "      <td>8072</td>\n",
       "      <td>240.0</td>\n",
       "      <td>253.0</td>\n",
       "      <td>360.0</td>\n",
       "      <td>1.0</td>\n",
       "      <td>Urban</td>\n",
       "      <td>Y</td>\n",
       "    </tr>\n",
       "    <tr>\n",
       "      <th>612</th>\n",
       "      <td>Yes</td>\n",
       "      <td>2</td>\n",
       "      <td>Graduate</td>\n",
       "      <td>No</td>\n",
       "      <td>7583</td>\n",
       "      <td>0.0</td>\n",
       "      <td>187.0</td>\n",
       "      <td>360.0</td>\n",
       "      <td>1.0</td>\n",
       "      <td>Urban</td>\n",
       "      <td>Y</td>\n",
       "    </tr>\n",
       "    <tr>\n",
       "      <th>613</th>\n",
       "      <td>No</td>\n",
       "      <td>0</td>\n",
       "      <td>Graduate</td>\n",
       "      <td>Yes</td>\n",
       "      <td>4583</td>\n",
       "      <td>0.0</td>\n",
       "      <td>133.0</td>\n",
       "      <td>360.0</td>\n",
       "      <td>0.0</td>\n",
       "      <td>Semiurban</td>\n",
       "      <td>N</td>\n",
       "    </tr>\n",
       "  </tbody>\n",
       "</table>\n",
       "<p>614 rows × 11 columns</p>\n",
       "</div>"
      ],
      "text/plain": [
       "    Married Dependents     Education Self_Employed  ApplicantIncome  \\\n",
       "0        No          0      Graduate            No             5849   \n",
       "1       Yes          1      Graduate            No             4583   \n",
       "2       Yes          0      Graduate           Yes             3000   \n",
       "3       Yes          0  Not Graduate            No             2583   \n",
       "4        No          0      Graduate            No             6000   \n",
       "..      ...        ...           ...           ...              ...   \n",
       "609      No          0      Graduate            No             2900   \n",
       "610     Yes         3+      Graduate            No             4106   \n",
       "611     Yes          1      Graduate            No             8072   \n",
       "612     Yes          2      Graduate            No             7583   \n",
       "613      No          0      Graduate           Yes             4583   \n",
       "\n",
       "     CoapplicantIncome  LoanAmount  Loan_Amount_Term  Credit_History  \\\n",
       "0                  0.0         NaN             360.0             1.0   \n",
       "1               1508.0       128.0             360.0             1.0   \n",
       "2                  0.0        66.0             360.0             1.0   \n",
       "3               2358.0       120.0             360.0             1.0   \n",
       "4                  0.0       141.0             360.0             1.0   \n",
       "..                 ...         ...               ...             ...   \n",
       "609                0.0        71.0             360.0             1.0   \n",
       "610                0.0        40.0             180.0             1.0   \n",
       "611              240.0       253.0             360.0             1.0   \n",
       "612                0.0       187.0             360.0             1.0   \n",
       "613                0.0       133.0             360.0             0.0   \n",
       "\n",
       "    Property_Area Loan_Status  \n",
       "0           Urban           Y  \n",
       "1           Rural           N  \n",
       "2           Urban           Y  \n",
       "3           Urban           Y  \n",
       "4           Urban           Y  \n",
       "..            ...         ...  \n",
       "609         Rural           Y  \n",
       "610         Rural           Y  \n",
       "611         Urban           Y  \n",
       "612         Urban           Y  \n",
       "613     Semiurban           N  \n",
       "\n",
       "[614 rows x 11 columns]"
      ]
     },
     "execution_count": 12,
     "metadata": {},
     "output_type": "execute_result"
    }
   ],
   "source": [
    "df.drop(columns=[\"Loan_ID\", \"Gender\"], inplace=True)\n",
    "df"
   ]
  },
  {
   "cell_type": "markdown",
   "id": "a82f060a",
   "metadata": {
    "papermill": {
     "duration": 0.012461,
     "end_time": "2025-02-19T13:50:50.768880",
     "exception": false,
     "start_time": "2025-02-19T13:50:50.756419",
     "status": "completed"
    },
    "tags": []
   },
   "source": [
    "Now we need to encode columns with categorical data"
   ]
  },
  {
   "cell_type": "code",
   "execution_count": 13,
   "id": "8ae2e6a4",
   "metadata": {
    "execution": {
     "iopub.execute_input": "2025-02-19T13:50:50.795841Z",
     "iopub.status.busy": "2025-02-19T13:50:50.795335Z",
     "iopub.status.idle": "2025-02-19T13:50:50.811250Z",
     "shell.execute_reply": "2025-02-19T13:50:50.810188Z"
    },
    "papermill": {
     "duration": 0.031948,
     "end_time": "2025-02-19T13:50:50.813313",
     "exception": false,
     "start_time": "2025-02-19T13:50:50.781365",
     "status": "completed"
    },
    "tags": []
   },
   "outputs": [],
   "source": [
    "binary_mappings = {\n",
    "    \"Married\": {\"Yes\": 1, \"No\": 0},\n",
    "    \"Education\": {\"Graduate\": 1, \"Not Graduate\": 0},\n",
    "    \"Self_Employed\": {\"Yes\": 1, \"No\": 0},\n",
    "    \"Loan_Status\": {\"Y\": 1, \"N\": 0}\n",
    "}\n",
    "\n",
    "for col, mapping in binary_mappings.items():\n",
    "    df[col] = df[col].map(mapping)\n",
    "    \n",
    "df = pd.get_dummies(df, columns=[\"Property_Area\"], drop_first=True)"
   ]
  },
  {
   "cell_type": "code",
   "execution_count": 14,
   "id": "1b11abe5",
   "metadata": {
    "execution": {
     "iopub.execute_input": "2025-02-19T13:50:50.840552Z",
     "iopub.status.busy": "2025-02-19T13:50:50.840080Z",
     "iopub.status.idle": "2025-02-19T13:50:50.854509Z",
     "shell.execute_reply": "2025-02-19T13:50:50.852849Z"
    },
    "papermill": {
     "duration": 0.030303,
     "end_time": "2025-02-19T13:50:50.856438",
     "exception": false,
     "start_time": "2025-02-19T13:50:50.826135",
     "status": "completed"
    },
    "tags": []
   },
   "outputs": [
    {
     "name": "stdout",
     "output_type": "stream",
     "text": [
      "<class 'pandas.core.frame.DataFrame'>\n",
      "RangeIndex: 614 entries, 0 to 613\n",
      "Data columns (total 12 columns):\n",
      " #   Column                   Non-Null Count  Dtype  \n",
      "---  ------                   --------------  -----  \n",
      " 0   Married                  611 non-null    float64\n",
      " 1   Dependents               599 non-null    object \n",
      " 2   Education                614 non-null    int64  \n",
      " 3   Self_Employed            582 non-null    float64\n",
      " 4   ApplicantIncome          614 non-null    int64  \n",
      " 5   CoapplicantIncome        614 non-null    float64\n",
      " 6   LoanAmount               592 non-null    float64\n",
      " 7   Loan_Amount_Term         600 non-null    float64\n",
      " 8   Credit_History           564 non-null    float64\n",
      " 9   Loan_Status              614 non-null    int64  \n",
      " 10  Property_Area_Semiurban  614 non-null    bool   \n",
      " 11  Property_Area_Urban      614 non-null    bool   \n",
      "dtypes: bool(2), float64(6), int64(3), object(1)\n",
      "memory usage: 49.3+ KB\n"
     ]
    }
   ],
   "source": [
    "df.info()"
   ]
  },
  {
   "cell_type": "markdown",
   "id": "6d7c062e",
   "metadata": {
    "papermill": {
     "duration": 0.012511,
     "end_time": "2025-02-19T13:50:50.881644",
     "exception": false,
     "start_time": "2025-02-19T13:50:50.869133",
     "status": "completed"
    },
    "tags": []
   },
   "source": [
    "For crucial columns, such as loan amount and credit history, the row with missing values must be taken with care. We can use median to fill the missing loan amount and use \"most_frequent\" to fill the missing values in categorical columns and \"Dependents\" column"
   ]
  },
  {
   "cell_type": "code",
   "execution_count": 15,
   "id": "49891b6d",
   "metadata": {
    "execution": {
     "iopub.execute_input": "2025-02-19T13:50:50.908475Z",
     "iopub.status.busy": "2025-02-19T13:50:50.908079Z",
     "iopub.status.idle": "2025-02-19T13:50:51.459191Z",
     "shell.execute_reply": "2025-02-19T13:50:51.457867Z"
    },
    "papermill": {
     "duration": 0.566802,
     "end_time": "2025-02-19T13:50:51.461257",
     "exception": false,
     "start_time": "2025-02-19T13:50:50.894455",
     "status": "completed"
    },
    "tags": []
   },
   "outputs": [
    {
     "name": "stdout",
     "output_type": "stream",
     "text": [
      "<class 'pandas.core.frame.DataFrame'>\n",
      "RangeIndex: 614 entries, 0 to 613\n",
      "Data columns (total 12 columns):\n",
      " #   Column                   Non-Null Count  Dtype  \n",
      "---  ------                   --------------  -----  \n",
      " 0   Married                  614 non-null    int64  \n",
      " 1   Dependents               614 non-null    int64  \n",
      " 2   Education                614 non-null    int64  \n",
      " 3   Self_Employed            614 non-null    int64  \n",
      " 4   ApplicantIncome          614 non-null    int64  \n",
      " 5   CoapplicantIncome        614 non-null    float64\n",
      " 6   LoanAmount               614 non-null    float64\n",
      " 7   Loan_Amount_Term         614 non-null    float64\n",
      " 8   Credit_History           614 non-null    int64  \n",
      " 9   Loan_Status              614 non-null    int64  \n",
      " 10  Property_Area_Semiurban  614 non-null    int64  \n",
      " 11  Property_Area_Urban      614 non-null    bool   \n",
      "dtypes: bool(1), float64(3), int64(8)\n",
      "memory usage: 53.5 KB\n"
     ]
    }
   ],
   "source": [
    "from sklearn.impute import SimpleImputer\n",
    "\n",
    "# Fill numerical missing values\n",
    "imputer = SimpleImputer(missing_values=np.nan, strategy='median')\n",
    "num_cols = [\"LoanAmount\", \"Loan_Amount_Term\"]\n",
    "df[num_cols] = imputer.fit_transform(df[num_cols])\n",
    "\n",
    "imputer = SimpleImputer(missing_values=np.nan, strategy='most_frequent')\n",
    "cat_cols = [\"Dependents\", \"Self_Employed\", \"Married\", \"Credit_History\"]\n",
    "df[cat_cols] = imputer.fit_transform(df[cat_cols])\n",
    "\n",
    "# change types to int\n",
    "df[\"Dependents\"] = df[\"Dependents\"].replace({\"3+\": 3}).astype(int)\n",
    "df[\"Property_Area_Semiurban\"] = df[\"Property_Area_Semiurban\"].astype(int)\n",
    "df[\"Credit_History\"] = df[\"Credit_History\"].astype(int)\n",
    "df[\"Self_Employed\"] = df[\"Self_Employed\"].astype(int)\n",
    "df[\"Married\"] = df[\"Married\"].astype(int)\n",
    "\n",
    "df.info()"
   ]
  },
  {
   "cell_type": "code",
   "execution_count": 16,
   "id": "ffe9d110",
   "metadata": {
    "execution": {
     "iopub.execute_input": "2025-02-19T13:50:51.489614Z",
     "iopub.status.busy": "2025-02-19T13:50:51.489202Z",
     "iopub.status.idle": "2025-02-19T13:50:51.505097Z",
     "shell.execute_reply": "2025-02-19T13:50:51.503869Z"
    },
    "papermill": {
     "duration": 0.032054,
     "end_time": "2025-02-19T13:50:51.506946",
     "exception": false,
     "start_time": "2025-02-19T13:50:51.474892",
     "status": "completed"
    },
    "tags": []
   },
   "outputs": [
    {
     "data": {
      "text/html": [
       "<div>\n",
       "<style scoped>\n",
       "    .dataframe tbody tr th:only-of-type {\n",
       "        vertical-align: middle;\n",
       "    }\n",
       "\n",
       "    .dataframe tbody tr th {\n",
       "        vertical-align: top;\n",
       "    }\n",
       "\n",
       "    .dataframe thead th {\n",
       "        text-align: right;\n",
       "    }\n",
       "</style>\n",
       "<table border=\"1\" class=\"dataframe\">\n",
       "  <thead>\n",
       "    <tr style=\"text-align: right;\">\n",
       "      <th></th>\n",
       "      <th>Married</th>\n",
       "      <th>Dependents</th>\n",
       "      <th>Education</th>\n",
       "      <th>Self_Employed</th>\n",
       "      <th>ApplicantIncome</th>\n",
       "      <th>CoapplicantIncome</th>\n",
       "      <th>LoanAmount</th>\n",
       "      <th>Loan_Amount_Term</th>\n",
       "      <th>Credit_History</th>\n",
       "      <th>Loan_Status</th>\n",
       "      <th>Property_Area_Semiurban</th>\n",
       "      <th>Property_Area_Urban</th>\n",
       "    </tr>\n",
       "  </thead>\n",
       "  <tbody>\n",
       "    <tr>\n",
       "      <th>0</th>\n",
       "      <td>0</td>\n",
       "      <td>0</td>\n",
       "      <td>1</td>\n",
       "      <td>0</td>\n",
       "      <td>5849</td>\n",
       "      <td>0.0</td>\n",
       "      <td>128.0</td>\n",
       "      <td>360.0</td>\n",
       "      <td>1</td>\n",
       "      <td>1</td>\n",
       "      <td>0</td>\n",
       "      <td>True</td>\n",
       "    </tr>\n",
       "    <tr>\n",
       "      <th>1</th>\n",
       "      <td>1</td>\n",
       "      <td>1</td>\n",
       "      <td>1</td>\n",
       "      <td>0</td>\n",
       "      <td>4583</td>\n",
       "      <td>1508.0</td>\n",
       "      <td>128.0</td>\n",
       "      <td>360.0</td>\n",
       "      <td>1</td>\n",
       "      <td>0</td>\n",
       "      <td>0</td>\n",
       "      <td>False</td>\n",
       "    </tr>\n",
       "    <tr>\n",
       "      <th>2</th>\n",
       "      <td>1</td>\n",
       "      <td>0</td>\n",
       "      <td>1</td>\n",
       "      <td>1</td>\n",
       "      <td>3000</td>\n",
       "      <td>0.0</td>\n",
       "      <td>66.0</td>\n",
       "      <td>360.0</td>\n",
       "      <td>1</td>\n",
       "      <td>1</td>\n",
       "      <td>0</td>\n",
       "      <td>True</td>\n",
       "    </tr>\n",
       "    <tr>\n",
       "      <th>3</th>\n",
       "      <td>1</td>\n",
       "      <td>0</td>\n",
       "      <td>0</td>\n",
       "      <td>0</td>\n",
       "      <td>2583</td>\n",
       "      <td>2358.0</td>\n",
       "      <td>120.0</td>\n",
       "      <td>360.0</td>\n",
       "      <td>1</td>\n",
       "      <td>1</td>\n",
       "      <td>0</td>\n",
       "      <td>True</td>\n",
       "    </tr>\n",
       "    <tr>\n",
       "      <th>4</th>\n",
       "      <td>0</td>\n",
       "      <td>0</td>\n",
       "      <td>1</td>\n",
       "      <td>0</td>\n",
       "      <td>6000</td>\n",
       "      <td>0.0</td>\n",
       "      <td>141.0</td>\n",
       "      <td>360.0</td>\n",
       "      <td>1</td>\n",
       "      <td>1</td>\n",
       "      <td>0</td>\n",
       "      <td>True</td>\n",
       "    </tr>\n",
       "  </tbody>\n",
       "</table>\n",
       "</div>"
      ],
      "text/plain": [
       "   Married  Dependents  Education  Self_Employed  ApplicantIncome  \\\n",
       "0        0           0          1              0             5849   \n",
       "1        1           1          1              0             4583   \n",
       "2        1           0          1              1             3000   \n",
       "3        1           0          0              0             2583   \n",
       "4        0           0          1              0             6000   \n",
       "\n",
       "   CoapplicantIncome  LoanAmount  Loan_Amount_Term  Credit_History  \\\n",
       "0                0.0       128.0             360.0               1   \n",
       "1             1508.0       128.0             360.0               1   \n",
       "2                0.0        66.0             360.0               1   \n",
       "3             2358.0       120.0             360.0               1   \n",
       "4                0.0       141.0             360.0               1   \n",
       "\n",
       "   Loan_Status  Property_Area_Semiurban  Property_Area_Urban  \n",
       "0            1                        0                 True  \n",
       "1            0                        0                False  \n",
       "2            1                        0                 True  \n",
       "3            1                        0                 True  \n",
       "4            1                        0                 True  "
      ]
     },
     "execution_count": 16,
     "metadata": {},
     "output_type": "execute_result"
    }
   ],
   "source": [
    "df.head()"
   ]
  },
  {
   "cell_type": "code",
   "execution_count": 17,
   "id": "c378ec3f",
   "metadata": {
    "execution": {
     "iopub.execute_input": "2025-02-19T13:50:51.535241Z",
     "iopub.status.busy": "2025-02-19T13:50:51.534817Z",
     "iopub.status.idle": "2025-02-19T13:50:51.548301Z",
     "shell.execute_reply": "2025-02-19T13:50:51.547046Z"
    },
    "papermill": {
     "duration": 0.030273,
     "end_time": "2025-02-19T13:50:51.550688",
     "exception": false,
     "start_time": "2025-02-19T13:50:51.520415",
     "status": "completed"
    },
    "tags": []
   },
   "outputs": [
    {
     "name": "stdout",
     "output_type": "stream",
     "text": [
      "<class 'pandas.core.frame.DataFrame'>\n",
      "RangeIndex: 614 entries, 0 to 613\n",
      "Data columns (total 12 columns):\n",
      " #   Column                   Non-Null Count  Dtype  \n",
      "---  ------                   --------------  -----  \n",
      " 0   Married                  614 non-null    int64  \n",
      " 1   Dependents               614 non-null    int64  \n",
      " 2   Education                614 non-null    int64  \n",
      " 3   Self_Employed            614 non-null    int64  \n",
      " 4   ApplicantIncome          614 non-null    int64  \n",
      " 5   CoapplicantIncome        614 non-null    float64\n",
      " 6   LoanAmount               614 non-null    float64\n",
      " 7   Loan_Amount_Term         614 non-null    float64\n",
      " 8   Credit_History           614 non-null    int64  \n",
      " 9   Loan_Status              614 non-null    int64  \n",
      " 10  Property_Area_Semiurban  614 non-null    int64  \n",
      " 11  Property_Area_Urban      614 non-null    bool   \n",
      "dtypes: bool(1), float64(3), int64(8)\n",
      "memory usage: 53.5 KB\n"
     ]
    }
   ],
   "source": [
    "df.info()"
   ]
  },
  {
   "cell_type": "markdown",
   "id": "bc90f3a2",
   "metadata": {
    "papermill": {
     "duration": 0.013013,
     "end_time": "2025-02-19T13:50:51.577516",
     "exception": false,
     "start_time": "2025-02-19T13:50:51.564503",
     "status": "completed"
    },
    "tags": []
   },
   "source": [
    "Let's do some feature engineering by combining applicant income and co appilicant income into total income"
   ]
  },
  {
   "cell_type": "code",
   "execution_count": 18,
   "id": "4dbc4989",
   "metadata": {
    "execution": {
     "iopub.execute_input": "2025-02-19T13:50:51.606711Z",
     "iopub.status.busy": "2025-02-19T13:50:51.606298Z",
     "iopub.status.idle": "2025-02-19T13:50:51.622218Z",
     "shell.execute_reply": "2025-02-19T13:50:51.620776Z"
    },
    "papermill": {
     "duration": 0.033699,
     "end_time": "2025-02-19T13:50:51.624584",
     "exception": false,
     "start_time": "2025-02-19T13:50:51.590885",
     "status": "completed"
    },
    "tags": []
   },
   "outputs": [
    {
     "name": "stdout",
     "output_type": "stream",
     "text": [
      "<class 'pandas.core.frame.DataFrame'>\n",
      "RangeIndex: 614 entries, 0 to 613\n",
      "Data columns (total 11 columns):\n",
      " #   Column                   Non-Null Count  Dtype  \n",
      "---  ------                   --------------  -----  \n",
      " 0   Married                  614 non-null    int64  \n",
      " 1   Dependents               614 non-null    int64  \n",
      " 2   Education                614 non-null    int64  \n",
      " 3   Self_Employed            614 non-null    int64  \n",
      " 4   LoanAmount               614 non-null    float64\n",
      " 5   Loan_Amount_Term         614 non-null    float64\n",
      " 6   Credit_History           614 non-null    int64  \n",
      " 7   Loan_Status              614 non-null    int64  \n",
      " 8   Property_Area_Semiurban  614 non-null    int64  \n",
      " 9   Property_Area_Urban      614 non-null    bool   \n",
      " 10  Total_Income             614 non-null    float64\n",
      "dtypes: bool(1), float64(3), int64(7)\n",
      "memory usage: 48.7 KB\n"
     ]
    }
   ],
   "source": [
    "df[\"Total_Income\"] = df[\"ApplicantIncome\"] + df[\"CoapplicantIncome\"]\n",
    "df.drop([\"ApplicantIncome\", \"CoapplicantIncome\"], axis=1, inplace=True)\n",
    "df.info()"
   ]
  },
  {
   "cell_type": "code",
   "execution_count": 19,
   "id": "fa34ec89",
   "metadata": {
    "execution": {
     "iopub.execute_input": "2025-02-19T13:50:51.653576Z",
     "iopub.status.busy": "2025-02-19T13:50:51.653146Z",
     "iopub.status.idle": "2025-02-19T13:50:51.663110Z",
     "shell.execute_reply": "2025-02-19T13:50:51.661883Z"
    },
    "papermill": {
     "duration": 0.026695,
     "end_time": "2025-02-19T13:50:51.665238",
     "exception": false,
     "start_time": "2025-02-19T13:50:51.638543",
     "status": "completed"
    },
    "tags": []
   },
   "outputs": [
    {
     "data": {
      "text/plain": [
       "0      5849.0\n",
       "1      6091.0\n",
       "2      3000.0\n",
       "3      4941.0\n",
       "4      6000.0\n",
       "        ...  \n",
       "609    2900.0\n",
       "610    4106.0\n",
       "611    8312.0\n",
       "612    7583.0\n",
       "613    4583.0\n",
       "Name: Total_Income, Length: 614, dtype: float64"
      ]
     },
     "execution_count": 19,
     "metadata": {},
     "output_type": "execute_result"
    }
   ],
   "source": [
    "df[\"Total_Income\"]"
   ]
  },
  {
   "cell_type": "markdown",
   "id": "79c27780",
   "metadata": {
    "papermill": {
     "duration": 0.012914,
     "end_time": "2025-02-19T13:50:51.691920",
     "exception": false,
     "start_time": "2025-02-19T13:50:51.679006",
     "status": "completed"
    },
    "tags": []
   },
   "source": [
    "Let's check the distribution of the labels"
   ]
  },
  {
   "cell_type": "code",
   "execution_count": 20,
   "id": "7dd3703d",
   "metadata": {
    "execution": {
     "iopub.execute_input": "2025-02-19T13:50:51.720656Z",
     "iopub.status.busy": "2025-02-19T13:50:51.720209Z",
     "iopub.status.idle": "2025-02-19T13:50:51.730598Z",
     "shell.execute_reply": "2025-02-19T13:50:51.729450Z"
    },
    "papermill": {
     "duration": 0.026588,
     "end_time": "2025-02-19T13:50:51.732252",
     "exception": false,
     "start_time": "2025-02-19T13:50:51.705664",
     "status": "completed"
    },
    "tags": []
   },
   "outputs": [
    {
     "data": {
      "text/plain": [
       "Loan_Status\n",
       "1    422\n",
       "0    192\n",
       "Name: count, dtype: int64"
      ]
     },
     "execution_count": 20,
     "metadata": {},
     "output_type": "execute_result"
    }
   ],
   "source": [
    "df[\"Loan_Status\"].value_counts()"
   ]
  },
  {
   "cell_type": "markdown",
   "id": "209a890d",
   "metadata": {
    "papermill": {
     "duration": 0.012949,
     "end_time": "2025-02-19T13:50:51.758581",
     "exception": false,
     "start_time": "2025-02-19T13:50:51.745632",
     "status": "completed"
    },
    "tags": []
   },
   "source": [
    "it seems like we need to do oversampling for the minority class to fix class imbalance. We will use random oversampling instead of SMOTE to prevent introducing synthetic bias to the model (especially for loan problems). Before oversampling the minority class, we need to split extract independent variables and dependent variable from the dataframe"
   ]
  },
  {
   "cell_type": "code",
   "execution_count": 21,
   "id": "870dbcf7",
   "metadata": {
    "execution": {
     "iopub.execute_input": "2025-02-19T13:50:51.787866Z",
     "iopub.status.busy": "2025-02-19T13:50:51.787300Z",
     "iopub.status.idle": "2025-02-19T13:50:51.794303Z",
     "shell.execute_reply": "2025-02-19T13:50:51.793086Z"
    },
    "papermill": {
     "duration": 0.023672,
     "end_time": "2025-02-19T13:50:51.796271",
     "exception": false,
     "start_time": "2025-02-19T13:50:51.772599",
     "status": "completed"
    },
    "tags": []
   },
   "outputs": [],
   "source": [
    "features = [\"Married\", \"Dependents\", \"Education\", \"Credit_History\", \"Property_Area_Semiurban\",\"LoanAmount\", \"Loan_Amount_Term\",\n",
    "           \"Total_Income\", \"Property_Area_Urban\", \"Self_Employed\"]\n",
    "\n",
    "X = df[features]\n",
    "y = df[\"Loan_Status\"]"
   ]
  },
  {
   "cell_type": "code",
   "execution_count": 22,
   "id": "170cbdb7",
   "metadata": {
    "execution": {
     "iopub.execute_input": "2025-02-19T13:50:51.826098Z",
     "iopub.status.busy": "2025-02-19T13:50:51.825602Z",
     "iopub.status.idle": "2025-02-19T13:50:52.326322Z",
     "shell.execute_reply": "2025-02-19T13:50:52.324929Z"
    },
    "papermill": {
     "duration": 0.517804,
     "end_time": "2025-02-19T13:50:52.328287",
     "exception": false,
     "start_time": "2025-02-19T13:50:51.810483",
     "status": "completed"
    },
    "tags": []
   },
   "outputs": [
    {
     "data": {
      "text/plain": [
       "Loan_Status\n",
       "1    422\n",
       "0    422\n",
       "Name: count, dtype: int64"
      ]
     },
     "execution_count": 22,
     "metadata": {},
     "output_type": "execute_result"
    }
   ],
   "source": [
    "from imblearn.over_sampling import RandomOverSampler\n",
    "\n",
    "oversample = RandomOverSampler(sampling_strategy=\"auto\")\n",
    "X_resampled, y_resampled = oversample.fit_resample(X, y)\n",
    "\n",
    "y_resampled.value_counts()"
   ]
  },
  {
   "cell_type": "markdown",
   "id": "36f925fa",
   "metadata": {
    "papermill": {
     "duration": 0.013737,
     "end_time": "2025-02-19T13:50:52.356346",
     "exception": false,
     "start_time": "2025-02-19T13:50:52.342609",
     "status": "completed"
    },
    "tags": []
   },
   "source": [
    "Let's also use SMOTE for reference"
   ]
  },
  {
   "cell_type": "code",
   "execution_count": 23,
   "id": "9cd0882d",
   "metadata": {
    "execution": {
     "iopub.execute_input": "2025-02-19T13:50:52.390050Z",
     "iopub.status.busy": "2025-02-19T13:50:52.389298Z",
     "iopub.status.idle": "2025-02-19T13:50:52.410371Z",
     "shell.execute_reply": "2025-02-19T13:50:52.408952Z"
    },
    "papermill": {
     "duration": 0.042129,
     "end_time": "2025-02-19T13:50:52.412618",
     "exception": false,
     "start_time": "2025-02-19T13:50:52.370489",
     "status": "completed"
    },
    "tags": []
   },
   "outputs": [
    {
     "data": {
      "text/plain": [
       "Loan_Status\n",
       "1    422\n",
       "0    422\n",
       "Name: count, dtype: int64"
      ]
     },
     "execution_count": 23,
     "metadata": {},
     "output_type": "execute_result"
    }
   ],
   "source": [
    "from imblearn.over_sampling import SMOTE\n",
    "smote = SMOTE(random_state=0)\n",
    "X_resampled2, y_resampled2 = smote.fit_resample(X, y)\n",
    "\n",
    "y_resampled2.value_counts()"
   ]
  },
  {
   "cell_type": "markdown",
   "id": "03ae66e0",
   "metadata": {
    "papermill": {
     "duration": 0.01339,
     "end_time": "2025-02-19T13:50:52.532578",
     "exception": false,
     "start_time": "2025-02-19T13:50:52.519188",
     "status": "completed"
    },
    "tags": []
   },
   "source": [
    "we need to split the data for training and test, using the good ol' 80/20 split"
   ]
  },
  {
   "cell_type": "code",
   "execution_count": 24,
   "id": "023fee94",
   "metadata": {
    "execution": {
     "iopub.execute_input": "2025-02-19T13:50:52.561968Z",
     "iopub.status.busy": "2025-02-19T13:50:52.561558Z",
     "iopub.status.idle": "2025-02-19T13:50:52.572117Z",
     "shell.execute_reply": "2025-02-19T13:50:52.570979Z"
    },
    "papermill": {
     "duration": 0.027577,
     "end_time": "2025-02-19T13:50:52.574028",
     "exception": false,
     "start_time": "2025-02-19T13:50:52.546451",
     "status": "completed"
    },
    "tags": []
   },
   "outputs": [],
   "source": [
    "from sklearn.model_selection import train_test_split\n",
    "\n",
    "# Random Oversample\n",
    "X_train, X_test, y_train, y_test = train_test_split(X_resampled, y_resampled, test_size=0.15, random_state=0)\n",
    "\n",
    "# SMOTE data\n",
    "X_train2, X_test2, y_train2, y_test2 = train_test_split(X_resampled2, y_resampled2, test_size=0.15, random_state=0)"
   ]
  },
  {
   "cell_type": "code",
   "execution_count": 25,
   "id": "f65edc12",
   "metadata": {
    "execution": {
     "iopub.execute_input": "2025-02-19T13:50:52.612497Z",
     "iopub.status.busy": "2025-02-19T13:50:52.611969Z",
     "iopub.status.idle": "2025-02-19T13:50:52.633158Z",
     "shell.execute_reply": "2025-02-19T13:50:52.631901Z"
    },
    "papermill": {
     "duration": 0.040568,
     "end_time": "2025-02-19T13:50:52.635213",
     "exception": false,
     "start_time": "2025-02-19T13:50:52.594645",
     "status": "completed"
    },
    "tags": []
   },
   "outputs": [
    {
     "data": {
      "text/html": [
       "<div>\n",
       "<style scoped>\n",
       "    .dataframe tbody tr th:only-of-type {\n",
       "        vertical-align: middle;\n",
       "    }\n",
       "\n",
       "    .dataframe tbody tr th {\n",
       "        vertical-align: top;\n",
       "    }\n",
       "\n",
       "    .dataframe thead th {\n",
       "        text-align: right;\n",
       "    }\n",
       "</style>\n",
       "<table border=\"1\" class=\"dataframe\">\n",
       "  <thead>\n",
       "    <tr style=\"text-align: right;\">\n",
       "      <th></th>\n",
       "      <th>Married</th>\n",
       "      <th>Dependents</th>\n",
       "      <th>Education</th>\n",
       "      <th>Credit_History</th>\n",
       "      <th>Property_Area_Semiurban</th>\n",
       "      <th>LoanAmount</th>\n",
       "      <th>Loan_Amount_Term</th>\n",
       "      <th>Total_Income</th>\n",
       "      <th>Property_Area_Urban</th>\n",
       "      <th>Self_Employed</th>\n",
       "    </tr>\n",
       "  </thead>\n",
       "  <tbody>\n",
       "    <tr>\n",
       "      <th>311</th>\n",
       "      <td>0</td>\n",
       "      <td>0</td>\n",
       "      <td>0</td>\n",
       "      <td>1</td>\n",
       "      <td>1</td>\n",
       "      <td>111.0</td>\n",
       "      <td>360.0</td>\n",
       "      <td>5332.0</td>\n",
       "      <td>False</td>\n",
       "      <td>0</td>\n",
       "    </tr>\n",
       "    <tr>\n",
       "      <th>1</th>\n",
       "      <td>1</td>\n",
       "      <td>1</td>\n",
       "      <td>1</td>\n",
       "      <td>1</td>\n",
       "      <td>0</td>\n",
       "      <td>128.0</td>\n",
       "      <td>360.0</td>\n",
       "      <td>6091.0</td>\n",
       "      <td>False</td>\n",
       "      <td>0</td>\n",
       "    </tr>\n",
       "    <tr>\n",
       "      <th>823</th>\n",
       "      <td>0</td>\n",
       "      <td>0</td>\n",
       "      <td>1</td>\n",
       "      <td>0</td>\n",
       "      <td>0</td>\n",
       "      <td>187.0</td>\n",
       "      <td>360.0</td>\n",
       "      <td>10416.0</td>\n",
       "      <td>True</td>\n",
       "      <td>1</td>\n",
       "    </tr>\n",
       "    <tr>\n",
       "      <th>251</th>\n",
       "      <td>0</td>\n",
       "      <td>2</td>\n",
       "      <td>1</td>\n",
       "      <td>1</td>\n",
       "      <td>0</td>\n",
       "      <td>138.0</td>\n",
       "      <td>360.0</td>\n",
       "      <td>3427.0</td>\n",
       "      <td>True</td>\n",
       "      <td>0</td>\n",
       "    </tr>\n",
       "    <tr>\n",
       "      <th>504</th>\n",
       "      <td>1</td>\n",
       "      <td>0</td>\n",
       "      <td>0</td>\n",
       "      <td>1</td>\n",
       "      <td>1</td>\n",
       "      <td>124.0</td>\n",
       "      <td>300.0</td>\n",
       "      <td>5297.0</td>\n",
       "      <td>False</td>\n",
       "      <td>0</td>\n",
       "    </tr>\n",
       "    <tr>\n",
       "      <th>...</th>\n",
       "      <td>...</td>\n",
       "      <td>...</td>\n",
       "      <td>...</td>\n",
       "      <td>...</td>\n",
       "      <td>...</td>\n",
       "      <td>...</td>\n",
       "      <td>...</td>\n",
       "      <td>...</td>\n",
       "      <td>...</td>\n",
       "      <td>...</td>\n",
       "    </tr>\n",
       "    <tr>\n",
       "      <th>835</th>\n",
       "      <td>1</td>\n",
       "      <td>0</td>\n",
       "      <td>1</td>\n",
       "      <td>1</td>\n",
       "      <td>0</td>\n",
       "      <td>135.0</td>\n",
       "      <td>360.0</td>\n",
       "      <td>1950.0</td>\n",
       "      <td>False</td>\n",
       "      <td>0</td>\n",
       "    </tr>\n",
       "    <tr>\n",
       "      <th>192</th>\n",
       "      <td>1</td>\n",
       "      <td>0</td>\n",
       "      <td>0</td>\n",
       "      <td>1</td>\n",
       "      <td>0</td>\n",
       "      <td>160.0</td>\n",
       "      <td>360.0</td>\n",
       "      <td>6033.0</td>\n",
       "      <td>True</td>\n",
       "      <td>0</td>\n",
       "    </tr>\n",
       "    <tr>\n",
       "      <th>629</th>\n",
       "      <td>0</td>\n",
       "      <td>1</td>\n",
       "      <td>0</td>\n",
       "      <td>1</td>\n",
       "      <td>1</td>\n",
       "      <td>190.0</td>\n",
       "      <td>360.0</td>\n",
       "      <td>4311.0</td>\n",
       "      <td>False</td>\n",
       "      <td>1</td>\n",
       "    </tr>\n",
       "    <tr>\n",
       "      <th>559</th>\n",
       "      <td>1</td>\n",
       "      <td>0</td>\n",
       "      <td>1</td>\n",
       "      <td>1</td>\n",
       "      <td>1</td>\n",
       "      <td>182.0</td>\n",
       "      <td>360.0</td>\n",
       "      <td>6486.0</td>\n",
       "      <td>False</td>\n",
       "      <td>0</td>\n",
       "    </tr>\n",
       "    <tr>\n",
       "      <th>684</th>\n",
       "      <td>1</td>\n",
       "      <td>1</td>\n",
       "      <td>1</td>\n",
       "      <td>1</td>\n",
       "      <td>1</td>\n",
       "      <td>170.0</td>\n",
       "      <td>360.0</td>\n",
       "      <td>5708.0</td>\n",
       "      <td>False</td>\n",
       "      <td>0</td>\n",
       "    </tr>\n",
       "  </tbody>\n",
       "</table>\n",
       "<p>717 rows × 10 columns</p>\n",
       "</div>"
      ],
      "text/plain": [
       "     Married  Dependents  Education  Credit_History  Property_Area_Semiurban  \\\n",
       "311        0           0          0               1                        1   \n",
       "1          1           1          1               1                        0   \n",
       "823        0           0          1               0                        0   \n",
       "251        0           2          1               1                        0   \n",
       "504        1           0          0               1                        1   \n",
       "..       ...         ...        ...             ...                      ...   \n",
       "835        1           0          1               1                        0   \n",
       "192        1           0          0               1                        0   \n",
       "629        0           1          0               1                        1   \n",
       "559        1           0          1               1                        1   \n",
       "684        1           1          1               1                        1   \n",
       "\n",
       "     LoanAmount  Loan_Amount_Term  Total_Income  Property_Area_Urban  \\\n",
       "311       111.0             360.0        5332.0                False   \n",
       "1         128.0             360.0        6091.0                False   \n",
       "823       187.0             360.0       10416.0                 True   \n",
       "251       138.0             360.0        3427.0                 True   \n",
       "504       124.0             300.0        5297.0                False   \n",
       "..          ...               ...           ...                  ...   \n",
       "835       135.0             360.0        1950.0                False   \n",
       "192       160.0             360.0        6033.0                 True   \n",
       "629       190.0             360.0        4311.0                False   \n",
       "559       182.0             360.0        6486.0                False   \n",
       "684       170.0             360.0        5708.0                False   \n",
       "\n",
       "     Self_Employed  \n",
       "311              0  \n",
       "1                0  \n",
       "823              1  \n",
       "251              0  \n",
       "504              0  \n",
       "..             ...  \n",
       "835              0  \n",
       "192              0  \n",
       "629              1  \n",
       "559              0  \n",
       "684              0  \n",
       "\n",
       "[717 rows x 10 columns]"
      ]
     },
     "execution_count": 25,
     "metadata": {},
     "output_type": "execute_result"
    }
   ],
   "source": [
    "X_train"
   ]
  },
  {
   "cell_type": "code",
   "execution_count": 26,
   "id": "a00a9fe7",
   "metadata": {
    "execution": {
     "iopub.execute_input": "2025-02-19T13:50:52.678185Z",
     "iopub.status.busy": "2025-02-19T13:50:52.677558Z",
     "iopub.status.idle": "2025-02-19T13:50:52.686640Z",
     "shell.execute_reply": "2025-02-19T13:50:52.685278Z"
    },
    "papermill": {
     "duration": 0.032629,
     "end_time": "2025-02-19T13:50:52.689054",
     "exception": false,
     "start_time": "2025-02-19T13:50:52.656425",
     "status": "completed"
    },
    "tags": []
   },
   "outputs": [
    {
     "data": {
      "text/plain": [
       "311    1\n",
       "1      0\n",
       "823    0\n",
       "251    0\n",
       "504    1\n",
       "      ..\n",
       "835    0\n",
       "192    0\n",
       "629    0\n",
       "559    1\n",
       "684    0\n",
       "Name: Loan_Status, Length: 717, dtype: int64"
      ]
     },
     "execution_count": 26,
     "metadata": {},
     "output_type": "execute_result"
    }
   ],
   "source": [
    "y_train"
   ]
  },
  {
   "cell_type": "markdown",
   "id": "e4bf52b7",
   "metadata": {
    "papermill": {
     "duration": 0.014734,
     "end_time": "2025-02-19T13:50:52.719249",
     "exception": false,
     "start_time": "2025-02-19T13:50:52.704515",
     "status": "completed"
    },
    "tags": []
   },
   "source": [
    "Now let's scale the features"
   ]
  },
  {
   "cell_type": "code",
   "execution_count": 27,
   "id": "410d80fc",
   "metadata": {
    "execution": {
     "iopub.execute_input": "2025-02-19T13:50:52.752620Z",
     "iopub.status.busy": "2025-02-19T13:50:52.751994Z",
     "iopub.status.idle": "2025-02-19T13:50:52.781663Z",
     "shell.execute_reply": "2025-02-19T13:50:52.780516Z"
    },
    "papermill": {
     "duration": 0.048133,
     "end_time": "2025-02-19T13:50:52.783918",
     "exception": false,
     "start_time": "2025-02-19T13:50:52.735785",
     "status": "completed"
    },
    "tags": []
   },
   "outputs": [],
   "source": [
    "from sklearn.preprocessing import StandardScaler\n",
    "scaler = StandardScaler()\n",
    "\n",
    "# Random Oversample\n",
    "X_train_scaled = scaler.fit_transform(X_train)\n",
    "X_test_scaled = scaler.transform(X_test)\n",
    "X_train_scaled = pd.DataFrame(X_train_scaled, columns=features)\n",
    "X_test_scaled = pd.DataFrame(X_test_scaled, columns=features)\n",
    "\n",
    "#SMOTE\n",
    "X_train_scaled2 = scaler.fit_transform(X_train2)\n",
    "X_test_scaled2 = scaler.transform(X_test2)\n",
    "X_train_scaled2 = pd.DataFrame(X_train_scaled2, columns=features)\n",
    "X_test_scaled2 = pd.DataFrame(X_test_scaled2, columns=features)"
   ]
  },
  {
   "cell_type": "markdown",
   "id": "f65da9e3",
   "metadata": {
    "papermill": {
     "duration": 0.013927,
     "end_time": "2025-02-19T13:50:52.812856",
     "exception": false,
     "start_time": "2025-02-19T13:50:52.798929",
     "status": "completed"
    },
    "tags": []
   },
   "source": [
    "# Predictive Modeling\n",
    "Now for the model, we will use logistic regression first then we will use more advanced model like xgboost and random forest."
   ]
  },
  {
   "cell_type": "markdown",
   "id": "2cec726d",
   "metadata": {
    "papermill": {
     "duration": 0.013926,
     "end_time": "2025-02-19T13:50:52.841265",
     "exception": false,
     "start_time": "2025-02-19T13:50:52.827339",
     "status": "completed"
    },
    "tags": []
   },
   "source": [
    "Let's make function for assessing model performance"
   ]
  },
  {
   "cell_type": "code",
   "execution_count": 28,
   "id": "f912c792",
   "metadata": {
    "execution": {
     "iopub.execute_input": "2025-02-19T13:50:52.873083Z",
     "iopub.status.busy": "2025-02-19T13:50:52.872653Z",
     "iopub.status.idle": "2025-02-19T13:50:52.878931Z",
     "shell.execute_reply": "2025-02-19T13:50:52.877709Z"
    },
    "papermill": {
     "duration": 0.023907,
     "end_time": "2025-02-19T13:50:52.881110",
     "exception": false,
     "start_time": "2025-02-19T13:50:52.857203",
     "status": "completed"
    },
    "tags": []
   },
   "outputs": [],
   "source": [
    "from sklearn.metrics import confusion_matrix, accuracy_score\n",
    "\n",
    "def assess_model(y_test, y_train):\n",
    "    cm = confusion_matrix(y_test, y_pred)\n",
    "\n",
    "    # print accuracy\n",
    "    print(\"Model accuracy score:\", accuracy_score(y_test, y_pred))\n",
    "\n",
    "    # plot confusion matrix\n",
    "    plt.figure(figsize=(8, 6))\n",
    "    sns.heatmap(cm, annot=True, fmt='d', cmap='Greens', cbar=False)\n",
    "    plt.xlabel('Predicted')\n",
    "    plt.ylabel('Actual')\n",
    "    plt.title('Confusion Matrix')\n",
    "    plt.show()     "
   ]
  },
  {
   "cell_type": "markdown",
   "id": "c41792e7",
   "metadata": {
    "papermill": {
     "duration": 0.013734,
     "end_time": "2025-02-19T13:50:52.909412",
     "exception": false,
     "start_time": "2025-02-19T13:50:52.895678",
     "status": "completed"
    },
    "tags": []
   },
   "source": [
    "## Logistic Regression Approach"
   ]
  },
  {
   "cell_type": "code",
   "execution_count": 29,
   "id": "099e5a29",
   "metadata": {
    "execution": {
     "iopub.execute_input": "2025-02-19T13:50:52.939469Z",
     "iopub.status.busy": "2025-02-19T13:50:52.939110Z",
     "iopub.status.idle": "2025-02-19T13:50:52.981336Z",
     "shell.execute_reply": "2025-02-19T13:50:52.979869Z"
    },
    "papermill": {
     "duration": 0.059645,
     "end_time": "2025-02-19T13:50:52.983255",
     "exception": false,
     "start_time": "2025-02-19T13:50:52.923610",
     "status": "completed"
    },
    "tags": []
   },
   "outputs": [
    {
     "data": {
      "text/html": [
       "<style>#sk-container-id-1 {color: black;background-color: white;}#sk-container-id-1 pre{padding: 0;}#sk-container-id-1 div.sk-toggleable {background-color: white;}#sk-container-id-1 label.sk-toggleable__label {cursor: pointer;display: block;width: 100%;margin-bottom: 0;padding: 0.3em;box-sizing: border-box;text-align: center;}#sk-container-id-1 label.sk-toggleable__label-arrow:before {content: \"▸\";float: left;margin-right: 0.25em;color: #696969;}#sk-container-id-1 label.sk-toggleable__label-arrow:hover:before {color: black;}#sk-container-id-1 div.sk-estimator:hover label.sk-toggleable__label-arrow:before {color: black;}#sk-container-id-1 div.sk-toggleable__content {max-height: 0;max-width: 0;overflow: hidden;text-align: left;background-color: #f0f8ff;}#sk-container-id-1 div.sk-toggleable__content pre {margin: 0.2em;color: black;border-radius: 0.25em;background-color: #f0f8ff;}#sk-container-id-1 input.sk-toggleable__control:checked~div.sk-toggleable__content {max-height: 200px;max-width: 100%;overflow: auto;}#sk-container-id-1 input.sk-toggleable__control:checked~label.sk-toggleable__label-arrow:before {content: \"▾\";}#sk-container-id-1 div.sk-estimator input.sk-toggleable__control:checked~label.sk-toggleable__label {background-color: #d4ebff;}#sk-container-id-1 div.sk-label input.sk-toggleable__control:checked~label.sk-toggleable__label {background-color: #d4ebff;}#sk-container-id-1 input.sk-hidden--visually {border: 0;clip: rect(1px 1px 1px 1px);clip: rect(1px, 1px, 1px, 1px);height: 1px;margin: -1px;overflow: hidden;padding: 0;position: absolute;width: 1px;}#sk-container-id-1 div.sk-estimator {font-family: monospace;background-color: #f0f8ff;border: 1px dotted black;border-radius: 0.25em;box-sizing: border-box;margin-bottom: 0.5em;}#sk-container-id-1 div.sk-estimator:hover {background-color: #d4ebff;}#sk-container-id-1 div.sk-parallel-item::after {content: \"\";width: 100%;border-bottom: 1px solid gray;flex-grow: 1;}#sk-container-id-1 div.sk-label:hover label.sk-toggleable__label {background-color: #d4ebff;}#sk-container-id-1 div.sk-serial::before {content: \"\";position: absolute;border-left: 1px solid gray;box-sizing: border-box;top: 0;bottom: 0;left: 50%;z-index: 0;}#sk-container-id-1 div.sk-serial {display: flex;flex-direction: column;align-items: center;background-color: white;padding-right: 0.2em;padding-left: 0.2em;position: relative;}#sk-container-id-1 div.sk-item {position: relative;z-index: 1;}#sk-container-id-1 div.sk-parallel {display: flex;align-items: stretch;justify-content: center;background-color: white;position: relative;}#sk-container-id-1 div.sk-item::before, #sk-container-id-1 div.sk-parallel-item::before {content: \"\";position: absolute;border-left: 1px solid gray;box-sizing: border-box;top: 0;bottom: 0;left: 50%;z-index: -1;}#sk-container-id-1 div.sk-parallel-item {display: flex;flex-direction: column;z-index: 1;position: relative;background-color: white;}#sk-container-id-1 div.sk-parallel-item:first-child::after {align-self: flex-end;width: 50%;}#sk-container-id-1 div.sk-parallel-item:last-child::after {align-self: flex-start;width: 50%;}#sk-container-id-1 div.sk-parallel-item:only-child::after {width: 0;}#sk-container-id-1 div.sk-dashed-wrapped {border: 1px dashed gray;margin: 0 0.4em 0.5em 0.4em;box-sizing: border-box;padding-bottom: 0.4em;background-color: white;}#sk-container-id-1 div.sk-label label {font-family: monospace;font-weight: bold;display: inline-block;line-height: 1.2em;}#sk-container-id-1 div.sk-label-container {text-align: center;}#sk-container-id-1 div.sk-container {/* jupyter's `normalize.less` sets `[hidden] { display: none; }` but bootstrap.min.css set `[hidden] { display: none !important; }` so we also need the `!important` here to be able to override the default hidden behavior on the sphinx rendered scikit-learn.org. See: https://github.com/scikit-learn/scikit-learn/issues/21755 */display: inline-block !important;position: relative;}#sk-container-id-1 div.sk-text-repr-fallback {display: none;}</style><div id=\"sk-container-id-1\" class=\"sk-top-container\"><div class=\"sk-text-repr-fallback\"><pre>LogisticRegression(random_state=0)</pre><b>In a Jupyter environment, please rerun this cell to show the HTML representation or trust the notebook. <br />On GitHub, the HTML representation is unable to render, please try loading this page with nbviewer.org.</b></div><div class=\"sk-container\" hidden><div class=\"sk-item\"><div class=\"sk-estimator sk-toggleable\"><input class=\"sk-toggleable__control sk-hidden--visually\" id=\"sk-estimator-id-1\" type=\"checkbox\" checked><label for=\"sk-estimator-id-1\" class=\"sk-toggleable__label sk-toggleable__label-arrow\">LogisticRegression</label><div class=\"sk-toggleable__content\"><pre>LogisticRegression(random_state=0)</pre></div></div></div></div></div>"
      ],
      "text/plain": [
       "LogisticRegression(random_state=0)"
      ]
     },
     "execution_count": 29,
     "metadata": {},
     "output_type": "execute_result"
    }
   ],
   "source": [
    "from sklearn.linear_model import LogisticRegression\n",
    "classifier = LogisticRegression(random_state=0)\n",
    "classifier.fit(X_train_scaled, y_train)"
   ]
  },
  {
   "cell_type": "markdown",
   "id": "02fc4a31",
   "metadata": {
    "papermill": {
     "duration": 0.01439,
     "end_time": "2025-02-19T13:50:53.013012",
     "exception": false,
     "start_time": "2025-02-19T13:50:52.998622",
     "status": "completed"
    },
    "tags": []
   },
   "source": [
    "Now let's try predicting the X_test and save it to a variable named y_pred"
   ]
  },
  {
   "cell_type": "code",
   "execution_count": 30,
   "id": "ab1e8d6d",
   "metadata": {
    "execution": {
     "iopub.execute_input": "2025-02-19T13:50:53.043973Z",
     "iopub.status.busy": "2025-02-19T13:50:53.043393Z",
     "iopub.status.idle": "2025-02-19T13:50:53.054578Z",
     "shell.execute_reply": "2025-02-19T13:50:53.053307Z"
    },
    "papermill": {
     "duration": 0.029142,
     "end_time": "2025-02-19T13:50:53.056659",
     "exception": false,
     "start_time": "2025-02-19T13:50:53.027517",
     "status": "completed"
    },
    "tags": []
   },
   "outputs": [
    {
     "data": {
      "text/plain": [
       "array([0, 1, 0, 1, 1, 1, 1, 0, 1, 0, 1, 0, 0, 1, 1, 1, 1, 1, 1, 1, 1, 0,\n",
       "       1, 1, 1, 1, 1, 1, 1, 0, 0, 1, 1, 1, 0, 1, 1, 0, 1, 1, 0, 1, 0, 1,\n",
       "       0, 1, 0, 1, 1, 0, 1, 1, 1, 1, 1, 1, 1, 0, 1, 1, 1, 0, 1, 1, 0, 1,\n",
       "       1, 1, 0, 1, 1, 0, 1, 1, 1, 0, 0, 1, 1, 0, 1, 1, 1, 0, 0, 0, 1, 0,\n",
       "       1, 1, 1, 1, 0, 1, 0, 1, 1, 1, 1, 0, 1, 1, 1, 1, 0, 1, 0, 0, 1, 1,\n",
       "       1, 1, 1, 1, 0, 0, 0, 1, 1, 1, 0, 1, 0, 1, 1, 0, 0])"
      ]
     },
     "execution_count": 30,
     "metadata": {},
     "output_type": "execute_result"
    }
   ],
   "source": [
    "y_pred = classifier.predict(X_test_scaled)\n",
    "y_pred"
   ]
  },
  {
   "cell_type": "markdown",
   "id": "953a2ec9",
   "metadata": {
    "papermill": {
     "duration": 0.014255,
     "end_time": "2025-02-19T13:50:53.085533",
     "exception": false,
     "start_time": "2025-02-19T13:50:53.071278",
     "status": "completed"
    },
    "tags": []
   },
   "source": [
    "Now we assess the performance of this model by using confusion matrix and accuracy score"
   ]
  },
  {
   "cell_type": "code",
   "execution_count": 31,
   "id": "5c72e9d2",
   "metadata": {
    "execution": {
     "iopub.execute_input": "2025-02-19T13:50:53.116469Z",
     "iopub.status.busy": "2025-02-19T13:50:53.116061Z",
     "iopub.status.idle": "2025-02-19T13:50:53.320178Z",
     "shell.execute_reply": "2025-02-19T13:50:53.318938Z"
    },
    "papermill": {
     "duration": 0.221813,
     "end_time": "2025-02-19T13:50:53.322013",
     "exception": false,
     "start_time": "2025-02-19T13:50:53.100200",
     "status": "completed"
    },
    "tags": []
   },
   "outputs": [
    {
     "name": "stdout",
     "output_type": "stream",
     "text": [
      "Model accuracy score: 0.6929133858267716\n"
     ]
    },
    {
     "data": {
      "image/png": "[encoded data removed]",
      "text/plain": [
       "<Figure size 800x600 with 1 Axes>"
      ]
     },
     "metadata": {},
     "output_type": "display_data"
    }
   ],
   "source": [
    "assess_model(y_test, y_train)"
   ]
  },
  {
   "cell_type": "markdown",
   "id": "b4bf7fd2",
   "metadata": {
    "papermill": {
     "duration": 0.016849,
     "end_time": "2025-02-19T13:50:53.354056",
     "exception": false,
     "start_time": "2025-02-19T13:50:53.337207",
     "status": "completed"
    },
    "tags": []
   },
   "source": [
    "The accuracy is quite bad for our data to use logistic regression, let's try with another model, more advanced one"
   ]
  },
  {
   "cell_type": "markdown",
   "id": "28239f6d",
   "metadata": {
    "papermill": {
     "duration": 0.014687,
     "end_time": "2025-02-19T13:50:53.383989",
     "exception": false,
     "start_time": "2025-02-19T13:50:53.369302",
     "status": "completed"
    },
    "tags": []
   },
   "source": [
    "## Random Forest Approach"
   ]
  },
  {
   "cell_type": "code",
   "execution_count": 32,
   "id": "4b89e87c",
   "metadata": {
    "execution": {
     "iopub.execute_input": "2025-02-19T13:50:53.416526Z",
     "iopub.status.busy": "2025-02-19T13:50:53.416184Z",
     "iopub.status.idle": "2025-02-19T13:50:54.047536Z",
     "shell.execute_reply": "2025-02-19T13:50:54.046290Z"
    },
    "papermill": {
     "duration": 0.650542,
     "end_time": "2025-02-19T13:50:54.049530",
     "exception": false,
     "start_time": "2025-02-19T13:50:53.398988",
     "status": "completed"
    },
    "tags": []
   },
   "outputs": [
    {
     "data": {
      "text/html": [
       "<style>#sk-container-id-2 {color: black;background-color: white;}#sk-container-id-2 pre{padding: 0;}#sk-container-id-2 div.sk-toggleable {background-color: white;}#sk-container-id-2 label.sk-toggleable__label {cursor: pointer;display: block;width: 100%;margin-bottom: 0;padding: 0.3em;box-sizing: border-box;text-align: center;}#sk-container-id-2 label.sk-toggleable__label-arrow:before {content: \"▸\";float: left;margin-right: 0.25em;color: #696969;}#sk-container-id-2 label.sk-toggleable__label-arrow:hover:before {color: black;}#sk-container-id-2 div.sk-estimator:hover label.sk-toggleable__label-arrow:before {color: black;}#sk-container-id-2 div.sk-toggleable__content {max-height: 0;max-width: 0;overflow: hidden;text-align: left;background-color: #f0f8ff;}#sk-container-id-2 div.sk-toggleable__content pre {margin: 0.2em;color: black;border-radius: 0.25em;background-color: #f0f8ff;}#sk-container-id-2 input.sk-toggleable__control:checked~div.sk-toggleable__content {max-height: 200px;max-width: 100%;overflow: auto;}#sk-container-id-2 input.sk-toggleable__control:checked~label.sk-toggleable__label-arrow:before {content: \"▾\";}#sk-container-id-2 div.sk-estimator input.sk-toggleable__control:checked~label.sk-toggleable__label {background-color: #d4ebff;}#sk-container-id-2 div.sk-label input.sk-toggleable__control:checked~label.sk-toggleable__label {background-color: #d4ebff;}#sk-container-id-2 input.sk-hidden--visually {border: 0;clip: rect(1px 1px 1px 1px);clip: rect(1px, 1px, 1px, 1px);height: 1px;margin: -1px;overflow: hidden;padding: 0;position: absolute;width: 1px;}#sk-container-id-2 div.sk-estimator {font-family: monospace;background-color: #f0f8ff;border: 1px dotted black;border-radius: 0.25em;box-sizing: border-box;margin-bottom: 0.5em;}#sk-container-id-2 div.sk-estimator:hover {background-color: #d4ebff;}#sk-container-id-2 div.sk-parallel-item::after {content: \"\";width: 100%;border-bottom: 1px solid gray;flex-grow: 1;}#sk-container-id-2 div.sk-label:hover label.sk-toggleable__label {background-color: #d4ebff;}#sk-container-id-2 div.sk-serial::before {content: \"\";position: absolute;border-left: 1px solid gray;box-sizing: border-box;top: 0;bottom: 0;left: 50%;z-index: 0;}#sk-container-id-2 div.sk-serial {display: flex;flex-direction: column;align-items: center;background-color: white;padding-right: 0.2em;padding-left: 0.2em;position: relative;}#sk-container-id-2 div.sk-item {position: relative;z-index: 1;}#sk-container-id-2 div.sk-parallel {display: flex;align-items: stretch;justify-content: center;background-color: white;position: relative;}#sk-container-id-2 div.sk-item::before, #sk-container-id-2 div.sk-parallel-item::before {content: \"\";position: absolute;border-left: 1px solid gray;box-sizing: border-box;top: 0;bottom: 0;left: 50%;z-index: -1;}#sk-container-id-2 div.sk-parallel-item {display: flex;flex-direction: column;z-index: 1;position: relative;background-color: white;}#sk-container-id-2 div.sk-parallel-item:first-child::after {align-self: flex-end;width: 50%;}#sk-container-id-2 div.sk-parallel-item:last-child::after {align-self: flex-start;width: 50%;}#sk-container-id-2 div.sk-parallel-item:only-child::after {width: 0;}#sk-container-id-2 div.sk-dashed-wrapped {border: 1px dashed gray;margin: 0 0.4em 0.5em 0.4em;box-sizing: border-box;padding-bottom: 0.4em;background-color: white;}#sk-container-id-2 div.sk-label label {font-family: monospace;font-weight: bold;display: inline-block;line-height: 1.2em;}#sk-container-id-2 div.sk-label-container {text-align: center;}#sk-container-id-2 div.sk-container {/* jupyter's `normalize.less` sets `[hidden] { display: none; }` but bootstrap.min.css set `[hidden] { display: none !important; }` so we also need the `!important` here to be able to override the default hidden behavior on the sphinx rendered scikit-learn.org. See: https://github.com/scikit-learn/scikit-learn/issues/21755 */display: inline-block !important;position: relative;}#sk-container-id-2 div.sk-text-repr-fallback {display: none;}</style><div id=\"sk-container-id-2\" class=\"sk-top-container\"><div class=\"sk-text-repr-fallback\"><pre>RandomForestClassifier(class_weight=&#x27;balanced&#x27;, n_estimators=300,\n",
       "                       random_state=0)</pre><b>In a Jupyter environment, please rerun this cell to show the HTML representation or trust the notebook. <br />On GitHub, the HTML representation is unable to render, please try loading this page with nbviewer.org.</b></div><div class=\"sk-container\" hidden><div class=\"sk-item\"><div class=\"sk-estimator sk-toggleable\"><input class=\"sk-toggleable__control sk-hidden--visually\" id=\"sk-estimator-id-2\" type=\"checkbox\" checked><label for=\"sk-estimator-id-2\" class=\"sk-toggleable__label sk-toggleable__label-arrow\">RandomForestClassifier</label><div class=\"sk-toggleable__content\"><pre>RandomForestClassifier(class_weight=&#x27;balanced&#x27;, n_estimators=300,\n",
       "                       random_state=0)</pre></div></div></div></div></div>"
      ],
      "text/plain": [
       "RandomForestClassifier(class_weight='balanced', n_estimators=300,\n",
       "                       random_state=0)"
      ]
     },
     "execution_count": 32,
     "metadata": {},
     "output_type": "execute_result"
    }
   ],
   "source": [
    "from sklearn.ensemble import RandomForestClassifier\n",
    "classifier = RandomForestClassifier(n_estimators = 300, max_depth=None, criterion = 'gini', random_state = 0, class_weight='balanced')\n",
    "classifier.fit(X_train_scaled, y_train)"
   ]
  },
  {
   "cell_type": "code",
   "execution_count": 33,
   "id": "350445ec",
   "metadata": {
    "execution": {
     "iopub.execute_input": "2025-02-19T13:50:54.082226Z",
     "iopub.status.busy": "2025-02-19T13:50:54.081879Z",
     "iopub.status.idle": "2025-02-19T13:50:54.111174Z",
     "shell.execute_reply": "2025-02-19T13:50:54.109713Z"
    },
    "papermill": {
     "duration": 0.047682,
     "end_time": "2025-02-19T13:50:54.113308",
     "exception": false,
     "start_time": "2025-02-19T13:50:54.065626",
     "status": "completed"
    },
    "tags": []
   },
   "outputs": [],
   "source": [
    "y_pred = classifier.predict(X_test_scaled)"
   ]
  },
  {
   "cell_type": "markdown",
   "id": "b7cdcfec",
   "metadata": {
    "papermill": {
     "duration": 0.015053,
     "end_time": "2025-02-19T13:50:54.144212",
     "exception": false,
     "start_time": "2025-02-19T13:50:54.129159",
     "status": "completed"
    },
    "tags": []
   },
   "source": [
    "Now let's assess its performance"
   ]
  },
  {
   "cell_type": "code",
   "execution_count": 34,
   "id": "92c41d9c",
   "metadata": {
    "execution": {
     "iopub.execute_input": "2025-02-19T13:50:54.179774Z",
     "iopub.status.busy": "2025-02-19T13:50:54.179348Z",
     "iopub.status.idle": "2025-02-19T13:50:54.305758Z",
     "shell.execute_reply": "2025-02-19T13:50:54.304419Z"
    },
    "papermill": {
     "duration": 0.145888,
     "end_time": "2025-02-19T13:50:54.307748",
     "exception": false,
     "start_time": "2025-02-19T13:50:54.161860",
     "status": "completed"
    },
    "tags": []
   },
   "outputs": [
    {
     "name": "stdout",
     "output_type": "stream",
     "text": [
      "Model accuracy score: 0.8661417322834646\n"
     ]
    },
    {
     "data": {
      "image/png": "[encoded data removed]",
      "text/plain": [
       "<Figure size 800x600 with 1 Axes>"
      ]
     },
     "metadata": {},
     "output_type": "display_data"
    }
   ],
   "source": [
    "assess_model(y_test, y_train)"
   ]
  },
  {
   "cell_type": "markdown",
   "id": "b7e7a979",
   "metadata": {
    "papermill": {
     "duration": 0.015577,
     "end_time": "2025-02-19T13:50:54.340434",
     "exception": false,
     "start_time": "2025-02-19T13:50:54.324857",
     "status": "completed"
    },
    "tags": []
   },
   "source": [
    "How about trying to use SMOTE instead of random oversampling"
   ]
  },
  {
   "cell_type": "code",
   "execution_count": 35,
   "id": "9e111a25",
   "metadata": {
    "execution": {
     "iopub.execute_input": "2025-02-19T13:50:54.374318Z",
     "iopub.status.busy": "2025-02-19T13:50:54.373794Z",
     "iopub.status.idle": "2025-02-19T13:50:55.126000Z",
     "shell.execute_reply": "2025-02-19T13:50:55.124839Z"
    },
    "papermill": {
     "duration": 0.773307,
     "end_time": "2025-02-19T13:50:55.129843",
     "exception": false,
     "start_time": "2025-02-19T13:50:54.356536",
     "status": "completed"
    },
    "tags": []
   },
   "outputs": [
    {
     "name": "stdout",
     "output_type": "stream",
     "text": [
      "Model accuracy score: 0.8661417322834646\n"
     ]
    },
    {
     "data": {
      "image/png": "[encoded data removed]",
      "text/plain": [
       "<Figure size 800x600 with 1 Axes>"
      ]
     },
     "metadata": {},
     "output_type": "display_data"
    }
   ],
   "source": [
    "# retrain the model\n",
    "classifier.fit(X_train_scaled2, y_train2)\n",
    "\n",
    "# predict again\n",
    "y_pred_new = classifier.predict(X_test_scaled2)\n",
    "\n",
    "# assess model\n",
    "assess_model(y_test2, y_pred_new)"
   ]
  },
  {
   "cell_type": "markdown",
   "id": "ed385f75",
   "metadata": {
    "papermill": {
     "duration": 0.015662,
     "end_time": "2025-02-19T13:50:55.162666",
     "exception": false,
     "start_time": "2025-02-19T13:50:55.147004",
     "status": "completed"
    },
    "tags": []
   },
   "source": [
    "OK, the accuracy is quite good, let's try to optimize the model using gridsearch"
   ]
  },
  {
   "cell_type": "code",
   "execution_count": 36,
   "id": "4a7d21db",
   "metadata": {
    "execution": {
     "iopub.execute_input": "2025-02-19T13:50:55.196778Z",
     "iopub.status.busy": "2025-02-19T13:50:55.196309Z",
     "iopub.status.idle": "2025-02-19T13:51:59.498477Z",
     "shell.execute_reply": "2025-02-19T13:51:59.496818Z"
    },
    "papermill": {
     "duration": 64.336165,
     "end_time": "2025-02-19T13:51:59.515398",
     "exception": false,
     "start_time": "2025-02-19T13:50:55.179233",
     "status": "completed"
    },
    "tags": []
   },
   "outputs": [
    {
     "name": "stdout",
     "output_type": "stream",
     "text": [
      "Fitting 5 folds for each of 72 candidates, totalling 360 fits\n",
      "Best Parameters: {'criterion': 'entropy', 'max_depth': 20, 'min_samples_split': 2, 'n_estimators': 300}\n"
     ]
    }
   ],
   "source": [
    "from sklearn.model_selection import GridSearchCV\n",
    "\n",
    "param_grid = {\n",
    "    'n_estimators': [100, 200, 300],  # Number of trees\n",
    "    'max_depth': [10, 20, 30, None],  # Maximum depth of trees\n",
    "    'criterion': ['gini', 'entropy'],  \n",
    "    'min_samples_split': [2, 5, 10]\n",
    "}\n",
    "\n",
    "# initiate classifier\n",
    "rf = RandomForestClassifier(random_state=0)\n",
    "\n",
    "# perform Grid Search\n",
    "grid_search = GridSearchCV(\n",
    "    rf, \n",
    "    param_grid, \n",
    "    cv=5,  # 5-fold cross-validation\n",
    "    scoring='accuracy',\n",
    "    n_jobs=-1,  # Use all available processors\n",
    "    verbose=1  # Show progress\n",
    ")\n",
    "\n",
    "# train GridSearchCV on training data\n",
    "grid_search.fit(X_train_scaled, y_train)\n",
    "\n",
    "print(\"Best Parameters:\", grid_search.best_params_)"
   ]
  },
  {
   "cell_type": "code",
   "execution_count": 37,
   "id": "82f0cc5c",
   "metadata": {
    "execution": {
     "iopub.execute_input": "2025-02-19T13:51:59.549289Z",
     "iopub.status.busy": "2025-02-19T13:51:59.548789Z",
     "iopub.status.idle": "2025-02-19T13:52:00.371977Z",
     "shell.execute_reply": "2025-02-19T13:52:00.370820Z"
    },
    "papermill": {
     "duration": 0.84301,
     "end_time": "2025-02-19T13:52:00.374039",
     "exception": false,
     "start_time": "2025-02-19T13:51:59.531029",
     "status": "completed"
    },
    "tags": []
   },
   "outputs": [
    {
     "name": "stdout",
     "output_type": "stream",
     "text": [
      "Model accuracy score: 0.8661417322834646\n"
     ]
    },
    {
     "data": {
      "image/png": "[encoded data removed]",
      "text/plain": [
       "<Figure size 800x600 with 1 Axes>"
      ]
     },
     "metadata": {},
     "output_type": "display_data"
    }
   ],
   "source": [
    "# reinitiate classifier\n",
    "classifier = RandomForestClassifier(\n",
    "    n_estimators = 300, \n",
    "    max_depth=20, \n",
    "    criterion = 'gini', \n",
    "    random_state = 0, \n",
    "    min_samples_split = 2\n",
    ")\n",
    "\n",
    "# retrain the model\n",
    "classifier.fit(X_train_scaled, y_train)\n",
    "\n",
    "# predict again\n",
    "y_pred_new = classifier.predict(X_test_scaled)\n",
    "\n",
    "# assess model\n",
    "assess_model(y_test, y_pred_new)"
   ]
  },
  {
   "cell_type": "markdown",
   "id": "c66ec21b",
   "metadata": {
    "papermill": {
     "duration": 0.016286,
     "end_time": "2025-02-19T13:52:00.406809",
     "exception": false,
     "start_time": "2025-02-19T13:52:00.390523",
     "status": "completed"
    },
    "tags": []
   },
   "source": [
    "## XGBoost Approach"
   ]
  },
  {
   "cell_type": "code",
   "execution_count": 38,
   "id": "03d41246",
   "metadata": {
    "execution": {
     "iopub.execute_input": "2025-02-19T13:52:00.441262Z",
     "iopub.status.busy": "2025-02-19T13:52:00.440901Z",
     "iopub.status.idle": "2025-02-19T13:52:00.970130Z",
     "shell.execute_reply": "2025-02-19T13:52:00.969271Z"
    },
    "papermill": {
     "duration": 0.54901,
     "end_time": "2025-02-19T13:52:00.972363",
     "exception": false,
     "start_time": "2025-02-19T13:52:00.423353",
     "status": "completed"
    },
    "tags": []
   },
   "outputs": [],
   "source": [
    "from xgboost import XGBClassifier\n",
    "\n",
    "classifier = XGBClassifier(n_estimators=300, max_depth=None, random_state=0)\n",
    "classifier.fit(X_train_scaled, y_train)\n",
    "\n",
    "y_pred = classifier.predict(X_test_scaled)"
   ]
  },
  {
   "cell_type": "code",
   "execution_count": 39,
   "id": "618d2b11",
   "metadata": {
    "execution": {
     "iopub.execute_input": "2025-02-19T13:52:01.009247Z",
     "iopub.status.busy": "2025-02-19T13:52:01.008871Z",
     "iopub.status.idle": "2025-02-19T13:52:01.132449Z",
     "shell.execute_reply": "2025-02-19T13:52:01.131208Z"
    },
    "papermill": {
     "duration": 0.142616,
     "end_time": "2025-02-19T13:52:01.134302",
     "exception": false,
     "start_time": "2025-02-19T13:52:00.991686",
     "status": "completed"
    },
    "tags": []
   },
   "outputs": [
    {
     "name": "stdout",
     "output_type": "stream",
     "text": [
      "Model accuracy score: 0.84251968503937\n"
     ]
    },
    {
     "data": {
      "image/png": "[encoded data removed]",
      "text/plain": [
       "<Figure size 800x600 with 1 Axes>"
      ]
     },
     "metadata": {},
     "output_type": "display_data"
    }
   ],
   "source": [
    "assess_model(y_test, y_pred)"
   ]
  },
  {
   "cell_type": "code",
   "execution_count": 40,
   "id": "4e7e8068",
   "metadata": {
    "execution": {
     "iopub.execute_input": "2025-02-19T13:52:01.173522Z",
     "iopub.status.busy": "2025-02-19T13:52:01.173111Z",
     "iopub.status.idle": "2025-02-19T13:52:01.508909Z",
     "shell.execute_reply": "2025-02-19T13:52:01.507672Z"
    },
    "papermill": {
     "duration": 0.356353,
     "end_time": "2025-02-19T13:52:01.510846",
     "exception": false,
     "start_time": "2025-02-19T13:52:01.154493",
     "status": "completed"
    },
    "tags": []
   },
   "outputs": [
    {
     "name": "stdout",
     "output_type": "stream",
     "text": [
      "Model accuracy score: 0.84251968503937\n"
     ]
    },
    {
     "data": {
      "image/png": "[encoded data removed]",
      "text/plain": [
       "<Figure size 800x600 with 1 Axes>"
      ]
     },
     "metadata": {},
     "output_type": "display_data"
    }
   ],
   "source": [
    "# retrain the model\n",
    "classifier.fit(X_train_scaled2, y_train2)\n",
    "\n",
    "# predict again\n",
    "y_pred_new = classifier.predict(X_test_scaled2)\n",
    "\n",
    "# assess model\n",
    "assess_model(y_test2, y_pred_new)"
   ]
  },
  {
   "cell_type": "markdown",
   "id": "207ccf9c",
   "metadata": {
    "papermill": {
     "duration": 0.016594,
     "end_time": "2025-02-19T13:52:01.544669",
     "exception": false,
     "start_time": "2025-02-19T13:52:01.528075",
     "status": "completed"
    },
    "tags": []
   },
   "source": [
    "Let's optimize using gridsearch"
   ]
  },
  {
   "cell_type": "code",
   "execution_count": 41,
   "id": "a217d372",
   "metadata": {
    "execution": {
     "iopub.execute_input": "2025-02-19T13:52:01.580414Z",
     "iopub.status.busy": "2025-02-19T13:52:01.579985Z",
     "iopub.status.idle": "2025-02-19T13:52:59.122813Z",
     "shell.execute_reply": "2025-02-19T13:52:59.121881Z"
    },
    "papermill": {
     "duration": 57.584498,
     "end_time": "2025-02-19T13:52:59.146345",
     "exception": false,
     "start_time": "2025-02-19T13:52:01.561847",
     "status": "completed"
    },
    "tags": []
   },
   "outputs": [
    {
     "name": "stdout",
     "output_type": "stream",
     "text": [
      "Fitting 5 folds for each of 243 candidates, totalling 1215 fits\n",
      "Best Parameters for XGBoost: {'colsample_bytree': 1.0, 'learning_rate': 0.1, 'max_depth': 9, 'n_estimators': 200, 'subsample': 0.8}\n",
      "Best Cross-Validation Accuracy: 0.8452214452214453\n"
     ]
    }
   ],
   "source": [
    "# define the parameter grid\n",
    "param_grid_xgb = {\n",
    "    'n_estimators': [100, 200, 300],  # Number of trees\n",
    "    'max_depth': [3, 6, 9],  # Maximum depth of trees\n",
    "    'learning_rate': [0.01, 0.05, 0.1],  # Step size shrinkage\n",
    "    'subsample': [0.7, 0.8, 1.0],  # Fraction of data to use per tree\n",
    "    'colsample_bytree': [0.7, 0.8, 1.0]  # Fraction of features per tree\n",
    "}\n",
    "\n",
    "# initialize XGBoost classifier\n",
    "xgb = XGBClassifier(random_state=0, use_label_encoder=False, eval_metric='logloss')\n",
    "\n",
    "# perform Grid Search\n",
    "grid_search_xgb = GridSearchCV(\n",
    "    estimator=xgb,\n",
    "    param_grid=param_grid_xgb,\n",
    "    cv=5,  # 5-fold cross-validation\n",
    "    scoring='accuracy',\n",
    "    n_jobs=-1,  # Use all available processors\n",
    "    verbose=1  # Show progress\n",
    ")\n",
    "\n",
    "# train GridSearchCV on training data\n",
    "grid_search_xgb.fit(X_train, y_train)\n",
    "\n",
    "# get the best parameters and best accuracy score\n",
    "best_params_xgb = grid_search_xgb.best_params_\n",
    "best_score_xgb = grid_search_xgb.best_score_\n",
    "\n",
    "print(\"Best Parameters for XGBoost:\", best_params_xgb)\n",
    "print(\"Best Cross-Validation Accuracy:\", best_score_xgb)"
   ]
  },
  {
   "cell_type": "code",
   "execution_count": 42,
   "id": "87002550",
   "metadata": {
    "execution": {
     "iopub.execute_input": "2025-02-19T13:52:59.186344Z",
     "iopub.status.busy": "2025-02-19T13:52:59.185967Z",
     "iopub.status.idle": "2025-02-19T13:52:59.507604Z",
     "shell.execute_reply": "2025-02-19T13:52:59.506302Z"
    },
    "papermill": {
     "duration": 0.342861,
     "end_time": "2025-02-19T13:52:59.509616",
     "exception": false,
     "start_time": "2025-02-19T13:52:59.166755",
     "status": "completed"
    },
    "tags": []
   },
   "outputs": [
    {
     "name": "stdout",
     "output_type": "stream",
     "text": [
      "Model accuracy score: 0.84251968503937\n"
     ]
    },
    {
     "data": {
      "image/png": "[encoded data removed]",
      "text/plain": [
       "<Figure size 800x600 with 1 Axes>"
      ]
     },
     "metadata": {},
     "output_type": "display_data"
    }
   ],
   "source": [
    "# reinitiate classifier\n",
    "classifier = XGBClassifier(\n",
    "    n_estimators = 200, \n",
    "    max_depth = 9, \n",
    "    learning_rate = 0.1,\n",
    "    subsample = 1, \n",
    "    random_state = 0, \n",
    "    colsample_bytree = 0.8 \n",
    ")\n",
    "\n",
    "# retrain the model\n",
    "classifier.fit(X_train_scaled, y_train)\n",
    "\n",
    "# predict again\n",
    "y_pred_new = classifier.predict(X_test_scaled)\n",
    "\n",
    "# assess model\n",
    "assess_model(y_test, y_pred_new)"
   ]
  },
  {
   "cell_type": "markdown",
   "id": "86c46bf8",
   "metadata": {
    "papermill": {
     "duration": 0.019971,
     "end_time": "2025-02-19T13:52:59.549779",
     "exception": false,
     "start_time": "2025-02-19T13:52:59.529808",
     "status": "completed"
    },
    "tags": []
   },
   "source": [
    "This is just to show which features are important"
   ]
  },
  {
   "cell_type": "code",
   "execution_count": 43,
   "id": "fcd9ae1b",
   "metadata": {
    "execution": {
     "iopub.execute_input": "2025-02-19T13:52:59.588788Z",
     "iopub.status.busy": "2025-02-19T13:52:59.588328Z",
     "iopub.status.idle": "2025-02-19T13:52:59.891587Z",
     "shell.execute_reply": "2025-02-19T13:52:59.890301Z"
    },
    "papermill": {
     "duration": 0.324431,
     "end_time": "2025-02-19T13:52:59.893368",
     "exception": false,
     "start_time": "2025-02-19T13:52:59.568937",
     "status": "completed"
    },
    "tags": []
   },
   "outputs": [
    {
     "data": {
      "image/png": "[encoded data removed]",
      "text/plain": [
       "<Figure size 640x480 with 1 Axes>"
      ]
     },
     "metadata": {},
     "output_type": "display_data"
    }
   ],
   "source": [
    "# Get feature importance\n",
    "importance = pd.Series(classifier.feature_importances_, index=X_train.columns)\n",
    "\n",
    "# Plot feature importance\n",
    "importance.sort_values(ascending=False).plot(kind='bar', title=\"Feature Importance\")\n",
    "plt.show()"
   ]
  }
 ],
 "metadata": {
  "kaggle": {
   "accelerator": "none",
   "dataSources": [
    {
     "datasetId": 2637478,
     "sourceId": 4512631,
     "sourceType": "datasetVersion"
    }
   ],
   "dockerImageVersionId": 30886,
   "isGpuEnabled": false,
   "isInternetEnabled": true,
   "language": "python",
   "sourceType": "notebook"
  },
  "kernelspec": {
   "display_name": "Python 3",
   "language": "python",
   "name": "python3"
  },
  "language_info": {
   "codemirror_mode": {
    "name": "ipython",
    "version": 3
   },
   "file_extension": ".py",
   "mimetype": "text/x-python",
   "name": "python",
   "nbconvert_exporter": "python",
   "pygments_lexer": "ipython3",
   "version": "3.10.12"
  },
  "papermill": {
   "default_parameters": {},
   "duration": 138.817636,
   "end_time": "2025-02-19T13:53:01.138454",
   "environment_variables": {},
   "exception": null,
   "input_path": "__notebook__.ipynb",
   "output_path": "__notebook__.ipynb",
   "parameters": {},
   "start_time": "2025-02-19T13:50:42.320818",
   "version": "2.6.0"
  }
 },
 "nbformat": 4,
 "nbformat_minor": 5
}
