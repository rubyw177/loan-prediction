{
 "cells": [
  {
   "cell_type": "markdown",
   "id": "211959d5",
   "metadata": {
    "papermill": {
     "duration": 0.008074,
     "end_time": "2025-02-18T10:15:18.677911",
     "exception": false,
     "start_time": "2025-02-18T10:15:18.669837",
     "status": "completed"
    },
    "tags": []
   },
   "source": [
    "# Download the loan dataset"
   ]
  },
  {
   "cell_type": "code",
   "execution_count": 1,
   "id": "37383763",
   "metadata": {
    "execution": {
     "iopub.execute_input": "2025-02-18T10:15:18.693995Z",
     "iopub.status.busy": "2025-02-18T10:15:18.693560Z",
     "iopub.status.idle": "2025-02-18T10:15:20.934495Z",
     "shell.execute_reply": "2025-02-18T10:15:20.932976Z"
    },
    "papermill": {
     "duration": 2.251363,
     "end_time": "2025-02-18T10:15:20.936723",
     "exception": false,
     "start_time": "2025-02-18T10:15:18.685360",
     "status": "completed"
    },
    "tags": []
   },
   "outputs": [
    {
     "name": "stdout",
     "output_type": "stream",
     "text": [
      "Path to dataset files: /kaggle/input/eligibility-prediction-for-loan\n"
     ]
    }
   ],
   "source": [
    "import kagglehub\n",
    "\n",
    "# Download latest version\n",
    "path = kagglehub.dataset_download(\"devzohaib/eligibility-prediction-for-loan\")\n",
    "\n",
    "print(\"Path to dataset files:\", path)"
   ]
  },
  {
   "cell_type": "markdown",
   "id": "6121f9c8",
   "metadata": {
    "papermill": {
     "duration": 0.006679,
     "end_time": "2025-02-18T10:15:20.950852",
     "exception": false,
     "start_time": "2025-02-18T10:15:20.944173",
     "status": "completed"
    },
    "tags": []
   },
   "source": [
    "Import LIbraries"
   ]
  },
  {
   "cell_type": "code",
   "execution_count": 2,
   "id": "38a5043f",
   "metadata": {
    "execution": {
     "iopub.execute_input": "2025-02-18T10:15:20.966236Z",
     "iopub.status.busy": "2025-02-18T10:15:20.965674Z",
     "iopub.status.idle": "2025-02-18T10:15:22.016392Z",
     "shell.execute_reply": "2025-02-18T10:15:22.015266Z"
    },
    "papermill": {
     "duration": 1.060967,
     "end_time": "2025-02-18T10:15:22.018754",
     "exception": false,
     "start_time": "2025-02-18T10:15:20.957787",
     "status": "completed"
    },
    "tags": []
   },
   "outputs": [],
   "source": [
    "import pandas as pd\n",
    "import numpy as np"
   ]
  },
  {
   "cell_type": "markdown",
   "id": "12cb51c8",
   "metadata": {
    "papermill": {
     "duration": 0.00727,
     "end_time": "2025-02-18T10:15:22.033893",
     "exception": false,
     "start_time": "2025-02-18T10:15:22.026623",
     "status": "completed"
    },
    "tags": []
   },
   "source": [
    "# Data preprocessing\n",
    "in this section the data will be cleaned, encoded, and preprocessed"
   ]
  },
  {
   "cell_type": "code",
   "execution_count": 3,
   "id": "ef76ebe7",
   "metadata": {
    "execution": {
     "iopub.execute_input": "2025-02-18T10:15:22.051259Z",
     "iopub.status.busy": "2025-02-18T10:15:22.050681Z",
     "iopub.status.idle": "2025-02-18T10:15:22.078319Z",
     "shell.execute_reply": "2025-02-18T10:15:22.076931Z"
    },
    "papermill": {
     "duration": 0.039038,
     "end_time": "2025-02-18T10:15:22.080710",
     "exception": false,
     "start_time": "2025-02-18T10:15:22.041672",
     "status": "completed"
    },
    "tags": []
   },
   "outputs": [],
   "source": [
    "df = pd.read_csv(\"/kaggle/input/eligibility-prediction-for-loan/Loan_Data.csv\")"
   ]
  },
  {
   "cell_type": "code",
   "execution_count": 4,
   "id": "a4ad0975",
   "metadata": {
    "execution": {
     "iopub.execute_input": "2025-02-18T10:15:22.096676Z",
     "iopub.status.busy": "2025-02-18T10:15:22.096278Z",
     "iopub.status.idle": "2025-02-18T10:15:22.152820Z",
     "shell.execute_reply": "2025-02-18T10:15:22.151137Z"
    },
    "papermill": {
     "duration": 0.067586,
     "end_time": "2025-02-18T10:15:22.155808",
     "exception": false,
     "start_time": "2025-02-18T10:15:22.088222",
     "status": "completed"
    },
    "tags": []
   },
   "outputs": [
    {
     "name": "stderr",
     "output_type": "stream",
     "text": [
      "/usr/local/lib/python3.10/dist-packages/pandas/io/formats/format.py:1458: RuntimeWarning: invalid value encountered in greater\n",
      "  has_large_values = (abs_vals > 1e6).any()\n",
      "/usr/local/lib/python3.10/dist-packages/pandas/io/formats/format.py:1459: RuntimeWarning: invalid value encountered in less\n",
      "  has_small_values = ((abs_vals < 10 ** (-self.digits)) & (abs_vals > 0)).any()\n",
      "/usr/local/lib/python3.10/dist-packages/pandas/io/formats/format.py:1459: RuntimeWarning: invalid value encountered in greater\n",
      "  has_small_values = ((abs_vals < 10 ** (-self.digits)) & (abs_vals > 0)).any()\n"
     ]
    },
    {
     "data": {
      "text/html": [
       "<div>\n",
       "<style scoped>\n",
       "    .dataframe tbody tr th:only-of-type {\n",
       "        vertical-align: middle;\n",
       "    }\n",
       "\n",
       "    .dataframe tbody tr th {\n",
       "        vertical-align: top;\n",
       "    }\n",
       "\n",
       "    .dataframe thead th {\n",
       "        text-align: right;\n",
       "    }\n",
       "</style>\n",
       "<table border=\"1\" class=\"dataframe\">\n",
       "  <thead>\n",
       "    <tr style=\"text-align: right;\">\n",
       "      <th></th>\n",
       "      <th>Loan_ID</th>\n",
       "      <th>Gender</th>\n",
       "      <th>Married</th>\n",
       "      <th>Dependents</th>\n",
       "      <th>Education</th>\n",
       "      <th>Self_Employed</th>\n",
       "      <th>ApplicantIncome</th>\n",
       "      <th>CoapplicantIncome</th>\n",
       "      <th>LoanAmount</th>\n",
       "      <th>Loan_Amount_Term</th>\n",
       "      <th>Credit_History</th>\n",
       "      <th>Property_Area</th>\n",
       "      <th>Loan_Status</th>\n",
       "    </tr>\n",
       "  </thead>\n",
       "  <tbody>\n",
       "    <tr>\n",
       "      <th>0</th>\n",
       "      <td>LP001002</td>\n",
       "      <td>Male</td>\n",
       "      <td>No</td>\n",
       "      <td>0</td>\n",
       "      <td>Graduate</td>\n",
       "      <td>No</td>\n",
       "      <td>5849</td>\n",
       "      <td>0.0</td>\n",
       "      <td>NaN</td>\n",
       "      <td>360.0</td>\n",
       "      <td>1.0</td>\n",
       "      <td>Urban</td>\n",
       "      <td>Y</td>\n",
       "    </tr>\n",
       "    <tr>\n",
       "      <th>1</th>\n",
       "      <td>LP001003</td>\n",
       "      <td>Male</td>\n",
       "      <td>Yes</td>\n",
       "      <td>1</td>\n",
       "      <td>Graduate</td>\n",
       "      <td>No</td>\n",
       "      <td>4583</td>\n",
       "      <td>1508.0</td>\n",
       "      <td>128.0</td>\n",
       "      <td>360.0</td>\n",
       "      <td>1.0</td>\n",
       "      <td>Rural</td>\n",
       "      <td>N</td>\n",
       "    </tr>\n",
       "    <tr>\n",
       "      <th>2</th>\n",
       "      <td>LP001005</td>\n",
       "      <td>Male</td>\n",
       "      <td>Yes</td>\n",
       "      <td>0</td>\n",
       "      <td>Graduate</td>\n",
       "      <td>Yes</td>\n",
       "      <td>3000</td>\n",
       "      <td>0.0</td>\n",
       "      <td>66.0</td>\n",
       "      <td>360.0</td>\n",
       "      <td>1.0</td>\n",
       "      <td>Urban</td>\n",
       "      <td>Y</td>\n",
       "    </tr>\n",
       "    <tr>\n",
       "      <th>3</th>\n",
       "      <td>LP001006</td>\n",
       "      <td>Male</td>\n",
       "      <td>Yes</td>\n",
       "      <td>0</td>\n",
       "      <td>Not Graduate</td>\n",
       "      <td>No</td>\n",
       "      <td>2583</td>\n",
       "      <td>2358.0</td>\n",
       "      <td>120.0</td>\n",
       "      <td>360.0</td>\n",
       "      <td>1.0</td>\n",
       "      <td>Urban</td>\n",
       "      <td>Y</td>\n",
       "    </tr>\n",
       "    <tr>\n",
       "      <th>4</th>\n",
       "      <td>LP001008</td>\n",
       "      <td>Male</td>\n",
       "      <td>No</td>\n",
       "      <td>0</td>\n",
       "      <td>Graduate</td>\n",
       "      <td>No</td>\n",
       "      <td>6000</td>\n",
       "      <td>0.0</td>\n",
       "      <td>141.0</td>\n",
       "      <td>360.0</td>\n",
       "      <td>1.0</td>\n",
       "      <td>Urban</td>\n",
       "      <td>Y</td>\n",
       "    </tr>\n",
       "    <tr>\n",
       "      <th>...</th>\n",
       "      <td>...</td>\n",
       "      <td>...</td>\n",
       "      <td>...</td>\n",
       "      <td>...</td>\n",
       "      <td>...</td>\n",
       "      <td>...</td>\n",
       "      <td>...</td>\n",
       "      <td>...</td>\n",
       "      <td>...</td>\n",
       "      <td>...</td>\n",
       "      <td>...</td>\n",
       "      <td>...</td>\n",
       "      <td>...</td>\n",
       "    </tr>\n",
       "    <tr>\n",
       "      <th>609</th>\n",
       "      <td>LP002978</td>\n",
       "      <td>Female</td>\n",
       "      <td>No</td>\n",
       "      <td>0</td>\n",
       "      <td>Graduate</td>\n",
       "      <td>No</td>\n",
       "      <td>2900</td>\n",
       "      <td>0.0</td>\n",
       "      <td>71.0</td>\n",
       "      <td>360.0</td>\n",
       "      <td>1.0</td>\n",
       "      <td>Rural</td>\n",
       "      <td>Y</td>\n",
       "    </tr>\n",
       "    <tr>\n",
       "      <th>610</th>\n",
       "      <td>LP002979</td>\n",
       "      <td>Male</td>\n",
       "      <td>Yes</td>\n",
       "      <td>3+</td>\n",
       "      <td>Graduate</td>\n",
       "      <td>No</td>\n",
       "      <td>4106</td>\n",
       "      <td>0.0</td>\n",
       "      <td>40.0</td>\n",
       "      <td>180.0</td>\n",
       "      <td>1.0</td>\n",
       "      <td>Rural</td>\n",
       "      <td>Y</td>\n",
       "    </tr>\n",
       "    <tr>\n",
       "      <th>611</th>\n",
       "      <td>LP002983</td>\n",
       "      <td>Male</td>\n",
       "      <td>Yes</td>\n",
       "      <td>1</td>\n",
       "      <td>Graduate</td>\n",
       "      <td>No</td>\n",
       "      <td>8072</td>\n",
       "      <td>240.0</td>\n",
       "      <td>253.0</td>\n",
       "      <td>360.0</td>\n",
       "      <td>1.0</td>\n",
       "      <td>Urban</td>\n",
       "      <td>Y</td>\n",
       "    </tr>\n",
       "    <tr>\n",
       "      <th>612</th>\n",
       "      <td>LP002984</td>\n",
       "      <td>Male</td>\n",
       "      <td>Yes</td>\n",
       "      <td>2</td>\n",
       "      <td>Graduate</td>\n",
       "      <td>No</td>\n",
       "      <td>7583</td>\n",
       "      <td>0.0</td>\n",
       "      <td>187.0</td>\n",
       "      <td>360.0</td>\n",
       "      <td>1.0</td>\n",
       "      <td>Urban</td>\n",
       "      <td>Y</td>\n",
       "    </tr>\n",
       "    <tr>\n",
       "      <th>613</th>\n",
       "      <td>LP002990</td>\n",
       "      <td>Female</td>\n",
       "      <td>No</td>\n",
       "      <td>0</td>\n",
       "      <td>Graduate</td>\n",
       "      <td>Yes</td>\n",
       "      <td>4583</td>\n",
       "      <td>0.0</td>\n",
       "      <td>133.0</td>\n",
       "      <td>360.0</td>\n",
       "      <td>0.0</td>\n",
       "      <td>Semiurban</td>\n",
       "      <td>N</td>\n",
       "    </tr>\n",
       "  </tbody>\n",
       "</table>\n",
       "<p>614 rows × 13 columns</p>\n",
       "</div>"
      ],
      "text/plain": [
       "      Loan_ID  Gender Married Dependents     Education Self_Employed  \\\n",
       "0    LP001002    Male      No          0      Graduate            No   \n",
       "1    LP001003    Male     Yes          1      Graduate            No   \n",
       "2    LP001005    Male     Yes          0      Graduate           Yes   \n",
       "3    LP001006    Male     Yes          0  Not Graduate            No   \n",
       "4    LP001008    Male      No          0      Graduate            No   \n",
       "..        ...     ...     ...        ...           ...           ...   \n",
       "609  LP002978  Female      No          0      Graduate            No   \n",
       "610  LP002979    Male     Yes         3+      Graduate            No   \n",
       "611  LP002983    Male     Yes          1      Graduate            No   \n",
       "612  LP002984    Male     Yes          2      Graduate            No   \n",
       "613  LP002990  Female      No          0      Graduate           Yes   \n",
       "\n",
       "     ApplicantIncome  CoapplicantIncome  LoanAmount  Loan_Amount_Term  \\\n",
       "0               5849                0.0         NaN             360.0   \n",
       "1               4583             1508.0       128.0             360.0   \n",
       "2               3000                0.0        66.0             360.0   \n",
       "3               2583             2358.0       120.0             360.0   \n",
       "4               6000                0.0       141.0             360.0   \n",
       "..               ...                ...         ...               ...   \n",
       "609             2900                0.0        71.0             360.0   \n",
       "610             4106                0.0        40.0             180.0   \n",
       "611             8072              240.0       253.0             360.0   \n",
       "612             7583                0.0       187.0             360.0   \n",
       "613             4583                0.0       133.0             360.0   \n",
       "\n",
       "     Credit_History Property_Area Loan_Status  \n",
       "0               1.0         Urban           Y  \n",
       "1               1.0         Rural           N  \n",
       "2               1.0         Urban           Y  \n",
       "3               1.0         Urban           Y  \n",
       "4               1.0         Urban           Y  \n",
       "..              ...           ...         ...  \n",
       "609             1.0         Rural           Y  \n",
       "610             1.0         Rural           Y  \n",
       "611             1.0         Urban           Y  \n",
       "612             1.0         Urban           Y  \n",
       "613             0.0     Semiurban           N  \n",
       "\n",
       "[614 rows x 13 columns]"
      ]
     },
     "execution_count": 4,
     "metadata": {},
     "output_type": "execute_result"
    }
   ],
   "source": [
    "df"
   ]
  },
  {
   "cell_type": "code",
   "execution_count": 5,
   "id": "84788711",
   "metadata": {
    "execution": {
     "iopub.execute_input": "2025-02-18T10:15:22.174392Z",
     "iopub.status.busy": "2025-02-18T10:15:22.173916Z",
     "iopub.status.idle": "2025-02-18T10:15:22.205240Z",
     "shell.execute_reply": "2025-02-18T10:15:22.203870Z"
    },
    "papermill": {
     "duration": 0.043601,
     "end_time": "2025-02-18T10:15:22.207538",
     "exception": false,
     "start_time": "2025-02-18T10:15:22.163937",
     "status": "completed"
    },
    "tags": []
   },
   "outputs": [
    {
     "data": {
      "text/html": [
       "<div>\n",
       "<style scoped>\n",
       "    .dataframe tbody tr th:only-of-type {\n",
       "        vertical-align: middle;\n",
       "    }\n",
       "\n",
       "    .dataframe tbody tr th {\n",
       "        vertical-align: top;\n",
       "    }\n",
       "\n",
       "    .dataframe thead th {\n",
       "        text-align: right;\n",
       "    }\n",
       "</style>\n",
       "<table border=\"1\" class=\"dataframe\">\n",
       "  <thead>\n",
       "    <tr style=\"text-align: right;\">\n",
       "      <th></th>\n",
       "      <th>ApplicantIncome</th>\n",
       "      <th>CoapplicantIncome</th>\n",
       "      <th>LoanAmount</th>\n",
       "      <th>Loan_Amount_Term</th>\n",
       "      <th>Credit_History</th>\n",
       "    </tr>\n",
       "  </thead>\n",
       "  <tbody>\n",
       "    <tr>\n",
       "      <th>count</th>\n",
       "      <td>614.000000</td>\n",
       "      <td>614.000000</td>\n",
       "      <td>592.000000</td>\n",
       "      <td>600.00000</td>\n",
       "      <td>564.000000</td>\n",
       "    </tr>\n",
       "    <tr>\n",
       "      <th>mean</th>\n",
       "      <td>5403.459283</td>\n",
       "      <td>1621.245798</td>\n",
       "      <td>146.412162</td>\n",
       "      <td>342.00000</td>\n",
       "      <td>0.842199</td>\n",
       "    </tr>\n",
       "    <tr>\n",
       "      <th>std</th>\n",
       "      <td>6109.041673</td>\n",
       "      <td>2926.248369</td>\n",
       "      <td>85.587325</td>\n",
       "      <td>65.12041</td>\n",
       "      <td>0.364878</td>\n",
       "    </tr>\n",
       "    <tr>\n",
       "      <th>min</th>\n",
       "      <td>150.000000</td>\n",
       "      <td>0.000000</td>\n",
       "      <td>9.000000</td>\n",
       "      <td>12.00000</td>\n",
       "      <td>0.000000</td>\n",
       "    </tr>\n",
       "    <tr>\n",
       "      <th>25%</th>\n",
       "      <td>2877.500000</td>\n",
       "      <td>0.000000</td>\n",
       "      <td>100.000000</td>\n",
       "      <td>360.00000</td>\n",
       "      <td>1.000000</td>\n",
       "    </tr>\n",
       "    <tr>\n",
       "      <th>50%</th>\n",
       "      <td>3812.500000</td>\n",
       "      <td>1188.500000</td>\n",
       "      <td>128.000000</td>\n",
       "      <td>360.00000</td>\n",
       "      <td>1.000000</td>\n",
       "    </tr>\n",
       "    <tr>\n",
       "      <th>75%</th>\n",
       "      <td>5795.000000</td>\n",
       "      <td>2297.250000</td>\n",
       "      <td>168.000000</td>\n",
       "      <td>360.00000</td>\n",
       "      <td>1.000000</td>\n",
       "    </tr>\n",
       "    <tr>\n",
       "      <th>max</th>\n",
       "      <td>81000.000000</td>\n",
       "      <td>41667.000000</td>\n",
       "      <td>700.000000</td>\n",
       "      <td>480.00000</td>\n",
       "      <td>1.000000</td>\n",
       "    </tr>\n",
       "  </tbody>\n",
       "</table>\n",
       "</div>"
      ],
      "text/plain": [
       "       ApplicantIncome  CoapplicantIncome  LoanAmount  Loan_Amount_Term  \\\n",
       "count       614.000000         614.000000  592.000000         600.00000   \n",
       "mean       5403.459283        1621.245798  146.412162         342.00000   \n",
       "std        6109.041673        2926.248369   85.587325          65.12041   \n",
       "min         150.000000           0.000000    9.000000          12.00000   \n",
       "25%        2877.500000           0.000000  100.000000         360.00000   \n",
       "50%        3812.500000        1188.500000  128.000000         360.00000   \n",
       "75%        5795.000000        2297.250000  168.000000         360.00000   \n",
       "max       81000.000000       41667.000000  700.000000         480.00000   \n",
       "\n",
       "       Credit_History  \n",
       "count      564.000000  \n",
       "mean         0.842199  \n",
       "std          0.364878  \n",
       "min          0.000000  \n",
       "25%          1.000000  \n",
       "50%          1.000000  \n",
       "75%          1.000000  \n",
       "max          1.000000  "
      ]
     },
     "execution_count": 5,
     "metadata": {},
     "output_type": "execute_result"
    }
   ],
   "source": [
    "df.describe()"
   ]
  },
  {
   "cell_type": "code",
   "execution_count": 6,
   "id": "92805b50",
   "metadata": {
    "execution": {
     "iopub.execute_input": "2025-02-18T10:15:22.225304Z",
     "iopub.status.busy": "2025-02-18T10:15:22.224887Z",
     "iopub.status.idle": "2025-02-18T10:15:22.248890Z",
     "shell.execute_reply": "2025-02-18T10:15:22.247294Z"
    },
    "papermill": {
     "duration": 0.034857,
     "end_time": "2025-02-18T10:15:22.250737",
     "exception": false,
     "start_time": "2025-02-18T10:15:22.215880",
     "status": "completed"
    },
    "tags": []
   },
   "outputs": [
    {
     "name": "stdout",
     "output_type": "stream",
     "text": [
      "<class 'pandas.core.frame.DataFrame'>\n",
      "RangeIndex: 614 entries, 0 to 613\n",
      "Data columns (total 13 columns):\n",
      " #   Column             Non-Null Count  Dtype  \n",
      "---  ------             --------------  -----  \n",
      " 0   Loan_ID            614 non-null    object \n",
      " 1   Gender             601 non-null    object \n",
      " 2   Married            611 non-null    object \n",
      " 3   Dependents         599 non-null    object \n",
      " 4   Education          614 non-null    object \n",
      " 5   Self_Employed      582 non-null    object \n",
      " 6   ApplicantIncome    614 non-null    int64  \n",
      " 7   CoapplicantIncome  614 non-null    float64\n",
      " 8   LoanAmount         592 non-null    float64\n",
      " 9   Loan_Amount_Term   600 non-null    float64\n",
      " 10  Credit_History     564 non-null    float64\n",
      " 11  Property_Area      614 non-null    object \n",
      " 12  Loan_Status        614 non-null    object \n",
      "dtypes: float64(4), int64(1), object(8)\n",
      "memory usage: 62.5+ KB\n"
     ]
    }
   ],
   "source": [
    "df.info()"
   ]
  },
  {
   "cell_type": "markdown",
   "id": "0acb9c9e",
   "metadata": {
    "papermill": {
     "duration": 0.007337,
     "end_time": "2025-02-18T10:15:22.265951",
     "exception": false,
     "start_time": "2025-02-18T10:15:22.258614",
     "status": "completed"
    },
    "tags": []
   },
   "source": [
    "it seems there are columns with missing values. Let's check how many missing values are there!"
   ]
  },
  {
   "cell_type": "code",
   "execution_count": 7,
   "id": "afb9525f",
   "metadata": {
    "execution": {
     "iopub.execute_input": "2025-02-18T10:15:22.282897Z",
     "iopub.status.busy": "2025-02-18T10:15:22.282531Z",
     "iopub.status.idle": "2025-02-18T10:15:22.291914Z",
     "shell.execute_reply": "2025-02-18T10:15:22.290824Z"
    },
    "papermill": {
     "duration": 0.02007,
     "end_time": "2025-02-18T10:15:22.293952",
     "exception": false,
     "start_time": "2025-02-18T10:15:22.273882",
     "status": "completed"
    },
    "tags": []
   },
   "outputs": [
    {
     "data": {
      "text/plain": [
       "Loan_ID               0\n",
       "Gender               13\n",
       "Married               3\n",
       "Dependents           15\n",
       "Education             0\n",
       "Self_Employed        32\n",
       "ApplicantIncome       0\n",
       "CoapplicantIncome     0\n",
       "LoanAmount           22\n",
       "Loan_Amount_Term     14\n",
       "Credit_History       50\n",
       "Property_Area         0\n",
       "Loan_Status           0\n",
       "dtype: int64"
      ]
     },
     "execution_count": 7,
     "metadata": {},
     "output_type": "execute_result"
    }
   ],
   "source": [
    "df.isnull().sum()"
   ]
  },
  {
   "cell_type": "code",
   "execution_count": 8,
   "id": "257a7c04",
   "metadata": {
    "execution": {
     "iopub.execute_input": "2025-02-18T10:15:22.312162Z",
     "iopub.status.busy": "2025-02-18T10:15:22.311701Z",
     "iopub.status.idle": "2025-02-18T10:15:22.322515Z",
     "shell.execute_reply": "2025-02-18T10:15:22.320847Z"
    },
    "papermill": {
     "duration": 0.022249,
     "end_time": "2025-02-18T10:15:22.324426",
     "exception": false,
     "start_time": "2025-02-18T10:15:22.302177",
     "status": "completed"
    },
    "tags": []
   },
   "outputs": [
    {
     "data": {
      "text/plain": [
       "Loan_ID              0.000000\n",
       "Gender               2.117264\n",
       "Married              0.488599\n",
       "Dependents           2.442997\n",
       "Education            0.000000\n",
       "Self_Employed        5.211726\n",
       "ApplicantIncome      0.000000\n",
       "CoapplicantIncome    0.000000\n",
       "LoanAmount           3.583062\n",
       "Loan_Amount_Term     2.280130\n",
       "Credit_History       8.143322\n",
       "Property_Area        0.000000\n",
       "Loan_Status          0.000000\n",
       "dtype: float64"
      ]
     },
     "execution_count": 8,
     "metadata": {},
     "output_type": "execute_result"
    }
   ],
   "source": [
    "missing_percentage = (df.isnull().sum() / len(df)) * 100\n",
    "missing_percentage"
   ]
  },
  {
   "cell_type": "code",
   "execution_count": 9,
   "id": "4ae1c13e",
   "metadata": {
    "execution": {
     "iopub.execute_input": "2025-02-18T10:15:22.342825Z",
     "iopub.status.busy": "2025-02-18T10:15:22.342362Z",
     "iopub.status.idle": "2025-02-18T10:15:22.377457Z",
     "shell.execute_reply": "2025-02-18T10:15:22.375504Z"
    },
    "papermill": {
     "duration": 0.047375,
     "end_time": "2025-02-18T10:15:22.380308",
     "exception": false,
     "start_time": "2025-02-18T10:15:22.332933",
     "status": "completed"
    },
    "tags": []
   },
   "outputs": [
    {
     "name": "stdout",
     "output_type": "stream",
     "text": [
      "Loan_Status         N         Y\n",
      "Gender                         \n",
      "Female       0.330357  0.669643\n",
      "Male         0.306748  0.693252\n"
     ]
    }
   ],
   "source": [
    "gender_impact = df.groupby(\"Gender\")[\"Loan_Status\"].value_counts(normalize=True).unstack()\n",
    "print(gender_impact)"
   ]
  },
  {
   "cell_type": "code",
   "execution_count": 10,
   "id": "c5bedf0f",
   "metadata": {
    "execution": {
     "iopub.execute_input": "2025-02-18T10:15:22.404776Z",
     "iopub.status.busy": "2025-02-18T10:15:22.404239Z",
     "iopub.status.idle": "2025-02-18T10:15:22.419519Z",
     "shell.execute_reply": "2025-02-18T10:15:22.418126Z"
    },
    "papermill": {
     "duration": 0.028996,
     "end_time": "2025-02-18T10:15:22.421476",
     "exception": false,
     "start_time": "2025-02-18T10:15:22.392480",
     "status": "completed"
    },
    "tags": []
   },
   "outputs": [
    {
     "name": "stdout",
     "output_type": "stream",
     "text": [
      "Loan_Status         N         Y\n",
      "Married                        \n",
      "No           0.370892  0.629108\n",
      "Yes          0.283920  0.716080\n"
     ]
    }
   ],
   "source": [
    "married_impact = df.groupby(\"Married\")[\"Loan_Status\"].value_counts(normalize=True).unstack()\n",
    "print(married_impact)"
   ]
  },
  {
   "cell_type": "code",
   "execution_count": 11,
   "id": "ec8c8edf",
   "metadata": {
    "execution": {
     "iopub.execute_input": "2025-02-18T10:15:22.440500Z",
     "iopub.status.busy": "2025-02-18T10:15:22.440062Z",
     "iopub.status.idle": "2025-02-18T10:15:22.454514Z",
     "shell.execute_reply": "2025-02-18T10:15:22.453005Z"
    },
    "papermill": {
     "duration": 0.026075,
     "end_time": "2025-02-18T10:15:22.456747",
     "exception": false,
     "start_time": "2025-02-18T10:15:22.430672",
     "status": "completed"
    },
    "tags": []
   },
   "outputs": [
    {
     "name": "stdout",
     "output_type": "stream",
     "text": [
      "Loan_Status          N         Y\n",
      "Education                       \n",
      "Graduate      0.291667  0.708333\n",
      "Not Graduate  0.388060  0.611940\n"
     ]
    }
   ],
   "source": [
    "edu_impact = df.groupby(\"Education\")[\"Loan_Status\"].value_counts(normalize=True).unstack()\n",
    "print(edu_impact)"
   ]
  },
  {
   "cell_type": "markdown",
   "id": "97a16f32",
   "metadata": {
    "papermill": {
     "duration": 0.008175,
     "end_time": "2025-02-18T10:15:22.473952",
     "exception": false,
     "start_time": "2025-02-18T10:15:22.465777",
     "status": "completed"
    },
    "tags": []
   },
   "source": [
    "Since the approval rates for both genders are nearly the same, we won't need the Gender column"
   ]
  },
  {
   "cell_type": "markdown",
   "id": "9615dc4d",
   "metadata": {
    "papermill": {
     "duration": 0.008354,
     "end_time": "2025-02-18T10:15:22.491012",
     "exception": false,
     "start_time": "2025-02-18T10:15:22.482658",
     "status": "completed"
    },
    "tags": []
   },
   "source": [
    "We also won't need loan_id column for the prediction, so it can be removed."
   ]
  },
  {
   "cell_type": "code",
   "execution_count": 12,
   "id": "e18470c7",
   "metadata": {
    "execution": {
     "iopub.execute_input": "2025-02-18T10:15:22.509777Z",
     "iopub.status.busy": "2025-02-18T10:15:22.509364Z",
     "iopub.status.idle": "2025-02-18T10:15:22.529907Z",
     "shell.execute_reply": "2025-02-18T10:15:22.528654Z"
    },
    "papermill": {
     "duration": 0.031922,
     "end_time": "2025-02-18T10:15:22.531782",
     "exception": false,
     "start_time": "2025-02-18T10:15:22.499860",
     "status": "completed"
    },
    "tags": []
   },
   "outputs": [
    {
     "name": "stderr",
     "output_type": "stream",
     "text": [
      "/usr/local/lib/python3.10/dist-packages/pandas/io/formats/format.py:1458: RuntimeWarning: invalid value encountered in greater\n",
      "  has_large_values = (abs_vals > 1e6).any()\n",
      "/usr/local/lib/python3.10/dist-packages/pandas/io/formats/format.py:1459: RuntimeWarning: invalid value encountered in less\n",
      "  has_small_values = ((abs_vals < 10 ** (-self.digits)) & (abs_vals > 0)).any()\n",
      "/usr/local/lib/python3.10/dist-packages/pandas/io/formats/format.py:1459: RuntimeWarning: invalid value encountered in greater\n",
      "  has_small_values = ((abs_vals < 10 ** (-self.digits)) & (abs_vals > 0)).any()\n"
     ]
    },
    {
     "data": {
      "text/html": [
       "<div>\n",
       "<style scoped>\n",
       "    .dataframe tbody tr th:only-of-type {\n",
       "        vertical-align: middle;\n",
       "    }\n",
       "\n",
       "    .dataframe tbody tr th {\n",
       "        vertical-align: top;\n",
       "    }\n",
       "\n",
       "    .dataframe thead th {\n",
       "        text-align: right;\n",
       "    }\n",
       "</style>\n",
       "<table border=\"1\" class=\"dataframe\">\n",
       "  <thead>\n",
       "    <tr style=\"text-align: right;\">\n",
       "      <th></th>\n",
       "      <th>Married</th>\n",
       "      <th>Dependents</th>\n",
       "      <th>Education</th>\n",
       "      <th>Self_Employed</th>\n",
       "      <th>ApplicantIncome</th>\n",
       "      <th>CoapplicantIncome</th>\n",
       "      <th>LoanAmount</th>\n",
       "      <th>Loan_Amount_Term</th>\n",
       "      <th>Credit_History</th>\n",
       "      <th>Property_Area</th>\n",
       "      <th>Loan_Status</th>\n",
       "    </tr>\n",
       "  </thead>\n",
       "  <tbody>\n",
       "    <tr>\n",
       "      <th>0</th>\n",
       "      <td>No</td>\n",
       "      <td>0</td>\n",
       "      <td>Graduate</td>\n",
       "      <td>No</td>\n",
       "      <td>5849</td>\n",
       "      <td>0.0</td>\n",
       "      <td>NaN</td>\n",
       "      <td>360.0</td>\n",
       "      <td>1.0</td>\n",
       "      <td>Urban</td>\n",
       "      <td>Y</td>\n",
       "    </tr>\n",
       "    <tr>\n",
       "      <th>1</th>\n",
       "      <td>Yes</td>\n",
       "      <td>1</td>\n",
       "      <td>Graduate</td>\n",
       "      <td>No</td>\n",
       "      <td>4583</td>\n",
       "      <td>1508.0</td>\n",
       "      <td>128.0</td>\n",
       "      <td>360.0</td>\n",
       "      <td>1.0</td>\n",
       "      <td>Rural</td>\n",
       "      <td>N</td>\n",
       "    </tr>\n",
       "    <tr>\n",
       "      <th>2</th>\n",
       "      <td>Yes</td>\n",
       "      <td>0</td>\n",
       "      <td>Graduate</td>\n",
       "      <td>Yes</td>\n",
       "      <td>3000</td>\n",
       "      <td>0.0</td>\n",
       "      <td>66.0</td>\n",
       "      <td>360.0</td>\n",
       "      <td>1.0</td>\n",
       "      <td>Urban</td>\n",
       "      <td>Y</td>\n",
       "    </tr>\n",
       "    <tr>\n",
       "      <th>3</th>\n",
       "      <td>Yes</td>\n",
       "      <td>0</td>\n",
       "      <td>Not Graduate</td>\n",
       "      <td>No</td>\n",
       "      <td>2583</td>\n",
       "      <td>2358.0</td>\n",
       "      <td>120.0</td>\n",
       "      <td>360.0</td>\n",
       "      <td>1.0</td>\n",
       "      <td>Urban</td>\n",
       "      <td>Y</td>\n",
       "    </tr>\n",
       "    <tr>\n",
       "      <th>4</th>\n",
       "      <td>No</td>\n",
       "      <td>0</td>\n",
       "      <td>Graduate</td>\n",
       "      <td>No</td>\n",
       "      <td>6000</td>\n",
       "      <td>0.0</td>\n",
       "      <td>141.0</td>\n",
       "      <td>360.0</td>\n",
       "      <td>1.0</td>\n",
       "      <td>Urban</td>\n",
       "      <td>Y</td>\n",
       "    </tr>\n",
       "    <tr>\n",
       "      <th>...</th>\n",
       "      <td>...</td>\n",
       "      <td>...</td>\n",
       "      <td>...</td>\n",
       "      <td>...</td>\n",
       "      <td>...</td>\n",
       "      <td>...</td>\n",
       "      <td>...</td>\n",
       "      <td>...</td>\n",
       "      <td>...</td>\n",
       "      <td>...</td>\n",
       "      <td>...</td>\n",
       "    </tr>\n",
       "    <tr>\n",
       "      <th>609</th>\n",
       "      <td>No</td>\n",
       "      <td>0</td>\n",
       "      <td>Graduate</td>\n",
       "      <td>No</td>\n",
       "      <td>2900</td>\n",
       "      <td>0.0</td>\n",
       "      <td>71.0</td>\n",
       "      <td>360.0</td>\n",
       "      <td>1.0</td>\n",
       "      <td>Rural</td>\n",
       "      <td>Y</td>\n",
       "    </tr>\n",
       "    <tr>\n",
       "      <th>610</th>\n",
       "      <td>Yes</td>\n",
       "      <td>3+</td>\n",
       "      <td>Graduate</td>\n",
       "      <td>No</td>\n",
       "      <td>4106</td>\n",
       "      <td>0.0</td>\n",
       "      <td>40.0</td>\n",
       "      <td>180.0</td>\n",
       "      <td>1.0</td>\n",
       "      <td>Rural</td>\n",
       "      <td>Y</td>\n",
       "    </tr>\n",
       "    <tr>\n",
       "      <th>611</th>\n",
       "      <td>Yes</td>\n",
       "      <td>1</td>\n",
       "      <td>Graduate</td>\n",
       "      <td>No</td>\n",
       "      <td>8072</td>\n",
       "      <td>240.0</td>\n",
       "      <td>253.0</td>\n",
       "      <td>360.0</td>\n",
       "      <td>1.0</td>\n",
       "      <td>Urban</td>\n",
       "      <td>Y</td>\n",
       "    </tr>\n",
       "    <tr>\n",
       "      <th>612</th>\n",
       "      <td>Yes</td>\n",
       "      <td>2</td>\n",
       "      <td>Graduate</td>\n",
       "      <td>No</td>\n",
       "      <td>7583</td>\n",
       "      <td>0.0</td>\n",
       "      <td>187.0</td>\n",
       "      <td>360.0</td>\n",
       "      <td>1.0</td>\n",
       "      <td>Urban</td>\n",
       "      <td>Y</td>\n",
       "    </tr>\n",
       "    <tr>\n",
       "      <th>613</th>\n",
       "      <td>No</td>\n",
       "      <td>0</td>\n",
       "      <td>Graduate</td>\n",
       "      <td>Yes</td>\n",
       "      <td>4583</td>\n",
       "      <td>0.0</td>\n",
       "      <td>133.0</td>\n",
       "      <td>360.0</td>\n",
       "      <td>0.0</td>\n",
       "      <td>Semiurban</td>\n",
       "      <td>N</td>\n",
       "    </tr>\n",
       "  </tbody>\n",
       "</table>\n",
       "<p>614 rows × 11 columns</p>\n",
       "</div>"
      ],
      "text/plain": [
       "    Married Dependents     Education Self_Employed  ApplicantIncome  \\\n",
       "0        No          0      Graduate            No             5849   \n",
       "1       Yes          1      Graduate            No             4583   \n",
       "2       Yes          0      Graduate           Yes             3000   \n",
       "3       Yes          0  Not Graduate            No             2583   \n",
       "4        No          0      Graduate            No             6000   \n",
       "..      ...        ...           ...           ...              ...   \n",
       "609      No          0      Graduate            No             2900   \n",
       "610     Yes         3+      Graduate            No             4106   \n",
       "611     Yes          1      Graduate            No             8072   \n",
       "612     Yes          2      Graduate            No             7583   \n",
       "613      No          0      Graduate           Yes             4583   \n",
       "\n",
       "     CoapplicantIncome  LoanAmount  Loan_Amount_Term  Credit_History  \\\n",
       "0                  0.0         NaN             360.0             1.0   \n",
       "1               1508.0       128.0             360.0             1.0   \n",
       "2                  0.0        66.0             360.0             1.0   \n",
       "3               2358.0       120.0             360.0             1.0   \n",
       "4                  0.0       141.0             360.0             1.0   \n",
       "..                 ...         ...               ...             ...   \n",
       "609                0.0        71.0             360.0             1.0   \n",
       "610                0.0        40.0             180.0             1.0   \n",
       "611              240.0       253.0             360.0             1.0   \n",
       "612                0.0       187.0             360.0             1.0   \n",
       "613                0.0       133.0             360.0             0.0   \n",
       "\n",
       "    Property_Area Loan_Status  \n",
       "0           Urban           Y  \n",
       "1           Rural           N  \n",
       "2           Urban           Y  \n",
       "3           Urban           Y  \n",
       "4           Urban           Y  \n",
       "..            ...         ...  \n",
       "609         Rural           Y  \n",
       "610         Rural           Y  \n",
       "611         Urban           Y  \n",
       "612         Urban           Y  \n",
       "613     Semiurban           N  \n",
       "\n",
       "[614 rows x 11 columns]"
      ]
     },
     "execution_count": 12,
     "metadata": {},
     "output_type": "execute_result"
    }
   ],
   "source": [
    "df.drop(columns=[\"Loan_ID\", \"Gender\"], inplace=True)\n",
    "df"
   ]
  },
  {
   "cell_type": "markdown",
   "id": "58529d61",
   "metadata": {
    "papermill": {
     "duration": 0.009015,
     "end_time": "2025-02-18T10:15:22.550063",
     "exception": false,
     "start_time": "2025-02-18T10:15:22.541048",
     "status": "completed"
    },
    "tags": []
   },
   "source": [
    "Now we need to encode columns with categorical data"
   ]
  },
  {
   "cell_type": "code",
   "execution_count": 13,
   "id": "5614a5ff",
   "metadata": {
    "execution": {
     "iopub.execute_input": "2025-02-18T10:15:22.570538Z",
     "iopub.status.busy": "2025-02-18T10:15:22.570188Z",
     "iopub.status.idle": "2025-02-18T10:15:22.583199Z",
     "shell.execute_reply": "2025-02-18T10:15:22.582035Z"
    },
    "papermill": {
     "duration": 0.025729,
     "end_time": "2025-02-18T10:15:22.585340",
     "exception": false,
     "start_time": "2025-02-18T10:15:22.559611",
     "status": "completed"
    },
    "tags": []
   },
   "outputs": [],
   "source": [
    "binary_mappings = {\n",
    "    \"Married\": {\"Yes\": 1, \"No\": 0},\n",
    "    \"Education\": {\"Graduate\": 1, \"Not Graduate\": 0},\n",
    "    \"Self_Employed\": {\"Yes\": 1, \"No\": 0},\n",
    "    \"Loan_Status\": {\"Y\": 1, \"N\": 0}\n",
    "}\n",
    "\n",
    "for col, mapping in binary_mappings.items():\n",
    "    df[col] = df[col].map(mapping)\n",
    "    \n",
    "df = pd.get_dummies(df, columns=[\"Property_Area\"], drop_first=True)"
   ]
  },
  {
   "cell_type": "code",
   "execution_count": 14,
   "id": "b2e811bb",
   "metadata": {
    "execution": {
     "iopub.execute_input": "2025-02-18T10:15:22.605102Z",
     "iopub.status.busy": "2025-02-18T10:15:22.604730Z",
     "iopub.status.idle": "2025-02-18T10:15:22.616941Z",
     "shell.execute_reply": "2025-02-18T10:15:22.615171Z"
    },
    "papermill": {
     "duration": 0.024341,
     "end_time": "2025-02-18T10:15:22.619187",
     "exception": false,
     "start_time": "2025-02-18T10:15:22.594846",
     "status": "completed"
    },
    "tags": []
   },
   "outputs": [
    {
     "name": "stdout",
     "output_type": "stream",
     "text": [
      "<class 'pandas.core.frame.DataFrame'>\n",
      "RangeIndex: 614 entries, 0 to 613\n",
      "Data columns (total 12 columns):\n",
      " #   Column                   Non-Null Count  Dtype  \n",
      "---  ------                   --------------  -----  \n",
      " 0   Married                  611 non-null    float64\n",
      " 1   Dependents               599 non-null    object \n",
      " 2   Education                614 non-null    int64  \n",
      " 3   Self_Employed            582 non-null    float64\n",
      " 4   ApplicantIncome          614 non-null    int64  \n",
      " 5   CoapplicantIncome        614 non-null    float64\n",
      " 6   LoanAmount               592 non-null    float64\n",
      " 7   Loan_Amount_Term         600 non-null    float64\n",
      " 8   Credit_History           564 non-null    float64\n",
      " 9   Loan_Status              614 non-null    int64  \n",
      " 10  Property_Area_Semiurban  614 non-null    bool   \n",
      " 11  Property_Area_Urban      614 non-null    bool   \n",
      "dtypes: bool(2), float64(6), int64(3), object(1)\n",
      "memory usage: 49.3+ KB\n"
     ]
    }
   ],
   "source": [
    "df.info()"
   ]
  },
  {
   "cell_type": "markdown",
   "id": "5e19afe2",
   "metadata": {
    "papermill": {
     "duration": 0.00831,
     "end_time": "2025-02-18T10:15:22.636893",
     "exception": false,
     "start_time": "2025-02-18T10:15:22.628583",
     "status": "completed"
    },
    "tags": []
   },
   "source": [
    "For crucial columns, such as loan amount and credit history, the row with missing values must be taken with care. We can use median to fill the missing loan amount and use \"most_frequent\" to fill the missing values in categorical columns and \"Dependents\" column"
   ]
  },
  {
   "cell_type": "code",
   "execution_count": 15,
   "id": "cc866fcd",
   "metadata": {
    "execution": {
     "iopub.execute_input": "2025-02-18T10:15:22.656346Z",
     "iopub.status.busy": "2025-02-18T10:15:22.655911Z",
     "iopub.status.idle": "2025-02-18T10:15:24.701041Z",
     "shell.execute_reply": "2025-02-18T10:15:24.699520Z"
    },
    "papermill": {
     "duration": 2.057168,
     "end_time": "2025-02-18T10:15:24.703178",
     "exception": false,
     "start_time": "2025-02-18T10:15:22.646010",
     "status": "completed"
    },
    "tags": []
   },
   "outputs": [
    {
     "name": "stdout",
     "output_type": "stream",
     "text": [
      "<class 'pandas.core.frame.DataFrame'>\n",
      "RangeIndex: 614 entries, 0 to 613\n",
      "Data columns (total 12 columns):\n",
      " #   Column                   Non-Null Count  Dtype  \n",
      "---  ------                   --------------  -----  \n",
      " 0   Married                  614 non-null    object \n",
      " 1   Dependents               614 non-null    int64  \n",
      " 2   Education                614 non-null    int64  \n",
      " 3   Self_Employed            614 non-null    object \n",
      " 4   ApplicantIncome          614 non-null    int64  \n",
      " 5   CoapplicantIncome        614 non-null    float64\n",
      " 6   LoanAmount               614 non-null    float64\n",
      " 7   Loan_Amount_Term         614 non-null    float64\n",
      " 8   Credit_History           614 non-null    object \n",
      " 9   Loan_Status              614 non-null    int64  \n",
      " 10  Property_Area_Semiurban  614 non-null    bool   \n",
      " 11  Property_Area_Urban      614 non-null    bool   \n",
      "dtypes: bool(2), float64(3), int64(4), object(3)\n",
      "memory usage: 49.3+ KB\n"
     ]
    }
   ],
   "source": [
    "from sklearn.impute import SimpleImputer\n",
    "\n",
    "# Fill numerical missing values\n",
    "imputer = SimpleImputer(missing_values=np.nan, strategy='median')\n",
    "num_cols = [\"LoanAmount\", \"Loan_Amount_Term\"]\n",
    "df[num_cols] = imputer.fit_transform(df[num_cols])\n",
    "\n",
    "imputer = SimpleImputer(missing_values=np.nan, strategy='most_frequent')\n",
    "cat_cols = [\"Dependents\", \"Self_Employed\", \"Married\", \"Credit_History\"]\n",
    "df[cat_cols] = imputer.fit_transform(df[cat_cols])\n",
    "\n",
    "df[\"Dependents\"] = df[\"Dependents\"].replace({\"3+\": 3}).astype(int)\n",
    "\n",
    "df.info()"
   ]
  },
  {
   "cell_type": "code",
   "execution_count": 16,
   "id": "e73abf83",
   "metadata": {
    "execution": {
     "iopub.execute_input": "2025-02-18T10:15:24.725161Z",
     "iopub.status.busy": "2025-02-18T10:15:24.724400Z",
     "iopub.status.idle": "2025-02-18T10:15:24.742338Z",
     "shell.execute_reply": "2025-02-18T10:15:24.741050Z"
    },
    "papermill": {
     "duration": 0.031735,
     "end_time": "2025-02-18T10:15:24.744625",
     "exception": false,
     "start_time": "2025-02-18T10:15:24.712890",
     "status": "completed"
    },
    "tags": []
   },
   "outputs": [
    {
     "data": {
      "text/html": [
       "<div>\n",
       "<style scoped>\n",
       "    .dataframe tbody tr th:only-of-type {\n",
       "        vertical-align: middle;\n",
       "    }\n",
       "\n",
       "    .dataframe tbody tr th {\n",
       "        vertical-align: top;\n",
       "    }\n",
       "\n",
       "    .dataframe thead th {\n",
       "        text-align: right;\n",
       "    }\n",
       "</style>\n",
       "<table border=\"1\" class=\"dataframe\">\n",
       "  <thead>\n",
       "    <tr style=\"text-align: right;\">\n",
       "      <th></th>\n",
       "      <th>Married</th>\n",
       "      <th>Dependents</th>\n",
       "      <th>Education</th>\n",
       "      <th>Self_Employed</th>\n",
       "      <th>ApplicantIncome</th>\n",
       "      <th>CoapplicantIncome</th>\n",
       "      <th>LoanAmount</th>\n",
       "      <th>Loan_Amount_Term</th>\n",
       "      <th>Credit_History</th>\n",
       "      <th>Loan_Status</th>\n",
       "      <th>Property_Area_Semiurban</th>\n",
       "      <th>Property_Area_Urban</th>\n",
       "    </tr>\n",
       "  </thead>\n",
       "  <tbody>\n",
       "    <tr>\n",
       "      <th>0</th>\n",
       "      <td>0.0</td>\n",
       "      <td>0</td>\n",
       "      <td>1</td>\n",
       "      <td>0.0</td>\n",
       "      <td>5849</td>\n",
       "      <td>0.0</td>\n",
       "      <td>128.0</td>\n",
       "      <td>360.0</td>\n",
       "      <td>1.0</td>\n",
       "      <td>1</td>\n",
       "      <td>False</td>\n",
       "      <td>True</td>\n",
       "    </tr>\n",
       "    <tr>\n",
       "      <th>1</th>\n",
       "      <td>1.0</td>\n",
       "      <td>1</td>\n",
       "      <td>1</td>\n",
       "      <td>0.0</td>\n",
       "      <td>4583</td>\n",
       "      <td>1508.0</td>\n",
       "      <td>128.0</td>\n",
       "      <td>360.0</td>\n",
       "      <td>1.0</td>\n",
       "      <td>0</td>\n",
       "      <td>False</td>\n",
       "      <td>False</td>\n",
       "    </tr>\n",
       "    <tr>\n",
       "      <th>2</th>\n",
       "      <td>1.0</td>\n",
       "      <td>0</td>\n",
       "      <td>1</td>\n",
       "      <td>1.0</td>\n",
       "      <td>3000</td>\n",
       "      <td>0.0</td>\n",
       "      <td>66.0</td>\n",
       "      <td>360.0</td>\n",
       "      <td>1.0</td>\n",
       "      <td>1</td>\n",
       "      <td>False</td>\n",
       "      <td>True</td>\n",
       "    </tr>\n",
       "    <tr>\n",
       "      <th>3</th>\n",
       "      <td>1.0</td>\n",
       "      <td>0</td>\n",
       "      <td>0</td>\n",
       "      <td>0.0</td>\n",
       "      <td>2583</td>\n",
       "      <td>2358.0</td>\n",
       "      <td>120.0</td>\n",
       "      <td>360.0</td>\n",
       "      <td>1.0</td>\n",
       "      <td>1</td>\n",
       "      <td>False</td>\n",
       "      <td>True</td>\n",
       "    </tr>\n",
       "    <tr>\n",
       "      <th>4</th>\n",
       "      <td>0.0</td>\n",
       "      <td>0</td>\n",
       "      <td>1</td>\n",
       "      <td>0.0</td>\n",
       "      <td>6000</td>\n",
       "      <td>0.0</td>\n",
       "      <td>141.0</td>\n",
       "      <td>360.0</td>\n",
       "      <td>1.0</td>\n",
       "      <td>1</td>\n",
       "      <td>False</td>\n",
       "      <td>True</td>\n",
       "    </tr>\n",
       "  </tbody>\n",
       "</table>\n",
       "</div>"
      ],
      "text/plain": [
       "  Married  Dependents  Education Self_Employed  ApplicantIncome  \\\n",
       "0     0.0           0          1           0.0             5849   \n",
       "1     1.0           1          1           0.0             4583   \n",
       "2     1.0           0          1           1.0             3000   \n",
       "3     1.0           0          0           0.0             2583   \n",
       "4     0.0           0          1           0.0             6000   \n",
       "\n",
       "   CoapplicantIncome  LoanAmount  Loan_Amount_Term Credit_History  \\\n",
       "0                0.0       128.0             360.0            1.0   \n",
       "1             1508.0       128.0             360.0            1.0   \n",
       "2                0.0        66.0             360.0            1.0   \n",
       "3             2358.0       120.0             360.0            1.0   \n",
       "4                0.0       141.0             360.0            1.0   \n",
       "\n",
       "   Loan_Status  Property_Area_Semiurban  Property_Area_Urban  \n",
       "0            1                    False                 True  \n",
       "1            0                    False                False  \n",
       "2            1                    False                 True  \n",
       "3            1                    False                 True  \n",
       "4            1                    False                 True  "
      ]
     },
     "execution_count": 16,
     "metadata": {},
     "output_type": "execute_result"
    }
   ],
   "source": [
    "df.head()"
   ]
  },
  {
   "cell_type": "code",
   "execution_count": 17,
   "id": "c6695c7d",
   "metadata": {
    "execution": {
     "iopub.execute_input": "2025-02-18T10:15:24.765880Z",
     "iopub.status.busy": "2025-02-18T10:15:24.765414Z",
     "iopub.status.idle": "2025-02-18T10:15:24.775857Z",
     "shell.execute_reply": "2025-02-18T10:15:24.774449Z"
    },
    "papermill": {
     "duration": 0.023437,
     "end_time": "2025-02-18T10:15:24.778030",
     "exception": false,
     "start_time": "2025-02-18T10:15:24.754593",
     "status": "completed"
    },
    "tags": []
   },
   "outputs": [
    {
     "data": {
      "text/plain": [
       "Married                    0.091\n",
       "Dependents                 0.010\n",
       "Education                  0.086\n",
       "Self_Employed             -0.004\n",
       "ApplicantIncome           -0.005\n",
       "CoapplicantIncome         -0.059\n",
       "LoanAmount                -0.033\n",
       "Loan_Amount_Term          -0.023\n",
       "Credit_History             0.541\n",
       "Loan_Status                1.000\n",
       "Property_Area_Semiurban    0.137\n",
       "Property_Area_Urban       -0.044\n",
       "Name: Loan_Status, dtype: float64"
      ]
     },
     "execution_count": 17,
     "metadata": {},
     "output_type": "execute_result"
    }
   ],
   "source": [
    "corr = df.corr().round(3)\n",
    "corr[\"Loan_Status\"]"
   ]
  },
  {
   "cell_type": "markdown",
   "id": "397b23c3",
   "metadata": {
    "papermill": {
     "duration": 0.009212,
     "end_time": "2025-02-18T10:15:24.797271",
     "exception": false,
     "start_time": "2025-02-18T10:15:24.788059",
     "status": "completed"
    },
    "tags": []
   },
   "source": [
    "We can see some of the columns have zero, even negative correlation to the loan status. We can remove these columns"
   ]
  },
  {
   "cell_type": "code",
   "execution_count": 18,
   "id": "41ce8ff8",
   "metadata": {
    "execution": {
     "iopub.execute_input": "2025-02-18T10:15:24.818129Z",
     "iopub.status.busy": "2025-02-18T10:15:24.817596Z",
     "iopub.status.idle": "2025-02-18T10:15:24.824485Z",
     "shell.execute_reply": "2025-02-18T10:15:24.823244Z"
    },
    "papermill": {
     "duration": 0.019609,
     "end_time": "2025-02-18T10:15:24.826496",
     "exception": false,
     "start_time": "2025-02-18T10:15:24.806887",
     "status": "completed"
    },
    "tags": []
   },
   "outputs": [],
   "source": [
    "cols_to_drop = [\"ApplicantIncome\", \"CoapplicantIncome\", \n",
    "                \"LoanAmount\", \"Loan_Amount_Term\", \"Property_Area_Urban\", \"Self_Employed\"]\n",
    "\n",
    "df.drop(columns=cols_to_drop, inplace=True)"
   ]
  },
  {
   "cell_type": "code",
   "execution_count": 19,
   "id": "1b7c3e12",
   "metadata": {
    "execution": {
     "iopub.execute_input": "2025-02-18T10:15:24.850105Z",
     "iopub.status.busy": "2025-02-18T10:15:24.849623Z",
     "iopub.status.idle": "2025-02-18T10:15:24.863646Z",
     "shell.execute_reply": "2025-02-18T10:15:24.862175Z"
    },
    "papermill": {
     "duration": 0.027015,
     "end_time": "2025-02-18T10:15:24.865742",
     "exception": false,
     "start_time": "2025-02-18T10:15:24.838727",
     "status": "completed"
    },
    "tags": []
   },
   "outputs": [
    {
     "name": "stdout",
     "output_type": "stream",
     "text": [
      "<class 'pandas.core.frame.DataFrame'>\n",
      "RangeIndex: 614 entries, 0 to 613\n",
      "Data columns (total 6 columns):\n",
      " #   Column                   Non-Null Count  Dtype \n",
      "---  ------                   --------------  ----- \n",
      " 0   Married                  614 non-null    object\n",
      " 1   Dependents               614 non-null    int64 \n",
      " 2   Education                614 non-null    int64 \n",
      " 3   Credit_History           614 non-null    object\n",
      " 4   Loan_Status              614 non-null    int64 \n",
      " 5   Property_Area_Semiurban  614 non-null    bool  \n",
      "dtypes: bool(1), int64(3), object(2)\n",
      "memory usage: 24.7+ KB\n"
     ]
    }
   ],
   "source": [
    "df.info()"
   ]
  },
  {
   "cell_type": "markdown",
   "id": "6ff91f0d",
   "metadata": {
    "papermill": {
     "duration": 0.009741,
     "end_time": "2025-02-18T10:15:24.885723",
     "exception": false,
     "start_time": "2025-02-18T10:15:24.875982",
     "status": "completed"
    },
    "tags": []
   },
   "source": [
    "Let's check the distribution of the labels"
   ]
  },
  {
   "cell_type": "code",
   "execution_count": 20,
   "id": "0f89838f",
   "metadata": {
    "execution": {
     "iopub.execute_input": "2025-02-18T10:15:24.907128Z",
     "iopub.status.busy": "2025-02-18T10:15:24.906708Z",
     "iopub.status.idle": "2025-02-18T10:15:24.917237Z",
     "shell.execute_reply": "2025-02-18T10:15:24.915993Z"
    },
    "papermill": {
     "duration": 0.023739,
     "end_time": "2025-02-18T10:15:24.919266",
     "exception": false,
     "start_time": "2025-02-18T10:15:24.895527",
     "status": "completed"
    },
    "tags": []
   },
   "outputs": [
    {
     "data": {
      "text/plain": [
       "Loan_Status\n",
       "1    422\n",
       "0    192\n",
       "Name: count, dtype: int64"
      ]
     },
     "execution_count": 20,
     "metadata": {},
     "output_type": "execute_result"
    }
   ],
   "source": [
    "df[\"Loan_Status\"].value_counts()"
   ]
  },
  {
   "cell_type": "markdown",
   "id": "76177934",
   "metadata": {
    "papermill": {
     "duration": 0.010024,
     "end_time": "2025-02-18T10:15:24.939527",
     "exception": false,
     "start_time": "2025-02-18T10:15:24.929503",
     "status": "completed"
    },
    "tags": []
   },
   "source": [
    "it seems like we need to do oversampling for the minority class to fix class imbalance. We will use random oversampling instead of SMOTE to prevent introducing synthetic bias to the model (especially for loan problems). Before oversampling the minority class, we need to split extract independent variables and dependent variable from the dataframe"
   ]
  },
  {
   "cell_type": "code",
   "execution_count": 21,
   "id": "99d33c61",
   "metadata": {
    "execution": {
     "iopub.execute_input": "2025-02-18T10:15:24.960859Z",
     "iopub.status.busy": "2025-02-18T10:15:24.960426Z",
     "iopub.status.idle": "2025-02-18T10:15:24.966964Z",
     "shell.execute_reply": "2025-02-18T10:15:24.965773Z"
    },
    "papermill": {
     "duration": 0.019511,
     "end_time": "2025-02-18T10:15:24.968969",
     "exception": false,
     "start_time": "2025-02-18T10:15:24.949458",
     "status": "completed"
    },
    "tags": []
   },
   "outputs": [],
   "source": [
    "X = df[[\"Married\", \"Dependents\", \"Education\", \"Credit_History\", \"Property_Area_Semiurban\"]]\n",
    "y = df[\"Loan_Status\"]"
   ]
  },
  {
   "cell_type": "code",
   "execution_count": 22,
   "id": "8130c83a",
   "metadata": {
    "execution": {
     "iopub.execute_input": "2025-02-18T10:15:24.991741Z",
     "iopub.status.busy": "2025-02-18T10:15:24.991212Z",
     "iopub.status.idle": "2025-02-18T10:15:25.522498Z",
     "shell.execute_reply": "2025-02-18T10:15:25.521331Z"
    },
    "papermill": {
     "duration": 0.544598,
     "end_time": "2025-02-18T10:15:25.524225",
     "exception": false,
     "start_time": "2025-02-18T10:15:24.979627",
     "status": "completed"
    },
    "tags": []
   },
   "outputs": [
    {
     "data": {
      "text/plain": [
       "Loan_Status\n",
       "1    422\n",
       "0    422\n",
       "Name: count, dtype: int64"
      ]
     },
     "execution_count": 22,
     "metadata": {},
     "output_type": "execute_result"
    }
   ],
   "source": [
    "from imblearn.over_sampling import RandomOverSampler\n",
    "\n",
    "oversample = RandomOverSampler(sampling_strategy=\"auto\")\n",
    "X_resampled, y_resampled = oversample.fit_resample(X, y)\n",
    "\n",
    "y_resampled.value_counts()"
   ]
  },
  {
   "cell_type": "markdown",
   "id": "95465d8c",
   "metadata": {
    "papermill": {
     "duration": 0.009546,
     "end_time": "2025-02-18T10:15:25.544081",
     "exception": false,
     "start_time": "2025-02-18T10:15:25.534535",
     "status": "completed"
    },
    "tags": []
   },
   "source": [
    "After we resampled the data, we need to split the data for training and test, using the good ol' 80/20 split"
   ]
  },
  {
   "cell_type": "code",
   "execution_count": 23,
   "id": "28bac1ec",
   "metadata": {
    "execution": {
     "iopub.execute_input": "2025-02-18T10:15:25.566465Z",
     "iopub.status.busy": "2025-02-18T10:15:25.565768Z",
     "iopub.status.idle": "2025-02-18T10:15:25.574908Z",
     "shell.execute_reply": "2025-02-18T10:15:25.573641Z"
    },
    "papermill": {
     "duration": 0.022819,
     "end_time": "2025-02-18T10:15:25.576897",
     "exception": false,
     "start_time": "2025-02-18T10:15:25.554078",
     "status": "completed"
    },
    "tags": []
   },
   "outputs": [],
   "source": [
    "from sklearn.model_selection import train_test_split\n",
    "\n",
    "X_train, X_test, y_train, y_test = train_test_split(X_resampled, y_resampled, test_size=0.2, random_state=0)"
   ]
  },
  {
   "cell_type": "markdown",
   "id": "90b33b13",
   "metadata": {
    "papermill": {
     "duration": 0.009339,
     "end_time": "2025-02-18T10:15:25.596305",
     "exception": false,
     "start_time": "2025-02-18T10:15:25.586966",
     "status": "completed"
    },
    "tags": []
   },
   "source": [
    "# Predictive Modeling\n",
    "Now for the model, we will use logistic regression first then we will use more advanced model like xgboost and random forest."
   ]
  },
  {
   "cell_type": "markdown",
   "id": "37339ef1",
   "metadata": {
    "papermill": {
     "duration": 0.009867,
     "end_time": "2025-02-18T10:15:25.616046",
     "exception": false,
     "start_time": "2025-02-18T10:15:25.606179",
     "status": "completed"
    },
    "tags": []
   },
   "source": [
    "## Logistic Regression Approach"
   ]
  },
  {
   "cell_type": "code",
   "execution_count": null,
   "id": "346deea7",
   "metadata": {
    "papermill": {
     "duration": 0.009325,
     "end_time": "2025-02-18T10:15:25.635596",
     "exception": false,
     "start_time": "2025-02-18T10:15:25.626271",
     "status": "completed"
    },
    "tags": []
   },
   "outputs": [],
   "source": [
    "\n"
   ]
  },
  {
   "cell_type": "markdown",
   "id": "15725b9d",
   "metadata": {
    "papermill": {
     "duration": 0.009511,
     "end_time": "2025-02-18T10:15:25.655200",
     "exception": false,
     "start_time": "2025-02-18T10:15:25.645689",
     "status": "completed"
    },
    "tags": []
   },
   "source": [
    "## Random Forest Approach"
   ]
  },
  {
   "cell_type": "code",
   "execution_count": null,
   "id": "a3439139",
   "metadata": {
    "papermill": {
     "duration": 0.009455,
     "end_time": "2025-02-18T10:15:25.674668",
     "exception": false,
     "start_time": "2025-02-18T10:15:25.665213",
     "status": "completed"
    },
    "tags": []
   },
   "outputs": [],
   "source": []
  },
  {
   "cell_type": "markdown",
   "id": "86040619",
   "metadata": {
    "papermill": {
     "duration": 0.01024,
     "end_time": "2025-02-18T10:15:25.694725",
     "exception": false,
     "start_time": "2025-02-18T10:15:25.684485",
     "status": "completed"
    },
    "tags": []
   },
   "source": [
    "## XGBoost Approach"
   ]
  },
  {
   "cell_type": "code",
   "execution_count": null,
   "id": "002961d0",
   "metadata": {
    "papermill": {
     "duration": 0.009705,
     "end_time": "2025-02-18T10:15:25.714507",
     "exception": false,
     "start_time": "2025-02-18T10:15:25.704802",
     "status": "completed"
    },
    "tags": []
   },
   "outputs": [],
   "source": []
  }
 ],
 "metadata": {
  "kaggle": {
   "accelerator": "none",
   "dataSources": [
    {
     "datasetId": 2637478,
     "sourceId": 4512631,
     "sourceType": "datasetVersion"
    }
   ],
   "dockerImageVersionId": 30886,
   "isGpuEnabled": false,
   "isInternetEnabled": true,
   "language": "python",
   "sourceType": "notebook"
  },
  "kernelspec": {
   "display_name": "Python 3",
   "language": "python",
   "name": "python3"
  },
  "language_info": {
   "codemirror_mode": {
    "name": "ipython",
    "version": 3
   },
   "file_extension": ".py",
   "mimetype": "text/x-python",
   "name": "python",
   "nbconvert_exporter": "python",
   "pygments_lexer": "ipython3",
   "version": "3.10.12"
  },
  "papermill": {
   "default_parameters": {},
   "duration": 11.03269,
   "end_time": "2025-02-18T10:15:26.647835",
   "environment_variables": {},
   "exception": null,
   "input_path": "__notebook__.ipynb",
   "output_path": "__notebook__.ipynb",
   "parameters": {},
   "start_time": "2025-02-18T10:15:15.615145",
   "version": "2.6.0"
  }
 },
 "nbformat": 4,
 "nbformat_minor": 5
}
